{
 "cells": [
  {
   "cell_type": "code",
   "execution_count": 1,
   "id": "89f67446",
   "metadata": {},
   "outputs": [],
   "source": [
    "#Import dependencies\n",
    "import pandas as pd\n",
    "import matplotlib as plt\n",
    "import os\n",
    "import numpy as np\n",
    "import scipy.stats as stats\n",
    "import matplotlib.pyplot as plt\n",
    "from scipy.stats import linregress\n",
    "from scipy import stats as st\n"
   ]
  },
  {
   "cell_type": "code",
   "execution_count": 2,
   "id": "aa727588",
   "metadata": {},
   "outputs": [],
   "source": [
    "cleaned_df = pd.read_csv(\"cleaned_data_js_sc_rg.csv\", encoding = \"ISO-8859-1\")"
   ]
  },
  {
   "cell_type": "code",
   "execution_count": 3,
   "id": "edb45844",
   "metadata": {},
   "outputs": [
    {
     "data": {
      "text/html": [
       "<div>\n",
       "<style scoped>\n",
       "    .dataframe tbody tr th:only-of-type {\n",
       "        vertical-align: middle;\n",
       "    }\n",
       "\n",
       "    .dataframe tbody tr th {\n",
       "        vertical-align: top;\n",
       "    }\n",
       "\n",
       "    .dataframe thead th {\n",
       "        text-align: right;\n",
       "    }\n",
       "</style>\n",
       "<table border=\"1\" class=\"dataframe\">\n",
       "  <thead>\n",
       "    <tr style=\"text-align: right;\">\n",
       "      <th></th>\n",
       "      <th>S. No.</th>\n",
       "      <th>Timestamp</th>\n",
       "      <th>GADE</th>\n",
       "      <th>Game</th>\n",
       "      <th>Platform</th>\n",
       "      <th>Hours</th>\n",
       "      <th>earnings</th>\n",
       "      <th>whyplay</th>\n",
       "      <th>League</th>\n",
       "      <th>streams</th>\n",
       "      <th>...</th>\n",
       "      <th>Degree</th>\n",
       "      <th>Birthplace</th>\n",
       "      <th>Residence</th>\n",
       "      <th>Playstyle</th>\n",
       "      <th>accept</th>\n",
       "      <th>GAD_T</th>\n",
       "      <th>SWL_T</th>\n",
       "      <th>SPIN_T</th>\n",
       "      <th>Residence_ISO3</th>\n",
       "      <th>Birthplace_ISO3</th>\n",
       "    </tr>\n",
       "  </thead>\n",
       "  <tbody>\n",
       "    <tr>\n",
       "      <th>0</th>\n",
       "      <td>1</td>\n",
       "      <td>42052.00437</td>\n",
       "      <td>Not difficult at all</td>\n",
       "      <td>Skyrim</td>\n",
       "      <td>Console (PS, Xbox, ...)</td>\n",
       "      <td>15</td>\n",
       "      <td>I play for fun</td>\n",
       "      <td>having fun</td>\n",
       "      <td>Unranked</td>\n",
       "      <td>0</td>\n",
       "      <td>...</td>\n",
       "      <td>Bachelor (or equivalent)</td>\n",
       "      <td>USA</td>\n",
       "      <td>USA</td>\n",
       "      <td>Singleplayer</td>\n",
       "      <td>Accept</td>\n",
       "      <td>1</td>\n",
       "      <td>23</td>\n",
       "      <td>5</td>\n",
       "      <td>USA</td>\n",
       "      <td>USA</td>\n",
       "    </tr>\n",
       "    <tr>\n",
       "      <th>1</th>\n",
       "      <td>2</td>\n",
       "      <td>42052.00680</td>\n",
       "      <td>Somewhat difficult</td>\n",
       "      <td>Other</td>\n",
       "      <td>PC</td>\n",
       "      <td>8</td>\n",
       "      <td>I play for fun</td>\n",
       "      <td>having fun</td>\n",
       "      <td>Unranked</td>\n",
       "      <td>2</td>\n",
       "      <td>...</td>\n",
       "      <td>Bachelor (or equivalent)</td>\n",
       "      <td>USA</td>\n",
       "      <td>USA</td>\n",
       "      <td>Multiplayer</td>\n",
       "      <td>Accept</td>\n",
       "      <td>8</td>\n",
       "      <td>16</td>\n",
       "      <td>33</td>\n",
       "      <td>USA</td>\n",
       "      <td>USA</td>\n",
       "    </tr>\n",
       "    <tr>\n",
       "      <th>2</th>\n",
       "      <td>3</td>\n",
       "      <td>42052.03860</td>\n",
       "      <td>Not difficult at all</td>\n",
       "      <td>Other</td>\n",
       "      <td>PC</td>\n",
       "      <td>0</td>\n",
       "      <td>I play for fun</td>\n",
       "      <td>having fun</td>\n",
       "      <td>Unranked</td>\n",
       "      <td>0</td>\n",
       "      <td>...</td>\n",
       "      <td>Bachelor (or equivalent)</td>\n",
       "      <td>Germany</td>\n",
       "      <td>Germany</td>\n",
       "      <td>Singleplayer</td>\n",
       "      <td>Accept</td>\n",
       "      <td>8</td>\n",
       "      <td>17</td>\n",
       "      <td>31</td>\n",
       "      <td>DEU</td>\n",
       "      <td>DEU</td>\n",
       "    </tr>\n",
       "    <tr>\n",
       "      <th>3</th>\n",
       "      <td>4</td>\n",
       "      <td>42052.06804</td>\n",
       "      <td>Not difficult at all</td>\n",
       "      <td>Other</td>\n",
       "      <td>PC</td>\n",
       "      <td>20</td>\n",
       "      <td>I play for fun</td>\n",
       "      <td>improving</td>\n",
       "      <td>Unranked</td>\n",
       "      <td>5</td>\n",
       "      <td>...</td>\n",
       "      <td>Bachelor (or equivalent)</td>\n",
       "      <td>USA</td>\n",
       "      <td>USA</td>\n",
       "      <td>Multiplayer</td>\n",
       "      <td>Accept</td>\n",
       "      <td>0</td>\n",
       "      <td>17</td>\n",
       "      <td>11</td>\n",
       "      <td>USA</td>\n",
       "      <td>USA</td>\n",
       "    </tr>\n",
       "    <tr>\n",
       "      <th>4</th>\n",
       "      <td>5</td>\n",
       "      <td>42052.08948</td>\n",
       "      <td>Very difficult</td>\n",
       "      <td>Other</td>\n",
       "      <td>Console (PS, Xbox, ...)</td>\n",
       "      <td>20</td>\n",
       "      <td>I play for fun</td>\n",
       "      <td>having fun</td>\n",
       "      <td>Unranked</td>\n",
       "      <td>1</td>\n",
       "      <td>...</td>\n",
       "      <td>High school diploma (or equivalent)</td>\n",
       "      <td>USA</td>\n",
       "      <td>South Korea</td>\n",
       "      <td>Multiplayer</td>\n",
       "      <td>Accept</td>\n",
       "      <td>14</td>\n",
       "      <td>14</td>\n",
       "      <td>13</td>\n",
       "      <td>KOR</td>\n",
       "      <td>USA</td>\n",
       "    </tr>\n",
       "  </tbody>\n",
       "</table>\n",
       "<p>5 rows × 24 columns</p>\n",
       "</div>"
      ],
      "text/plain": [
       "   S. No.    Timestamp                  GADE    Game                 Platform  \\\n",
       "0       1  42052.00437  Not difficult at all  Skyrim  Console (PS, Xbox, ...)   \n",
       "1       2  42052.00680    Somewhat difficult   Other                       PC   \n",
       "2       3  42052.03860  Not difficult at all   Other                       PC   \n",
       "3       4  42052.06804  Not difficult at all   Other                       PC   \n",
       "4       5  42052.08948        Very difficult   Other  Console (PS, Xbox, ...)   \n",
       "\n",
       "   Hours        earnings     whyplay    League  streams  ...  \\\n",
       "0     15  I play for fun  having fun  Unranked        0  ...   \n",
       "1      8  I play for fun  having fun  Unranked        2  ...   \n",
       "2      0  I play for fun  having fun  Unranked        0  ...   \n",
       "3     20  I play for fun   improving  Unranked        5  ...   \n",
       "4     20  I play for fun  having fun  Unranked        1  ...   \n",
       "\n",
       "                                Degree Birthplace    Residence     Playstyle  \\\n",
       "0             Bachelor (or equivalent)        USA          USA  Singleplayer   \n",
       "1             Bachelor (or equivalent)        USA          USA   Multiplayer   \n",
       "2             Bachelor (or equivalent)    Germany      Germany  Singleplayer   \n",
       "3             Bachelor (or equivalent)        USA          USA   Multiplayer   \n",
       "4  High school diploma (or equivalent)        USA  South Korea   Multiplayer   \n",
       "\n",
       "   accept GAD_T SWL_T SPIN_T Residence_ISO3  Birthplace_ISO3  \n",
       "0  Accept     1    23      5            USA              USA  \n",
       "1  Accept     8    16     33            USA              USA  \n",
       "2  Accept     8    17     31            DEU              DEU  \n",
       "3  Accept     0    17     11            USA              USA  \n",
       "4  Accept    14    14     13            KOR              USA  \n",
       "\n",
       "[5 rows x 24 columns]"
      ]
     },
     "execution_count": 3,
     "metadata": {},
     "output_type": "execute_result"
    }
   ],
   "source": [
    "cleaned_df.head()"
   ]
  },
  {
   "cell_type": "code",
   "execution_count": 4,
   "id": "07afc510",
   "metadata": {},
   "outputs": [
    {
     "data": {
      "text/plain": [
       "Index(['S. No.', 'Timestamp', 'GADE', 'Game', 'Platform', 'Hours', 'earnings',\n",
       "       'whyplay', 'League', 'streams', 'Narcissism', 'Gender', 'Age', 'Work',\n",
       "       'Degree', 'Birthplace', 'Residence', 'Playstyle', 'accept', 'GAD_T',\n",
       "       'SWL_T', 'SPIN_T', 'Residence_ISO3', 'Birthplace_ISO3'],\n",
       "      dtype='object')"
      ]
     },
     "execution_count": 4,
     "metadata": {},
     "output_type": "execute_result"
    }
   ],
   "source": [
    "cleaned_df.columns"
   ]
  },
  {
   "cell_type": "code",
   "execution_count": 5,
   "id": "b6fba223",
   "metadata": {},
   "outputs": [
    {
     "data": {
      "text/plain": [
       "0        15\n",
       "1         8\n",
       "2         0\n",
       "3        20\n",
       "4        20\n",
       "         ..\n",
       "11677    40\n",
       "11678    20\n",
       "11679    20\n",
       "11680     5\n",
       "11681    15\n",
       "Name: Hours, Length: 11682, dtype: int64"
      ]
     },
     "execution_count": 5,
     "metadata": {},
     "output_type": "execute_result"
    }
   ],
   "source": [
    "cleaned_df['Hours']"
   ]
  },
  {
   "cell_type": "code",
   "execution_count": 6,
   "id": "d5af09d9",
   "metadata": {},
   "outputs": [
    {
     "data": {
      "text/plain": [
       "21"
      ]
     },
     "execution_count": 6,
     "metadata": {},
     "output_type": "execute_result"
    }
   ],
   "source": [
    "cleaned_df['GAD_T'].max()"
   ]
  },
  {
   "cell_type": "markdown",
   "id": "5f87a0ce",
   "metadata": {},
   "source": [
    "# 1. Is there a correlation between mental health disorders and amount of time spent gaming?"
   ]
  },
  {
   "cell_type": "markdown",
   "id": "8ad94960",
   "metadata": {},
   "source": [
    "(a) GAD, SWL and SPIN vs. Hours playing\n"
   ]
  },
  {
   "cell_type": "code",
   "execution_count": 7,
   "id": "bd3c2ff9",
   "metadata": {},
   "outputs": [
    {
     "data": {
      "image/png": "[encoded data removed]",
      "text/plain": [
       "<Figure size 432x288 with 1 Axes>"
      ]
     },
     "metadata": {
      "needs_background": "light"
     },
     "output_type": "display_data"
    }
   ],
   "source": [
    "# Prepare the scatter plot for GAD vs. Hours to check for any corralations\n",
    "x_value = cleaned_df['Hours']\n",
    "y_value = cleaned_df['GAD_T']\n",
    "plt.scatter(x_value, y_value, marker = '^', color = 'lightpink', edgecolors=\"black\")\n",
    "plt.xlim(-1,168)\n",
    "plt.ylim(-1,23)\n",
    "plt.title(\"Time Spend Playing vs. GAD score\")\n",
    "plt.xlabel(\"Time of Gaming Hours per Week\")\n",
    "plt.ylabel(\"Scores of GAD\")\n",
    "plt.savefig('GAD_scatter.pdf')\n"
   ]
  },
  {
   "cell_type": "code",
   "execution_count": 8,
   "id": "b877fa46",
   "metadata": {},
   "outputs": [
    {
     "ename": "SyntaxError",
     "evalue": "invalid syntax (<ipython-input-8-7fa136df5d2a>, line 1)",
     "output_type": "error",
     "traceback": [
      "\u001b[1;36m  File \u001b[1;32m\"<ipython-input-8-7fa136df5d2a>\"\u001b[1;36m, line \u001b[1;32m1\u001b[0m\n\u001b[1;33m    group0 = cleaned_df[cleaned_df[\"whyplay\"] == ][\"resting_heart_rate\"]\u001b[0m\n\u001b[1;37m                                                 ^\u001b[0m\n\u001b[1;31mSyntaxError\u001b[0m\u001b[1;31m:\u001b[0m invalid syntax\n"
     ]
    }
   ],
   "source": [
    "group0 = cleaned_df[cleaned_df[\"whyplay\"] == ][\"resting_heart_rate\"]\n",
    "group1 = df[df[\"num_workouts\"] == 1][\"resting_heart_rate\"]\n",
    "group2 = df[df[\"num_workouts\"] == 2][\"resting_heart_rate\"]\n",
    "group3 = df[df[\"num_workouts\"] == 3][\"resting_heart_rate\"]\n",
    "group4 = df[df[\"num_workouts\"] == 4][\"resting_heart_rate\"]"
   ]
  },
  {
   "cell_type": "code",
   "execution_count": 8,
   "id": "25e688e5",
   "metadata": {},
   "outputs": [],
   "source": [
    "# GAD_T\n",
    "# SWL_T\n",
    "# SPIN_T\n",
    "# Narcissism\n",
    "# gender\n",
    "# age\n",
    "# Work\n",
    "# whyplay\n",
    "# playstyle\n",
    "# earnings\n",
    "# League\n",
    "# Game\n",
    "# Platform\n",
    "# streams\n",
    "# Residence"
   ]
  },
  {
   "cell_type": "code",
   "execution_count": 9,
   "id": "f464d19c",
   "metadata": {},
   "outputs": [
    {
     "name": "stdout",
     "output_type": "stream",
     "text": [
      "The correlation between weekly playing time and the score of GAD is ~ 0.01\n",
      "The r-squared value is 0.00014685476691751308\n",
      "There is no correlation between reported time spent playing games and score of GAD\n"
     ]
    },
    {
     "data": {
      "image/png": "[encoded data removed]",
      "text/plain": [
       "<Figure size 432x288 with 1 Axes>"
      ]
     },
     "metadata": {
      "needs_background": "light"
     },
     "output_type": "display_data"
    }
   ],
   "source": [
    "corr_coeff = st.pearsonr(x_value, y_value)\n",
    "\n",
    "(slope, intercept, rvalue, pvalue, stderr) = linregress(x_value, y_value)\n",
    "regress_values = x_value * slope + intercept\n",
    "reg_line_equation = \"y = \" + str(round(slope,2)) + \"x + \" + str(round(intercept,2))\n",
    "plt.scatter(x_value, y_value, marker=\"^\", color = \"lightpink\", edgecolors = \"black\")\n",
    "plt.plot(x_value, regress_values,\"b\")\n",
    "plt.annotate(reg_line_equation,(118,21),fontsize = 12,color = \"red\")\n",
    "plt.xlim(-1,168)\n",
    "plt.ylim(-1,23)\n",
    "plt.xlabel(\"Time of Gaming Hours per Week\")\n",
    "plt.ylabel(\"Scores of GAD\")\n",
    "plt.title(\"Time Spend Playing vs. GAD score\")\n",
    "plt.savefig('GAD_scatter_reg.png')\n",
    "\n",
    "print(f'The correlation between weekly playing time and the score of GAD is ~ {round(corr_coeff[0],2)}')\n",
    "print(f'The r-squared value is {rvalue**2}')\n",
    "print(f'There is no correlation between reported time spent playing games and score of GAD')"
   ]
  },
  {
   "cell_type": "code",
   "execution_count": 10,
   "id": "caf0e383",
   "metadata": {},
   "outputs": [
    {
     "data": {
      "image/png": "[encoded data removed]",
      "text/plain": [
       "<Figure size 432x288 with 1 Axes>"
      ]
     },
     "metadata": {
      "needs_background": "light"
     },
     "output_type": "display_data"
    }
   ],
   "source": [
    "# Prepare the scatter plot for SWL vs. Hours to check for any corralations\n",
    "x_value1 = cleaned_df['Hours']\n",
    "y_value1 = cleaned_df['SWL_T']\n",
    "plt.scatter(x_value1, y_value1, marker = 'o', color = 'lightsteelblue', edgecolors=\"black\")\n",
    "plt.xlim(-1,168)\n",
    "plt.ylim(3,38)\n",
    "plt.xlabel(\"Time of Gaming Hours per Week\")\n",
    "plt.ylabel(\"Total SWL Score\")\n",
    "plt.title(\"Time Spend Playing vs. SWL score\")\n",
    "plt.savefig('SWL_scatter.png')"
   ]
  },
  {
   "cell_type": "code",
   "execution_count": 11,
   "id": "6a8cd621",
   "metadata": {},
   "outputs": [
    {
     "name": "stdout",
     "output_type": "stream",
     "text": [
      "The correlation between weekly playing time and the score of SWL is ~ -0.03\n",
      "The r-squared value is 0.0011890517618669395\n",
      "There is no correlation between reported time spent playing games and score of SWL\n"
     ]
    },
    {
     "data": {
      "image/png": "[encoded data removed]",
      "text/plain": [
       "<Figure size 432x288 with 1 Axes>"
      ]
     },
     "metadata": {
      "needs_background": "light"
     },
     "output_type": "display_data"
    }
   ],
   "source": [
    "corr_coeff = st.pearsonr(x_value1, y_value1)\n",
    "\n",
    "(slope, intercept, rvalue, pvalue, stderr) = linregress(x_value1, y_value1)\n",
    "regress_values = x_value1 * slope + intercept\n",
    "reg_line_equation = \"y = \" + str(round(slope,2)) + \"x + \" + str(round(intercept,2))\n",
    "plt.scatter(x_value1, y_value1, marker=\"o\", color = \"lightsteelblue\", edgecolors = \"black\")\n",
    "plt.plot(x_value1, regress_values,\"b\")\n",
    "plt.annotate(reg_line_equation,(112,30),fontsize = 12,color = \"red\")\n",
    "plt.xlim(-1,168)\n",
    "plt.ylim(3,38)\n",
    "plt.xlabel(\"Time of Gaming Hours per Week\")\n",
    "plt.ylabel(\"Total SWL Score\")\n",
    "plt.title(\"Time Spend Playing vs. SWL score\")\n",
    "\n",
    "print(f'The correlation between weekly playing time and the score of SWL is ~ {round(corr_coeff[0],2)}')\n",
    "print(f'The r-squared value is {rvalue**2}')\n",
    "print(f'There is no correlation between reported time spent playing games and score of SWL')\n",
    "plt.savefig('SWL_scatter_reg.png')"
   ]
  },
  {
   "cell_type": "code",
   "execution_count": 12,
   "id": "4b7fdd4a",
   "metadata": {},
   "outputs": [
    {
     "data": {
      "text/plain": [
       "Text(0.5, 1.0, 'Time Spend Playing vs. SPIN score')"
      ]
     },
     "execution_count": 12,
     "metadata": {},
     "output_type": "execute_result"
    },
    {
     "data": {
      "image/png": "[encoded data removed]",
      "text/plain": [
       "<Figure size 432x288 with 1 Axes>"
      ]
     },
     "metadata": {
      "needs_background": "light"
     },
     "output_type": "display_data"
    }
   ],
   "source": [
    "# Prepare the scatter plot for SPIN vs. Hours to check for any corralations\n",
    "x_value2 = cleaned_df['Hours']\n",
    "y_value2 = cleaned_df['SPIN_T']\n",
    "plt.scatter(x_value1, y_value1, marker = 'o', color = 'lightblue', edgecolors=\"black\")\n",
    "plt.xlim(-1,168)\n",
    "plt.ylim(3,38)\n",
    "plt.xlabel(\"Time of Gaming Hours per Week\")\n",
    "plt.ylabel(\"Total SPIN Score\")\n",
    "plt.title(\"Time Spend Playing vs. SPIN score\")\n"
   ]
  },
  {
   "cell_type": "code",
   "execution_count": 13,
   "id": "5da810b2",
   "metadata": {},
   "outputs": [
    {
     "name": "stdout",
     "output_type": "stream",
     "text": [
      "The correlation between weekly playing time and the score of SPIN is ~ -0.03\n",
      "The r-squared value is 0.002416060891967237\n",
      "There is no correlation between reported time spent playing games and score of SPIN\n"
     ]
    },
    {
     "data": {
      "image/png": "[encoded data removed]",
      "text/plain": [
       "<Figure size 432x288 with 1 Axes>"
      ]
     },
     "metadata": {
      "needs_background": "light"
     },
     "output_type": "display_data"
    }
   ],
   "source": [
    "orr_coeff = st.pearsonr(x_value2, y_value2)\n",
    "\n",
    "(slope, intercept, rvalue, pvalue, stderr) = linregress(x_value2, y_value2)\n",
    "regress_values = x_value2 * slope + intercept\n",
    "reg_line_equation = \"y = \" + str(round(slope,2)) + \"x + \" + str(round(intercept,2))\n",
    "plt.scatter(x_value2, y_value2, marker=\"o\", color = 'lightblue', edgecolors = \"black\")\n",
    "plt.plot(x_value2, regress_values,\"b\")\n",
    "plt.annotate(reg_line_equation,(110,63),fontsize = 12,color = \"red\")\n",
    "plt.xlim(-1,168)\n",
    "plt.ylim(-3,71)\n",
    "plt.xlabel(\"Time of Gaming Hours per Week\")\n",
    "plt.ylabel(\"Total SPIN Score\")\n",
    "plt.title(\"Time Spend Playing vs. SPIN score\")\n",
    "\n",
    "print(f'The correlation between weekly playing time and the score of SPIN is ~ {round(corr_coeff[0],2)}')\n",
    "print(f'The r-squared value is {rvalue**2}')\n",
    "print(f'There is no correlation between reported time spent playing games and score of SPIN')\n",
    "plt.savefig('SPIN_scatter_reg.png')"
   ]
  },
  {
   "cell_type": "code",
   "execution_count": 14,
   "id": "f9e201ee",
   "metadata": {},
   "outputs": [
    {
     "data": {
      "text/html": [
       "<div>\n",
       "<style scoped>\n",
       "    .dataframe tbody tr th:only-of-type {\n",
       "        vertical-align: middle;\n",
       "    }\n",
       "\n",
       "    .dataframe tbody tr th {\n",
       "        vertical-align: top;\n",
       "    }\n",
       "\n",
       "    .dataframe thead th {\n",
       "        text-align: right;\n",
       "    }\n",
       "</style>\n",
       "<table border=\"1\" class=\"dataframe\">\n",
       "  <thead>\n",
       "    <tr style=\"text-align: right;\">\n",
       "      <th></th>\n",
       "      <th>Hours</th>\n",
       "      <th>Game</th>\n",
       "      <th>Platform</th>\n",
       "      <th>earnings</th>\n",
       "      <th>whyplay</th>\n",
       "      <th>streams</th>\n",
       "      <th>Narcissism</th>\n",
       "      <th>Gender</th>\n",
       "      <th>Age</th>\n",
       "      <th>Work</th>\n",
       "      <th>Degree</th>\n",
       "      <th>Residence</th>\n",
       "      <th>Playstyle</th>\n",
       "      <th>GAD_T</th>\n",
       "      <th>SWL_T</th>\n",
       "      <th>SPIN_T</th>\n",
       "    </tr>\n",
       "  </thead>\n",
       "  <tbody>\n",
       "    <tr>\n",
       "      <th>0</th>\n",
       "      <td>15</td>\n",
       "      <td>Skyrim</td>\n",
       "      <td>Console (PS, Xbox, ...)</td>\n",
       "      <td>I play for fun</td>\n",
       "      <td>having fun</td>\n",
       "      <td>0</td>\n",
       "      <td>1</td>\n",
       "      <td>Male</td>\n",
       "      <td>25</td>\n",
       "      <td>Unemployed / between jobs</td>\n",
       "      <td>Bachelor (or equivalent)</td>\n",
       "      <td>USA</td>\n",
       "      <td>Singleplayer</td>\n",
       "      <td>1</td>\n",
       "      <td>23</td>\n",
       "      <td>5</td>\n",
       "    </tr>\n",
       "    <tr>\n",
       "      <th>1</th>\n",
       "      <td>8</td>\n",
       "      <td>Other</td>\n",
       "      <td>PC</td>\n",
       "      <td>I play for fun</td>\n",
       "      <td>having fun</td>\n",
       "      <td>2</td>\n",
       "      <td>1</td>\n",
       "      <td>Male</td>\n",
       "      <td>41</td>\n",
       "      <td>Unemployed / between jobs</td>\n",
       "      <td>Bachelor (or equivalent)</td>\n",
       "      <td>USA</td>\n",
       "      <td>Multiplayer</td>\n",
       "      <td>8</td>\n",
       "      <td>16</td>\n",
       "      <td>33</td>\n",
       "    </tr>\n",
       "    <tr>\n",
       "      <th>2</th>\n",
       "      <td>0</td>\n",
       "      <td>Other</td>\n",
       "      <td>PC</td>\n",
       "      <td>I play for fun</td>\n",
       "      <td>having fun</td>\n",
       "      <td>0</td>\n",
       "      <td>4</td>\n",
       "      <td>Female</td>\n",
       "      <td>32</td>\n",
       "      <td>Employed</td>\n",
       "      <td>Bachelor (or equivalent)</td>\n",
       "      <td>Germany</td>\n",
       "      <td>Singleplayer</td>\n",
       "      <td>8</td>\n",
       "      <td>17</td>\n",
       "      <td>31</td>\n",
       "    </tr>\n",
       "    <tr>\n",
       "      <th>3</th>\n",
       "      <td>20</td>\n",
       "      <td>Other</td>\n",
       "      <td>PC</td>\n",
       "      <td>I play for fun</td>\n",
       "      <td>improving</td>\n",
       "      <td>5</td>\n",
       "      <td>2</td>\n",
       "      <td>Male</td>\n",
       "      <td>28</td>\n",
       "      <td>Employed</td>\n",
       "      <td>Bachelor (or equivalent)</td>\n",
       "      <td>USA</td>\n",
       "      <td>Multiplayer</td>\n",
       "      <td>0</td>\n",
       "      <td>17</td>\n",
       "      <td>11</td>\n",
       "    </tr>\n",
       "    <tr>\n",
       "      <th>4</th>\n",
       "      <td>20</td>\n",
       "      <td>Other</td>\n",
       "      <td>Console (PS, Xbox, ...)</td>\n",
       "      <td>I play for fun</td>\n",
       "      <td>having fun</td>\n",
       "      <td>1</td>\n",
       "      <td>1</td>\n",
       "      <td>Male</td>\n",
       "      <td>19</td>\n",
       "      <td>Employed</td>\n",
       "      <td>High school diploma (or equivalent)</td>\n",
       "      <td>South Korea</td>\n",
       "      <td>Multiplayer</td>\n",
       "      <td>14</td>\n",
       "      <td>14</td>\n",
       "      <td>13</td>\n",
       "    </tr>\n",
       "  </tbody>\n",
       "</table>\n",
       "</div>"
      ],
      "text/plain": [
       "   Hours    Game                 Platform        earnings     whyplay  \\\n",
       "0     15  Skyrim  Console (PS, Xbox, ...)  I play for fun  having fun   \n",
       "1      8   Other                       PC  I play for fun  having fun   \n",
       "2      0   Other                       PC  I play for fun  having fun   \n",
       "3     20   Other                       PC  I play for fun   improving   \n",
       "4     20   Other  Console (PS, Xbox, ...)  I play for fun  having fun   \n",
       "\n",
       "   streams  Narcissism  Gender  Age                       Work  \\\n",
       "0        0           1    Male   25  Unemployed / between jobs   \n",
       "1        2           1    Male   41  Unemployed / between jobs   \n",
       "2        0           4  Female   32                   Employed   \n",
       "3        5           2    Male   28                   Employed   \n",
       "4        1           1    Male   19                   Employed   \n",
       "\n",
       "                                Degree    Residence     Playstyle  GAD_T  \\\n",
       "0             Bachelor (or equivalent)          USA  Singleplayer      1   \n",
       "1             Bachelor (or equivalent)          USA   Multiplayer      8   \n",
       "2             Bachelor (or equivalent)      Germany  Singleplayer      8   \n",
       "3             Bachelor (or equivalent)          USA   Multiplayer      0   \n",
       "4  High school diploma (or equivalent)  South Korea   Multiplayer     14   \n",
       "\n",
       "   SWL_T  SPIN_T  \n",
       "0     23       5  \n",
       "1     16      33  \n",
       "2     17      31  \n",
       "3     17      11  \n",
       "4     14      13  "
      ]
     },
     "execution_count": 14,
     "metadata": {},
     "output_type": "execute_result"
    }
   ],
   "source": [
    "#Make a new DataFrame with all parameters I will use for this part:\n",
    "Jo_df = cleaned_df[['Hours', 'Game', 'Platform', 'earnings',\n",
    "       'whyplay', 'streams', 'Narcissism', 'Gender', 'Age', 'Work',\n",
    "       'Degree', 'Residence', 'Playstyle', 'GAD_T',\n",
    "       'SWL_T', 'SPIN_T']]\n",
    "Jo_df.head()"
   ]
  },
  {
   "cell_type": "code",
   "execution_count": 15,
   "id": "1a3da8a8",
   "metadata": {},
   "outputs": [
    {
     "data": {
      "text/plain": [
       "Hours         0\n",
       "Game          0\n",
       "Platform      0\n",
       "earnings      0\n",
       "whyplay       0\n",
       "streams       0\n",
       "Narcissism    0\n",
       "Gender        0\n",
       "Age           0\n",
       "Work          0\n",
       "Degree        0\n",
       "Residence     0\n",
       "Playstyle     0\n",
       "GAD_T         0\n",
       "SWL_T         0\n",
       "SPIN_T        0\n",
       "dtype: int64"
      ]
     },
     "execution_count": 15,
     "metadata": {},
     "output_type": "execute_result"
    }
   ],
   "source": [
    "#check if there are any NAs\n",
    "Jo_df.isna().sum()"
   ]
  },
  {
   "cell_type": "code",
   "execution_count": 16,
   "id": "9b272f5a",
   "metadata": {},
   "outputs": [
    {
     "data": {
      "text/plain": [
       "160"
      ]
     },
     "execution_count": 16,
     "metadata": {},
     "output_type": "execute_result"
    }
   ],
   "source": [
    "#remove report >168 hours /per week\n",
    "cleaned_hours = Jo_df[Jo_df['Hours']<=168]\n",
    "cleaned_hours['Hours'].max()"
   ]
  },
  {
   "cell_type": "code",
   "execution_count": 17,
   "id": "aed29ba9",
   "metadata": {},
   "outputs": [],
   "source": [
    "def group_hours(hours):\n",
    "    if hours < 10:\n",
    "        return \"0-10\"\n",
    "    elif hours < 20:\n",
    "        return \"10-20\"\n",
    "    elif hours <40:\n",
    "        return \"20-40\"\n",
    "    elif hours <80:\n",
    "        return \"40-80\"\n",
    "    elif hours <120:\n",
    "        return \"80-120\"\n",
    "    else:\n",
    "        return \"120-168\""
   ]
  },
  {
   "cell_type": "code",
   "execution_count": 18,
   "id": "749ae9ed",
   "metadata": {},
   "outputs": [
    {
     "name": "stderr",
     "output_type": "stream",
     "text": [
      "C:\\Users\\sarah\\anaconda3\\envs\\PythonData\\lib\\site-packages\\ipykernel_launcher.py:1: SettingWithCopyWarning: \n",
      "A value is trying to be set on a copy of a slice from a DataFrame.\n",
      "Try using .loc[row_indexer,col_indexer] = value instead\n",
      "\n",
      "See the caveats in the documentation: https://pandas.pydata.org/pandas-docs/stable/user_guide/indexing.html#returning-a-view-versus-a-copy\n",
      "  \"\"\"Entry point for launching an IPython kernel.\n"
     ]
    }
   ],
   "source": [
    "cleaned_hours['Hours_group'] = cleaned_hours['Hours'].map(group_hours)"
   ]
  },
  {
   "cell_type": "code",
   "execution_count": 19,
   "id": "af988ec2",
   "metadata": {},
   "outputs": [
    {
     "data": {
      "text/html": [
       "<div>\n",
       "<style scoped>\n",
       "    .dataframe tbody tr th:only-of-type {\n",
       "        vertical-align: middle;\n",
       "    }\n",
       "\n",
       "    .dataframe tbody tr th {\n",
       "        vertical-align: top;\n",
       "    }\n",
       "\n",
       "    .dataframe thead th {\n",
       "        text-align: right;\n",
       "    }\n",
       "</style>\n",
       "<table border=\"1\" class=\"dataframe\">\n",
       "  <thead>\n",
       "    <tr style=\"text-align: right;\">\n",
       "      <th></th>\n",
       "      <th>Hours</th>\n",
       "      <th>Game</th>\n",
       "      <th>Platform</th>\n",
       "      <th>earnings</th>\n",
       "      <th>whyplay</th>\n",
       "      <th>streams</th>\n",
       "      <th>Narcissism</th>\n",
       "      <th>Gender</th>\n",
       "      <th>Age</th>\n",
       "      <th>Work</th>\n",
       "      <th>Degree</th>\n",
       "      <th>Residence</th>\n",
       "      <th>Playstyle</th>\n",
       "      <th>GAD_T</th>\n",
       "      <th>SWL_T</th>\n",
       "      <th>SPIN_T</th>\n",
       "      <th>Hours_group</th>\n",
       "    </tr>\n",
       "  </thead>\n",
       "  <tbody>\n",
       "    <tr>\n",
       "      <th>0</th>\n",
       "      <td>15</td>\n",
       "      <td>Skyrim</td>\n",
       "      <td>Console (PS, Xbox, ...)</td>\n",
       "      <td>I play for fun</td>\n",
       "      <td>having fun</td>\n",
       "      <td>0</td>\n",
       "      <td>1</td>\n",
       "      <td>Male</td>\n",
       "      <td>25</td>\n",
       "      <td>Unemployed / between jobs</td>\n",
       "      <td>Bachelor (or equivalent)</td>\n",
       "      <td>USA</td>\n",
       "      <td>Singleplayer</td>\n",
       "      <td>1</td>\n",
       "      <td>23</td>\n",
       "      <td>5</td>\n",
       "      <td>10-20</td>\n",
       "    </tr>\n",
       "    <tr>\n",
       "      <th>1</th>\n",
       "      <td>8</td>\n",
       "      <td>Other</td>\n",
       "      <td>PC</td>\n",
       "      <td>I play for fun</td>\n",
       "      <td>having fun</td>\n",
       "      <td>2</td>\n",
       "      <td>1</td>\n",
       "      <td>Male</td>\n",
       "      <td>41</td>\n",
       "      <td>Unemployed / between jobs</td>\n",
       "      <td>Bachelor (or equivalent)</td>\n",
       "      <td>USA</td>\n",
       "      <td>Multiplayer</td>\n",
       "      <td>8</td>\n",
       "      <td>16</td>\n",
       "      <td>33</td>\n",
       "      <td>0-10</td>\n",
       "    </tr>\n",
       "    <tr>\n",
       "      <th>2</th>\n",
       "      <td>0</td>\n",
       "      <td>Other</td>\n",
       "      <td>PC</td>\n",
       "      <td>I play for fun</td>\n",
       "      <td>having fun</td>\n",
       "      <td>0</td>\n",
       "      <td>4</td>\n",
       "      <td>Female</td>\n",
       "      <td>32</td>\n",
       "      <td>Employed</td>\n",
       "      <td>Bachelor (or equivalent)</td>\n",
       "      <td>Germany</td>\n",
       "      <td>Singleplayer</td>\n",
       "      <td>8</td>\n",
       "      <td>17</td>\n",
       "      <td>31</td>\n",
       "      <td>0-10</td>\n",
       "    </tr>\n",
       "    <tr>\n",
       "      <th>3</th>\n",
       "      <td>20</td>\n",
       "      <td>Other</td>\n",
       "      <td>PC</td>\n",
       "      <td>I play for fun</td>\n",
       "      <td>improving</td>\n",
       "      <td>5</td>\n",
       "      <td>2</td>\n",
       "      <td>Male</td>\n",
       "      <td>28</td>\n",
       "      <td>Employed</td>\n",
       "      <td>Bachelor (or equivalent)</td>\n",
       "      <td>USA</td>\n",
       "      <td>Multiplayer</td>\n",
       "      <td>0</td>\n",
       "      <td>17</td>\n",
       "      <td>11</td>\n",
       "      <td>20-40</td>\n",
       "    </tr>\n",
       "    <tr>\n",
       "      <th>4</th>\n",
       "      <td>20</td>\n",
       "      <td>Other</td>\n",
       "      <td>Console (PS, Xbox, ...)</td>\n",
       "      <td>I play for fun</td>\n",
       "      <td>having fun</td>\n",
       "      <td>1</td>\n",
       "      <td>1</td>\n",
       "      <td>Male</td>\n",
       "      <td>19</td>\n",
       "      <td>Employed</td>\n",
       "      <td>High school diploma (or equivalent)</td>\n",
       "      <td>South Korea</td>\n",
       "      <td>Multiplayer</td>\n",
       "      <td>14</td>\n",
       "      <td>14</td>\n",
       "      <td>13</td>\n",
       "      <td>20-40</td>\n",
       "    </tr>\n",
       "  </tbody>\n",
       "</table>\n",
       "</div>"
      ],
      "text/plain": [
       "   Hours    Game                 Platform        earnings     whyplay  \\\n",
       "0     15  Skyrim  Console (PS, Xbox, ...)  I play for fun  having fun   \n",
       "1      8   Other                       PC  I play for fun  having fun   \n",
       "2      0   Other                       PC  I play for fun  having fun   \n",
       "3     20   Other                       PC  I play for fun   improving   \n",
       "4     20   Other  Console (PS, Xbox, ...)  I play for fun  having fun   \n",
       "\n",
       "   streams  Narcissism  Gender  Age                       Work  \\\n",
       "0        0           1    Male   25  Unemployed / between jobs   \n",
       "1        2           1    Male   41  Unemployed / between jobs   \n",
       "2        0           4  Female   32                   Employed   \n",
       "3        5           2    Male   28                   Employed   \n",
       "4        1           1    Male   19                   Employed   \n",
       "\n",
       "                                Degree    Residence     Playstyle  GAD_T  \\\n",
       "0             Bachelor (or equivalent)          USA  Singleplayer      1   \n",
       "1             Bachelor (or equivalent)          USA   Multiplayer      8   \n",
       "2             Bachelor (or equivalent)      Germany  Singleplayer      8   \n",
       "3             Bachelor (or equivalent)          USA   Multiplayer      0   \n",
       "4  High school diploma (or equivalent)  South Korea   Multiplayer     14   \n",
       "\n",
       "   SWL_T  SPIN_T Hours_group  \n",
       "0     23       5       10-20  \n",
       "1     16      33        0-10  \n",
       "2     17      31        0-10  \n",
       "3     17      11       20-40  \n",
       "4     14      13       20-40  "
      ]
     },
     "execution_count": 19,
     "metadata": {},
     "output_type": "execute_result"
    }
   ],
   "source": [
    "cleaned_hours.head()"
   ]
  },
  {
   "cell_type": "code",
   "execution_count": 20,
   "id": "c729f791",
   "metadata": {},
   "outputs": [
    {
     "data": {
      "text/html": [
       "<div>\n",
       "<style scoped>\n",
       "    .dataframe tbody tr th:only-of-type {\n",
       "        vertical-align: middle;\n",
       "    }\n",
       "\n",
       "    .dataframe tbody tr th {\n",
       "        vertical-align: top;\n",
       "    }\n",
       "\n",
       "    .dataframe thead tr th {\n",
       "        text-align: left;\n",
       "    }\n",
       "\n",
       "    .dataframe thead tr:last-of-type th {\n",
       "        text-align: right;\n",
       "    }\n",
       "</style>\n",
       "<table border=\"1\" class=\"dataframe\">\n",
       "  <thead>\n",
       "    <tr>\n",
       "      <th></th>\n",
       "      <th colspan=\"3\" halign=\"left\">GAD_T</th>\n",
       "      <th colspan=\"3\" halign=\"left\">SWL_T</th>\n",
       "      <th colspan=\"3\" halign=\"left\">SPIN_T</th>\n",
       "    </tr>\n",
       "    <tr>\n",
       "      <th></th>\n",
       "      <th>count</th>\n",
       "      <th>mean</th>\n",
       "      <th>sum</th>\n",
       "      <th>count</th>\n",
       "      <th>mean</th>\n",
       "      <th>sum</th>\n",
       "      <th>count</th>\n",
       "      <th>mean</th>\n",
       "      <th>sum</th>\n",
       "    </tr>\n",
       "    <tr>\n",
       "      <th>Hours_group</th>\n",
       "      <th></th>\n",
       "      <th></th>\n",
       "      <th></th>\n",
       "      <th></th>\n",
       "      <th></th>\n",
       "      <th></th>\n",
       "      <th></th>\n",
       "      <th></th>\n",
       "      <th></th>\n",
       "    </tr>\n",
       "  </thead>\n",
       "  <tbody>\n",
       "    <tr>\n",
       "      <th>0-10</th>\n",
       "      <td>1436</td>\n",
       "      <td>5.121170</td>\n",
       "      <td>7354</td>\n",
       "      <td>1436</td>\n",
       "      <td>20.358635</td>\n",
       "      <td>29235</td>\n",
       "      <td>1436</td>\n",
       "      <td>18.859331</td>\n",
       "      <td>27082</td>\n",
       "    </tr>\n",
       "    <tr>\n",
       "      <th>10-20</th>\n",
       "      <td>3835</td>\n",
       "      <td>5.102999</td>\n",
       "      <td>19570</td>\n",
       "      <td>3835</td>\n",
       "      <td>20.486050</td>\n",
       "      <td>78564</td>\n",
       "      <td>3835</td>\n",
       "      <td>19.106910</td>\n",
       "      <td>73275</td>\n",
       "    </tr>\n",
       "    <tr>\n",
       "      <th>120-168</th>\n",
       "      <td>7</td>\n",
       "      <td>10.714286</td>\n",
       "      <td>75</td>\n",
       "      <td>7</td>\n",
       "      <td>21.142857</td>\n",
       "      <td>148</td>\n",
       "      <td>7</td>\n",
       "      <td>26.285714</td>\n",
       "      <td>184</td>\n",
       "    </tr>\n",
       "    <tr>\n",
       "      <th>20-40</th>\n",
       "      <td>5104</td>\n",
       "      <td>5.450235</td>\n",
       "      <td>27818</td>\n",
       "      <td>5104</td>\n",
       "      <td>19.291928</td>\n",
       "      <td>98466</td>\n",
       "      <td>5104</td>\n",
       "      <td>20.650862</td>\n",
       "      <td>105402</td>\n",
       "    </tr>\n",
       "    <tr>\n",
       "      <th>40-80</th>\n",
       "      <td>1227</td>\n",
       "      <td>6.741646</td>\n",
       "      <td>8272</td>\n",
       "      <td>1227</td>\n",
       "      <td>17.655257</td>\n",
       "      <td>21663</td>\n",
       "      <td>1227</td>\n",
       "      <td>23.099430</td>\n",
       "      <td>28343</td>\n",
       "    </tr>\n",
       "    <tr>\n",
       "      <th>80-120</th>\n",
       "      <td>71</td>\n",
       "      <td>7.929577</td>\n",
       "      <td>563</td>\n",
       "      <td>71</td>\n",
       "      <td>15.042254</td>\n",
       "      <td>1068</td>\n",
       "      <td>71</td>\n",
       "      <td>23.915493</td>\n",
       "      <td>1698</td>\n",
       "    </tr>\n",
       "  </tbody>\n",
       "</table>\n",
       "</div>"
      ],
      "text/plain": [
       "            GAD_T                   SWL_T                   SPIN_T             \\\n",
       "            count       mean    sum count       mean    sum  count       mean   \n",
       "Hours_group                                                                     \n",
       "0-10         1436   5.121170   7354  1436  20.358635  29235   1436  18.859331   \n",
       "10-20        3835   5.102999  19570  3835  20.486050  78564   3835  19.106910   \n",
       "120-168         7  10.714286     75     7  21.142857    148      7  26.285714   \n",
       "20-40        5104   5.450235  27818  5104  19.291928  98466   5104  20.650862   \n",
       "40-80        1227   6.741646   8272  1227  17.655257  21663   1227  23.099430   \n",
       "80-120         71   7.929577    563    71  15.042254   1068     71  23.915493   \n",
       "\n",
       "                     \n",
       "                sum  \n",
       "Hours_group          \n",
       "0-10          27082  \n",
       "10-20         73275  \n",
       "120-168         184  \n",
       "20-40        105402  \n",
       "40-80         28343  \n",
       "80-120         1698  "
      ]
     },
     "execution_count": 20,
     "metadata": {},
     "output_type": "execute_result"
    }
   ],
   "source": [
    "#GAD bins = [0, 10, 20, 40, 80, 120, 168]\n",
    "\n",
    "numeric_columns = [\"GAD_T\", \"SWL_T\", \"SPIN_T\"]\n",
    "by_hours_df = cleaned_hours.groupby(['Hours_group']).agg(['count', 'mean', 'sum'])[numeric_columns]\n",
    "by_hours_df"
   ]
  },
  {
   "cell_type": "code",
   "execution_count": 21,
   "id": "2168cdeb",
   "metadata": {},
   "outputs": [
    {
     "data": {
      "text/plain": [
       "F_onewayResult(statistic=30.611026075853225, pvalue=4.816306046661393e-31)"
      ]
     },
     "execution_count": 21,
     "metadata": {},
     "output_type": "execute_result"
    }
   ],
   "source": [
    "#ANOVA for GAD\n",
    "# Extract individual groups\n",
    "group0 = cleaned_hours[cleaned_hours[\"Hours_group\"] == \"0-10\"][\"GAD_T\"]\n",
    "group1 = cleaned_hours[cleaned_hours[\"Hours_group\"] == \"10-20\"][\"GAD_T\"]\n",
    "group2 = cleaned_hours[cleaned_hours[\"Hours_group\"] == \"20-40\"][\"GAD_T\"]\n",
    "group3 = cleaned_hours[cleaned_hours[\"Hours_group\"] == \"40-80\"][\"GAD_T\"]\n",
    "group4 = cleaned_hours[cleaned_hours[\"Hours_group\"] == \"80-120\"][\"GAD_T\"]\n",
    "group5 = cleaned_hours[cleaned_hours[\"Hours_group\"] == \"120-168\"][\"GAD_T\"]\n",
    "\n",
    "              \n",
    "st.f_oneway(group0, group1, group2, group3, group4, group5)\n",
    "\n",
    "\n",
    "\n",
    "\n"
   ]
  },
  {
   "cell_type": "code",
   "execution_count": 22,
   "id": "9e677436",
   "metadata": {},
   "outputs": [
    {
     "data": {
      "text/plain": [
       "F_onewayResult(statistic=40.989377887622716, pvalue=5.887196488286692e-42)"
      ]
     },
     "execution_count": 22,
     "metadata": {},
     "output_type": "execute_result"
    }
   ],
   "source": [
    "#ANOVA for SWL\n",
    "# Extract individual groups\n",
    "group0 = cleaned_hours[cleaned_hours[\"Hours_group\"] == \"0-10\"][\"SWL_T\"]\n",
    "group1 = cleaned_hours[cleaned_hours[\"Hours_group\"] == \"10-20\"][\"SWL_T\"]\n",
    "group2 = cleaned_hours[cleaned_hours[\"Hours_group\"] == \"20-40\"][\"SWL_T\"]\n",
    "group3 = cleaned_hours[cleaned_hours[\"Hours_group\"] == \"40-80\"][\"SWL_T\"]\n",
    "group4 = cleaned_hours[cleaned_hours[\"Hours_group\"] == \"80-120\"][\"SWL_T\"]\n",
    "group5 = cleaned_hours[cleaned_hours[\"Hours_group\"] == \"120-168\"][\"SWL_T\"]\n",
    "\n",
    "              \n",
    "st.f_oneway(group0, group1, group2, group3, group4, group5)\n",
    "\n",
    "\n"
   ]
  },
  {
   "cell_type": "code",
   "execution_count": 23,
   "id": "edb1ecd0",
   "metadata": {},
   "outputs": [
    {
     "data": {
      "text/plain": [
       "F_onewayResult(statistic=21.9160424083619, pvalue=6.400978039767038e-22)"
      ]
     },
     "execution_count": 23,
     "metadata": {},
     "output_type": "execute_result"
    }
   ],
   "source": [
    "#ANOVA for SPIN\n",
    "# Extract individual groups\n",
    "group0 = cleaned_hours[cleaned_hours[\"Hours_group\"] == \"0-10\"][\"SPIN_T\"]\n",
    "group1 = cleaned_hours[cleaned_hours[\"Hours_group\"] == \"10-20\"][\"SPIN_T\"]\n",
    "group2 = cleaned_hours[cleaned_hours[\"Hours_group\"] == \"20-40\"][\"SPIN_T\"]\n",
    "group3 = cleaned_hours[cleaned_hours[\"Hours_group\"] == \"40-80\"][\"SPIN_T\"]\n",
    "group4 = cleaned_hours[cleaned_hours[\"Hours_group\"] == \"80-120\"][\"SPIN_T\"]\n",
    "group5 = cleaned_hours[cleaned_hours[\"Hours_group\"] == \"120-168\"][\"SPIN_T\"]\n",
    "\n",
    "              \n",
    "st.f_oneway(group0, group1, group2, group3, group4, group5)\n",
    "\n"
   ]
  },
  {
   "cell_type": "code",
   "execution_count": 24,
   "id": "324fceb8",
   "metadata": {},
   "outputs": [
    {
     "data": {
      "text/plain": [
       "Index(['0-10', '10-20', '120-168', '20-40', '40-80', '80-120'], dtype='object', name='Hours_group')"
      ]
     },
     "execution_count": 24,
     "metadata": {},
     "output_type": "execute_result"
    }
   ],
   "source": [
    "by_hours_df.index"
   ]
  },
  {
   "cell_type": "code",
   "execution_count": 25,
   "id": "758d0ed4",
   "metadata": {},
   "outputs": [
    {
     "data": {
      "text/plain": [
       "MultiIndex([( 'GAD_T', 'count'),\n",
       "            ( 'GAD_T',  'mean'),\n",
       "            ( 'GAD_T',   'sum'),\n",
       "            ( 'SWL_T', 'count'),\n",
       "            ( 'SWL_T',  'mean'),\n",
       "            ( 'SWL_T',   'sum'),\n",
       "            ('SPIN_T', 'count'),\n",
       "            ('SPIN_T',  'mean'),\n",
       "            ('SPIN_T',   'sum')],\n",
       "           )"
      ]
     },
     "execution_count": 25,
     "metadata": {},
     "output_type": "execute_result"
    }
   ],
   "source": [
    "by_hours_df.columns"
   ]
  },
  {
   "cell_type": "code",
   "execution_count": 26,
   "id": "3694998b",
   "metadata": {},
   "outputs": [
    {
     "data": {
      "image/png": "[encoded data removed]",
      "text/plain": [
       "<Figure size 432x288 with 1 Axes>"
      ]
     },
     "metadata": {
      "needs_background": "light"
     },
     "output_type": "display_data"
    }
   ],
   "source": [
    "#Histogram for GDP vs. hours played\n",
    "GAD_hours = ['0-10', '10-20', '20-40', '40-80', '80-120','120-168']\n",
    "GAD_time_df = cleaned_hours.groupby(['Hours_group']).agg(['mean']).loc[GAD_hours]['GAD_T'].plot(kind = \"bar\", color = 'lightpink', legend = None)\n",
    "GAD_time_df.set_ylim(0,15)\n",
    "GAD_time_df.set_ylabel(\"Avarage score of GAD\")\n",
    "GAD_time_df.set_xlabel(\"Hours Spent Gaming per week\")\n",
    "GAD_time_df.set_title(\"Histogram of Avarage GAD score vs. Time Spent Gaming\")\n",
    "plt.savefig('GAD_bar.png', bbox_inches='tight')\n",
    "plt.show()\n"
   ]
  },
  {
   "cell_type": "code",
   "execution_count": 27,
   "id": "ca94bd29",
   "metadata": {},
   "outputs": [
    {
     "data": {
      "text/plain": [
       "dtype('O')"
      ]
     },
     "execution_count": 27,
     "metadata": {},
     "output_type": "execute_result"
    }
   ],
   "source": [
    "cleaned_hours['Hours_group'].dtype\n"
   ]
  },
  {
   "cell_type": "code",
   "execution_count": 28,
   "id": "df092783",
   "metadata": {},
   "outputs": [
    {
     "ename": "NameError",
     "evalue": "name 'GAD_ANOVA' is not defined",
     "output_type": "error",
     "traceback": [
      "\u001b[1;31m---------------------------------------------------------------------------\u001b[0m",
      "\u001b[1;31mNameError\u001b[0m                                 Traceback (most recent call last)",
      "\u001b[1;32m<ipython-input-28-17728ff99561>\u001b[0m in \u001b[0;36m<module>\u001b[1;34m\u001b[0m\n\u001b[1;32m----> 1\u001b[1;33m \u001b[0mgroup0\u001b[0m \u001b[1;33m=\u001b[0m \u001b[0mGAD_ANOVA\u001b[0m\u001b[1;33m[\u001b[0m\u001b[0mGAD_ANOVA\u001b[0m\u001b[1;33m[\u001b[0m\u001b[1;34m\"Hours_group\"\u001b[0m\u001b[1;33m]\u001b[0m \u001b[1;33m==\u001b[0m \u001b[1;34m\"0-10\"\u001b[0m\u001b[1;33m]\u001b[0m\u001b[1;33m[\u001b[0m\u001b[1;34m\"mean\"\u001b[0m\u001b[1;33m]\u001b[0m\u001b[1;33m\u001b[0m\u001b[1;33m\u001b[0m\u001b[0m\n\u001b[0m\u001b[0;32m      2\u001b[0m \u001b[1;31m# group1 = df[df[\"num_workouts\"] == 1][\"resting_heart_rate\"]\u001b[0m\u001b[1;33m\u001b[0m\u001b[1;33m\u001b[0m\u001b[1;33m\u001b[0m\u001b[0m\n\u001b[0;32m      3\u001b[0m \u001b[1;31m# group2 = df[df[\"num_workouts\"] == 2][\"resting_heart_rate\"]\u001b[0m\u001b[1;33m\u001b[0m\u001b[1;33m\u001b[0m\u001b[1;33m\u001b[0m\u001b[0m\n\u001b[0;32m      4\u001b[0m \u001b[1;31m# group3 = df[df[\"num_workouts\"] == 3][\"resting_heart_rate\"]\u001b[0m\u001b[1;33m\u001b[0m\u001b[1;33m\u001b[0m\u001b[1;33m\u001b[0m\u001b[0m\n\u001b[0;32m      5\u001b[0m \u001b[1;31m# group4 = df[df[\"num_workouts\"] == 4][\"resting_heart_rate\"]\u001b[0m\u001b[1;33m\u001b[0m\u001b[1;33m\u001b[0m\u001b[1;33m\u001b[0m\u001b[0m\n",
      "\u001b[1;31mNameError\u001b[0m: name 'GAD_ANOVA' is not defined"
     ]
    }
   ],
   "source": [
    "group0 = GAD_ANOVA[GAD_ANOVA[\"Hours_group\"] == \"0-10\"][\"mean\"]\n",
    "# group1 = df[df[\"num_workouts\"] == 1][\"resting_heart_rate\"]\n",
    "# group2 = df[df[\"num_workouts\"] == 2][\"resting_heart_rate\"]\n",
    "# group3 = df[df[\"num_workouts\"] == 3][\"resting_heart_rate\"]\n",
    "# group4 = df[df[\"num_workouts\"] == 4][\"resting_heart_rate\"]"
   ]
  },
  {
   "cell_type": "code",
   "execution_count": 29,
   "id": "58755863",
   "metadata": {},
   "outputs": [
    {
     "data": {
      "image/png": "[encoded data removed]",
      "text/plain": [
       "<Figure size 432x288 with 1 Axes>"
      ]
     },
     "metadata": {
      "needs_background": "light"
     },
     "output_type": "display_data"
    }
   ],
   "source": [
    "#Histomgram for SWL vs. hours played\n",
    "SWL_hours = ['0-10', '10-20', '20-40', '40-80', '80-120','120-168']\n",
    "SWL_time_df = cleaned_hours.groupby(['Hours_group']).agg(['mean']).loc[SWL_hours]['SWL_T'].plot(kind = \"bar\", legend = None, color ='lightsteelblue')\n",
    "SWL_time_df.set_ylim(0,25)\n",
    "SWL_time_df.set_ylabel(\"Avarage score of SWL\")\n",
    "SWL_time_df.set_xlabel(\"Hours Spent Gaming per week\")\n",
    "SWL_time_df.set_title(\"Histogram of Avarage SWL score vs. Time Spent Gaming\")\n",
    "plt.savefig('SWL_bar.png', bbox_inches='tight')\n",
    "plt.show()\n"
   ]
  },
  {
   "cell_type": "code",
   "execution_count": 30,
   "id": "d933d8df",
   "metadata": {},
   "outputs": [
    {
     "data": {
      "image/png": "[encoded data removed]",
      "text/plain": [
       "<Figure size 432x288 with 1 Axes>"
      ]
     },
     "metadata": {
      "needs_background": "light"
     },
     "output_type": "display_data"
    }
   ],
   "source": [
    "#Histomgram for SPIN vs. hours played\n",
    "SPIN_hours = ['0-10', '10-20', '20-40', '40-80', '80-120','120-168']\n",
    "SPIN_time_df = cleaned_hours.groupby(['Hours_group']).agg(['mean']).loc[SPIN_hours]['SPIN_T'].plot(kind = \"bar\", legend = None, color = 'lightblue')\n",
    "SPIN_time_df.set_ylim(0,30)\n",
    "SPIN_time_df.set_ylabel(\"Avarage score of SPIN\")\n",
    "SPIN_time_df.set_xlabel(\"Hours Spent Gaming per week\")\n",
    "SPIN_time_df.set_title(\"Histogram of Avarage SPIN score vs. Time Spent Gaming\")\n",
    "plt.savefig('SPIN_bar.png', bbox_inches='tight')\n",
    "plt.show()\n"
   ]
  },
  {
   "cell_type": "code",
   "execution_count": 31,
   "id": "76bbce49",
   "metadata": {},
   "outputs": [
    {
     "data": {
      "text/html": [
       "<div>\n",
       "<style scoped>\n",
       "    .dataframe tbody tr th:only-of-type {\n",
       "        vertical-align: middle;\n",
       "    }\n",
       "\n",
       "    .dataframe tbody tr th {\n",
       "        vertical-align: top;\n",
       "    }\n",
       "\n",
       "    .dataframe thead th {\n",
       "        text-align: right;\n",
       "    }\n",
       "</style>\n",
       "<table border=\"1\" class=\"dataframe\">\n",
       "  <thead>\n",
       "    <tr style=\"text-align: right;\">\n",
       "      <th></th>\n",
       "      <th>Hours</th>\n",
       "      <th>Game</th>\n",
       "      <th>Platform</th>\n",
       "      <th>earnings</th>\n",
       "      <th>whyplay</th>\n",
       "      <th>streams</th>\n",
       "      <th>Narcissism</th>\n",
       "      <th>Gender</th>\n",
       "      <th>Age</th>\n",
       "      <th>Work</th>\n",
       "      <th>Degree</th>\n",
       "      <th>Residence</th>\n",
       "      <th>Playstyle</th>\n",
       "      <th>GAD_T</th>\n",
       "      <th>SWL_T</th>\n",
       "      <th>SPIN_T</th>\n",
       "      <th>Hours_group</th>\n",
       "    </tr>\n",
       "  </thead>\n",
       "  <tbody>\n",
       "    <tr>\n",
       "      <th>2</th>\n",
       "      <td>0</td>\n",
       "      <td>Other</td>\n",
       "      <td>PC</td>\n",
       "      <td>I play for fun</td>\n",
       "      <td>having fun</td>\n",
       "      <td>0</td>\n",
       "      <td>4</td>\n",
       "      <td>Female</td>\n",
       "      <td>32</td>\n",
       "      <td>Employed</td>\n",
       "      <td>Bachelor (or equivalent)</td>\n",
       "      <td>Germany</td>\n",
       "      <td>Singleplayer</td>\n",
       "      <td>8</td>\n",
       "      <td>17</td>\n",
       "      <td>31</td>\n",
       "      <td>0-10</td>\n",
       "    </tr>\n",
       "    <tr>\n",
       "      <th>7</th>\n",
       "      <td>2</td>\n",
       "      <td>Other</td>\n",
       "      <td>Console (PS, Xbox, ...)</td>\n",
       "      <td>I play for fun</td>\n",
       "      <td>winning</td>\n",
       "      <td>0</td>\n",
       "      <td>1</td>\n",
       "      <td>Female</td>\n",
       "      <td>23</td>\n",
       "      <td>Employed</td>\n",
       "      <td>Bachelor (or equivalent)</td>\n",
       "      <td>USA</td>\n",
       "      <td>Multiplayer</td>\n",
       "      <td>12</td>\n",
       "      <td>12</td>\n",
       "      <td>55</td>\n",
       "      <td>0-10</td>\n",
       "    </tr>\n",
       "    <tr>\n",
       "      <th>8</th>\n",
       "      <td>25</td>\n",
       "      <td>World of Warcraft</td>\n",
       "      <td>PC</td>\n",
       "      <td>I play for fun</td>\n",
       "      <td>improving</td>\n",
       "      <td>0</td>\n",
       "      <td>1</td>\n",
       "      <td>Female</td>\n",
       "      <td>27</td>\n",
       "      <td>Employed</td>\n",
       "      <td>High school diploma (or equivalent)</td>\n",
       "      <td>Finland</td>\n",
       "      <td>Multiplayer</td>\n",
       "      <td>10</td>\n",
       "      <td>13</td>\n",
       "      <td>26</td>\n",
       "      <td>20-40</td>\n",
       "    </tr>\n",
       "    <tr>\n",
       "      <th>9</th>\n",
       "      <td>14</td>\n",
       "      <td>Other</td>\n",
       "      <td>PC</td>\n",
       "      <td>I play for fun</td>\n",
       "      <td>having fun</td>\n",
       "      <td>0</td>\n",
       "      <td>1</td>\n",
       "      <td>Female</td>\n",
       "      <td>21</td>\n",
       "      <td>Student at college / university</td>\n",
       "      <td>High school diploma (or equivalent)</td>\n",
       "      <td>USA</td>\n",
       "      <td>Singleplayer</td>\n",
       "      <td>19</td>\n",
       "      <td>27</td>\n",
       "      <td>6</td>\n",
       "      <td>10-20</td>\n",
       "    </tr>\n",
       "    <tr>\n",
       "      <th>13</th>\n",
       "      <td>4</td>\n",
       "      <td>Other</td>\n",
       "      <td>Console (PS, Xbox, ...)</td>\n",
       "      <td>I play for fun</td>\n",
       "      <td>having fun</td>\n",
       "      <td>5</td>\n",
       "      <td>1</td>\n",
       "      <td>Female</td>\n",
       "      <td>24</td>\n",
       "      <td>Unemployed / between jobs</td>\n",
       "      <td>Bachelor (or equivalent)</td>\n",
       "      <td>UK</td>\n",
       "      <td>Multiplayer</td>\n",
       "      <td>4</td>\n",
       "      <td>15</td>\n",
       "      <td>36</td>\n",
       "      <td>0-10</td>\n",
       "    </tr>\n",
       "  </tbody>\n",
       "</table>\n",
       "</div>"
      ],
      "text/plain": [
       "    Hours               Game                 Platform        earnings  \\\n",
       "2       0              Other                       PC  I play for fun   \n",
       "7       2              Other  Console (PS, Xbox, ...)  I play for fun   \n",
       "8      25  World of Warcraft                       PC  I play for fun   \n",
       "9      14              Other                       PC  I play for fun   \n",
       "13      4              Other  Console (PS, Xbox, ...)  I play for fun   \n",
       "\n",
       "       whyplay  streams  Narcissism  Gender  Age  \\\n",
       "2   having fun        0           4  Female   32   \n",
       "7      winning        0           1  Female   23   \n",
       "8    improving        0           1  Female   27   \n",
       "9   having fun        0           1  Female   21   \n",
       "13  having fun        5           1  Female   24   \n",
       "\n",
       "                               Work                               Degree  \\\n",
       "2                          Employed             Bachelor (or equivalent)   \n",
       "7                          Employed             Bachelor (or equivalent)   \n",
       "8                          Employed  High school diploma (or equivalent)   \n",
       "9   Student at college / university  High school diploma (or equivalent)   \n",
       "13        Unemployed / between jobs             Bachelor (or equivalent)   \n",
       "\n",
       "   Residence     Playstyle  GAD_T  SWL_T  SPIN_T Hours_group  \n",
       "2    Germany  Singleplayer      8     17      31        0-10  \n",
       "7        USA   Multiplayer     12     12      55        0-10  \n",
       "8    Finland   Multiplayer     10     13      26       20-40  \n",
       "9        USA  Singleplayer     19     27       6       10-20  \n",
       "13        UK   Multiplayer      4     15      36        0-10  "
      ]
     },
     "execution_count": 31,
     "metadata": {},
     "output_type": "execute_result"
    }
   ],
   "source": [
    "#double line graph for male and female:\n",
    "female_df = cleaned_hours.loc[cleaned_hours['Gender']=='Female']\n",
    "female_df.head()"
   ]
  },
  {
   "cell_type": "code",
   "execution_count": 32,
   "id": "074ff85e",
   "metadata": {},
   "outputs": [
    {
     "data": {
      "image/png": "[encoded data removed]",
      "text/plain": [
       "<Figure size 432x288 with 1 Axes>"
      ]
     },
     "metadata": {
      "needs_background": "light"
     },
     "output_type": "display_data"
    }
   ],
   "source": [
    "y_axis1 = female_df['GAD_T']\n",
    "y_axis2 = female_df['SWL_T']\n",
    "y_axis3 = female_df['SPIN_T']\n",
    "x_axis = female_df['Hours']\n",
    "\n",
    "plt.scatter(x_axis, y_axis3, marker = 'o', color = 'lightpink', label ='SPIN')\n",
    "plt.scatter(x_axis, y_axis2, marker = 'o', color = 'lightsteelblue', label ='SWL')\n",
    "plt.scatter(x_axis, y_axis1, marker = 'o', color = 'lightblue', label ='GAD')\n",
    "plt.xlabel(\"Time of Gaming Hours per Week\")\n",
    "plt.ylabel(\"All Scores in the Survey\")\n",
    "plt.title(\"Scatter Plot for all Scores registered for Female in the Survey vs. Time Gaming\")\n",
    "plt.legend(loc = 'best')\n",
    "plt.show()\n",
    "\n"
   ]
  },
  {
   "cell_type": "code",
   "execution_count": 33,
   "id": "afe99b1b",
   "metadata": {},
   "outputs": [
    {
     "data": {
      "text/plain": [
       "1.8192955589586524"
      ]
     },
     "execution_count": 33,
     "metadata": {},
     "output_type": "execute_result"
    }
   ],
   "source": [
    "avg_female_GAD = female_df['GAD_T'].mean()\n",
    "avg_female_SWL_T = female_df['SWL_T'].mean()\n",
    "avg_female_SPIN_T = female_df['SPIN_T'].mean()\n",
    "avg_female_narcissism = female_df['Narcissism'].mean()\n",
    "\n",
    "avg_female_GAD\n",
    "avg_female_SWL_T\n",
    "avg_female_SPIN_T\n",
    "avg_female_narcissism\n"
   ]
  },
  {
   "cell_type": "code",
   "execution_count": 34,
   "id": "245deaf7",
   "metadata": {},
   "outputs": [
    {
     "data": {
      "image/png": "[encoded data removed]",
      "text/plain": [
       "<Figure size 432x288 with 1 Axes>"
      ]
     },
     "metadata": {
      "needs_background": "light"
     },
     "output_type": "display_data"
    }
   ],
   "source": [
    "boxplot_data = [female_df['GAD_T'], \n",
    "                female_df['SWL_T'], \n",
    "                female_df['SPIN_T'], \n",
    "                female_df['Narcissism']]\n",
    "\n",
    "labels = ['GAD_T', 'SWL_T', 'SPIN_T', 'Narcissism']\n",
    "boxplot_data\n",
    "fig1, ax1 = plt.subplots()\n",
    "ax1.set_title(\"Total Survey Scores for Females\")\n",
    "ax1.set_ylabel(\"Total Test Score\")\n",
    "ax1.boxplot(boxplot_data, labels = labels, widths = 0.4, vert = True)\n",
    "plt.savefig('female_box.png')\n",
    "plt.show()\n"
   ]
  },
  {
   "cell_type": "code",
   "execution_count": 35,
   "id": "7b09c672",
   "metadata": {},
   "outputs": [
    {
     "data": {
      "image/png": "[encoded data removed]",
      "text/plain": [
       "<Figure size 432x288 with 1 Axes>"
      ]
     },
     "metadata": {
      "needs_background": "light"
     },
     "output_type": "display_data"
    }
   ],
   "source": [
    "male_df = cleaned_hours.loc[cleaned_hours['Gender']=='Male']\n",
    "y_axis1 = male_df['GAD_T']\n",
    "y_axis2 = male_df['SWL_T']\n",
    "y_axis3 = male_df['SPIN_T']\n",
    "x_axis  =  male_df['Hours']\n",
    "\n",
    "plt.scatter(x_axis, y_axis3, marker = 'o', color = 'lightpink', label ='SPIN')\n",
    "plt.scatter(x_axis, y_axis2, marker = 'o', color = 'lightsteelblue', label ='SWL')\n",
    "plt.scatter(x_axis, y_axis1, marker = 'o', color = 'lightblue', label ='GAD')\n",
    "plt.xlabel(\"Time of Gaming Hours per Week\")\n",
    "plt.ylabel(\"All Scores in the Survey\")\n",
    "plt.title(\"Scatter Plot for all Scores registered for Female in the Survey vs. Time Gaming\")\n",
    "plt.legend(loc = 'best')\n",
    "plt.legend(loc = 'best')\n",
    "plt.show()"
   ]
  },
  {
   "cell_type": "code",
   "execution_count": 36,
   "id": "5afecb98",
   "metadata": {},
   "outputs": [
    {
     "data": {
      "image/png": "[encoded data removed]",
      "text/plain": [
       "<Figure size 432x288 with 1 Axes>"
      ]
     },
     "metadata": {
      "needs_background": "light"
     },
     "output_type": "display_data"
    }
   ],
   "source": [
    "boxplot_data = [male_df['GAD_T'], \n",
    "                male_df['SWL_T'], \n",
    "                male_df['SPIN_T'], \n",
    "                male_df['Narcissism']]\n",
    "\n",
    "labels = ['GAD_T', 'SWL_T', 'SPIN_T', 'Narcissism']\n",
    "boxplot_data\n",
    "fig1, ax1 = plt.subplots()\n",
    "ax1.set_title(\"Total Survey Scores for Males\")\n",
    "ax1.set_ylabel(\"Total Test Score\")\n",
    "ax1.boxplot(boxplot_data, labels = labels, widths = 0.4, vert = True)\n",
    "plt.savefig('male_box.png')\n",
    "plt.show()\n"
   ]
  },
  {
   "cell_type": "code",
   "execution_count": 37,
   "id": "8db18bf5",
   "metadata": {},
   "outputs": [
    {
     "data": {
      "text/plain": [
       "7.785604900459418"
      ]
     },
     "execution_count": 37,
     "metadata": {},
     "output_type": "execute_result"
    }
   ],
   "source": [
    "avg_GAD_female = female_df['GAD_T'].mean() \n",
    "avg_GAD_female\n",
    "\n",
    "#                 female_df['SWL_T'], \n",
    "#                 female_df['SPIN_T'], \n",
    "#                 female_df['Narcissism']]"
   ]
  },
  {
   "cell_type": "code",
   "execution_count": 38,
   "id": "7c62f52c",
   "metadata": {},
   "outputs": [
    {
     "data": {
      "text/plain": [
       "5.293517844136926"
      ]
     },
     "execution_count": 38,
     "metadata": {},
     "output_type": "execute_result"
    }
   ],
   "source": [
    "avg_GAD_male = male_df['GAD_T'].mean() \n",
    "avg_GAD_male"
   ]
  },
  {
   "cell_type": "code",
   "execution_count": 39,
   "id": "4564449e",
   "metadata": {},
   "outputs": [
    {
     "data": {
      "text/plain": [
       "18.957120980091883"
      ]
     },
     "execution_count": 39,
     "metadata": {},
     "output_type": "execute_result"
    }
   ],
   "source": [
    "avr_time_female = female_df[\"Hours\"].mean()\n",
    "avr_time_female"
   ]
  },
  {
   "cell_type": "code",
   "execution_count": 40,
   "id": "0f51e2e1",
   "metadata": {},
   "outputs": [
    {
     "data": {
      "text/plain": [
       "21.646849963583396"
      ]
     },
     "execution_count": 40,
     "metadata": {},
     "output_type": "execute_result"
    }
   ],
   "source": [
    "avr_time_male = male_df[\"Hours\"].mean()\n",
    "avr_time_male"
   ]
  },
  {
   "cell_type": "code",
   "execution_count": 41,
   "id": "fc48ec61",
   "metadata": {},
   "outputs": [
    {
     "data": {
      "text/plain": [
       "Ttest_indResult(statistic=-4.660238212359869, pvalue=3.7608072070784035e-06)"
      ]
     },
     "execution_count": 41,
     "metadata": {},
     "output_type": "execute_result"
    }
   ],
   "source": [
    "stats.ttest_ind(female_df['Hours'], male_df['Hours'], equal_var=False)"
   ]
  },
  {
   "cell_type": "code",
   "execution_count": 42,
   "id": "31845ad3",
   "metadata": {},
   "outputs": [
    {
     "data": {
      "text/plain": [
       "Ttest_indResult(statistic=11.393656911704012, pvalue=9.98171395983701e-28)"
      ]
     },
     "execution_count": 42,
     "metadata": {},
     "output_type": "execute_result"
    }
   ],
   "source": [
    "stats.ttest_ind(female_df['GAD_T'], male_df['GAD_T'], equal_var=False)"
   ]
  },
  {
   "cell_type": "code",
   "execution_count": 43,
   "id": "1741cfc5",
   "metadata": {},
   "outputs": [
    {
     "data": {
      "text/plain": [
       "Ttest_indResult(statistic=-2.5851175095212975, pvalue=0.009928095984623487)"
      ]
     },
     "execution_count": 43,
     "metadata": {},
     "output_type": "execute_result"
    }
   ],
   "source": [
    "stats.ttest_ind(female_df['SWL_T'], male_df['SWL_T'], equal_var=False)"
   ]
  },
  {
   "cell_type": "code",
   "execution_count": 44,
   "id": "d168087a",
   "metadata": {},
   "outputs": [
    {
     "data": {
      "text/plain": [
       "Ttest_indResult(statistic=13.980076201685533, pvalue=2.0828464896966108e-39)"
      ]
     },
     "execution_count": 44,
     "metadata": {},
     "output_type": "execute_result"
    }
   ],
   "source": [
    "stats.ttest_ind(female_df['SPIN_T'], male_df['SPIN_T'], equal_var=False)"
   ]
  },
  {
   "cell_type": "code",
   "execution_count": 45,
   "id": "2c3f4a41",
   "metadata": {},
   "outputs": [
    {
     "data": {
      "text/html": [
       "<div>\n",
       "<style scoped>\n",
       "    .dataframe tbody tr th:only-of-type {\n",
       "        vertical-align: middle;\n",
       "    }\n",
       "\n",
       "    .dataframe tbody tr th {\n",
       "        vertical-align: top;\n",
       "    }\n",
       "\n",
       "    .dataframe thead th {\n",
       "        text-align: right;\n",
       "    }\n",
       "</style>\n",
       "<table border=\"1\" class=\"dataframe\">\n",
       "  <thead>\n",
       "    <tr style=\"text-align: right;\">\n",
       "      <th></th>\n",
       "      <th>Hours</th>\n",
       "      <th>GAD_T</th>\n",
       "    </tr>\n",
       "  </thead>\n",
       "  <tbody>\n",
       "    <tr>\n",
       "      <th>0</th>\n",
       "      <td>15</td>\n",
       "      <td>1</td>\n",
       "    </tr>\n",
       "    <tr>\n",
       "      <th>1</th>\n",
       "      <td>8</td>\n",
       "      <td>8</td>\n",
       "    </tr>\n",
       "    <tr>\n",
       "      <th>2</th>\n",
       "      <td>0</td>\n",
       "      <td>8</td>\n",
       "    </tr>\n",
       "    <tr>\n",
       "      <th>3</th>\n",
       "      <td>20</td>\n",
       "      <td>0</td>\n",
       "    </tr>\n",
       "    <tr>\n",
       "      <th>4</th>\n",
       "      <td>20</td>\n",
       "      <td>14</td>\n",
       "    </tr>\n",
       "    <tr>\n",
       "      <th>...</th>\n",
       "      <td>...</td>\n",
       "      <td>...</td>\n",
       "    </tr>\n",
       "    <tr>\n",
       "      <th>11677</th>\n",
       "      <td>40</td>\n",
       "      <td>4</td>\n",
       "    </tr>\n",
       "    <tr>\n",
       "      <th>11678</th>\n",
       "      <td>20</td>\n",
       "      <td>20</td>\n",
       "    </tr>\n",
       "    <tr>\n",
       "      <th>11679</th>\n",
       "      <td>20</td>\n",
       "      <td>0</td>\n",
       "    </tr>\n",
       "    <tr>\n",
       "      <th>11680</th>\n",
       "      <td>5</td>\n",
       "      <td>13</td>\n",
       "    </tr>\n",
       "    <tr>\n",
       "      <th>11681</th>\n",
       "      <td>15</td>\n",
       "      <td>2</td>\n",
       "    </tr>\n",
       "  </tbody>\n",
       "</table>\n",
       "<p>11680 rows × 2 columns</p>\n",
       "</div>"
      ],
      "text/plain": [
       "       Hours  GAD_T\n",
       "0         15      1\n",
       "1          8      8\n",
       "2          0      8\n",
       "3         20      0\n",
       "4         20     14\n",
       "...      ...    ...\n",
       "11677     40      4\n",
       "11678     20     20\n",
       "11679     20      0\n",
       "11680      5     13\n",
       "11681     15      2\n",
       "\n",
       "[11680 rows x 2 columns]"
      ]
     },
     "execution_count": 45,
     "metadata": {},
     "output_type": "execute_result"
    }
   ],
   "source": [
    "# bins for GAD: 0–4: minimal anxiety 5–9: mild anxiety 10–14: moderate anxiety 15–21: severe anxiety\n",
    "GAD_df = cleaned_hours[['Hours', 'GAD_T',]]\n",
    "GAD_df\n"
   ]
  },
  {
   "cell_type": "code",
   "execution_count": 46,
   "id": "a217053b",
   "metadata": {},
   "outputs": [
    {
     "name": "stderr",
     "output_type": "stream",
     "text": [
      "C:\\Users\\sarah\\anaconda3\\envs\\PythonData\\lib\\site-packages\\ipykernel_launcher.py:2: SettingWithCopyWarning: \n",
      "A value is trying to be set on a copy of a slice from a DataFrame.\n",
      "Try using .loc[row_indexer,col_indexer] = value instead\n",
      "\n",
      "See the caveats in the documentation: https://pandas.pydata.org/pandas-docs/stable/user_guide/indexing.html#returning-a-view-versus-a-copy\n",
      "  \n"
     ]
    },
    {
     "data": {
      "text/html": [
       "<div>\n",
       "<style scoped>\n",
       "    .dataframe tbody tr th:only-of-type {\n",
       "        vertical-align: middle;\n",
       "    }\n",
       "\n",
       "    .dataframe tbody tr th {\n",
       "        vertical-align: top;\n",
       "    }\n",
       "\n",
       "    .dataframe thead th {\n",
       "        text-align: right;\n",
       "    }\n",
       "</style>\n",
       "<table border=\"1\" class=\"dataframe\">\n",
       "  <thead>\n",
       "    <tr style=\"text-align: right;\">\n",
       "      <th></th>\n",
       "      <th>Hours</th>\n",
       "      <th>GAD_T</th>\n",
       "      <th>GAD_bin</th>\n",
       "    </tr>\n",
       "  </thead>\n",
       "  <tbody>\n",
       "    <tr>\n",
       "      <th>0</th>\n",
       "      <td>15</td>\n",
       "      <td>1</td>\n",
       "      <td></td>\n",
       "    </tr>\n",
       "    <tr>\n",
       "      <th>1</th>\n",
       "      <td>8</td>\n",
       "      <td>8</td>\n",
       "      <td></td>\n",
       "    </tr>\n",
       "    <tr>\n",
       "      <th>2</th>\n",
       "      <td>0</td>\n",
       "      <td>8</td>\n",
       "      <td></td>\n",
       "    </tr>\n",
       "    <tr>\n",
       "      <th>3</th>\n",
       "      <td>20</td>\n",
       "      <td>0</td>\n",
       "      <td></td>\n",
       "    </tr>\n",
       "    <tr>\n",
       "      <th>4</th>\n",
       "      <td>20</td>\n",
       "      <td>14</td>\n",
       "      <td></td>\n",
       "    </tr>\n",
       "    <tr>\n",
       "      <th>...</th>\n",
       "      <td>...</td>\n",
       "      <td>...</td>\n",
       "      <td>...</td>\n",
       "    </tr>\n",
       "    <tr>\n",
       "      <th>11677</th>\n",
       "      <td>40</td>\n",
       "      <td>4</td>\n",
       "      <td></td>\n",
       "    </tr>\n",
       "    <tr>\n",
       "      <th>11678</th>\n",
       "      <td>20</td>\n",
       "      <td>20</td>\n",
       "      <td></td>\n",
       "    </tr>\n",
       "    <tr>\n",
       "      <th>11679</th>\n",
       "      <td>20</td>\n",
       "      <td>0</td>\n",
       "      <td></td>\n",
       "    </tr>\n",
       "    <tr>\n",
       "      <th>11680</th>\n",
       "      <td>5</td>\n",
       "      <td>13</td>\n",
       "      <td></td>\n",
       "    </tr>\n",
       "    <tr>\n",
       "      <th>11681</th>\n",
       "      <td>15</td>\n",
       "      <td>2</td>\n",
       "      <td></td>\n",
       "    </tr>\n",
       "  </tbody>\n",
       "</table>\n",
       "<p>11680 rows × 3 columns</p>\n",
       "</div>"
      ],
      "text/plain": [
       "       Hours  GAD_T GAD_bin\n",
       "0         15      1        \n",
       "1          8      8        \n",
       "2          0      8        \n",
       "3         20      0        \n",
       "4         20     14        \n",
       "...      ...    ...     ...\n",
       "11677     40      4        \n",
       "11678     20     20        \n",
       "11679     20      0        \n",
       "11680      5     13        \n",
       "11681     15      2        \n",
       "\n",
       "[11680 rows x 3 columns]"
      ]
     },
     "execution_count": 46,
     "metadata": {},
     "output_type": "execute_result"
    }
   ],
   "source": [
    "#add new column to create bins for GAD score\n",
    "GAD_df[\"GAD_bin\"] = \" \"\n",
    "GAD_df"
   ]
  },
  {
   "cell_type": "code",
   "execution_count": 47,
   "id": "ce22e5b8",
   "metadata": {},
   "outputs": [
    {
     "name": "stderr",
     "output_type": "stream",
     "text": [
      "C:\\Users\\sarah\\anaconda3\\envs\\PythonData\\lib\\site-packages\\ipykernel_launcher.py:5: SettingWithCopyWarning: \n",
      "A value is trying to be set on a copy of a slice from a DataFrame.\n",
      "Try using .loc[row_indexer,col_indexer] = value instead\n",
      "\n",
      "See the caveats in the documentation: https://pandas.pydata.org/pandas-docs/stable/user_guide/indexing.html#returning-a-view-versus-a-copy\n",
      "  \"\"\"\n"
     ]
    },
    {
     "data": {
      "text/html": [
       "<div>\n",
       "<style scoped>\n",
       "    .dataframe tbody tr th:only-of-type {\n",
       "        vertical-align: middle;\n",
       "    }\n",
       "\n",
       "    .dataframe tbody tr th {\n",
       "        vertical-align: top;\n",
       "    }\n",
       "\n",
       "    .dataframe thead th {\n",
       "        text-align: right;\n",
       "    }\n",
       "</style>\n",
       "<table border=\"1\" class=\"dataframe\">\n",
       "  <thead>\n",
       "    <tr style=\"text-align: right;\">\n",
       "      <th></th>\n",
       "      <th>Hours</th>\n",
       "      <th>GAD_T</th>\n",
       "      <th>GAD_bin</th>\n",
       "    </tr>\n",
       "  </thead>\n",
       "  <tbody>\n",
       "    <tr>\n",
       "      <th>0</th>\n",
       "      <td>15</td>\n",
       "      <td>1</td>\n",
       "      <td>minimal anxiety</td>\n",
       "    </tr>\n",
       "    <tr>\n",
       "      <th>1</th>\n",
       "      <td>8</td>\n",
       "      <td>8</td>\n",
       "      <td>mild anxiety</td>\n",
       "    </tr>\n",
       "    <tr>\n",
       "      <th>2</th>\n",
       "      <td>0</td>\n",
       "      <td>8</td>\n",
       "      <td>mild anxiety</td>\n",
       "    </tr>\n",
       "    <tr>\n",
       "      <th>3</th>\n",
       "      <td>20</td>\n",
       "      <td>0</td>\n",
       "      <td>minimal anxiety</td>\n",
       "    </tr>\n",
       "    <tr>\n",
       "      <th>4</th>\n",
       "      <td>20</td>\n",
       "      <td>14</td>\n",
       "      <td>moderate anxiety</td>\n",
       "    </tr>\n",
       "    <tr>\n",
       "      <th>...</th>\n",
       "      <td>...</td>\n",
       "      <td>...</td>\n",
       "      <td>...</td>\n",
       "    </tr>\n",
       "    <tr>\n",
       "      <th>11677</th>\n",
       "      <td>40</td>\n",
       "      <td>4</td>\n",
       "      <td>minimal anxiety</td>\n",
       "    </tr>\n",
       "    <tr>\n",
       "      <th>11678</th>\n",
       "      <td>20</td>\n",
       "      <td>20</td>\n",
       "      <td>severe anxiety</td>\n",
       "    </tr>\n",
       "    <tr>\n",
       "      <th>11679</th>\n",
       "      <td>20</td>\n",
       "      <td>0</td>\n",
       "      <td>minimal anxiety</td>\n",
       "    </tr>\n",
       "    <tr>\n",
       "      <th>11680</th>\n",
       "      <td>5</td>\n",
       "      <td>13</td>\n",
       "      <td>moderate anxiety</td>\n",
       "    </tr>\n",
       "    <tr>\n",
       "      <th>11681</th>\n",
       "      <td>15</td>\n",
       "      <td>2</td>\n",
       "      <td>minimal anxiety</td>\n",
       "    </tr>\n",
       "  </tbody>\n",
       "</table>\n",
       "<p>11680 rows × 3 columns</p>\n",
       "</div>"
      ],
      "text/plain": [
       "       Hours  GAD_T           GAD_bin\n",
       "0         15      1   minimal anxiety\n",
       "1          8      8      mild anxiety\n",
       "2          0      8      mild anxiety\n",
       "3         20      0   minimal anxiety\n",
       "4         20     14  moderate anxiety\n",
       "...      ...    ...               ...\n",
       "11677     40      4   minimal anxiety\n",
       "11678     20     20    severe anxiety\n",
       "11679     20      0   minimal anxiety\n",
       "11680      5     13  moderate anxiety\n",
       "11681     15      2   minimal anxiety\n",
       "\n",
       "[11680 rows x 3 columns]"
      ]
     },
     "execution_count": 47,
     "metadata": {},
     "output_type": "execute_result"
    }
   ],
   "source": [
    "GAD_df['GAD_bin'] = pd.cut(GAD_df['GAD_T'],\n",
    "                             bins=[0, 5, 10, 15, 21],\n",
    "                             labels=['minimal anxiety', 'mild anxiety', 'moderate anxiety',\n",
    "                                     'severe anxiety'],\n",
    "                             right=False)\n",
    "GAD_df"
   ]
  },
  {
   "cell_type": "code",
   "execution_count": 48,
   "id": "4d3cb991",
   "metadata": {
    "scrolled": true
   },
   "outputs": [
    {
     "data": {
      "image/png": "[encoded data removed]",
      "text/plain": [
       "<Figure size 432x288 with 1 Axes>"
      ]
     },
     "metadata": {
      "needs_background": "light"
     },
     "output_type": "display_data"
    }
   ],
   "source": [
    "bar_plot_GAD = GAD_df['GAD_bin'].value_counts().plot(kind = \"bar\",width = 0.65, color = 'lightpink')\n",
    "\n",
    "bar_plot_GAD.set_ylabel(\"Number of Participant\")\n",
    "bar_plot_GAD.set_title(\"Distribution of GAD Scores\")\n",
    "plt.savefig('GAD_bar_bins.pdf', bbox_inches='tight')\n",
    "\n",
    "plt.show()"
   ]
  },
  {
   "cell_type": "code",
   "execution_count": 49,
   "id": "035bf1e1",
   "metadata": {},
   "outputs": [
    {
     "name": "stderr",
     "output_type": "stream",
     "text": [
      "C:\\Users\\sarah\\anaconda3\\envs\\PythonData\\lib\\site-packages\\ipykernel_launcher.py:3: SettingWithCopyWarning: \n",
      "A value is trying to be set on a copy of a slice from a DataFrame.\n",
      "Try using .loc[row_indexer,col_indexer] = value instead\n",
      "\n",
      "See the caveats in the documentation: https://pandas.pydata.org/pandas-docs/stable/user_guide/indexing.html#returning-a-view-versus-a-copy\n",
      "  This is separate from the ipykernel package so we can avoid doing imports until\n",
      "C:\\Users\\sarah\\anaconda3\\envs\\PythonData\\lib\\site-packages\\ipykernel_launcher.py:10: SettingWithCopyWarning: \n",
      "A value is trying to be set on a copy of a slice from a DataFrame.\n",
      "Try using .loc[row_indexer,col_indexer] = value instead\n",
      "\n",
      "See the caveats in the documentation: https://pandas.pydata.org/pandas-docs/stable/user_guide/indexing.html#returning-a-view-versus-a-copy\n",
      "  # Remove the CWD from sys.path while we load stuff.\n"
     ]
    },
    {
     "data": {
      "text/html": [
       "<div>\n",
       "<style scoped>\n",
       "    .dataframe tbody tr th:only-of-type {\n",
       "        vertical-align: middle;\n",
       "    }\n",
       "\n",
       "    .dataframe tbody tr th {\n",
       "        vertical-align: top;\n",
       "    }\n",
       "\n",
       "    .dataframe thead th {\n",
       "        text-align: right;\n",
       "    }\n",
       "</style>\n",
       "<table border=\"1\" class=\"dataframe\">\n",
       "  <thead>\n",
       "    <tr style=\"text-align: right;\">\n",
       "      <th></th>\n",
       "      <th>Hours</th>\n",
       "      <th>SWL_T</th>\n",
       "      <th>SWL_bin</th>\n",
       "    </tr>\n",
       "  </thead>\n",
       "  <tbody>\n",
       "    <tr>\n",
       "      <th>0</th>\n",
       "      <td>15</td>\n",
       "      <td>23</td>\n",
       "      <td>Slightly satisfied</td>\n",
       "    </tr>\n",
       "    <tr>\n",
       "      <th>1</th>\n",
       "      <td>8</td>\n",
       "      <td>16</td>\n",
       "      <td>Neutral</td>\n",
       "    </tr>\n",
       "    <tr>\n",
       "      <th>2</th>\n",
       "      <td>0</td>\n",
       "      <td>17</td>\n",
       "      <td>Neutral</td>\n",
       "    </tr>\n",
       "    <tr>\n",
       "      <th>3</th>\n",
       "      <td>20</td>\n",
       "      <td>17</td>\n",
       "      <td>Neutral</td>\n",
       "    </tr>\n",
       "    <tr>\n",
       "      <th>4</th>\n",
       "      <td>20</td>\n",
       "      <td>14</td>\n",
       "      <td>Slightly dissatisfied</td>\n",
       "    </tr>\n",
       "    <tr>\n",
       "      <th>...</th>\n",
       "      <td>...</td>\n",
       "      <td>...</td>\n",
       "      <td>...</td>\n",
       "    </tr>\n",
       "    <tr>\n",
       "      <th>11677</th>\n",
       "      <td>40</td>\n",
       "      <td>28</td>\n",
       "      <td>Satisfied</td>\n",
       "    </tr>\n",
       "    <tr>\n",
       "      <th>11678</th>\n",
       "      <td>20</td>\n",
       "      <td>23</td>\n",
       "      <td>Slightly satisfied</td>\n",
       "    </tr>\n",
       "    <tr>\n",
       "      <th>11679</th>\n",
       "      <td>20</td>\n",
       "      <td>32</td>\n",
       "      <td>Extremely satisfied</td>\n",
       "    </tr>\n",
       "    <tr>\n",
       "      <th>11680</th>\n",
       "      <td>5</td>\n",
       "      <td>16</td>\n",
       "      <td>Neutral</td>\n",
       "    </tr>\n",
       "    <tr>\n",
       "      <th>11681</th>\n",
       "      <td>15</td>\n",
       "      <td>25</td>\n",
       "      <td>Satisfied</td>\n",
       "    </tr>\n",
       "  </tbody>\n",
       "</table>\n",
       "<p>11680 rows × 3 columns</p>\n",
       "</div>"
      ],
      "text/plain": [
       "       Hours  SWL_T                SWL_bin\n",
       "0         15     23     Slightly satisfied\n",
       "1          8     16                Neutral\n",
       "2          0     17                Neutral\n",
       "3         20     17                Neutral\n",
       "4         20     14  Slightly dissatisfied\n",
       "...      ...    ...                    ...\n",
       "11677     40     28              Satisfied\n",
       "11678     20     23     Slightly satisfied\n",
       "11679     20     32    Extremely satisfied\n",
       "11680      5     16                Neutral\n",
       "11681     15     25              Satisfied\n",
       "\n",
       "[11680 rows x 3 columns]"
      ]
     },
     "execution_count": 49,
     "metadata": {},
     "output_type": "execute_result"
    }
   ],
   "source": [
    "# bins of survey results for SWL:\n",
    "SWL_df = cleaned_hours[['Hours', 'SWL_T',]]\n",
    "SWL_df['SWL_bin'] = ''\n",
    "#assing the bins: 31 - 35 Extremely satisfied, 26-30 Satisfied, 21 - 25 Slightly satisfied , 20 Neutral, 15-19 Slightly dissatisfied, \n",
    "# 10-14 Dissatisfied, 5-9 Extremely dissatisfied\n",
    "SWL_df['SWL_bin'] = pd.cut(SWL_df['SWL_T'],\n",
    "                             bins=[0, 5, 10, 15, 20, 25, 30, 35],\n",
    "                             labels=['Extremely dissatisfied', 'Dissatisfied', 'Slightly dissatisfied',\n",
    "                                     'Neutral', 'Slightly satisfied', 'Satisfied', 'Extremely satisfied'],\n",
    "                             right=False)\n",
    "SWL_df"
   ]
  },
  {
   "cell_type": "code",
   "execution_count": 50,
   "id": "d6d0c74d",
   "metadata": {},
   "outputs": [
    {
     "data": {
      "image/png": "[encoded data removed]",
      "text/plain": [
       "<Figure size 432x288 with 1 Axes>"
      ]
     },
     "metadata": {
      "needs_background": "light"
     },
     "output_type": "display_data"
    }
   ],
   "source": [
    "bar_plot_SWL = SWL_df['SWL_bin'].value_counts().plot(kind = \"bar\",width = 0.65, color = 'lightsteelblue')\n",
    "bar_plot_SWL.set_ylabel(\"Number of Participant\")\n",
    "bar_plot_SWL.set_title(\"Distribution of SWL Scores\")\n",
    "plt.savefig('SWL_bar_bins.pdf', bbox_inches='tight')\n",
    "plt.show()"
   ]
  },
  {
   "cell_type": "code",
   "execution_count": 51,
   "id": "5cc8a1e1",
   "metadata": {},
   "outputs": [
    {
     "name": "stderr",
     "output_type": "stream",
     "text": [
      "C:\\Users\\sarah\\anaconda3\\envs\\PythonData\\lib\\site-packages\\ipykernel_launcher.py:3: SettingWithCopyWarning: \n",
      "A value is trying to be set on a copy of a slice from a DataFrame.\n",
      "Try using .loc[row_indexer,col_indexer] = value instead\n",
      "\n",
      "See the caveats in the documentation: https://pandas.pydata.org/pandas-docs/stable/user_guide/indexing.html#returning-a-view-versus-a-copy\n",
      "  This is separate from the ipykernel package so we can avoid doing imports until\n",
      "C:\\Users\\sarah\\anaconda3\\envs\\PythonData\\lib\\site-packages\\ipykernel_launcher.py:10: SettingWithCopyWarning: \n",
      "A value is trying to be set on a copy of a slice from a DataFrame.\n",
      "Try using .loc[row_indexer,col_indexer] = value instead\n",
      "\n",
      "See the caveats in the documentation: https://pandas.pydata.org/pandas-docs/stable/user_guide/indexing.html#returning-a-view-versus-a-copy\n",
      "  # Remove the CWD from sys.path while we load stuff.\n"
     ]
    },
    {
     "data": {
      "text/html": [
       "<div>\n",
       "<style scoped>\n",
       "    .dataframe tbody tr th:only-of-type {\n",
       "        vertical-align: middle;\n",
       "    }\n",
       "\n",
       "    .dataframe tbody tr th {\n",
       "        vertical-align: top;\n",
       "    }\n",
       "\n",
       "    .dataframe thead th {\n",
       "        text-align: right;\n",
       "    }\n",
       "</style>\n",
       "<table border=\"1\" class=\"dataframe\">\n",
       "  <thead>\n",
       "    <tr style=\"text-align: right;\">\n",
       "      <th></th>\n",
       "      <th>Hours</th>\n",
       "      <th>SPIN_T</th>\n",
       "      <th>SPIN_bin</th>\n",
       "    </tr>\n",
       "  </thead>\n",
       "  <tbody>\n",
       "    <tr>\n",
       "      <th>0</th>\n",
       "      <td>15</td>\n",
       "      <td>5</td>\n",
       "      <td>None</td>\n",
       "    </tr>\n",
       "    <tr>\n",
       "      <th>1</th>\n",
       "      <td>8</td>\n",
       "      <td>33</td>\n",
       "      <td>Moderate</td>\n",
       "    </tr>\n",
       "    <tr>\n",
       "      <th>2</th>\n",
       "      <td>0</td>\n",
       "      <td>31</td>\n",
       "      <td>Moderate</td>\n",
       "    </tr>\n",
       "    <tr>\n",
       "      <th>3</th>\n",
       "      <td>20</td>\n",
       "      <td>11</td>\n",
       "      <td>None</td>\n",
       "    </tr>\n",
       "    <tr>\n",
       "      <th>4</th>\n",
       "      <td>20</td>\n",
       "      <td>13</td>\n",
       "      <td>None</td>\n",
       "    </tr>\n",
       "    <tr>\n",
       "      <th>...</th>\n",
       "      <td>...</td>\n",
       "      <td>...</td>\n",
       "      <td>...</td>\n",
       "    </tr>\n",
       "    <tr>\n",
       "      <th>11677</th>\n",
       "      <td>40</td>\n",
       "      <td>7</td>\n",
       "      <td>None</td>\n",
       "    </tr>\n",
       "    <tr>\n",
       "      <th>11678</th>\n",
       "      <td>20</td>\n",
       "      <td>25</td>\n",
       "      <td>Mild</td>\n",
       "    </tr>\n",
       "    <tr>\n",
       "      <th>11679</th>\n",
       "      <td>20</td>\n",
       "      <td>10</td>\n",
       "      <td>None</td>\n",
       "    </tr>\n",
       "    <tr>\n",
       "      <th>11680</th>\n",
       "      <td>5</td>\n",
       "      <td>32</td>\n",
       "      <td>Moderate</td>\n",
       "    </tr>\n",
       "    <tr>\n",
       "      <th>11681</th>\n",
       "      <td>15</td>\n",
       "      <td>14</td>\n",
       "      <td>None</td>\n",
       "    </tr>\n",
       "  </tbody>\n",
       "</table>\n",
       "<p>11680 rows × 3 columns</p>\n",
       "</div>"
      ],
      "text/plain": [
       "       Hours  SPIN_T  SPIN_bin\n",
       "0         15       5      None\n",
       "1          8      33  Moderate\n",
       "2          0      31  Moderate\n",
       "3         20      11      None\n",
       "4         20      13      None\n",
       "...      ...     ...       ...\n",
       "11677     40       7      None\n",
       "11678     20      25      Mild\n",
       "11679     20      10      None\n",
       "11680      5      32  Moderate\n",
       "11681     15      14      None\n",
       "\n",
       "[11680 rows x 3 columns]"
      ]
     },
     "execution_count": 51,
     "metadata": {},
     "output_type": "execute_result"
    }
   ],
   "source": [
    "# bins of survey results for SWL:\n",
    "SPIN_df = cleaned_hours[['Hours', 'SPIN_T',]]\n",
    "SPIN_df['SPIN_bin'] = ''\n",
    "#SPIN_df['SPIN_T'].max()\n",
    "# assign the bins for Severity of Social Phobia: <20 None, 21-30 Mild, 31-40 Moderate, 41-50 Severe, >51 Very Severe\n",
    "SPIN_df['SPIN_bin'] = pd.cut(SPIN_df['SPIN_T'],\n",
    "                             bins=[0, 20, 30, 40, 50, 68],\n",
    "                             labels=['None', 'Mild', 'Moderate',\n",
    "                                     'Severe', 'Very Severe'],\n",
    "                             right=False)\n",
    "SPIN_df"
   ]
  },
  {
   "cell_type": "code",
   "execution_count": 52,
   "id": "696be88b",
   "metadata": {},
   "outputs": [
    {
     "data": {
      "image/png": "[encoded data removed]",
      "text/plain": [
       "<Figure size 432x288 with 1 Axes>"
      ]
     },
     "metadata": {
      "needs_background": "light"
     },
     "output_type": "display_data"
    }
   ],
   "source": [
    "bar_plot_SPIN = SPIN_df['SPIN_bin'].value_counts().plot(kind = \"bar\",width = 0.65, color = 'lightblue')\n",
    "bar_plot_SPIN.set_ylabel(\"Number of Participant\")\n",
    "bar_plot_SPIN.set_xlabel(\"Severity of Social Phobia\")\n",
    "bar_plot_SPIN.set_title(\"Distribution of SPIN Scores\")\n",
    "plt.savefig('SPIN_bar_bins.pdf', bbox_inches='tight')\n",
    "plt.show()"
   ]
  },
  {
   "cell_type": "code",
   "execution_count": 53,
   "id": "aa29a48d",
   "metadata": {},
   "outputs": [
    {
     "data": {
      "image/png": "[encoded data removed]",
      "text/plain": [
       "<Figure size 432x288 with 1 Axes>"
      ]
     },
     "metadata": {},
     "output_type": "display_data"
    }
   ],
   "source": [
    "SPIN_pie = cleaned_hours['Gender'].value_counts()\n",
    "SPIN_pie\n",
    "explode = (0, 0.1, 0)\n",
    "plt.pie(SPIN_pie, labels= ('Male', 'Female', 'Other'),explode =explode, colors=(\"lightblue\", \"lightpink\", \"grey\"), autopct=\"%1.1f%%\", shadow=True, startangle=90)\n",
    "plt.title(\"Distribution of Female vs. Male Participants\")\n",
    "plt.savefig('pie_chart_gender.png', bbox_inches='tight')\n",
    "#don't like this at all will remove this part"
   ]
  },
  {
   "cell_type": "code",
   "execution_count": 54,
   "id": "fbc03702",
   "metadata": {},
   "outputs": [
    {
     "data": {
      "image/png": "[encoded data removed]",
      "text/plain": [
       "<Figure size 432x288 with 1 Axes>"
      ]
     },
     "metadata": {
      "needs_background": "light"
     },
     "output_type": "display_data"
    }
   ],
   "source": [
    "# time spent playing vs. age\n",
    "cleaned_hours.columns\n",
    "x_axis = cleaned_hours['Hours']\n",
    "y_axis = cleaned_hours['Age']\n",
    "\n",
    "\n",
    "plt.scatter(x_axis, y_axis, marker = 'o', color = 'lightblue', label ='SPIN')\n",
    "plt.ylim(15,60)\n",
    "plt.show()\n"
   ]
  },
  {
   "cell_type": "code",
   "execution_count": 55,
   "id": "d8668d7b",
   "metadata": {},
   "outputs": [
    {
     "data": {
      "image/png": "[encoded data removed]",
      "text/plain": [
       "<Figure size 432x288 with 1 Axes>"
      ]
     },
     "metadata": {
      "needs_background": "light"
     },
     "output_type": "display_data"
    }
   ],
   "source": [
    "cleaned_hours.columns\n",
    "y_axis1 = cleaned_hours['GAD_T']\n",
    "y_axis2 = cleaned_hours['SWL_T']\n",
    "y_axis3 = cleaned_hours['SPIN_T']\n",
    "x_axis = cleaned_hours['Age']\n",
    "\n",
    "plt.scatter(x_axis, y_axis3, marker = 'o', color = 'lightpink', label ='SPIN')\n",
    "plt.scatter(x_axis, y_axis1, marker = 'o', color = 'lightblue', label ='GAD')\n",
    "plt.scatter(x_axis, y_axis2, marker = 'o', color = 'lightsteelblue', label ='SWL')\n",
    "plt.legend(loc = 'best')\n",
    "\n",
    "plt.show()"
   ]
  },
  {
   "cell_type": "code",
   "execution_count": 52,
   "id": "f228c6fe",
   "metadata": {},
   "outputs": [
    {
     "data": {
      "image/png": "[encoded data removed]",
      "text/plain": [
       "<Figure size 432x288 with 1 Axes>"
      ]
     },
     "metadata": {
      "needs_background": "light"
     },
     "output_type": "display_data"
    }
   ],
   "source": [
    "cleaned_hours.columns\n",
    "y_axis1 = cleaned_hours['GAD_T']\n",
    "x_axis = cleaned_hours['Age']\n",
    "\n",
    "\n",
    "plt.scatter(x_axis, y_axis1, marker = 'o', color = 'lightblue', label ='GAD')\n",
    "plt.legend(loc = 'best')\n",
    "plt.savefig('ages.pdf')\n",
    "plt.show()\n"
   ]
  },
  {
   "cell_type": "code",
   "execution_count": null,
   "id": "2beef0bb",
   "metadata": {},
   "outputs": [],
   "source": [
    "#finishing this by seperating\n",
    "# reg line\n",
    "# t test and anova"
   ]
  }
 ],
 "metadata": {
  "kernelspec": {
   "display_name": "Python 3",
   "language": "python",
   "name": "python3"
  },
  "language_info": {
   "codemirror_mode": {
    "name": "ipython",
    "version": 3
   },
   "file_extension": ".py",
   "mimetype": "text/x-python",
   "name": "python",
   "nbconvert_exporter": "python",
   "pygments_lexer": "ipython3",
   "version": "3.6.10"
  }
 },
 "nbformat": 4,
 "nbformat_minor": 5
}
