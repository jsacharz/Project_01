{
 "cells": [
  {
   "cell_type": "code",
   "execution_count": 38,
   "metadata": {},
   "outputs": [],
   "source": [
    "# %matplotlib notebook\n"
   ]
  },
  {
   "cell_type": "code",
   "execution_count": 85,
   "metadata": {},
   "outputs": [],
   "source": [
    "#Import Required Dependencies\n",
    "\n",
    "import pandas as pd\n",
    "import numpy as np\n",
    "import os\n",
    "import scipy.stats as stats\n",
    "import re\n",
    "import matplotlib.pyplot as plt\n",
    "import numpy as np \n",
    "from scipy.stats import linregress\n",
    "from scipy import stats as st\n"
   ]
  },
  {
   "cell_type": "code",
   "execution_count": 86,
   "metadata": {},
   "outputs": [
    {
     "data": {
      "text/html": [
       "<div>\n",
       "<style scoped>\n",
       "    .dataframe tbody tr th:only-of-type {\n",
       "        vertical-align: middle;\n",
       "    }\n",
       "\n",
       "    .dataframe tbody tr th {\n",
       "        vertical-align: top;\n",
       "    }\n",
       "\n",
       "    .dataframe thead th {\n",
       "        text-align: right;\n",
       "    }\n",
       "</style>\n",
       "<table border=\"1\" class=\"dataframe\">\n",
       "  <thead>\n",
       "    <tr style=\"text-align: right;\">\n",
       "      <th></th>\n",
       "      <th>S. No.</th>\n",
       "      <th>Timestamp</th>\n",
       "      <th>GADE</th>\n",
       "      <th>Game</th>\n",
       "      <th>Platform</th>\n",
       "      <th>Hours</th>\n",
       "      <th>earnings</th>\n",
       "      <th>whyplay</th>\n",
       "      <th>League</th>\n",
       "      <th>streams</th>\n",
       "      <th>...</th>\n",
       "      <th>Degree</th>\n",
       "      <th>Birthplace</th>\n",
       "      <th>Residence</th>\n",
       "      <th>Playstyle</th>\n",
       "      <th>accept</th>\n",
       "      <th>GAD_T</th>\n",
       "      <th>SWL_T</th>\n",
       "      <th>SPIN_T</th>\n",
       "      <th>Residence_ISO3</th>\n",
       "      <th>Birthplace_ISO3</th>\n",
       "    </tr>\n",
       "  </thead>\n",
       "  <tbody>\n",
       "    <tr>\n",
       "      <th>0</th>\n",
       "      <td>1</td>\n",
       "      <td>42052.00437</td>\n",
       "      <td>Both Singleplayer and Multiplayer</td>\n",
       "      <td>Skyrim</td>\n",
       "      <td>Console (PS, Xbox, ...)</td>\n",
       "      <td>15</td>\n",
       "      <td>I play for fun</td>\n",
       "      <td>having fun</td>\n",
       "      <td>Unranked</td>\n",
       "      <td>0</td>\n",
       "      <td>...</td>\n",
       "      <td>Bachelor (or equivalent)</td>\n",
       "      <td>USA</td>\n",
       "      <td>USA</td>\n",
       "      <td>Singleplayer</td>\n",
       "      <td>Accept</td>\n",
       "      <td>1</td>\n",
       "      <td>23</td>\n",
       "      <td>5</td>\n",
       "      <td>USA</td>\n",
       "      <td>USA</td>\n",
       "    </tr>\n",
       "    <tr>\n",
       "      <th>1</th>\n",
       "      <td>2</td>\n",
       "      <td>42052.00680</td>\n",
       "      <td>Somewhat difficult</td>\n",
       "      <td>Other</td>\n",
       "      <td>PC</td>\n",
       "      <td>8</td>\n",
       "      <td>I play for fun</td>\n",
       "      <td>having fun</td>\n",
       "      <td>Unranked</td>\n",
       "      <td>2</td>\n",
       "      <td>...</td>\n",
       "      <td>Bachelor (or equivalent)</td>\n",
       "      <td>USA</td>\n",
       "      <td>USA</td>\n",
       "      <td>Multiplayer</td>\n",
       "      <td>Accept</td>\n",
       "      <td>8</td>\n",
       "      <td>16</td>\n",
       "      <td>33</td>\n",
       "      <td>USA</td>\n",
       "      <td>USA</td>\n",
       "    </tr>\n",
       "    <tr>\n",
       "      <th>2</th>\n",
       "      <td>3</td>\n",
       "      <td>42052.03860</td>\n",
       "      <td>Both Singleplayer and Multiplayer</td>\n",
       "      <td>Other</td>\n",
       "      <td>PC</td>\n",
       "      <td>0</td>\n",
       "      <td>I play for fun</td>\n",
       "      <td>having fun</td>\n",
       "      <td>Unranked</td>\n",
       "      <td>0</td>\n",
       "      <td>...</td>\n",
       "      <td>Bachelor (or equivalent)</td>\n",
       "      <td>Germany</td>\n",
       "      <td>Germany</td>\n",
       "      <td>Singleplayer</td>\n",
       "      <td>Accept</td>\n",
       "      <td>8</td>\n",
       "      <td>17</td>\n",
       "      <td>31</td>\n",
       "      <td>DEU</td>\n",
       "      <td>DEU</td>\n",
       "    </tr>\n",
       "    <tr>\n",
       "      <th>3</th>\n",
       "      <td>4</td>\n",
       "      <td>42052.06804</td>\n",
       "      <td>Both Singleplayer and Multiplayer</td>\n",
       "      <td>Other</td>\n",
       "      <td>PC</td>\n",
       "      <td>20</td>\n",
       "      <td>I play for fun</td>\n",
       "      <td>improving</td>\n",
       "      <td>Unranked</td>\n",
       "      <td>5</td>\n",
       "      <td>...</td>\n",
       "      <td>Bachelor (or equivalent)</td>\n",
       "      <td>USA</td>\n",
       "      <td>USA</td>\n",
       "      <td>Multiplayer</td>\n",
       "      <td>Accept</td>\n",
       "      <td>0</td>\n",
       "      <td>17</td>\n",
       "      <td>11</td>\n",
       "      <td>USA</td>\n",
       "      <td>USA</td>\n",
       "    </tr>\n",
       "    <tr>\n",
       "      <th>4</th>\n",
       "      <td>5</td>\n",
       "      <td>42052.08948</td>\n",
       "      <td>Very difficult</td>\n",
       "      <td>Other</td>\n",
       "      <td>Console (PS, Xbox, ...)</td>\n",
       "      <td>20</td>\n",
       "      <td>I play for fun</td>\n",
       "      <td>having fun</td>\n",
       "      <td>Unranked</td>\n",
       "      <td>1</td>\n",
       "      <td>...</td>\n",
       "      <td>High school diploma (or equivalent)</td>\n",
       "      <td>USA</td>\n",
       "      <td>South Korea</td>\n",
       "      <td>Multiplayer</td>\n",
       "      <td>Accept</td>\n",
       "      <td>14</td>\n",
       "      <td>14</td>\n",
       "      <td>13</td>\n",
       "      <td>KOR</td>\n",
       "      <td>USA</td>\n",
       "    </tr>\n",
       "    <tr>\n",
       "      <th>5</th>\n",
       "      <td>6</td>\n",
       "      <td>42052.13119</td>\n",
       "      <td>Both Singleplayer and Multiplayer</td>\n",
       "      <td>Other</td>\n",
       "      <td>Console (PS, Xbox, ...)</td>\n",
       "      <td>4</td>\n",
       "      <td>I play for fun</td>\n",
       "      <td>relaxing</td>\n",
       "      <td>Unranked</td>\n",
       "      <td>0</td>\n",
       "      <td>...</td>\n",
       "      <td>Bachelor (or equivalent)</td>\n",
       "      <td>USA</td>\n",
       "      <td>USA</td>\n",
       "      <td>Multiplayer</td>\n",
       "      <td>Accept</td>\n",
       "      <td>1</td>\n",
       "      <td>17</td>\n",
       "      <td>13</td>\n",
       "      <td>USA</td>\n",
       "      <td>USA</td>\n",
       "    </tr>\n",
       "    <tr>\n",
       "      <th>6</th>\n",
       "      <td>7</td>\n",
       "      <td>42052.14622</td>\n",
       "      <td>Both Singleplayer and Multiplayer</td>\n",
       "      <td>Other</td>\n",
       "      <td>PC</td>\n",
       "      <td>30</td>\n",
       "      <td>I play for fun</td>\n",
       "      <td>relaxing</td>\n",
       "      <td>Unranked</td>\n",
       "      <td>8</td>\n",
       "      <td>...</td>\n",
       "      <td>High school diploma (or equivalent)</td>\n",
       "      <td>USA</td>\n",
       "      <td>USA</td>\n",
       "      <td>Multiplayer</td>\n",
       "      <td>Accept</td>\n",
       "      <td>0</td>\n",
       "      <td>16</td>\n",
       "      <td>26</td>\n",
       "      <td>USA</td>\n",
       "      <td>USA</td>\n",
       "    </tr>\n",
       "    <tr>\n",
       "      <th>7</th>\n",
       "      <td>9</td>\n",
       "      <td>42052.19737</td>\n",
       "      <td>Very difficult</td>\n",
       "      <td>Other</td>\n",
       "      <td>Console (PS, Xbox, ...)</td>\n",
       "      <td>2</td>\n",
       "      <td>I play for fun</td>\n",
       "      <td>winning</td>\n",
       "      <td>Unranked</td>\n",
       "      <td>0</td>\n",
       "      <td>...</td>\n",
       "      <td>Bachelor (or equivalent)</td>\n",
       "      <td>USA</td>\n",
       "      <td>USA</td>\n",
       "      <td>Multiplayer</td>\n",
       "      <td>Accept</td>\n",
       "      <td>12</td>\n",
       "      <td>12</td>\n",
       "      <td>55</td>\n",
       "      <td>USA</td>\n",
       "      <td>USA</td>\n",
       "    </tr>\n",
       "    <tr>\n",
       "      <th>8</th>\n",
       "      <td>10</td>\n",
       "      <td>42052.22995</td>\n",
       "      <td>Somewhat difficult</td>\n",
       "      <td>World of Warcraft</td>\n",
       "      <td>PC</td>\n",
       "      <td>25</td>\n",
       "      <td>I play for fun</td>\n",
       "      <td>improving</td>\n",
       "      <td>Unranked</td>\n",
       "      <td>0</td>\n",
       "      <td>...</td>\n",
       "      <td>High school diploma (or equivalent)</td>\n",
       "      <td>Finland</td>\n",
       "      <td>Finland</td>\n",
       "      <td>Multiplayer</td>\n",
       "      <td>Accept</td>\n",
       "      <td>10</td>\n",
       "      <td>13</td>\n",
       "      <td>26</td>\n",
       "      <td>FIN</td>\n",
       "      <td>FIN</td>\n",
       "    </tr>\n",
       "    <tr>\n",
       "      <th>9</th>\n",
       "      <td>11</td>\n",
       "      <td>42052.24204</td>\n",
       "      <td>Somewhat difficult</td>\n",
       "      <td>Other</td>\n",
       "      <td>PC</td>\n",
       "      <td>14</td>\n",
       "      <td>I play for fun</td>\n",
       "      <td>having fun</td>\n",
       "      <td>Unranked</td>\n",
       "      <td>0</td>\n",
       "      <td>...</td>\n",
       "      <td>High school diploma (or equivalent)</td>\n",
       "      <td>USA</td>\n",
       "      <td>USA</td>\n",
       "      <td>Singleplayer</td>\n",
       "      <td>Accept</td>\n",
       "      <td>19</td>\n",
       "      <td>27</td>\n",
       "      <td>6</td>\n",
       "      <td>USA</td>\n",
       "      <td>USA</td>\n",
       "    </tr>\n",
       "  </tbody>\n",
       "</table>\n",
       "<p>10 rows × 24 columns</p>\n",
       "</div>"
      ],
      "text/plain": [
       "   S. No.    Timestamp                               GADE               Game  \\\n",
       "0       1  42052.00437  Both Singleplayer and Multiplayer             Skyrim   \n",
       "1       2  42052.00680                 Somewhat difficult              Other   \n",
       "2       3  42052.03860  Both Singleplayer and Multiplayer              Other   \n",
       "3       4  42052.06804  Both Singleplayer and Multiplayer              Other   \n",
       "4       5  42052.08948                     Very difficult              Other   \n",
       "5       6  42052.13119  Both Singleplayer and Multiplayer              Other   \n",
       "6       7  42052.14622  Both Singleplayer and Multiplayer              Other   \n",
       "7       9  42052.19737                     Very difficult              Other   \n",
       "8      10  42052.22995                 Somewhat difficult  World of Warcraft   \n",
       "9      11  42052.24204                 Somewhat difficult              Other   \n",
       "\n",
       "                  Platform  Hours        earnings     whyplay    League  \\\n",
       "0  Console (PS, Xbox, ...)     15  I play for fun  having fun  Unranked   \n",
       "1                       PC      8  I play for fun  having fun  Unranked   \n",
       "2                       PC      0  I play for fun  having fun  Unranked   \n",
       "3                       PC     20  I play for fun   improving  Unranked   \n",
       "4  Console (PS, Xbox, ...)     20  I play for fun  having fun  Unranked   \n",
       "5  Console (PS, Xbox, ...)      4  I play for fun    relaxing  Unranked   \n",
       "6                       PC     30  I play for fun    relaxing  Unranked   \n",
       "7  Console (PS, Xbox, ...)      2  I play for fun     winning  Unranked   \n",
       "8                       PC     25  I play for fun   improving  Unranked   \n",
       "9                       PC     14  I play for fun  having fun  Unranked   \n",
       "\n",
       "   streams  ...                               Degree Birthplace    Residence  \\\n",
       "0        0  ...             Bachelor (or equivalent)        USA          USA   \n",
       "1        2  ...             Bachelor (or equivalent)        USA          USA   \n",
       "2        0  ...             Bachelor (or equivalent)    Germany      Germany   \n",
       "3        5  ...             Bachelor (or equivalent)        USA          USA   \n",
       "4        1  ...  High school diploma (or equivalent)        USA  South Korea   \n",
       "5        0  ...             Bachelor (or equivalent)        USA          USA   \n",
       "6        8  ...  High school diploma (or equivalent)        USA          USA   \n",
       "7        0  ...             Bachelor (or equivalent)        USA          USA   \n",
       "8        0  ...  High school diploma (or equivalent)    Finland      Finland   \n",
       "9        0  ...  High school diploma (or equivalent)        USA          USA   \n",
       "\n",
       "      Playstyle  accept GAD_T SWL_T SPIN_T Residence_ISO3  Birthplace_ISO3  \n",
       "0  Singleplayer  Accept     1    23      5            USA              USA  \n",
       "1   Multiplayer  Accept     8    16     33            USA              USA  \n",
       "2  Singleplayer  Accept     8    17     31            DEU              DEU  \n",
       "3   Multiplayer  Accept     0    17     11            USA              USA  \n",
       "4   Multiplayer  Accept    14    14     13            KOR              USA  \n",
       "5   Multiplayer  Accept     1    17     13            USA              USA  \n",
       "6   Multiplayer  Accept     0    16     26            USA              USA  \n",
       "7   Multiplayer  Accept    12    12     55            USA              USA  \n",
       "8   Multiplayer  Accept    10    13     26            FIN              FIN  \n",
       "9  Singleplayer  Accept    19    27      6            USA              USA  \n",
       "\n",
       "[10 rows x 24 columns]"
      ]
     },
     "execution_count": 86,
     "metadata": {},
     "output_type": "execute_result"
    }
   ],
   "source": [
    "# Importing updated csv file \n",
    "\n",
    "cleaned_df = pd.read_csv(\"cleaned_data_js_sc_rg.csv\", encoding=\"ISO-8859-1\")\n",
    "\n",
    "cleaned_df.head(10)\n"
   ]
  },
  {
   "cell_type": "code",
   "execution_count": 87,
   "metadata": {},
   "outputs": [
    {
     "data": {
      "text/plain": [
       "160"
      ]
     },
     "execution_count": 87,
     "metadata": {},
     "output_type": "execute_result"
    }
   ],
   "source": [
    "# Cleaning inputs which are more than 168 to get accurate data (Column = Hours)\n",
    "\n",
    "cleaned_hours = cleaned_df[cleaned_df[\"Hours\"]<168]\n",
    "\n",
    "cleaned_hours.head()\n",
    "\n",
    "cleaned_hours[\"Hours\"].max()"
   ]
  },
  {
   "cell_type": "code",
   "execution_count": null,
   "metadata": {},
   "outputs": [],
   "source": [
    "# Cleaning inputs which are rewritten as Both Single player and Multiplayer (Column = whyplay)\n",
    "\n",
    "cleaned_hours = cleaned_hours[cleaned_hours[\"whyplay\"]!=\"Both Singleplayer and Multiplayer\"]\n",
    "\n",
    "cleaned_hours.head()"
   ]
  },
  {
   "cell_type": "code",
   "execution_count": 122,
   "metadata": {},
   "outputs": [
    {
     "data": {
      "text/html": [
       "<div>\n",
       "<style scoped>\n",
       "    .dataframe tbody tr th:only-of-type {\n",
       "        vertical-align: middle;\n",
       "    }\n",
       "\n",
       "    .dataframe tbody tr th {\n",
       "        vertical-align: top;\n",
       "    }\n",
       "\n",
       "    .dataframe thead th {\n",
       "        text-align: right;\n",
       "    }\n",
       "</style>\n",
       "<table border=\"1\" class=\"dataframe\">\n",
       "  <thead>\n",
       "    <tr style=\"text-align: right;\">\n",
       "      <th></th>\n",
       "      <th>S. No.</th>\n",
       "      <th>Timestamp</th>\n",
       "      <th>GADE</th>\n",
       "      <th>Game</th>\n",
       "      <th>Platform</th>\n",
       "      <th>Hours</th>\n",
       "      <th>earnings</th>\n",
       "      <th>whyplay</th>\n",
       "      <th>League</th>\n",
       "      <th>streams</th>\n",
       "      <th>...</th>\n",
       "      <th>Degree</th>\n",
       "      <th>Birthplace</th>\n",
       "      <th>Residence</th>\n",
       "      <th>Playstyle</th>\n",
       "      <th>accept</th>\n",
       "      <th>GAD_T</th>\n",
       "      <th>SWL_T</th>\n",
       "      <th>SPIN_T</th>\n",
       "      <th>Residence_ISO3</th>\n",
       "      <th>Birthplace_ISO3</th>\n",
       "    </tr>\n",
       "  </thead>\n",
       "  <tbody>\n",
       "    <tr>\n",
       "      <th>0</th>\n",
       "      <td>1</td>\n",
       "      <td>42052.00437</td>\n",
       "      <td>Both Singleplayer and Multiplayer</td>\n",
       "      <td>Skyrim</td>\n",
       "      <td>Console (PS, Xbox, ...)</td>\n",
       "      <td>15</td>\n",
       "      <td>I play for fun</td>\n",
       "      <td>having fun</td>\n",
       "      <td>Unranked</td>\n",
       "      <td>0</td>\n",
       "      <td>...</td>\n",
       "      <td>Bachelor (or equivalent)</td>\n",
       "      <td>USA</td>\n",
       "      <td>USA</td>\n",
       "      <td>Singleplayer</td>\n",
       "      <td>Accept</td>\n",
       "      <td>1</td>\n",
       "      <td>23</td>\n",
       "      <td>5</td>\n",
       "      <td>USA</td>\n",
       "      <td>USA</td>\n",
       "    </tr>\n",
       "    <tr>\n",
       "      <th>1</th>\n",
       "      <td>2</td>\n",
       "      <td>42052.00680</td>\n",
       "      <td>Somewhat difficult</td>\n",
       "      <td>Other</td>\n",
       "      <td>PC</td>\n",
       "      <td>8</td>\n",
       "      <td>I play for fun</td>\n",
       "      <td>having fun</td>\n",
       "      <td>Unranked</td>\n",
       "      <td>2</td>\n",
       "      <td>...</td>\n",
       "      <td>Bachelor (or equivalent)</td>\n",
       "      <td>USA</td>\n",
       "      <td>USA</td>\n",
       "      <td>Multiplayer</td>\n",
       "      <td>Accept</td>\n",
       "      <td>8</td>\n",
       "      <td>16</td>\n",
       "      <td>33</td>\n",
       "      <td>USA</td>\n",
       "      <td>USA</td>\n",
       "    </tr>\n",
       "    <tr>\n",
       "      <th>2</th>\n",
       "      <td>3</td>\n",
       "      <td>42052.03860</td>\n",
       "      <td>Both Singleplayer and Multiplayer</td>\n",
       "      <td>Other</td>\n",
       "      <td>PC</td>\n",
       "      <td>0</td>\n",
       "      <td>I play for fun</td>\n",
       "      <td>having fun</td>\n",
       "      <td>Unranked</td>\n",
       "      <td>0</td>\n",
       "      <td>...</td>\n",
       "      <td>Bachelor (or equivalent)</td>\n",
       "      <td>Germany</td>\n",
       "      <td>Germany</td>\n",
       "      <td>Singleplayer</td>\n",
       "      <td>Accept</td>\n",
       "      <td>8</td>\n",
       "      <td>17</td>\n",
       "      <td>31</td>\n",
       "      <td>DEU</td>\n",
       "      <td>DEU</td>\n",
       "    </tr>\n",
       "    <tr>\n",
       "      <th>3</th>\n",
       "      <td>4</td>\n",
       "      <td>42052.06804</td>\n",
       "      <td>Both Singleplayer and Multiplayer</td>\n",
       "      <td>Other</td>\n",
       "      <td>PC</td>\n",
       "      <td>20</td>\n",
       "      <td>I play for fun</td>\n",
       "      <td>improving</td>\n",
       "      <td>Unranked</td>\n",
       "      <td>5</td>\n",
       "      <td>...</td>\n",
       "      <td>Bachelor (or equivalent)</td>\n",
       "      <td>USA</td>\n",
       "      <td>USA</td>\n",
       "      <td>Multiplayer</td>\n",
       "      <td>Accept</td>\n",
       "      <td>0</td>\n",
       "      <td>17</td>\n",
       "      <td>11</td>\n",
       "      <td>USA</td>\n",
       "      <td>USA</td>\n",
       "    </tr>\n",
       "    <tr>\n",
       "      <th>4</th>\n",
       "      <td>5</td>\n",
       "      <td>42052.08948</td>\n",
       "      <td>Very difficult</td>\n",
       "      <td>Other</td>\n",
       "      <td>Console (PS, Xbox, ...)</td>\n",
       "      <td>20</td>\n",
       "      <td>I play for fun</td>\n",
       "      <td>having fun</td>\n",
       "      <td>Unranked</td>\n",
       "      <td>1</td>\n",
       "      <td>...</td>\n",
       "      <td>High school diploma (or equivalent)</td>\n",
       "      <td>USA</td>\n",
       "      <td>South Korea</td>\n",
       "      <td>Multiplayer</td>\n",
       "      <td>Accept</td>\n",
       "      <td>14</td>\n",
       "      <td>14</td>\n",
       "      <td>13</td>\n",
       "      <td>KOR</td>\n",
       "      <td>USA</td>\n",
       "    </tr>\n",
       "  </tbody>\n",
       "</table>\n",
       "<p>5 rows × 24 columns</p>\n",
       "</div>"
      ],
      "text/plain": [
       "   S. No.    Timestamp                               GADE    Game  \\\n",
       "0       1  42052.00437  Both Singleplayer and Multiplayer  Skyrim   \n",
       "1       2  42052.00680                 Somewhat difficult   Other   \n",
       "2       3  42052.03860  Both Singleplayer and Multiplayer   Other   \n",
       "3       4  42052.06804  Both Singleplayer and Multiplayer   Other   \n",
       "4       5  42052.08948                     Very difficult   Other   \n",
       "\n",
       "                  Platform  Hours        earnings     whyplay    League  \\\n",
       "0  Console (PS, Xbox, ...)     15  I play for fun  having fun  Unranked   \n",
       "1                       PC      8  I play for fun  having fun  Unranked   \n",
       "2                       PC      0  I play for fun  having fun  Unranked   \n",
       "3                       PC     20  I play for fun   improving  Unranked   \n",
       "4  Console (PS, Xbox, ...)     20  I play for fun  having fun  Unranked   \n",
       "\n",
       "   streams  ...                               Degree Birthplace    Residence  \\\n",
       "0        0  ...             Bachelor (or equivalent)        USA          USA   \n",
       "1        2  ...             Bachelor (or equivalent)        USA          USA   \n",
       "2        0  ...             Bachelor (or equivalent)    Germany      Germany   \n",
       "3        5  ...             Bachelor (or equivalent)        USA          USA   \n",
       "4        1  ...  High school diploma (or equivalent)        USA  South Korea   \n",
       "\n",
       "      Playstyle  accept GAD_T SWL_T SPIN_T Residence_ISO3  Birthplace_ISO3  \n",
       "0  Singleplayer  Accept     1    23      5            USA              USA  \n",
       "1   Multiplayer  Accept     8    16     33            USA              USA  \n",
       "2  Singleplayer  Accept     8    17     31            DEU              DEU  \n",
       "3   Multiplayer  Accept     0    17     11            USA              USA  \n",
       "4   Multiplayer  Accept    14    14     13            KOR              USA  \n",
       "\n",
       "[5 rows x 24 columns]"
      ]
     },
     "execution_count": 122,
     "metadata": {},
     "output_type": "execute_result"
    }
   ],
   "source": [
    "# Cleaning inputs which are rewritten as Both Single player and Multiplayer (Column = Degree)\n",
    "\n",
    "cleaned_hours = cleaned_hours[cleaned_hours[\"Degree\"]!=\"Both Singleplayer and Multiplayer\"]\n",
    "\n",
    "cleaned_hours.head()"
   ]
  },
  {
   "cell_type": "code",
   "execution_count": 123,
   "metadata": {},
   "outputs": [
    {
     "data": {
      "text/html": [
       "<div>\n",
       "<style scoped>\n",
       "    .dataframe tbody tr th:only-of-type {\n",
       "        vertical-align: middle;\n",
       "    }\n",
       "\n",
       "    .dataframe tbody tr th {\n",
       "        vertical-align: top;\n",
       "    }\n",
       "\n",
       "    .dataframe thead th {\n",
       "        text-align: right;\n",
       "    }\n",
       "</style>\n",
       "<table border=\"1\" class=\"dataframe\">\n",
       "  <thead>\n",
       "    <tr style=\"text-align: right;\">\n",
       "      <th></th>\n",
       "      <th>S. No.</th>\n",
       "      <th>Timestamp</th>\n",
       "      <th>GADE</th>\n",
       "      <th>Game</th>\n",
       "      <th>Platform</th>\n",
       "      <th>Hours</th>\n",
       "      <th>earnings</th>\n",
       "      <th>whyplay</th>\n",
       "      <th>League</th>\n",
       "      <th>streams</th>\n",
       "      <th>...</th>\n",
       "      <th>Degree</th>\n",
       "      <th>Birthplace</th>\n",
       "      <th>Residence</th>\n",
       "      <th>Playstyle</th>\n",
       "      <th>accept</th>\n",
       "      <th>GAD_T</th>\n",
       "      <th>SWL_T</th>\n",
       "      <th>SPIN_T</th>\n",
       "      <th>Residence_ISO3</th>\n",
       "      <th>Birthplace_ISO3</th>\n",
       "    </tr>\n",
       "  </thead>\n",
       "  <tbody>\n",
       "    <tr>\n",
       "      <th>0</th>\n",
       "      <td>1</td>\n",
       "      <td>42052.00437</td>\n",
       "      <td>Both Singleplayer and Multiplayer</td>\n",
       "      <td>Skyrim</td>\n",
       "      <td>Console (PS, Xbox, ...)</td>\n",
       "      <td>15</td>\n",
       "      <td>I play for fun</td>\n",
       "      <td>having fun</td>\n",
       "      <td>Unranked</td>\n",
       "      <td>0</td>\n",
       "      <td>...</td>\n",
       "      <td>Bachelor (or equivalent)</td>\n",
       "      <td>USA</td>\n",
       "      <td>USA</td>\n",
       "      <td>Singleplayer</td>\n",
       "      <td>Accept</td>\n",
       "      <td>1</td>\n",
       "      <td>23</td>\n",
       "      <td>5</td>\n",
       "      <td>USA</td>\n",
       "      <td>USA</td>\n",
       "    </tr>\n",
       "    <tr>\n",
       "      <th>1</th>\n",
       "      <td>2</td>\n",
       "      <td>42052.00680</td>\n",
       "      <td>Somewhat difficult</td>\n",
       "      <td>Other</td>\n",
       "      <td>PC</td>\n",
       "      <td>8</td>\n",
       "      <td>I play for fun</td>\n",
       "      <td>having fun</td>\n",
       "      <td>Unranked</td>\n",
       "      <td>2</td>\n",
       "      <td>...</td>\n",
       "      <td>Bachelor (or equivalent)</td>\n",
       "      <td>USA</td>\n",
       "      <td>USA</td>\n",
       "      <td>Multiplayer</td>\n",
       "      <td>Accept</td>\n",
       "      <td>8</td>\n",
       "      <td>16</td>\n",
       "      <td>33</td>\n",
       "      <td>USA</td>\n",
       "      <td>USA</td>\n",
       "    </tr>\n",
       "    <tr>\n",
       "      <th>2</th>\n",
       "      <td>3</td>\n",
       "      <td>42052.03860</td>\n",
       "      <td>Both Singleplayer and Multiplayer</td>\n",
       "      <td>Other</td>\n",
       "      <td>PC</td>\n",
       "      <td>0</td>\n",
       "      <td>I play for fun</td>\n",
       "      <td>having fun</td>\n",
       "      <td>Unranked</td>\n",
       "      <td>0</td>\n",
       "      <td>...</td>\n",
       "      <td>Bachelor (or equivalent)</td>\n",
       "      <td>Germany</td>\n",
       "      <td>Germany</td>\n",
       "      <td>Singleplayer</td>\n",
       "      <td>Accept</td>\n",
       "      <td>8</td>\n",
       "      <td>17</td>\n",
       "      <td>31</td>\n",
       "      <td>DEU</td>\n",
       "      <td>DEU</td>\n",
       "    </tr>\n",
       "    <tr>\n",
       "      <th>3</th>\n",
       "      <td>4</td>\n",
       "      <td>42052.06804</td>\n",
       "      <td>Both Singleplayer and Multiplayer</td>\n",
       "      <td>Other</td>\n",
       "      <td>PC</td>\n",
       "      <td>20</td>\n",
       "      <td>I play for fun</td>\n",
       "      <td>improving</td>\n",
       "      <td>Unranked</td>\n",
       "      <td>5</td>\n",
       "      <td>...</td>\n",
       "      <td>Bachelor (or equivalent)</td>\n",
       "      <td>USA</td>\n",
       "      <td>USA</td>\n",
       "      <td>Multiplayer</td>\n",
       "      <td>Accept</td>\n",
       "      <td>0</td>\n",
       "      <td>17</td>\n",
       "      <td>11</td>\n",
       "      <td>USA</td>\n",
       "      <td>USA</td>\n",
       "    </tr>\n",
       "    <tr>\n",
       "      <th>4</th>\n",
       "      <td>5</td>\n",
       "      <td>42052.08948</td>\n",
       "      <td>Very difficult</td>\n",
       "      <td>Other</td>\n",
       "      <td>Console (PS, Xbox, ...)</td>\n",
       "      <td>20</td>\n",
       "      <td>I play for fun</td>\n",
       "      <td>having fun</td>\n",
       "      <td>Unranked</td>\n",
       "      <td>1</td>\n",
       "      <td>...</td>\n",
       "      <td>High school diploma (or equivalent)</td>\n",
       "      <td>USA</td>\n",
       "      <td>South Korea</td>\n",
       "      <td>Multiplayer</td>\n",
       "      <td>Accept</td>\n",
       "      <td>14</td>\n",
       "      <td>14</td>\n",
       "      <td>13</td>\n",
       "      <td>KOR</td>\n",
       "      <td>USA</td>\n",
       "    </tr>\n",
       "  </tbody>\n",
       "</table>\n",
       "<p>5 rows × 24 columns</p>\n",
       "</div>"
      ],
      "text/plain": [
       "   S. No.    Timestamp                               GADE    Game  \\\n",
       "0       1  42052.00437  Both Singleplayer and Multiplayer  Skyrim   \n",
       "1       2  42052.00680                 Somewhat difficult   Other   \n",
       "2       3  42052.03860  Both Singleplayer and Multiplayer   Other   \n",
       "3       4  42052.06804  Both Singleplayer and Multiplayer   Other   \n",
       "4       5  42052.08948                     Very difficult   Other   \n",
       "\n",
       "                  Platform  Hours        earnings     whyplay    League  \\\n",
       "0  Console (PS, Xbox, ...)     15  I play for fun  having fun  Unranked   \n",
       "1                       PC      8  I play for fun  having fun  Unranked   \n",
       "2                       PC      0  I play for fun  having fun  Unranked   \n",
       "3                       PC     20  I play for fun   improving  Unranked   \n",
       "4  Console (PS, Xbox, ...)     20  I play for fun  having fun  Unranked   \n",
       "\n",
       "   streams  ...                               Degree Birthplace    Residence  \\\n",
       "0        0  ...             Bachelor (or equivalent)        USA          USA   \n",
       "1        2  ...             Bachelor (or equivalent)        USA          USA   \n",
       "2        0  ...             Bachelor (or equivalent)    Germany      Germany   \n",
       "3        5  ...             Bachelor (or equivalent)        USA          USA   \n",
       "4        1  ...  High school diploma (or equivalent)        USA  South Korea   \n",
       "\n",
       "      Playstyle  accept GAD_T SWL_T SPIN_T Residence_ISO3  Birthplace_ISO3  \n",
       "0  Singleplayer  Accept     1    23      5            USA              USA  \n",
       "1   Multiplayer  Accept     8    16     33            USA              USA  \n",
       "2  Singleplayer  Accept     8    17     31            DEU              DEU  \n",
       "3   Multiplayer  Accept     0    17     11            USA              USA  \n",
       "4   Multiplayer  Accept    14    14     13            KOR              USA  \n",
       "\n",
       "[5 rows x 24 columns]"
      ]
     },
     "execution_count": 123,
     "metadata": {},
     "output_type": "execute_result"
    }
   ],
   "source": [
    "# Cleaning inputs which are rewritten as Both Single player and Multiplayer (Column = Platform)\n",
    "\n",
    "cleaned_hours = cleaned_hours[cleaned_hours[\"Platform\"]!=\"Both Singleplayer and Multiplayer\"]\n",
    "\n",
    "cleaned_hours.head()"
   ]
  },
  {
   "cell_type": "code",
   "execution_count": 124,
   "metadata": {},
   "outputs": [
    {
     "data": {
      "text/html": [
       "<div>\n",
       "<style scoped>\n",
       "    .dataframe tbody tr th:only-of-type {\n",
       "        vertical-align: middle;\n",
       "    }\n",
       "\n",
       "    .dataframe tbody tr th {\n",
       "        vertical-align: top;\n",
       "    }\n",
       "\n",
       "    .dataframe thead th {\n",
       "        text-align: right;\n",
       "    }\n",
       "</style>\n",
       "<table border=\"1\" class=\"dataframe\">\n",
       "  <thead>\n",
       "    <tr style=\"text-align: right;\">\n",
       "      <th></th>\n",
       "      <th>Count</th>\n",
       "    </tr>\n",
       "  </thead>\n",
       "  <tbody>\n",
       "    <tr>\n",
       "      <th>Male</th>\n",
       "      <td>9564</td>\n",
       "    </tr>\n",
       "    <tr>\n",
       "      <th>Female</th>\n",
       "      <td>598</td>\n",
       "    </tr>\n",
       "    <tr>\n",
       "      <th>Other</th>\n",
       "      <td>38</td>\n",
       "    </tr>\n",
       "  </tbody>\n",
       "</table>\n",
       "</div>"
      ],
      "text/plain": [
       "        Count\n",
       "Male     9564\n",
       "Female    598\n",
       "Other      38"
      ]
     },
     "execution_count": 124,
     "metadata": {},
     "output_type": "execute_result"
    }
   ],
   "source": [
    "# Finding a counts of total gender distribution in the survey\n",
    "\n",
    "cleaned_df[\"Gender\"].value_counts()\n",
    "\n",
    "Gender_Count_Input = cleaned_hours[\"Gender\"].value_counts()\n",
    "\n",
    "Gender_Count = pd.DataFrame(cleaned_hours[\"Gender\"].value_counts())\n",
    "\n",
    "Gender_Count = Gender_Count.rename(columns={\"Gender\" : \"Gender\", \"Gender\": \"Count\"})\n",
    "\n",
    "Gender_Count\n",
    "# labels_graph = Gender_Count[\"Count\"]\n",
    "\n",
    "# print(labels_graph)"
   ]
  },
  {
   "cell_type": "code",
   "execution_count": 125,
   "metadata": {},
   "outputs": [],
   "source": [
    "# Creating values to plot a Pie chart for gender distribution\n",
    "\n",
    "# labels = [cleaned_df[\"Gender\"].unique()]\n",
    "\n",
    "labels = [\"Male\", \"Female\", \"Other\"]\n",
    "\n",
    "# sizes = [cleaned_df[\"Gender\"].value_counts()]\n",
    "\n",
    "# sizes = [Gender_Count[\"Count\"]]\n",
    "\n",
    "sizes = [10984, 653, 45]\n",
    "\n",
    "colors = [\"red\", \"yellow\", \"blue\"]\n",
    "\n",
    "explode = (0.2, 0.1, 0)"
   ]
  },
  {
   "cell_type": "code",
   "execution_count": 126,
   "metadata": {},
   "outputs": [
    {
     "data": {
      "image/png": "[encoded data removed]",
      "text/plain": [
       "<Figure size 432x288 with 1 Axes>"
      ]
     },
     "metadata": {},
     "output_type": "display_data"
    }
   ],
   "source": [
    "# Creating values to plot a Pie chart for gender distribution\n",
    "\n",
    "Gender_Count_Chart = Gender_Count_Input.plot.pie(autopct=\"%1.1f%%\", startangle=140, explode = explode, shadow = True, colors = colors)\n",
    "\n",
    "colors = [\"red\", \"yellow\", \"blue\"]\n",
    "# plt.title(\"Gender Count\")\n"
   ]
  },
  {
   "cell_type": "code",
   "execution_count": 127,
   "metadata": {},
   "outputs": [
    {
     "data": {
      "text/html": [
       "<div>\n",
       "<style scoped>\n",
       "    .dataframe tbody tr th:only-of-type {\n",
       "        vertical-align: middle;\n",
       "    }\n",
       "\n",
       "    .dataframe tbody tr th {\n",
       "        vertical-align: top;\n",
       "    }\n",
       "\n",
       "    .dataframe thead th {\n",
       "        text-align: right;\n",
       "    }\n",
       "</style>\n",
       "<table border=\"1\" class=\"dataframe\">\n",
       "  <thead>\n",
       "    <tr style=\"text-align: right;\">\n",
       "      <th></th>\n",
       "      <th>Hours</th>\n",
       "    </tr>\n",
       "    <tr>\n",
       "      <th>Gender</th>\n",
       "      <th></th>\n",
       "    </tr>\n",
       "  </thead>\n",
       "  <tbody>\n",
       "    <tr>\n",
       "      <th>Female</th>\n",
       "      <td>19.135452</td>\n",
       "    </tr>\n",
       "    <tr>\n",
       "      <th>Male</th>\n",
       "      <td>21.415935</td>\n",
       "    </tr>\n",
       "    <tr>\n",
       "      <th>Other</th>\n",
       "      <td>30.842105</td>\n",
       "    </tr>\n",
       "  </tbody>\n",
       "</table>\n",
       "</div>"
      ],
      "text/plain": [
       "            Hours\n",
       "Gender           \n",
       "Female  19.135452\n",
       "Male    21.415935\n",
       "Other   30.842105"
      ]
     },
     "execution_count": 127,
     "metadata": {},
     "output_type": "execute_result"
    }
   ],
   "source": [
    "# Creating data for avg hours of gaming per each gender drop down\n",
    "\n",
    "# Hours_df = cleaned_df.groupby([\"Hours\"])\n",
    "# Hours_df.head(10)\n",
    "\n",
    "# Outlier = 8000\n",
    "\n",
    "# New_df = cleaned_df[cleaned_df[\"Hours\"].isin(Outlier) == False]\n",
    "# New_df\n",
    "\n",
    "Avg = cleaned_hours[\"Hours\"].groupby(cleaned_hours[\"Gender\"]).mean()\n",
    "Avg_gender_input = pd.DataFrame(Avg)\n",
    "Avg_gender_input\n"
   ]
  },
  {
   "cell_type": "code",
   "execution_count": 128,
   "metadata": {},
   "outputs": [
    {
     "data": {
      "image/png": "[encoded data removed]",
      "text/plain": [
       "<Figure size 432x288 with 1 Axes>"
      ]
     },
     "metadata": {
      "needs_background": "light"
     },
     "output_type": "display_data"
    }
   ],
   "source": [
    "# Gender Distribution graph comparision. (Other seems to have a higher average in this analysis however only 50 inputs are collected while)\\n \n",
    "# .. while inputs for male and female are 11,000 and 650 approx. \n",
    "\n",
    "Gender_distribution_chart = Avg_gender_input.plot.bar(color = 'g', title = \"Avg. Hours per Gender distribution\", xlabel = \"Gender\", ylabel = \"Average Hours per week\", width = 0.4)\n",
    "\n",
    "# Gender_distribution_chart, ax = plt.subplots()\n",
    "\n",
    "# indexes = [\"Female\", \"Male\", \"Other\"]\n",
    "\n",
    "# values = [18.95, 21.64, 30.44]\n",
    "# values = Avg_gender_input[\"Hours\"]\n",
    "# bars = ax.barh(indexes, values)\n",
    "\n",
    "# ax.bar_label(bars)\n",
    "\n",
    "\n",
    "# for bars in ax.containers:\n",
    "#    ax.bar_label(bars)\n",
    "    \n"
   ]
  },
  {
   "cell_type": "code",
   "execution_count": 129,
   "metadata": {},
   "outputs": [
    {
     "data": {
      "image/png": "[encoded data removed]",
      "text/plain": [
       "<Figure size 432x288 with 1 Axes>"
      ]
     },
     "metadata": {
      "needs_background": "light"
     },
     "output_type": "display_data"
    }
   ],
   "source": [
    "# Age vs. Hours Comparsion on a scatter plot. \n",
    "\n",
    "x_axis = cleaned_hours['Hours']\n",
    "y_axis = cleaned_hours['Age']\n",
    "\n",
    "plt.scatter(x_axis, y_axis, marker = 'o', color = 'lightpink')\n",
    "plt.ylim(15,60)\n",
    "plt.xlabel(\"Hours\")\n",
    "plt.ylabel(\"Age\")\n",
    "plt.title(\"Age vs. Hours comparison\")\n",
    "plt.show()\n",
    "\n"
   ]
  },
  {
   "cell_type": "code",
   "execution_count": 140,
   "metadata": {},
   "outputs": [
    {
     "data": {
      "text/plain": [
       "<AxesSubplot:title={'center':'Occupation vs. No. of Hours Comparison'}, xlabel='Occupation', ylabel='Hours per Week'>"
      ]
     },
     "execution_count": 140,
     "metadata": {},
     "output_type": "execute_result"
    },
    {
     "data": {
      "image/png": "[encoded data removed]",
      "text/plain": [
       "<Figure size 432x288 with 1 Axes>"
      ]
     },
     "metadata": {
      "needs_background": "light"
     },
     "output_type": "display_data"
    }
   ],
   "source": [
    "# Work vs Hours Comparsion on a bar plot. \n",
    "\n",
    "WvH = cleaned_hours[\"Hours\"].groupby(cleaned_hours[\"Work\"]).mean()\n",
    "\n",
    "WvH_input = pd.DataFrame(WvH)\n",
    "\n",
    "WvH_input.plot.bar(color = 'g',width = 0.5, title = \"Occupation vs. No. of Hours Comparison\", xlabel = \"Occupation\", ylabel = \"Hours per Week\")"
   ]
  },
  {
   "cell_type": "code",
   "execution_count": 131,
   "metadata": {},
   "outputs": [],
   "source": [
    "# zz = cleaned_hours['Hours'].plot.scatter()"
   ]
  },
  {
   "cell_type": "code",
   "execution_count": 132,
   "metadata": {},
   "outputs": [
    {
     "data": {
      "text/plain": [
       "<AxesSubplot:title={'center':'Reason to Play vs. No. of Hours Comparison'}, xlabel='Reason for Gaming', ylabel='Hours per Week'>"
      ]
     },
     "execution_count": 132,
     "metadata": {},
     "output_type": "execute_result"
    },
    {
     "data": {
      "image/png": "[encoded data removed]",
      "text/plain": [
       "<Figure size 432x288 with 1 Axes>"
      ]
     },
     "metadata": {
      "needs_background": "light"
     },
     "output_type": "display_data"
    }
   ],
   "source": [
    "# Whyplay vs Hours Comparsion on a bar plot. \n",
    "\n",
    "# cleaned_hours[\"\"]\n",
    "\n",
    "WhyPlayVsHours = cleaned_hours[\"Hours\"].groupby(cleaned_hours[\"whyplay\"]).mean()\n",
    "\n",
    "WhyPlayVsHours_input = pd.DataFrame(WhyPlayVsHours)\n",
    "\n",
    "WhyPlayVsHours_input.plot.bar(color = 'g',width = 0.5, title = \"Reason to Play vs. No. of Hours Comparison\", xlabel = \"Reason for Gaming\", ylabel = \"Hours per Week\")"
   ]
  },
  {
   "cell_type": "code",
   "execution_count": 133,
   "metadata": {},
   "outputs": [
    {
     "data": {
      "text/plain": [
       "<AxesSubplot:title={'center':'Playstyle vs. No. of Hours Comparison'}, xlabel='Playstyle', ylabel='Hours per Week'>"
      ]
     },
     "execution_count": 133,
     "metadata": {},
     "output_type": "execute_result"
    },
    {
     "data": {
      "image/png": "[encoded data removed]",
      "text/plain": [
       "<Figure size 432x288 with 1 Axes>"
      ]
     },
     "metadata": {
      "needs_background": "light"
     },
     "output_type": "display_data"
    }
   ],
   "source": [
    "# Playstyle vs Hours Comparsion on a bar plot. \n",
    "\n",
    "PvH = cleaned_hours[\"Hours\"].groupby(cleaned_hours[\"Playstyle\"]).mean()\n",
    "\n",
    "PvH_input = pd.DataFrame(PvH)\n",
    "\n",
    "PvH_input.plot.bar(color = 'g',width = 0.5, title = \"Playstyle vs. No. of Hours Comparison\", xlabel = \"Playstyle\", ylabel = \"Hours per Week\")"
   ]
  },
  {
   "cell_type": "code",
   "execution_count": 134,
   "metadata": {},
   "outputs": [
    {
     "data": {
      "text/plain": [
       "<AxesSubplot:title={'center':\"Gamer's League vs. No. of Hours Comparison\"}, xlabel='Playstyle', ylabel='Hours per Week'>"
      ]
     },
     "execution_count": 134,
     "metadata": {},
     "output_type": "execute_result"
    },
    {
     "data": {
      "image/png": "[encoded data removed]",
      "text/plain": [
       "<Figure size 432x288 with 1 Axes>"
      ]
     },
     "metadata": {
      "needs_background": "light"
     },
     "output_type": "display_data"
    }
   ],
   "source": [
    "# League vs Hours Comparsion on a bar plot. \n",
    "\n",
    "LvH = cleaned_hours[\"Hours\"].groupby(cleaned_hours[\"League\"]).mean()\n",
    "\n",
    "LvH_input = pd.DataFrame(LvH)\n",
    "\n",
    "LvH_input.plot.bar(color = 'g',width = 0.5, title = \"Gamer's League vs. No. of Hours Comparison\", xlabel = \"Playstyle\", ylabel = \"Hours per Week\")\n"
   ]
  },
  {
   "cell_type": "code",
   "execution_count": 135,
   "metadata": {
    "scrolled": true
   },
   "outputs": [
    {
     "data": {
      "text/plain": [
       "<AxesSubplot:title={'center':\"Gamer's Platform vs. No. of Hours Comparison\"}, xlabel='Platform', ylabel='Hours per Week'>"
      ]
     },
     "execution_count": 135,
     "metadata": {},
     "output_type": "execute_result"
    },
    {
     "data": {
      "image/png": "[encoded data removed]",
      "text/plain": [
       "<Figure size 432x288 with 1 Axes>"
      ]
     },
     "metadata": {
      "needs_background": "light"
     },
     "output_type": "display_data"
    }
   ],
   "source": [
    "# Platform vs Hours Comparsion on a bar plot\n",
    "\n",
    "PlatformVsHours = cleaned_hours[\"Hours\"].groupby(cleaned_hours[\"Platform\"]).mean()\n",
    "\n",
    "PlatformVsHours_input = pd.DataFrame(PlatformVsHours)\n",
    "\n",
    "PlatformVsHours_input.plot.bar(color = 'g',width = 0.4, title = \"Gamer's Platform vs. No. of Hours Comparison\", xlabel = \"Platform\", ylabel = \"Hours per Week\")\n"
   ]
  },
  {
   "cell_type": "code",
   "execution_count": 137,
   "metadata": {},
   "outputs": [
    {
     "data": {
      "text/plain": [
       "<AxesSubplot:title={'center':\"Gamer's Education vs. No. of Hours Comparison\"}, xlabel='Education', ylabel='Hours per Week'>"
      ]
     },
     "execution_count": 137,
     "metadata": {},
     "output_type": "execute_result"
    },
    {
     "data": {
      "image/png": "[encoded data removed]",
      "text/plain": [
       "<Figure size 432x288 with 1 Axes>"
      ]
     },
     "metadata": {
      "needs_background": "light"
     },
     "output_type": "display_data"
    }
   ],
   "source": [
    "# Degree vs Hours Comparsion on a bar plot\n",
    "\n",
    "DvH = cleaned_hours[\"Hours\"].groupby(cleaned_hours[\"Degree\"]).mean()\n",
    "\n",
    "DvH_input = pd.DataFrame(DvH)\n",
    "\n",
    "DvH_input.plot.bar(color = 'g',width = 0.4, title = \"Gamer's Education vs. No. of Hours Comparison\", xlabel = \"Education\", ylabel = \"Hours per Week\")\n",
    "\n",
    "\n",
    "\n",
    "\n"
   ]
  },
  {
   "cell_type": "code",
   "execution_count": 151,
   "metadata": {},
   "outputs": [
    {
     "data": {
      "text/plain": [
       "Unranked             251\n",
       "Ranked - Silver      119\n",
       "Ranked - Gold        107\n",
       "Ranked - Platinum     44\n",
       "Ranked - Bronze       32\n",
       "Ranked - Diamond      23\n",
       "Ranked                18\n",
       "Ranked - Master        4\n",
       "Name: League, dtype: int64"
      ]
     },
     "execution_count": 151,
     "metadata": {},
     "output_type": "execute_result"
    }
   ],
   "source": [
    "# Gender vs League representation -- creating new dataframes for each gender type\n",
    "\n",
    "female_df = cleaned_hours.loc[cleaned_hours['Gender']=='Female']\n",
    "male_df = cleaned_hours.loc[cleaned_hours[\"Gender\"] == \"Male\"]\n",
    "other_df = cleaned_hours.loc[cleaned_hours[\"Gender\"] == \"Other\"]\n",
    "\n"
   ]
  },
  {
   "cell_type": "code",
   "execution_count": 156,
   "metadata": {},
   "outputs": [
    {
     "data": {
      "text/plain": [
       "<AxesSubplot:title={'center':\"Women's League participation vs No. of Hours Comparison\"}, xlabel=\"Women's League participation\", ylabel='Hours per Week'>"
      ]
     },
     "execution_count": 156,
     "metadata": {},
     "output_type": "execute_result"
    },
    {
     "data": {
      "image/png": "[encoded data removed]",
      "text/plain": [
       "<Figure size 432x288 with 1 Axes>"
      ]
     },
     "metadata": {
      "needs_background": "light"
     },
     "output_type": "display_data"
    }
   ],
   "source": [
    "# Female League participation vs No. of Hours representation \n",
    "\n",
    "FLvH = female_df[\"Hours\"].groupby(female_df[\"League\"]).mean()\n",
    "\n",
    "FLvH_input = pd.DataFrame(FLvH)\n",
    "\n",
    "FLvH_input.plot.bar(color = 'g', width = 0.4, title = \"Women's League participation vs No. of Hours Comparison\", xlabel = \"Women's League participation\", ylabel = \"Hours per Week\")\n",
    "\n"
   ]
  },
  {
   "cell_type": "code",
   "execution_count": 153,
   "metadata": {},
   "outputs": [
    {
     "data": {
      "text/plain": [
       "Ranked - Gold        2285\n",
       "Ranked - Platinum    1935\n",
       "Unranked             1726\n",
       "Ranked - Silver      1602\n",
       "Ranked - Diamond     1241\n",
       "Ranked - Bronze       366\n",
       "Ranked                257\n",
       "Ranked - Master       152\n",
       "Name: League, dtype: int64"
      ]
     },
     "execution_count": 153,
     "metadata": {},
     "output_type": "execute_result"
    },
    {
     "data": {
      "image/png": "[encoded data removed]",
      "text/plain": [
       "<Figure size 432x288 with 1 Axes>"
      ]
     },
     "metadata": {
      "needs_background": "light"
     },
     "output_type": "display_data"
    }
   ],
   "source": [
    "# Male League participation vs No. of Hours representation \n",
    "\n",
    "MLvH = male_df[\"Hours\"].groupby(male_df[\"League\"]).mean()\n",
    "\n",
    "MLvH_input = pd.DataFrame(MLvH)\n",
    "\n",
    "MLvH_input.plot.bar(color = 'g', width = 0.4, title = \"Women's League participation vs No. of Hours Comparison\", xlabel = \"Women's League participation\", ylabel = \"Hours per Week\")\n",
    "\n",
    "male_df[\"League\"].value_counts()"
   ]
  },
  {
   "cell_type": "code",
   "execution_count": 159,
   "metadata": {},
   "outputs": [
    {
     "data": {
      "text/plain": [
       "<AxesSubplot:title={'center':\"Women's League participation Comparison\"}, xlabel='League', ylabel=\"Women's League participation\">"
      ]
     },
     "execution_count": 159,
     "metadata": {},
     "output_type": "execute_result"
    },
    {
     "data": {
      "image/png": "[encoded data removed]",
      "text/plain": [
       "<Figure size 432x288 with 1 Axes>"
      ]
     },
     "metadata": {
      "needs_background": "light"
     },
     "output_type": "display_data"
    }
   ],
   "source": [
    "female_df[\"League\"].value_counts().plot.bar(color='g', width = 0.4, title = \"Women's League participation Comparison\", xlabel = \"League\", ylabel = \"Women's League participation\")\n"
   ]
  },
  {
   "cell_type": "code",
   "execution_count": 160,
   "metadata": {},
   "outputs": [
    {
     "data": {
      "text/plain": [
       "<AxesSubplot:title={'center':\"Men's League participation Comparison\"}, xlabel='League', ylabel=\"Men's League participation\">"
      ]
     },
     "execution_count": 160,
     "metadata": {},
     "output_type": "execute_result"
    },
    {
     "data": {
      "image/png": "[encoded data removed]",
      "text/plain": [
       "<Figure size 432x288 with 1 Axes>"
      ]
     },
     "metadata": {
      "needs_background": "light"
     },
     "output_type": "display_data"
    }
   ],
   "source": [
    "male_df[\"League\"].value_counts().plot.bar(color='g', width = 0.4, title = \"Men's League participation Comparison\", xlabel = \"League\", ylabel = \"Men's League participation\")\n"
   ]
  },
  {
   "cell_type": "code",
   "execution_count": null,
   "metadata": {},
   "outputs": [],
   "source": []
  }
 ],
 "metadata": {
  "kernelspec": {
   "display_name": "Python 3 (ipykernel)",
   "language": "python",
   "name": "python3"
  },
  "language_info": {
   "codemirror_mode": {
    "name": "ipython",
    "version": 3
   },
   "file_extension": ".py",
   "mimetype": "text/x-python",
   "name": "python",
   "nbconvert_exporter": "python",
   "pygments_lexer": "ipython3",
   "version": "3.9.7"
  }
 },
 "nbformat": 4,
 "nbformat_minor": 1
}
