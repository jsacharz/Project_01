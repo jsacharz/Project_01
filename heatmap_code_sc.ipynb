{
 "cells": [
  {
   "cell_type": "code",
   "execution_count": 1,
   "id": "ab62efdc",
   "metadata": {},
   "outputs": [],
   "source": [
    "#import dependencies\n",
    "import pandas as pd\n",
    "import os\n",
    "import numpy as np\n",
    "import plotly.express as px\n",
    "import plotly.graph_objects as go\n",
    "import gmaps\n",
    "import pycountry\n",
    "from config import gkey\n",
    "import requests\n",
    "gmaps.configure(api_key = gkey)"
   ]
  },
  {
   "cell_type": "code",
   "execution_count": 2,
   "id": "fac89040",
   "metadata": {},
   "outputs": [
    {
     "name": "stdout",
     "output_type": "stream",
     "text": [
      "11598\n"
     ]
    }
   ],
   "source": [
    "countries_df = pd.read_csv(\"cleaned_data_js_sc_rg.csv\", encoding = \"ISO-8859-1\")\n",
    "\n",
    "countries_df=countries_df[countries_df[\"Residence_ISO3\"].notna()]\n",
    "countries_df=countries_df[countries_df[\"Residence\"].notna()]\n",
    "print(len(countries_df))"
   ]
  },
  {
   "cell_type": "code",
   "execution_count": 3,
   "id": "67e15fe1",
   "metadata": {},
   "outputs": [
    {
     "data": {
      "text/html": [
       "<div>\n",
       "<style scoped>\n",
       "    .dataframe tbody tr th:only-of-type {\n",
       "        vertical-align: middle;\n",
       "    }\n",
       "\n",
       "    .dataframe tbody tr th {\n",
       "        vertical-align: top;\n",
       "    }\n",
       "\n",
       "    .dataframe thead th {\n",
       "        text-align: right;\n",
       "    }\n",
       "</style>\n",
       "<table border=\"1\" class=\"dataframe\">\n",
       "  <thead>\n",
       "    <tr style=\"text-align: right;\">\n",
       "      <th></th>\n",
       "      <th>Residence_ISO3</th>\n",
       "      <th>Residence</th>\n",
       "      <th>Participant Count</th>\n",
       "      <th>Hours</th>\n",
       "      <th>streams</th>\n",
       "      <th>Narcissism</th>\n",
       "      <th>Age</th>\n",
       "      <th>GAD_T</th>\n",
       "      <th>SWL_T</th>\n",
       "      <th>SPIN_T</th>\n",
       "    </tr>\n",
       "  </thead>\n",
       "  <tbody>\n",
       "    <tr>\n",
       "      <th>0</th>\n",
       "      <td>ALB</td>\n",
       "      <td>Albania</td>\n",
       "      <td>5</td>\n",
       "      <td>20.200000</td>\n",
       "      <td>8.400000</td>\n",
       "      <td>2.400000</td>\n",
       "      <td>21.000000</td>\n",
       "      <td>5.400000</td>\n",
       "      <td>16.000000</td>\n",
       "      <td>10.000000</td>\n",
       "    </tr>\n",
       "    <tr>\n",
       "      <th>1</th>\n",
       "      <td>ARE</td>\n",
       "      <td>UAE</td>\n",
       "      <td>10</td>\n",
       "      <td>19.300000</td>\n",
       "      <td>15.700000</td>\n",
       "      <td>1.700000</td>\n",
       "      <td>21.100000</td>\n",
       "      <td>6.600000</td>\n",
       "      <td>19.100000</td>\n",
       "      <td>21.900000</td>\n",
       "    </tr>\n",
       "    <tr>\n",
       "      <th>2</th>\n",
       "      <td>ARG</td>\n",
       "      <td>Argentina</td>\n",
       "      <td>92</td>\n",
       "      <td>24.413043</td>\n",
       "      <td>11.630435</td>\n",
       "      <td>1.967391</td>\n",
       "      <td>20.804348</td>\n",
       "      <td>4.782609</td>\n",
       "      <td>19.195652</td>\n",
       "      <td>18.282609</td>\n",
       "    </tr>\n",
       "    <tr>\n",
       "      <th>3</th>\n",
       "      <td>AUS</td>\n",
       "      <td>Australia</td>\n",
       "      <td>192</td>\n",
       "      <td>25.416667</td>\n",
       "      <td>9.828125</td>\n",
       "      <td>1.937500</td>\n",
       "      <td>20.588542</td>\n",
       "      <td>5.755208</td>\n",
       "      <td>18.619792</td>\n",
       "      <td>21.588542</td>\n",
       "    </tr>\n",
       "    <tr>\n",
       "      <th>4</th>\n",
       "      <td>AUT</td>\n",
       "      <td>Austria</td>\n",
       "      <td>129</td>\n",
       "      <td>22.372093</td>\n",
       "      <td>11.798450</td>\n",
       "      <td>2.085271</td>\n",
       "      <td>20.961240</td>\n",
       "      <td>4.333333</td>\n",
       "      <td>21.364341</td>\n",
       "      <td>18.705426</td>\n",
       "    </tr>\n",
       "    <tr>\n",
       "      <th>...</th>\n",
       "      <td>...</td>\n",
       "      <td>...</td>\n",
       "      <td>...</td>\n",
       "      <td>...</td>\n",
       "      <td>...</td>\n",
       "      <td>...</td>\n",
       "      <td>...</td>\n",
       "      <td>...</td>\n",
       "      <td>...</td>\n",
       "      <td>...</td>\n",
       "    </tr>\n",
       "    <tr>\n",
       "      <th>102</th>\n",
       "      <td>USA</td>\n",
       "      <td>USA</td>\n",
       "      <td>4018</td>\n",
       "      <td>20.341463</td>\n",
       "      <td>10.507218</td>\n",
       "      <td>1.995022</td>\n",
       "      <td>21.081135</td>\n",
       "      <td>5.547287</td>\n",
       "      <td>20.136386</td>\n",
       "      <td>20.137382</td>\n",
       "    </tr>\n",
       "    <tr>\n",
       "      <th>103</th>\n",
       "      <td>VCT</td>\n",
       "      <td>St Vincent</td>\n",
       "      <td>1</td>\n",
       "      <td>15.000000</td>\n",
       "      <td>4.000000</td>\n",
       "      <td>1.000000</td>\n",
       "      <td>19.000000</td>\n",
       "      <td>5.000000</td>\n",
       "      <td>26.000000</td>\n",
       "      <td>28.000000</td>\n",
       "    </tr>\n",
       "    <tr>\n",
       "      <th>104</th>\n",
       "      <td>VEN</td>\n",
       "      <td>Venezuela</td>\n",
       "      <td>28</td>\n",
       "      <td>25.214286</td>\n",
       "      <td>8.107143</td>\n",
       "      <td>2.000000</td>\n",
       "      <td>20.642857</td>\n",
       "      <td>5.857143</td>\n",
       "      <td>18.321429</td>\n",
       "      <td>18.857143</td>\n",
       "    </tr>\n",
       "    <tr>\n",
       "      <th>105</th>\n",
       "      <td>VNM</td>\n",
       "      <td>Vietnam</td>\n",
       "      <td>11</td>\n",
       "      <td>18.636364</td>\n",
       "      <td>4.181818</td>\n",
       "      <td>2.272727</td>\n",
       "      <td>22.090909</td>\n",
       "      <td>4.545455</td>\n",
       "      <td>14.090909</td>\n",
       "      <td>20.727273</td>\n",
       "    </tr>\n",
       "    <tr>\n",
       "      <th>106</th>\n",
       "      <td>ZAF</td>\n",
       "      <td>South Africa</td>\n",
       "      <td>22</td>\n",
       "      <td>21.181818</td>\n",
       "      <td>9.863636</td>\n",
       "      <td>1.818182</td>\n",
       "      <td>21.363636</td>\n",
       "      <td>5.636364</td>\n",
       "      <td>18.545455</td>\n",
       "      <td>18.227273</td>\n",
       "    </tr>\n",
       "  </tbody>\n",
       "</table>\n",
       "<p>107 rows × 10 columns</p>\n",
       "</div>"
      ],
      "text/plain": [
       "    Residence_ISO3     Residence  Participant Count      Hours    streams  \\\n",
       "0              ALB       Albania                  5  20.200000   8.400000   \n",
       "1              ARE           UAE                 10  19.300000  15.700000   \n",
       "2              ARG     Argentina                 92  24.413043  11.630435   \n",
       "3              AUS     Australia                192  25.416667   9.828125   \n",
       "4              AUT       Austria                129  22.372093  11.798450   \n",
       "..             ...           ...                ...        ...        ...   \n",
       "102            USA           USA               4018  20.341463  10.507218   \n",
       "103            VCT    St Vincent                  1  15.000000   4.000000   \n",
       "104            VEN     Venezuela                 28  25.214286   8.107143   \n",
       "105            VNM       Vietnam                 11  18.636364   4.181818   \n",
       "106            ZAF  South Africa                 22  21.181818   9.863636   \n",
       "\n",
       "     Narcissism        Age     GAD_T      SWL_T     SPIN_T  \n",
       "0      2.400000  21.000000  5.400000  16.000000  10.000000  \n",
       "1      1.700000  21.100000  6.600000  19.100000  21.900000  \n",
       "2      1.967391  20.804348  4.782609  19.195652  18.282609  \n",
       "3      1.937500  20.588542  5.755208  18.619792  21.588542  \n",
       "4      2.085271  20.961240  4.333333  21.364341  18.705426  \n",
       "..          ...        ...       ...        ...        ...  \n",
       "102    1.995022  21.081135  5.547287  20.136386  20.137382  \n",
       "103    1.000000  19.000000  5.000000  26.000000  28.000000  \n",
       "104    2.000000  20.642857  5.857143  18.321429  18.857143  \n",
       "105    2.272727  22.090909  4.545455  14.090909  20.727273  \n",
       "106    1.818182  21.363636  5.636364  18.545455  18.227273  \n",
       "\n",
       "[107 rows x 10 columns]"
      ]
     },
     "execution_count": 3,
     "metadata": {},
     "output_type": "execute_result"
    }
   ],
   "source": [
    "#group all responses by country\n",
    "country_grp = countries_df.groupby([\"Residence_ISO3\", \"Residence\"])\n",
    "\n",
    "country_means = pd.DataFrame(country_grp.mean().reset_index())\n",
    "country_counts = pd.DataFrame(country_grp.size().reset_index())\n",
    "country_counts = country_counts.rename(columns = {0:\"Participant Count\"})\n",
    "\n",
    "country_stats = pd.merge(country_counts, country_means, on = [\"Residence\", \"Residence_ISO3\"], how = 'outer')\n",
    "country_stats = country_stats.drop([\"S. No.\", \"Timestamp\"], axis = 1)\n",
    "country_stats"
   ]
  },
  {
   "cell_type": "markdown",
   "id": "bdaf7cb3",
   "metadata": {},
   "source": [
    "# Mental health questionnaire heatmaps using google maps API"
   ]
  },
  {
   "cell_type": "code",
   "execution_count": 4,
   "id": "0a70da12",
   "metadata": {},
   "outputs": [
    {
     "name": "stdout",
     "output_type": "stream",
     "text": [
      "processing country: ALB...\n",
      "processing country: ARE...\n",
      "processing country: ARG...\n",
      "processing country: AUS...\n",
      "processing country: AUT...\n",
      "processing country: BEL...\n",
      "processing country: BGD...\n",
      "processing country: BGR...\n",
      "processing country: BHR...\n",
      "processing country: BIH...\n",
      "processing country: BLR...\n",
      "processing country: BLZ...\n",
      "processing country: BOL...\n",
      "processing country: BRA...\n",
      "processing country: BRN...\n",
      "processing country: CAN...\n",
      "processing country: CHE...\n",
      "processing country: CHL...\n",
      "processing country: CHN...\n",
      "processing country: COL...\n",
      "processing country: CRI...\n",
      "processing country: CYP...\n",
      "processing country: CZE...\n",
      "processing country: DEU...\n",
      "processing country: DNK...\n",
      "processing country: DOM...\n",
      "processing country: DZA...\n",
      "processing country: ECU...\n",
      "processing country: EGY...\n",
      "processing country: ESP...\n",
      "processing country: EST...\n",
      "processing country: FIN...\n",
      "processing country: FJI...\n",
      "processing country: FRA...\n",
      "processing country: FRO...\n",
      "processing country: GBR...\n",
      "processing country: GEO...\n",
      "processing country: GIB...\n",
      "processing country: GLP...\n",
      "processing country: GRC...\n",
      "processing country: GRD...\n",
      "processing country: GTM...\n",
      "processing country: HKG...\n",
      "processing country: HND...\n",
      "processing country: HRV...\n",
      "processing country: HUN...\n",
      "processing country: IDN...\n",
      "processing country: IND...\n",
      "processing country: IRL...\n",
      "processing country: ISL...\n",
      "processing country: ISR...\n",
      "processing country: ITA...\n",
      "processing country: JAM...\n",
      "processing country: JOR...\n",
      "processing country: JPN...\n",
      "processing country: KAZ...\n",
      "processing country: KOR...\n",
      "processing country: KWT...\n",
      "processing country: LBN...\n",
      "processing country: LIE...\n",
      "processing country: LTU...\n",
      "processing country: LUX...\n",
      "processing country: LVA...\n",
      "processing country: MAR...\n",
      "processing country: MDA...\n",
      "processing country: MEX...\n",
      "processing country: MKD...\n",
      "processing country: MLT...\n",
      "processing country: MNE...\n",
      "processing country: MNG...\n",
      "processing country: MYS...\n",
      "processing country: NAM...\n",
      "processing country: NIC...\n",
      "processing country: NLD...\n",
      "processing country: NOR...\n",
      "processing country: NZL...\n",
      "processing country: PAK...\n",
      "processing country: PAN...\n",
      "processing country: PER...\n",
      "processing country: PHL...\n",
      "processing country: POL...\n",
      "processing country: PRI...\n",
      "processing country: PRT...\n",
      "processing country: PSE...\n",
      "processing country: QAT...\n",
      "processing country: ROU...\n",
      "processing country: RUS...\n",
      "processing country: SAU...\n",
      "processing country: SGP...\n",
      "processing country: SLV...\n",
      "processing country: SRB...\n",
      "processing country: SVK...\n",
      "processing country: SVN...\n",
      "processing country: SWE...\n",
      "processing country: SYR...\n",
      "processing country: THA...\n",
      "processing country: TTO...\n",
      "processing country: TUN...\n",
      "processing country: TUR...\n",
      "processing country: TWN...\n",
      "processing country: UKR...\n",
      "processing country: URY...\n",
      "processing country: USA...\n",
      "processing country: VCT...\n",
      "processing country: VEN...\n",
      "processing country: VNM...\n",
      "processing country: ZAF...\n"
     ]
    },
    {
     "data": {
      "text/html": [
       "<div>\n",
       "<style scoped>\n",
       "    .dataframe tbody tr th:only-of-type {\n",
       "        vertical-align: middle;\n",
       "    }\n",
       "\n",
       "    .dataframe tbody tr th {\n",
       "        vertical-align: top;\n",
       "    }\n",
       "\n",
       "    .dataframe thead th {\n",
       "        text-align: right;\n",
       "    }\n",
       "</style>\n",
       "<table border=\"1\" class=\"dataframe\">\n",
       "  <thead>\n",
       "    <tr style=\"text-align: right;\">\n",
       "      <th></th>\n",
       "      <th>Residence_ISO3</th>\n",
       "      <th>Residence</th>\n",
       "      <th>Participant Count</th>\n",
       "      <th>Hours</th>\n",
       "      <th>streams</th>\n",
       "      <th>Narcissism</th>\n",
       "      <th>Age</th>\n",
       "      <th>GAD_T</th>\n",
       "      <th>SWL_T</th>\n",
       "      <th>SPIN_T</th>\n",
       "      <th>alpha2</th>\n",
       "    </tr>\n",
       "  </thead>\n",
       "  <tbody>\n",
       "    <tr>\n",
       "      <th>0</th>\n",
       "      <td>ALB</td>\n",
       "      <td>Albania</td>\n",
       "      <td>5</td>\n",
       "      <td>20.200000</td>\n",
       "      <td>8.400000</td>\n",
       "      <td>2.400000</td>\n",
       "      <td>21.000000</td>\n",
       "      <td>5.400000</td>\n",
       "      <td>16.000000</td>\n",
       "      <td>10.000000</td>\n",
       "      <td>al</td>\n",
       "    </tr>\n",
       "    <tr>\n",
       "      <th>1</th>\n",
       "      <td>ARE</td>\n",
       "      <td>UAE</td>\n",
       "      <td>10</td>\n",
       "      <td>19.300000</td>\n",
       "      <td>15.700000</td>\n",
       "      <td>1.700000</td>\n",
       "      <td>21.100000</td>\n",
       "      <td>6.600000</td>\n",
       "      <td>19.100000</td>\n",
       "      <td>21.900000</td>\n",
       "      <td>ae</td>\n",
       "    </tr>\n",
       "    <tr>\n",
       "      <th>2</th>\n",
       "      <td>ARG</td>\n",
       "      <td>Argentina</td>\n",
       "      <td>92</td>\n",
       "      <td>24.413043</td>\n",
       "      <td>11.630435</td>\n",
       "      <td>1.967391</td>\n",
       "      <td>20.804348</td>\n",
       "      <td>4.782609</td>\n",
       "      <td>19.195652</td>\n",
       "      <td>18.282609</td>\n",
       "      <td>ar</td>\n",
       "    </tr>\n",
       "    <tr>\n",
       "      <th>3</th>\n",
       "      <td>AUS</td>\n",
       "      <td>Australia</td>\n",
       "      <td>192</td>\n",
       "      <td>25.416667</td>\n",
       "      <td>9.828125</td>\n",
       "      <td>1.937500</td>\n",
       "      <td>20.588542</td>\n",
       "      <td>5.755208</td>\n",
       "      <td>18.619792</td>\n",
       "      <td>21.588542</td>\n",
       "      <td>au</td>\n",
       "    </tr>\n",
       "    <tr>\n",
       "      <th>4</th>\n",
       "      <td>AUT</td>\n",
       "      <td>Austria</td>\n",
       "      <td>129</td>\n",
       "      <td>22.372093</td>\n",
       "      <td>11.798450</td>\n",
       "      <td>2.085271</td>\n",
       "      <td>20.961240</td>\n",
       "      <td>4.333333</td>\n",
       "      <td>21.364341</td>\n",
       "      <td>18.705426</td>\n",
       "      <td>at</td>\n",
       "    </tr>\n",
       "  </tbody>\n",
       "</table>\n",
       "</div>"
      ],
      "text/plain": [
       "  Residence_ISO3  Residence  Participant Count      Hours    streams  \\\n",
       "0            ALB    Albania                  5  20.200000   8.400000   \n",
       "1            ARE        UAE                 10  19.300000  15.700000   \n",
       "2            ARG  Argentina                 92  24.413043  11.630435   \n",
       "3            AUS  Australia                192  25.416667   9.828125   \n",
       "4            AUT    Austria                129  22.372093  11.798450   \n",
       "\n",
       "   Narcissism        Age     GAD_T      SWL_T     SPIN_T alpha2  \n",
       "0    2.400000  21.000000  5.400000  16.000000  10.000000     al  \n",
       "1    1.700000  21.100000  6.600000  19.100000  21.900000     ae  \n",
       "2    1.967391  20.804348  4.782609  19.195652  18.282609     ar  \n",
       "3    1.937500  20.588542  5.755208  18.619792  21.588542     au  \n",
       "4    2.085271  20.961240  4.333333  21.364341  18.705426     at  "
      ]
     },
     "execution_count": 4,
     "metadata": {},
     "output_type": "execute_result"
    }
   ],
   "source": [
    "#Using country_stats dataframe, use pycountry to get alpha-2 country codes\n",
    "country_stats['alpha2'] = \"\"\n",
    "\n",
    "for index, row in country_stats.iterrows():\n",
    "    try:\n",
    "        country = row['Residence_ISO3']\n",
    "        alpha2 = pycountry.countries.get(alpha_3 = country).alpha_2\n",
    "        country_stats.loc[index, \"alpha2\"] = alpha2\n",
    "        print(f\"processing country: {row['Residence_ISO3']}...\")\n",
    "    except:\n",
    "        print(\"country not found\")\n",
    "        pass\n",
    "country_stats['alpha2'] = country_stats['alpha2'].str.lower()\n",
    "country_stats.head()"
   ]
  },
  {
   "cell_type": "code",
   "execution_count": 5,
   "id": "2ad7a03c",
   "metadata": {
    "scrolled": true
   },
   "outputs": [
    {
     "name": "stdout",
     "output_type": "stream",
     "text": [
      "processing country: Albania\n",
      "processing country: UAE\n",
      "processing country: Argentina\n",
      "processing country: Australia\n",
      "processing country: Austria\n",
      "processing country: Belgium\n",
      "processing country: Bangladesh\n",
      "processing country: Bulgaria\n",
      "processing country: Bahrain\n",
      "processing country: Bosnia and Herzegovina\n",
      "processing country: Belarus\n",
      "processing country: Belize\n",
      "processing country: Bolivia\n",
      "processing country: Brazil\n",
      "processing country: Brunei\n",
      "processing country: Canada\n",
      "processing country: Switzerland\n",
      "processing country: Chile\n",
      "processing country: China\n",
      "processing country: Colombia\n",
      "processing country: Costa Rica\n",
      "processing country: Cyprus\n",
      "processing country: Czech Republic\n",
      "processing country: Germany\n",
      "processing country: Denmark\n",
      "processing country: Dominican Republic\n",
      "processing country: Algeria\n",
      "processing country: Ecuador\n",
      "processing country: Egypt\n",
      "processing country: Spain\n",
      "processing country: Estonia\n",
      "processing country: Finland\n",
      "processing country: Fiji\n",
      "processing country: France\n",
      "processing country: Faroe Islands\n",
      "processing country: UK\n",
      "processing country: Georgia\n",
      "processing country: Gibraltar \n",
      "processing country: Guadeloupe\n",
      "processing country: Greece\n",
      "processing country: Grenada\n",
      "processing country: Guatemala\n",
      "processing country: Hong Kong\n",
      "processing country: Honduras\n",
      "processing country: Croatia\n",
      "processing country: Hungary\n",
      "processing country: Indonesia\n",
      "processing country: India\n",
      "processing country: Ireland\n",
      "processing country: Iceland\n",
      "processing country: Israel\n",
      "processing country: Italy\n",
      "processing country: Jamaica\n",
      "processing country: Jordan\n",
      "processing country: Japan\n",
      "processing country: Kazakhstan\n",
      "processing country: South Korea\n",
      "processing country: Kuwait\n",
      "processing country: Lebanon\n",
      "processing country: Liechtenstein\n",
      "processing country: Lithuania\n",
      "processing country: Luxembourg\n",
      "processing country: Latvia\n",
      "processing country: Morocco\n",
      "processing country: Moldova\n",
      "processing country: Mexico\n",
      "processing country: Macedonia\n",
      "processing country: Malta\n",
      "processing country: Montenegro\n",
      "processing country: Mongolia\n",
      "processing country: Malaysia\n",
      "processing country: Namibia\n",
      "processing country: Nicaragua\n",
      "processing country: Netherlands\n",
      "processing country: Norway\n",
      "processing country: New Zealand \n",
      "processing country: Pakistan\n",
      "processing country: Panama\n",
      "processing country: Peru\n",
      "processing country: Philippines\n",
      "processing country: Poland\n",
      "processing country: Puerto Rico\n",
      "processing country: Portugal\n",
      "processing country: Palestine\n",
      "processing country: Qatar\n",
      "processing country: Romania\n",
      "processing country: Russia\n",
      "processing country: Saudi Arabia\n",
      "processing country: Singapore\n",
      "processing country: El Salvador\n",
      "processing country: Serbia\n",
      "processing country: Slovakia\n",
      "processing country: Slovenia\n",
      "processing country: Sweden\n",
      "processing country: Syria\n",
      "processing country: Thailand\n",
      "processing country: Trinidad & Tobago\n",
      "processing country: Tunisia\n",
      "processing country: Turkey\n",
      "processing country: Taiwan\n",
      "processing country: Ukraine\n",
      "processing country: Uruguay\n",
      "processing country: USA\n",
      "processing country: St Vincent\n",
      "processing country: Venezuela\n",
      "processing country: Vietnam\n",
      "processing country: South Africa\n"
     ]
    },
    {
     "data": {
      "text/html": [
       "<div>\n",
       "<style scoped>\n",
       "    .dataframe tbody tr th:only-of-type {\n",
       "        vertical-align: middle;\n",
       "    }\n",
       "\n",
       "    .dataframe tbody tr th {\n",
       "        vertical-align: top;\n",
       "    }\n",
       "\n",
       "    .dataframe thead th {\n",
       "        text-align: right;\n",
       "    }\n",
       "</style>\n",
       "<table border=\"1\" class=\"dataframe\">\n",
       "  <thead>\n",
       "    <tr style=\"text-align: right;\">\n",
       "      <th></th>\n",
       "      <th>Residence_ISO3</th>\n",
       "      <th>Residence</th>\n",
       "      <th>Participant Count</th>\n",
       "      <th>Hours</th>\n",
       "      <th>streams</th>\n",
       "      <th>Narcissism</th>\n",
       "      <th>Age</th>\n",
       "      <th>GAD_T</th>\n",
       "      <th>SWL_T</th>\n",
       "      <th>SPIN_T</th>\n",
       "      <th>alpha2</th>\n",
       "      <th>lat</th>\n",
       "      <th>lng</th>\n",
       "    </tr>\n",
       "  </thead>\n",
       "  <tbody>\n",
       "    <tr>\n",
       "      <th>0</th>\n",
       "      <td>ALB</td>\n",
       "      <td>Albania</td>\n",
       "      <td>5</td>\n",
       "      <td>20.200000</td>\n",
       "      <td>8.400000</td>\n",
       "      <td>2.400000</td>\n",
       "      <td>21.000000</td>\n",
       "      <td>5.400000</td>\n",
       "      <td>16.000000</td>\n",
       "      <td>10.000000</td>\n",
       "      <td>al</td>\n",
       "      <td>41.1533</td>\n",
       "      <td>20.1683</td>\n",
       "    </tr>\n",
       "    <tr>\n",
       "      <th>1</th>\n",
       "      <td>ARE</td>\n",
       "      <td>UAE</td>\n",
       "      <td>10</td>\n",
       "      <td>19.300000</td>\n",
       "      <td>15.700000</td>\n",
       "      <td>1.700000</td>\n",
       "      <td>21.100000</td>\n",
       "      <td>6.600000</td>\n",
       "      <td>19.100000</td>\n",
       "      <td>21.900000</td>\n",
       "      <td>ae</td>\n",
       "      <td>23.4241</td>\n",
       "      <td>53.8478</td>\n",
       "    </tr>\n",
       "    <tr>\n",
       "      <th>2</th>\n",
       "      <td>ARG</td>\n",
       "      <td>Argentina</td>\n",
       "      <td>92</td>\n",
       "      <td>24.413043</td>\n",
       "      <td>11.630435</td>\n",
       "      <td>1.967391</td>\n",
       "      <td>20.804348</td>\n",
       "      <td>4.782609</td>\n",
       "      <td>19.195652</td>\n",
       "      <td>18.282609</td>\n",
       "      <td>ar</td>\n",
       "      <td>-38.4161</td>\n",
       "      <td>-63.6167</td>\n",
       "    </tr>\n",
       "    <tr>\n",
       "      <th>3</th>\n",
       "      <td>AUS</td>\n",
       "      <td>Australia</td>\n",
       "      <td>192</td>\n",
       "      <td>25.416667</td>\n",
       "      <td>9.828125</td>\n",
       "      <td>1.937500</td>\n",
       "      <td>20.588542</td>\n",
       "      <td>5.755208</td>\n",
       "      <td>18.619792</td>\n",
       "      <td>21.588542</td>\n",
       "      <td>au</td>\n",
       "      <td>-25.2744</td>\n",
       "      <td>133.775</td>\n",
       "    </tr>\n",
       "    <tr>\n",
       "      <th>4</th>\n",
       "      <td>AUT</td>\n",
       "      <td>Austria</td>\n",
       "      <td>129</td>\n",
       "      <td>22.372093</td>\n",
       "      <td>11.798450</td>\n",
       "      <td>2.085271</td>\n",
       "      <td>20.961240</td>\n",
       "      <td>4.333333</td>\n",
       "      <td>21.364341</td>\n",
       "      <td>18.705426</td>\n",
       "      <td>at</td>\n",
       "      <td>47.5162</td>\n",
       "      <td>14.5501</td>\n",
       "    </tr>\n",
       "  </tbody>\n",
       "</table>\n",
       "</div>"
      ],
      "text/plain": [
       "  Residence_ISO3  Residence  Participant Count      Hours    streams  \\\n",
       "0            ALB    Albania                  5  20.200000   8.400000   \n",
       "1            ARE        UAE                 10  19.300000  15.700000   \n",
       "2            ARG  Argentina                 92  24.413043  11.630435   \n",
       "3            AUS  Australia                192  25.416667   9.828125   \n",
       "4            AUT    Austria                129  22.372093  11.798450   \n",
       "\n",
       "   Narcissism        Age     GAD_T      SWL_T     SPIN_T alpha2      lat  \\\n",
       "0    2.400000  21.000000  5.400000  16.000000  10.000000     al  41.1533   \n",
       "1    1.700000  21.100000  6.600000  19.100000  21.900000     ae  23.4241   \n",
       "2    1.967391  20.804348  4.782609  19.195652  18.282609     ar -38.4161   \n",
       "3    1.937500  20.588542  5.755208  18.619792  21.588542     au -25.2744   \n",
       "4    2.085271  20.961240  4.333333  21.364341  18.705426     at  47.5162   \n",
       "\n",
       "       lng  \n",
       "0  20.1683  \n",
       "1  53.8478  \n",
       "2 -63.6167  \n",
       "3  133.775  \n",
       "4  14.5501  "
      ]
     },
     "execution_count": 5,
     "metadata": {},
     "output_type": "execute_result"
    }
   ],
   "source": [
    "#Use google maps API to get coordinates of each country\n",
    "country_stats['lat'] = \"\"\n",
    "country_stats['lng'] = \"\"\n",
    "base_url = \"https://maps.googleapis.com/maps/api/geocode/json\"\n",
    "params = {'key': gkey}\n",
    "\n",
    "for index, row in country_stats.iterrows():\n",
    "    alpha2 = row['alpha2']\n",
    "    country = row['Residence']\n",
    "        \n",
    "    #add address and region to params\n",
    "    params['address'] = country\n",
    "    params['region'] = alpha2\n",
    "    \n",
    "    try:\n",
    "        response = requests.get(base_url, params = params).json()\n",
    "        country_stats.loc[index, 'lat'] = response['results'][0]['geometry']['location']['lat']\n",
    "        country_stats.loc[index, 'lng'] = response['results'][0]['geometry']['location']['lng']\n",
    "        print(f\"processing country: {country}\")\n",
    "        \n",
    "    except:\n",
    "        print(\"country not found\")\n",
    "        pass\n",
    "\n",
    "country_stats.head()"
   ]
  },
  {
   "cell_type": "code",
   "execution_count": 6,
   "id": "24f0b759",
   "metadata": {},
   "outputs": [],
   "source": [
    "country_stats = country_stats.rename(columns = {'Hours':\"Average Hours\", 'streams':'Average Streaming Hours', 'Narcissism':'Average Narcissism Score', 'Age':'Average Participant Age', 'GAD_T': 'Average GAD Score', \"SWL_T\":\"Average SWL Score\",\"SPIN_T\": \"Average SPIN Score\"})\n",
    "country_stats.to_csv(\"country_stats.csv\", index = False)"
   ]
  },
  {
   "cell_type": "code",
   "execution_count": 16,
   "id": "b2f2337c",
   "metadata": {},
   "outputs": [],
   "source": [
    "#create heatmap using country locations\n",
    "locations = country_stats[['lat','lng']]\n",
    "\n",
    "gad_avg = country_stats['Average GAD Score'].astype(float)\n",
    "swl_avg = country_stats['Average SWL Score'].astype(float)\n",
    "spin_avg = country_stats['Average SPIN Score'].astype(float)\n",
    "narcissism_avg = country_stats['Average Narcissism Score'].astype(float)\n",
    "participant_count = country_stats['Participant Count'].astype(float)\n",
    "avg_hours = country_stats['Average Hours'].astype(float)"
   ]
  },
  {
   "cell_type": "code",
   "execution_count": 67,
   "id": "99475b50",
   "metadata": {
    "scrolled": false
   },
   "outputs": [
    {
     "data": {
      "application/vnd.jupyter.widget-view+json": {
       "model_id": "11ce8d21905048dd9256ee52a169baf4",
       "version_major": 2,
       "version_minor": 0
      },
      "text/plain": [
       "Figure(layout=FigureLayout(height='420px'))"
      ]
     },
     "metadata": {},
     "output_type": "display_data"
    }
   ],
   "source": [
    "#plot heatmaps\n",
    "fig1 = gmaps.figure(center = (21, 20), zoom_level =1.8)\n",
    "\n",
    "#create heat layer for GAD_T\n",
    "gad_avg_layer = gmaps.heatmap_layer(locations, weights = participant_count, \n",
    "                                   dissipating = False, max_intensity = 500, point_radius = 7)\n",
    "\n",
    "fig1.add_layer(gad_avg_layer)\n",
    "\n",
    "fig1"
   ]
  },
  {
   "cell_type": "markdown",
   "id": "ec6ae475",
   "metadata": {},
   "source": [
    "# Chloropleth Maps using plotly"
   ]
  },
  {
   "cell_type": "markdown",
   "id": "53a072a8",
   "metadata": {},
   "source": [
    "## GAD Scores"
   ]
  },
  {
   "cell_type": "code",
   "execution_count": 22,
   "id": "b76afe5f",
   "metadata": {},
   "outputs": [
    {
     "data": {
      "text/html": [
       "<div>\n",
       "<style scoped>\n",
       "    .dataframe tbody tr th:only-of-type {\n",
       "        vertical-align: middle;\n",
       "    }\n",
       "\n",
       "    .dataframe tbody tr th {\n",
       "        vertical-align: top;\n",
       "    }\n",
       "\n",
       "    .dataframe thead th {\n",
       "        text-align: right;\n",
       "    }\n",
       "</style>\n",
       "<table border=\"1\" class=\"dataframe\">\n",
       "  <thead>\n",
       "    <tr style=\"text-align: right;\">\n",
       "      <th></th>\n",
       "      <th>Residence_ISO3</th>\n",
       "      <th>Residence</th>\n",
       "      <th>Participant Count</th>\n",
       "      <th>Average Hours</th>\n",
       "      <th>Average Streaming Hours</th>\n",
       "      <th>Average Narcissism Score</th>\n",
       "      <th>Average Participant Age</th>\n",
       "      <th>Average GAD Score</th>\n",
       "      <th>Average SWL Score</th>\n",
       "      <th>Average SPIN Score</th>\n",
       "      <th>alpha2</th>\n",
       "      <th>lat</th>\n",
       "      <th>lng</th>\n",
       "      <th>Participant Count Range</th>\n",
       "      <th>GAD Anxiety Score</th>\n",
       "    </tr>\n",
       "  </thead>\n",
       "  <tbody>\n",
       "    <tr>\n",
       "      <th>0</th>\n",
       "      <td>ALB</td>\n",
       "      <td>Albania</td>\n",
       "      <td>5</td>\n",
       "      <td>20.200000</td>\n",
       "      <td>8.400000</td>\n",
       "      <td>2.400000</td>\n",
       "      <td>21.000000</td>\n",
       "      <td>5.400000</td>\n",
       "      <td>16.000000</td>\n",
       "      <td>10.000000</td>\n",
       "      <td>al</td>\n",
       "      <td>41.1533</td>\n",
       "      <td>20.1683</td>\n",
       "      <td>0 - 99</td>\n",
       "      <td>5-9: Mild Anxiety</td>\n",
       "    </tr>\n",
       "    <tr>\n",
       "      <th>1</th>\n",
       "      <td>ARE</td>\n",
       "      <td>UAE</td>\n",
       "      <td>10</td>\n",
       "      <td>19.300000</td>\n",
       "      <td>15.700000</td>\n",
       "      <td>1.700000</td>\n",
       "      <td>21.100000</td>\n",
       "      <td>6.600000</td>\n",
       "      <td>19.100000</td>\n",
       "      <td>21.900000</td>\n",
       "      <td>ae</td>\n",
       "      <td>23.4241</td>\n",
       "      <td>53.8478</td>\n",
       "      <td>0 - 99</td>\n",
       "      <td>5-9: Mild Anxiety</td>\n",
       "    </tr>\n",
       "    <tr>\n",
       "      <th>2</th>\n",
       "      <td>ARG</td>\n",
       "      <td>Argentina</td>\n",
       "      <td>92</td>\n",
       "      <td>24.413043</td>\n",
       "      <td>11.630435</td>\n",
       "      <td>1.967391</td>\n",
       "      <td>20.804348</td>\n",
       "      <td>4.782609</td>\n",
       "      <td>19.195652</td>\n",
       "      <td>18.282609</td>\n",
       "      <td>ar</td>\n",
       "      <td>-38.4161</td>\n",
       "      <td>-63.6167</td>\n",
       "      <td>0 - 99</td>\n",
       "      <td>5-9: Mild Anxiety</td>\n",
       "    </tr>\n",
       "    <tr>\n",
       "      <th>3</th>\n",
       "      <td>AUS</td>\n",
       "      <td>Australia</td>\n",
       "      <td>192</td>\n",
       "      <td>25.416667</td>\n",
       "      <td>9.828125</td>\n",
       "      <td>1.937500</td>\n",
       "      <td>20.588542</td>\n",
       "      <td>5.755208</td>\n",
       "      <td>18.619792</td>\n",
       "      <td>21.588542</td>\n",
       "      <td>au</td>\n",
       "      <td>-25.2744</td>\n",
       "      <td>133.775</td>\n",
       "      <td>100 - 499</td>\n",
       "      <td>5-9: Mild Anxiety</td>\n",
       "    </tr>\n",
       "    <tr>\n",
       "      <th>4</th>\n",
       "      <td>AUT</td>\n",
       "      <td>Austria</td>\n",
       "      <td>129</td>\n",
       "      <td>22.372093</td>\n",
       "      <td>11.798450</td>\n",
       "      <td>2.085271</td>\n",
       "      <td>20.961240</td>\n",
       "      <td>4.333333</td>\n",
       "      <td>21.364341</td>\n",
       "      <td>18.705426</td>\n",
       "      <td>at</td>\n",
       "      <td>47.5162</td>\n",
       "      <td>14.5501</td>\n",
       "      <td>100 - 499</td>\n",
       "      <td>5-9: Mild Anxiety</td>\n",
       "    </tr>\n",
       "    <tr>\n",
       "      <th>...</th>\n",
       "      <td>...</td>\n",
       "      <td>...</td>\n",
       "      <td>...</td>\n",
       "      <td>...</td>\n",
       "      <td>...</td>\n",
       "      <td>...</td>\n",
       "      <td>...</td>\n",
       "      <td>...</td>\n",
       "      <td>...</td>\n",
       "      <td>...</td>\n",
       "      <td>...</td>\n",
       "      <td>...</td>\n",
       "      <td>...</td>\n",
       "      <td>...</td>\n",
       "      <td>...</td>\n",
       "    </tr>\n",
       "    <tr>\n",
       "      <th>102</th>\n",
       "      <td>USA</td>\n",
       "      <td>USA</td>\n",
       "      <td>4018</td>\n",
       "      <td>20.341463</td>\n",
       "      <td>10.507218</td>\n",
       "      <td>1.995022</td>\n",
       "      <td>21.081135</td>\n",
       "      <td>5.547287</td>\n",
       "      <td>20.136386</td>\n",
       "      <td>20.137382</td>\n",
       "      <td>us</td>\n",
       "      <td>37.0902</td>\n",
       "      <td>-95.7129</td>\n",
       "      <td>2000+</td>\n",
       "      <td>5-9: Mild Anxiety</td>\n",
       "    </tr>\n",
       "    <tr>\n",
       "      <th>103</th>\n",
       "      <td>VCT</td>\n",
       "      <td>St Vincent</td>\n",
       "      <td>1</td>\n",
       "      <td>15.000000</td>\n",
       "      <td>4.000000</td>\n",
       "      <td>1.000000</td>\n",
       "      <td>19.000000</td>\n",
       "      <td>5.000000</td>\n",
       "      <td>26.000000</td>\n",
       "      <td>28.000000</td>\n",
       "      <td>vc</td>\n",
       "      <td>12.9843</td>\n",
       "      <td>-61.2872</td>\n",
       "      <td>0 - 99</td>\n",
       "      <td>5-9: Mild Anxiety</td>\n",
       "    </tr>\n",
       "    <tr>\n",
       "      <th>104</th>\n",
       "      <td>VEN</td>\n",
       "      <td>Venezuela</td>\n",
       "      <td>28</td>\n",
       "      <td>25.214286</td>\n",
       "      <td>8.107143</td>\n",
       "      <td>2.000000</td>\n",
       "      <td>20.642857</td>\n",
       "      <td>5.857143</td>\n",
       "      <td>18.321429</td>\n",
       "      <td>18.857143</td>\n",
       "      <td>ve</td>\n",
       "      <td>6.42375</td>\n",
       "      <td>-66.5897</td>\n",
       "      <td>0 - 99</td>\n",
       "      <td>5-9: Mild Anxiety</td>\n",
       "    </tr>\n",
       "    <tr>\n",
       "      <th>105</th>\n",
       "      <td>VNM</td>\n",
       "      <td>Vietnam</td>\n",
       "      <td>11</td>\n",
       "      <td>18.636364</td>\n",
       "      <td>4.181818</td>\n",
       "      <td>2.272727</td>\n",
       "      <td>22.090909</td>\n",
       "      <td>4.545455</td>\n",
       "      <td>14.090909</td>\n",
       "      <td>20.727273</td>\n",
       "      <td>vn</td>\n",
       "      <td>14.0583</td>\n",
       "      <td>108.277</td>\n",
       "      <td>0 - 99</td>\n",
       "      <td>5-9: Mild Anxiety</td>\n",
       "    </tr>\n",
       "    <tr>\n",
       "      <th>106</th>\n",
       "      <td>ZAF</td>\n",
       "      <td>South Africa</td>\n",
       "      <td>22</td>\n",
       "      <td>21.181818</td>\n",
       "      <td>9.863636</td>\n",
       "      <td>1.818182</td>\n",
       "      <td>21.363636</td>\n",
       "      <td>5.636364</td>\n",
       "      <td>18.545455</td>\n",
       "      <td>18.227273</td>\n",
       "      <td>za</td>\n",
       "      <td>-30.5595</td>\n",
       "      <td>22.9375</td>\n",
       "      <td>0 - 99</td>\n",
       "      <td>5-9: Mild Anxiety</td>\n",
       "    </tr>\n",
       "  </tbody>\n",
       "</table>\n",
       "<p>107 rows × 15 columns</p>\n",
       "</div>"
      ],
      "text/plain": [
       "    Residence_ISO3     Residence  Participant Count  Average Hours  \\\n",
       "0              ALB       Albania                  5      20.200000   \n",
       "1              ARE           UAE                 10      19.300000   \n",
       "2              ARG     Argentina                 92      24.413043   \n",
       "3              AUS     Australia                192      25.416667   \n",
       "4              AUT       Austria                129      22.372093   \n",
       "..             ...           ...                ...            ...   \n",
       "102            USA           USA               4018      20.341463   \n",
       "103            VCT    St Vincent                  1      15.000000   \n",
       "104            VEN     Venezuela                 28      25.214286   \n",
       "105            VNM       Vietnam                 11      18.636364   \n",
       "106            ZAF  South Africa                 22      21.181818   \n",
       "\n",
       "     Average Streaming Hours  Average Narcissism Score  \\\n",
       "0                   8.400000                  2.400000   \n",
       "1                  15.700000                  1.700000   \n",
       "2                  11.630435                  1.967391   \n",
       "3                   9.828125                  1.937500   \n",
       "4                  11.798450                  2.085271   \n",
       "..                       ...                       ...   \n",
       "102                10.507218                  1.995022   \n",
       "103                 4.000000                  1.000000   \n",
       "104                 8.107143                  2.000000   \n",
       "105                 4.181818                  2.272727   \n",
       "106                 9.863636                  1.818182   \n",
       "\n",
       "     Average Participant Age  Average GAD Score  Average SWL Score  \\\n",
       "0                  21.000000           5.400000          16.000000   \n",
       "1                  21.100000           6.600000          19.100000   \n",
       "2                  20.804348           4.782609          19.195652   \n",
       "3                  20.588542           5.755208          18.619792   \n",
       "4                  20.961240           4.333333          21.364341   \n",
       "..                       ...                ...                ...   \n",
       "102                21.081135           5.547287          20.136386   \n",
       "103                19.000000           5.000000          26.000000   \n",
       "104                20.642857           5.857143          18.321429   \n",
       "105                22.090909           4.545455          14.090909   \n",
       "106                21.363636           5.636364          18.545455   \n",
       "\n",
       "     Average SPIN Score alpha2      lat      lng Participant Count Range  \\\n",
       "0             10.000000     al  41.1533  20.1683                  0 - 99   \n",
       "1             21.900000     ae  23.4241  53.8478                  0 - 99   \n",
       "2             18.282609     ar -38.4161 -63.6167                  0 - 99   \n",
       "3             21.588542     au -25.2744  133.775               100 - 499   \n",
       "4             18.705426     at  47.5162  14.5501               100 - 499   \n",
       "..                  ...    ...      ...      ...                     ...   \n",
       "102           20.137382     us  37.0902 -95.7129                   2000+   \n",
       "103           28.000000     vc  12.9843 -61.2872                  0 - 99   \n",
       "104           18.857143     ve  6.42375 -66.5897                  0 - 99   \n",
       "105           20.727273     vn  14.0583  108.277                  0 - 99   \n",
       "106           18.227273     za -30.5595  22.9375                  0 - 99   \n",
       "\n",
       "     GAD Anxiety Score  \n",
       "0    5-9: Mild Anxiety  \n",
       "1    5-9: Mild Anxiety  \n",
       "2    5-9: Mild Anxiety  \n",
       "3    5-9: Mild Anxiety  \n",
       "4    5-9: Mild Anxiety  \n",
       "..                 ...  \n",
       "102  5-9: Mild Anxiety  \n",
       "103  5-9: Mild Anxiety  \n",
       "104  5-9: Mild Anxiety  \n",
       "105  5-9: Mild Anxiety  \n",
       "106  5-9: Mild Anxiety  \n",
       "\n",
       "[107 rows x 15 columns]"
      ]
     },
     "execution_count": 22,
     "metadata": {},
     "output_type": "execute_result"
    }
   ],
   "source": [
    "#Create bins to place values based on average GAD_T per country\n",
    "bins = [0, 4, 9, 14, 21]\n",
    "\n",
    "bin_labels = [\"0-4: Minimal Anxiety\", \"5-9: Mild Anxiety\", \"10-14: Moderate Anxiety\", \"15-21: Severe Anxiety\"]\n",
    "\n",
    "country_stats['GAD Anxiety Score'] = pd.cut(country_stats['Average GAD Score'], \n",
    "                                            bins, labels = bin_labels, include_lowest = True)\n",
    "\n",
    "country_stats"
   ]
  },
  {
   "cell_type": "code",
   "execution_count": 60,
   "id": "24b2d91c",
   "metadata": {},
   "outputs": [
    {
     "data": {
      "application/vnd.plotly.v1+json": {
       "config": {
        "plotlyServerURL": "https://plot.ly"
       },
       "data": [
        {
         "colorscale": [
          [
           0,
           "#afd0aa"
          ],
          [
           1,
           "#afd0aa"
          ]
         ],
         "customdata": [
          [
           4,
           "CYP",
           "0-4: Minimal Anxiety"
          ],
          [
           0,
           "FJI",
           "0-4: Minimal Anxiety"
          ],
          [
           3.6666666666666665,
           "TUN",
           "0-4: Minimal Anxiety"
          ],
          [
           4,
           "KOR",
           "0-4: Minimal Anxiety"
          ],
          [
           3.7777777777777777,
           "UKR",
           "0-4: Minimal Anxiety"
          ],
          [
           3.1666666666666665,
           "CHN",
           "0-4: Minimal Anxiety"
          ],
          [
           3.142857142857143,
           "LUX",
           "0-4: Minimal Anxiety"
          ],
          [
           1,
           "GIB",
           "0-4: Minimal Anxiety"
          ],
          [
           2,
           "GRD",
           "0-4: Minimal Anxiety"
          ],
          [
           4,
           "SLV",
           "0-4: Minimal Anxiety"
          ],
          [
           1,
           "BLR",
           "0-4: Minimal Anxiety"
          ],
          [
           4,
           "TWN",
           "0-4: Minimal Anxiety"
          ],
          [
           4,
           "DZA",
           "0-4: Minimal Anxiety"
          ],
          [
           0,
           "BRN",
           "0-4: Minimal Anxiety"
          ],
          [
           2,
           "LIE",
           "0-4: Minimal Anxiety"
          ]
         ],
         "geo": "geo",
         "hovertemplate": "<b>%{hovertext}</b><br><br>Average GAD Score=%{customdata[0]}<extra></extra>",
         "hovertext": [
          "Cyprus",
          "Fiji",
          "Tunisia",
          "South Korea",
          "Ukraine",
          "China",
          "Luxembourg",
          "Gibraltar ",
          "Grenada",
          "El Salvador",
          "Belarus",
          "Taiwan",
          "Algeria",
          "Brunei",
          "Liechtenstein"
         ],
         "locations": [
          "CYP",
          "FJI",
          "TUN",
          "KOR",
          "UKR",
          "CHN",
          "LUX",
          "GIB",
          "GRD",
          "SLV",
          "BLR",
          "TWN",
          "DZA",
          "BRN",
          "LIE"
         ],
         "name": "0-4: Minimal Anxiety",
         "showlegend": true,
         "showscale": false,
         "type": "choropleth",
         "z": [
          1,
          1,
          1,
          1,
          1,
          1,
          1,
          1,
          1,
          1,
          1,
          1,
          1,
          1,
          1
         ]
        },
        {
         "colorscale": [
          [
           0,
           "#fe7171"
          ],
          [
           1,
           "#fe7171"
          ]
         ],
         "customdata": [
          [
           4.912280701754386,
           "FRA",
           "5-9: Mild Anxiety"
          ],
          [
           4.25,
           "ECU",
           "5-9: Mild Anxiety"
          ],
          [
           4.986190089358245,
           "DEU",
           "5-9: Mild Anxiety"
          ],
          [
           4.574074074074074,
           "NOR",
           "5-9: Mild Anxiety"
          ],
          [
           5,
           "PRI",
           "5-9: Mild Anxiety"
          ],
          [
           5.114864864864865,
           "FIN",
           "5-9: Mild Anxiety"
          ],
          [
           4.6,
           "THA",
           "5-9: Mild Anxiety"
          ],
          [
           4.807606263982103,
           "NLD",
           "5-9: Mild Anxiety"
          ],
          [
           5.8,
           "EST",
           "5-9: Mild Anxiety"
          ],
          [
           4.782608695652174,
           "ARG",
           "5-9: Mild Anxiety"
          ],
          [
           5.467032967032967,
           "ESP",
           "5-9: Mild Anxiety"
          ],
          [
           4.7290322580645165,
           "SWE",
           "5-9: Mild Anxiety"
          ],
          [
           8.1875,
           "PER",
           "5-9: Mild Anxiety"
          ],
          [
           6.75,
           "PAN",
           "5-9: Mild Anxiety"
          ],
          [
           9,
           "JAM",
           "5-9: Mild Anxiety"
          ],
          [
           5.333333333333333,
           "GTM",
           "5-9: Mild Anxiety"
          ],
          [
           4.745454545454545,
           "NZL",
           "5-9: Mild Anxiety"
          ],
          [
           5.466435185185185,
           "CAN",
           "5-9: Mild Anxiety"
          ],
          [
           5,
           "VCT",
           "5-9: Mild Anxiety"
          ],
          [
           9,
           "KAZ",
           "5-9: Mild Anxiety"
          ],
          [
           7.666666666666667,
           "IND",
           "5-9: Mild Anxiety"
          ],
          [
           5.547287207565954,
           "USA",
           "5-9: Mild Anxiety"
          ],
          [
           5.083333333333333,
           "CHL",
           "5-9: Mild Anxiety"
          ],
          [
           5.094117647058823,
           "CHE",
           "5-9: Mild Anxiety"
          ],
          [
           4.75,
           "CRI",
           "5-9: Mild Anxiety"
          ],
          [
           4.333333333333333,
           "AUT",
           "5-9: Mild Anxiety"
          ],
          [
           4.189655172413793,
           "IRL",
           "5-9: Mild Anxiety"
          ],
          [
           4.42654028436019,
           "DNK",
           "5-9: Mild Anxiety"
          ],
          [
           4.714285714285714,
           "TTO",
           "5-9: Mild Anxiety"
          ],
          [
           5,
           "MKD",
           "5-9: Mild Anxiety"
          ],
          [
           4.857142857142857,
           "ISL",
           "5-9: Mild Anxiety"
          ],
          [
           6,
           "DOM",
           "5-9: Mild Anxiety"
          ],
          [
           4.666666666666667,
           "GEO",
           "5-9: Mild Anxiety"
          ],
          [
           4.916666666666667,
           "MAR",
           "5-9: Mild Anxiety"
          ],
          [
           6.043478260869565,
           "ISR",
           "5-9: Mild Anxiety"
          ],
          [
           7,
           "BOL",
           "5-9: Mild Anxiety"
          ],
          [
           6,
           "BGD",
           "5-9: Mild Anxiety"
          ],
          [
           5.222222222222222,
           "MEX",
           "5-9: Mild Anxiety"
          ],
          [
           9,
           "GLP",
           "5-9: Mild Anxiety"
          ],
          [
           5.520958083832335,
           "BEL",
           "5-9: Mild Anxiety"
          ],
          [
           6.084821428571429,
           "BRA",
           "5-9: Mild Anxiety"
          ],
          [
           5.588235294117647,
           "LTU",
           "5-9: Mild Anxiety"
          ],
          [
           8.545454545454545,
           "URY",
           "5-9: Mild Anxiety"
          ],
          [
           5.666666666666667,
           "GRC",
           "5-9: Mild Anxiety"
          ],
          [
           6,
           "HND",
           "5-9: Mild Anxiety"
          ],
          [
           5.80327868852459,
           "SVN",
           "5-9: Mild Anxiety"
          ],
          [
           5.787878787878788,
           "RUS",
           "5-9: Mild Anxiety"
          ],
          [
           6.275229357798165,
           "ITA",
           "5-9: Mild Anxiety"
          ],
          [
           6.904761904761905,
           "TUR",
           "5-9: Mild Anxiety"
          ],
          [
           5.66321243523316,
           "PRT",
           "5-9: Mild Anxiety"
          ],
          [
           6.492063492063492,
           "HRV",
           "5-9: Mild Anxiety"
          ],
          [
           5.755208333333333,
           "AUS",
           "5-9: Mild Anxiety"
          ],
          [
           5.636363636363637,
           "ZAF",
           "5-9: Mild Anxiety"
          ],
          [
           5.986175115207374,
           "POL",
           "5-9: Mild Anxiety"
          ],
          [
           5.857142857142857,
           "VEN",
           "5-9: Mild Anxiety"
          ],
          [
           6.518518518518518,
           "LVA",
           "5-9: Mild Anxiety"
          ],
          [
           6.288888888888889,
           "BGR",
           "5-9: Mild Anxiety"
          ],
          [
           4.444444444444445,
           "HKG",
           "5-9: Mild Anxiety"
          ],
          [
           7.285714285714286,
           "SAU",
           "5-9: Mild Anxiety"
          ],
          [
           8.5,
           "BLZ",
           "5-9: Mild Anxiety"
          ],
          [
           6,
           "NIC",
           "5-9: Mild Anxiety"
          ],
          [
           5.4,
           "MLT",
           "5-9: Mild Anxiety"
          ],
          [
           4.545454545454546,
           "VNM",
           "5-9: Mild Anxiety"
          ],
          [
           5.314814814814815,
           "HUN",
           "5-9: Mild Anxiety"
          ],
          [
           8.5,
           "SYR",
           "5-9: Mild Anxiety"
          ],
          [
           6.6,
           "ARE",
           "5-9: Mild Anxiety"
          ],
          [
           5.476190476190476,
           "COL",
           "5-9: Mild Anxiety"
          ],
          [
           6,
           "MNG",
           "5-9: Mild Anxiety"
          ],
          [
           5.666666666666667,
           "SVK",
           "5-9: Mild Anxiety"
          ],
          [
           9,
           "MNE",
           "5-9: Mild Anxiety"
          ],
          [
           4.428571428571429,
           "JPN",
           "5-9: Mild Anxiety"
          ],
          [
           5.5,
           "BHR",
           "5-9: Mild Anxiety"
          ],
          [
           5.2,
           "BIH",
           "5-9: Mild Anxiety"
          ],
          [
           5.25,
           "FRO",
           "5-9: Mild Anxiety"
          ],
          [
           8,
           "PHL",
           "5-9: Mild Anxiety"
          ],
          [
           6,
           "NAM",
           "5-9: Mild Anxiety"
          ],
          [
           5.883116883116883,
           "ROU",
           "5-9: Mild Anxiety"
          ],
          [
           7,
           "KWT",
           "5-9: Mild Anxiety"
          ],
          [
           5.25,
           "JOR",
           "5-9: Mild Anxiety"
          ],
          [
           6.212086659064994,
           "GBR",
           "5-9: Mild Anxiety"
          ],
          [
           4.774193548387097,
           "SGP",
           "5-9: Mild Anxiety"
          ],
          [
           4.916666666666667,
           "SRB",
           "5-9: Mild Anxiety"
          ],
          [
           4.5,
           "PAK",
           "5-9: Mild Anxiety"
          ],
          [
           5.4,
           "ALB",
           "5-9: Mild Anxiety"
          ],
          [
           5.12,
           "MYS",
           "5-9: Mild Anxiety"
          ],
          [
           5.888888888888889,
           "CZE",
           "5-9: Mild Anxiety"
          ]
         ],
         "geo": "geo",
         "hovertemplate": "<b>%{hovertext}</b><br><br>Average GAD Score=%{customdata[0]}<extra></extra>",
         "hovertext": [
          "France",
          "Ecuador",
          "Germany",
          "Norway",
          "Puerto Rico",
          "Finland",
          "Thailand",
          "Netherlands",
          "Estonia",
          "Argentina",
          "Spain",
          "Sweden",
          "Peru",
          "Panama",
          "Jamaica",
          "Guatemala",
          "New Zealand ",
          "Canada",
          "St Vincent",
          "Kazakhstan",
          "India",
          "USA",
          "Chile",
          "Switzerland",
          "Costa Rica",
          "Austria",
          "Ireland",
          "Denmark",
          "Trinidad & Tobago",
          "Macedonia",
          "Iceland",
          "Dominican Republic",
          "Georgia",
          "Morocco",
          "Israel",
          "Bolivia",
          "Bangladesh",
          "Mexico",
          "Guadeloupe",
          "Belgium",
          "Brazil",
          "Lithuania",
          "Uruguay",
          "Greece",
          "Honduras",
          "Slovenia",
          "Russia",
          "Italy",
          "Turkey",
          "Portugal",
          "Croatia",
          "Australia",
          "South Africa",
          "Poland",
          "Venezuela",
          "Latvia",
          "Bulgaria",
          "Hong Kong",
          "Saudi Arabia",
          "Belize",
          "Nicaragua",
          "Malta",
          "Vietnam",
          "Hungary",
          "Syria",
          "UAE",
          "Colombia",
          "Mongolia",
          "Slovakia",
          "Montenegro",
          "Japan",
          "Bahrain",
          "Bosnia and Herzegovina",
          "Faroe Islands",
          "Philippines",
          "Namibia",
          "Romania",
          "Kuwait",
          "Jordan",
          "UK",
          "Singapore",
          "Serbia",
          "Pakistan",
          "Albania",
          "Malaysia",
          "Czech Republic"
         ],
         "locations": [
          "FRA",
          "ECU",
          "DEU",
          "NOR",
          "PRI",
          "FIN",
          "THA",
          "NLD",
          "EST",
          "ARG",
          "ESP",
          "SWE",
          "PER",
          "PAN",
          "JAM",
          "GTM",
          "NZL",
          "CAN",
          "VCT",
          "KAZ",
          "IND",
          "USA",
          "CHL",
          "CHE",
          "CRI",
          "AUT",
          "IRL",
          "DNK",
          "TTO",
          "MKD",
          "ISL",
          "DOM",
          "GEO",
          "MAR",
          "ISR",
          "BOL",
          "BGD",
          "MEX",
          "GLP",
          "BEL",
          "BRA",
          "LTU",
          "URY",
          "GRC",
          "HND",
          "SVN",
          "RUS",
          "ITA",
          "TUR",
          "PRT",
          "HRV",
          "AUS",
          "ZAF",
          "POL",
          "VEN",
          "LVA",
          "BGR",
          "HKG",
          "SAU",
          "BLZ",
          "NIC",
          "MLT",
          "VNM",
          "HUN",
          "SYR",
          "ARE",
          "COL",
          "MNG",
          "SVK",
          "MNE",
          "JPN",
          "BHR",
          "BIH",
          "FRO",
          "PHL",
          "NAM",
          "ROU",
          "KWT",
          "JOR",
          "GBR",
          "SGP",
          "SRB",
          "PAK",
          "ALB",
          "MYS",
          "CZE"
         ],
         "name": "5-9: Mild Anxiety",
         "showlegend": true,
         "showscale": false,
         "type": "choropleth",
         "z": [
          1,
          1,
          1,
          1,
          1,
          1,
          1,
          1,
          1,
          1,
          1,
          1,
          1,
          1,
          1,
          1,
          1,
          1,
          1,
          1,
          1,
          1,
          1,
          1,
          1,
          1,
          1,
          1,
          1,
          1,
          1,
          1,
          1,
          1,
          1,
          1,
          1,
          1,
          1,
          1,
          1,
          1,
          1,
          1,
          1,
          1,
          1,
          1,
          1,
          1,
          1,
          1,
          1,
          1,
          1,
          1,
          1,
          1,
          1,
          1,
          1,
          1,
          1,
          1,
          1,
          1,
          1,
          1,
          1,
          1,
          1,
          1,
          1,
          1,
          1,
          1,
          1,
          1,
          1,
          1,
          1,
          1,
          1,
          1,
          1,
          1
         ]
        },
        {
         "colorscale": [
          [
           0,
           "#a10000"
          ],
          [
           1,
           "#a10000"
          ]
         ],
         "customdata": [
          [
           9.4,
           "LBN",
           "10-14: Moderate Anxiety"
          ],
          [
           12.6,
           "EGY",
           "10-14: Moderate Anxiety"
          ],
          [
           11,
           "PSE",
           "10-14: Moderate Anxiety"
          ],
          [
           14,
           "IDN",
           "10-14: Moderate Anxiety"
          ],
          [
           10,
           "MDA",
           "10-14: Moderate Anxiety"
          ]
         ],
         "geo": "geo",
         "hovertemplate": "<b>%{hovertext}</b><br><br>Average GAD Score=%{customdata[0]}<extra></extra>",
         "hovertext": [
          "Lebanon",
          "Egypt",
          "Palestine",
          "Indonesia",
          "Moldova"
         ],
         "locations": [
          "LBN",
          "EGY",
          "PSE",
          "IDN",
          "MDA"
         ],
         "name": "10-14: Moderate Anxiety",
         "showlegend": true,
         "showscale": false,
         "type": "choropleth",
         "z": [
          1,
          1,
          1,
          1,
          1
         ]
        },
        {
         "colorscale": [
          [
           0,
           "#690000"
          ],
          [
           1,
           "#690000"
          ]
         ],
         "customdata": [
          [
           16.333333333333332,
           "QAT",
           "15-21: Severe Anxiety"
          ]
         ],
         "geo": "geo",
         "hovertemplate": "<b>%{hovertext}</b><br><br>Average GAD Score=%{customdata[0]}<extra></extra>",
         "hovertext": [
          "Qatar"
         ],
         "locations": [
          "QAT"
         ],
         "name": "15-21: Severe Anxiety",
         "showlegend": true,
         "showscale": false,
         "type": "choropleth",
         "z": [
          1
         ]
        }
       ],
       "layout": {
        "geo": {
         "center": {},
         "domain": {
          "x": [
           0,
           1
          ],
          "y": [
           0,
           1
          ]
         },
         "projection": {
          "type": "equirectangular"
         },
         "showcoastlines": false,
         "showframe": false
        },
        "hoverlabel": {
         "bgcolor": "white",
         "font": {
          "family": "Ariel",
          "size": 14
         }
        },
        "legend": {
         "title": {
          "text": "GAD Anxiety Score"
         },
         "tracegroupgap": 0
        },
        "margin": {
         "t": 60
        },
        "template": {
         "data": {
          "bar": [
           {
            "error_x": {
             "color": "#2a3f5f"
            },
            "error_y": {
             "color": "#2a3f5f"
            },
            "marker": {
             "line": {
              "color": "#E5ECF6",
              "width": 0.5
             },
             "pattern": {
              "fillmode": "overlay",
              "size": 10,
              "solidity": 0.2
             }
            },
            "type": "bar"
           }
          ],
          "barpolar": [
           {
            "marker": {
             "line": {
              "color": "#E5ECF6",
              "width": 0.5
             },
             "pattern": {
              "fillmode": "overlay",
              "size": 10,
              "solidity": 0.2
             }
            },
            "type": "barpolar"
           }
          ],
          "carpet": [
           {
            "aaxis": {
             "endlinecolor": "#2a3f5f",
             "gridcolor": "white",
             "linecolor": "white",
             "minorgridcolor": "white",
             "startlinecolor": "#2a3f5f"
            },
            "baxis": {
             "endlinecolor": "#2a3f5f",
             "gridcolor": "white",
             "linecolor": "white",
             "minorgridcolor": "white",
             "startlinecolor": "#2a3f5f"
            },
            "type": "carpet"
           }
          ],
          "choropleth": [
           {
            "colorbar": {
             "outlinewidth": 0,
             "ticks": ""
            },
            "type": "choropleth"
           }
          ],
          "contour": [
           {
            "colorbar": {
             "outlinewidth": 0,
             "ticks": ""
            },
            "colorscale": [
             [
              0,
              "#0d0887"
             ],
             [
              0.1111111111111111,
              "#46039f"
             ],
             [
              0.2222222222222222,
              "#7201a8"
             ],
             [
              0.3333333333333333,
              "#9c179e"
             ],
             [
              0.4444444444444444,
              "#bd3786"
             ],
             [
              0.5555555555555556,
              "#d8576b"
             ],
             [
              0.6666666666666666,
              "#ed7953"
             ],
             [
              0.7777777777777778,
              "#fb9f3a"
             ],
             [
              0.8888888888888888,
              "#fdca26"
             ],
             [
              1,
              "#f0f921"
             ]
            ],
            "type": "contour"
           }
          ],
          "contourcarpet": [
           {
            "colorbar": {
             "outlinewidth": 0,
             "ticks": ""
            },
            "type": "contourcarpet"
           }
          ],
          "heatmap": [
           {
            "colorbar": {
             "outlinewidth": 0,
             "ticks": ""
            },
            "colorscale": [
             [
              0,
              "#0d0887"
             ],
             [
              0.1111111111111111,
              "#46039f"
             ],
             [
              0.2222222222222222,
              "#7201a8"
             ],
             [
              0.3333333333333333,
              "#9c179e"
             ],
             [
              0.4444444444444444,
              "#bd3786"
             ],
             [
              0.5555555555555556,
              "#d8576b"
             ],
             [
              0.6666666666666666,
              "#ed7953"
             ],
             [
              0.7777777777777778,
              "#fb9f3a"
             ],
             [
              0.8888888888888888,
              "#fdca26"
             ],
             [
              1,
              "#f0f921"
             ]
            ],
            "type": "heatmap"
           }
          ],
          "heatmapgl": [
           {
            "colorbar": {
             "outlinewidth": 0,
             "ticks": ""
            },
            "colorscale": [
             [
              0,
              "#0d0887"
             ],
             [
              0.1111111111111111,
              "#46039f"
             ],
             [
              0.2222222222222222,
              "#7201a8"
             ],
             [
              0.3333333333333333,
              "#9c179e"
             ],
             [
              0.4444444444444444,
              "#bd3786"
             ],
             [
              0.5555555555555556,
              "#d8576b"
             ],
             [
              0.6666666666666666,
              "#ed7953"
             ],
             [
              0.7777777777777778,
              "#fb9f3a"
             ],
             [
              0.8888888888888888,
              "#fdca26"
             ],
             [
              1,
              "#f0f921"
             ]
            ],
            "type": "heatmapgl"
           }
          ],
          "histogram": [
           {
            "marker": {
             "pattern": {
              "fillmode": "overlay",
              "size": 10,
              "solidity": 0.2
             }
            },
            "type": "histogram"
           }
          ],
          "histogram2d": [
           {
            "colorbar": {
             "outlinewidth": 0,
             "ticks": ""
            },
            "colorscale": [
             [
              0,
              "#0d0887"
             ],
             [
              0.1111111111111111,
              "#46039f"
             ],
             [
              0.2222222222222222,
              "#7201a8"
             ],
             [
              0.3333333333333333,
              "#9c179e"
             ],
             [
              0.4444444444444444,
              "#bd3786"
             ],
             [
              0.5555555555555556,
              "#d8576b"
             ],
             [
              0.6666666666666666,
              "#ed7953"
             ],
             [
              0.7777777777777778,
              "#fb9f3a"
             ],
             [
              0.8888888888888888,
              "#fdca26"
             ],
             [
              1,
              "#f0f921"
             ]
            ],
            "type": "histogram2d"
           }
          ],
          "histogram2dcontour": [
           {
            "colorbar": {
             "outlinewidth": 0,
             "ticks": ""
            },
            "colorscale": [
             [
              0,
              "#0d0887"
             ],
             [
              0.1111111111111111,
              "#46039f"
             ],
             [
              0.2222222222222222,
              "#7201a8"
             ],
             [
              0.3333333333333333,
              "#9c179e"
             ],
             [
              0.4444444444444444,
              "#bd3786"
             ],
             [
              0.5555555555555556,
              "#d8576b"
             ],
             [
              0.6666666666666666,
              "#ed7953"
             ],
             [
              0.7777777777777778,
              "#fb9f3a"
             ],
             [
              0.8888888888888888,
              "#fdca26"
             ],
             [
              1,
              "#f0f921"
             ]
            ],
            "type": "histogram2dcontour"
           }
          ],
          "mesh3d": [
           {
            "colorbar": {
             "outlinewidth": 0,
             "ticks": ""
            },
            "type": "mesh3d"
           }
          ],
          "parcoords": [
           {
            "line": {
             "colorbar": {
              "outlinewidth": 0,
              "ticks": ""
             }
            },
            "type": "parcoords"
           }
          ],
          "pie": [
           {
            "automargin": true,
            "type": "pie"
           }
          ],
          "scatter": [
           {
            "marker": {
             "colorbar": {
              "outlinewidth": 0,
              "ticks": ""
             }
            },
            "type": "scatter"
           }
          ],
          "scatter3d": [
           {
            "line": {
             "colorbar": {
              "outlinewidth": 0,
              "ticks": ""
             }
            },
            "marker": {
             "colorbar": {
              "outlinewidth": 0,
              "ticks": ""
             }
            },
            "type": "scatter3d"
           }
          ],
          "scattercarpet": [
           {
            "marker": {
             "colorbar": {
              "outlinewidth": 0,
              "ticks": ""
             }
            },
            "type": "scattercarpet"
           }
          ],
          "scattergeo": [
           {
            "marker": {
             "colorbar": {
              "outlinewidth": 0,
              "ticks": ""
             }
            },
            "type": "scattergeo"
           }
          ],
          "scattergl": [
           {
            "marker": {
             "colorbar": {
              "outlinewidth": 0,
              "ticks": ""
             }
            },
            "type": "scattergl"
           }
          ],
          "scattermapbox": [
           {
            "marker": {
             "colorbar": {
              "outlinewidth": 0,
              "ticks": ""
             }
            },
            "type": "scattermapbox"
           }
          ],
          "scatterpolar": [
           {
            "marker": {
             "colorbar": {
              "outlinewidth": 0,
              "ticks": ""
             }
            },
            "type": "scatterpolar"
           }
          ],
          "scatterpolargl": [
           {
            "marker": {
             "colorbar": {
              "outlinewidth": 0,
              "ticks": ""
             }
            },
            "type": "scatterpolargl"
           }
          ],
          "scatterternary": [
           {
            "marker": {
             "colorbar": {
              "outlinewidth": 0,
              "ticks": ""
             }
            },
            "type": "scatterternary"
           }
          ],
          "surface": [
           {
            "colorbar": {
             "outlinewidth": 0,
             "ticks": ""
            },
            "colorscale": [
             [
              0,
              "#0d0887"
             ],
             [
              0.1111111111111111,
              "#46039f"
             ],
             [
              0.2222222222222222,
              "#7201a8"
             ],
             [
              0.3333333333333333,
              "#9c179e"
             ],
             [
              0.4444444444444444,
              "#bd3786"
             ],
             [
              0.5555555555555556,
              "#d8576b"
             ],
             [
              0.6666666666666666,
              "#ed7953"
             ],
             [
              0.7777777777777778,
              "#fb9f3a"
             ],
             [
              0.8888888888888888,
              "#fdca26"
             ],
             [
              1,
              "#f0f921"
             ]
            ],
            "type": "surface"
           }
          ],
          "table": [
           {
            "cells": {
             "fill": {
              "color": "#EBF0F8"
             },
             "line": {
              "color": "white"
             }
            },
            "header": {
             "fill": {
              "color": "#C8D4E3"
             },
             "line": {
              "color": "white"
             }
            },
            "type": "table"
           }
          ]
         },
         "layout": {
          "annotationdefaults": {
           "arrowcolor": "#2a3f5f",
           "arrowhead": 0,
           "arrowwidth": 1
          },
          "autotypenumbers": "strict",
          "coloraxis": {
           "colorbar": {
            "outlinewidth": 0,
            "ticks": ""
           }
          },
          "colorscale": {
           "diverging": [
            [
             0,
             "#8e0152"
            ],
            [
             0.1,
             "#c51b7d"
            ],
            [
             0.2,
             "#de77ae"
            ],
            [
             0.3,
             "#f1b6da"
            ],
            [
             0.4,
             "#fde0ef"
            ],
            [
             0.5,
             "#f7f7f7"
            ],
            [
             0.6,
             "#e6f5d0"
            ],
            [
             0.7,
             "#b8e186"
            ],
            [
             0.8,
             "#7fbc41"
            ],
            [
             0.9,
             "#4d9221"
            ],
            [
             1,
             "#276419"
            ]
           ],
           "sequential": [
            [
             0,
             "#0d0887"
            ],
            [
             0.1111111111111111,
             "#46039f"
            ],
            [
             0.2222222222222222,
             "#7201a8"
            ],
            [
             0.3333333333333333,
             "#9c179e"
            ],
            [
             0.4444444444444444,
             "#bd3786"
            ],
            [
             0.5555555555555556,
             "#d8576b"
            ],
            [
             0.6666666666666666,
             "#ed7953"
            ],
            [
             0.7777777777777778,
             "#fb9f3a"
            ],
            [
             0.8888888888888888,
             "#fdca26"
            ],
            [
             1,
             "#f0f921"
            ]
           ],
           "sequentialminus": [
            [
             0,
             "#0d0887"
            ],
            [
             0.1111111111111111,
             "#46039f"
            ],
            [
             0.2222222222222222,
             "#7201a8"
            ],
            [
             0.3333333333333333,
             "#9c179e"
            ],
            [
             0.4444444444444444,
             "#bd3786"
            ],
            [
             0.5555555555555556,
             "#d8576b"
            ],
            [
             0.6666666666666666,
             "#ed7953"
            ],
            [
             0.7777777777777778,
             "#fb9f3a"
            ],
            [
             0.8888888888888888,
             "#fdca26"
            ],
            [
             1,
             "#f0f921"
            ]
           ]
          },
          "colorway": [
           "#636efa",
           "#EF553B",
           "#00cc96",
           "#ab63fa",
           "#FFA15A",
           "#19d3f3",
           "#FF6692",
           "#B6E880",
           "#FF97FF",
           "#FECB52"
          ],
          "font": {
           "color": "#2a3f5f"
          },
          "geo": {
           "bgcolor": "white",
           "lakecolor": "white",
           "landcolor": "#E5ECF6",
           "showlakes": true,
           "showland": true,
           "subunitcolor": "white"
          },
          "hoverlabel": {
           "align": "left"
          },
          "hovermode": "closest",
          "mapbox": {
           "style": "light"
          },
          "paper_bgcolor": "white",
          "plot_bgcolor": "#E5ECF6",
          "polar": {
           "angularaxis": {
            "gridcolor": "white",
            "linecolor": "white",
            "ticks": ""
           },
           "bgcolor": "#E5ECF6",
           "radialaxis": {
            "gridcolor": "white",
            "linecolor": "white",
            "ticks": ""
           }
          },
          "scene": {
           "xaxis": {
            "backgroundcolor": "#E5ECF6",
            "gridcolor": "white",
            "gridwidth": 2,
            "linecolor": "white",
            "showbackground": true,
            "ticks": "",
            "zerolinecolor": "white"
           },
           "yaxis": {
            "backgroundcolor": "#E5ECF6",
            "gridcolor": "white",
            "gridwidth": 2,
            "linecolor": "white",
            "showbackground": true,
            "ticks": "",
            "zerolinecolor": "white"
           },
           "zaxis": {
            "backgroundcolor": "#E5ECF6",
            "gridcolor": "white",
            "gridwidth": 2,
            "linecolor": "white",
            "showbackground": true,
            "ticks": "",
            "zerolinecolor": "white"
           }
          },
          "shapedefaults": {
           "line": {
            "color": "#2a3f5f"
           }
          },
          "ternary": {
           "aaxis": {
            "gridcolor": "white",
            "linecolor": "white",
            "ticks": ""
           },
           "baxis": {
            "gridcolor": "white",
            "linecolor": "white",
            "ticks": ""
           },
           "bgcolor": "#E5ECF6",
           "caxis": {
            "gridcolor": "white",
            "linecolor": "white",
            "ticks": ""
           }
          },
          "title": {
           "x": 0.05
          },
          "xaxis": {
           "automargin": true,
           "gridcolor": "white",
           "linecolor": "white",
           "ticks": "",
           "title": {
            "standoff": 15
           },
           "zerolinecolor": "white",
           "zerolinewidth": 2
          },
          "yaxis": {
           "automargin": true,
           "gridcolor": "white",
           "linecolor": "white",
           "ticks": "",
           "title": {
            "standoff": 15
           },
           "zerolinecolor": "white",
           "zerolinewidth": 2
          }
         }
        },
        "title": {
         "text": "Average GAD Score per Country"
        }
       }
      },
      "text/html": [
       "<div>                            <div id=\"0044130e-cd82-4f99-a22f-907efe3a9916\" class=\"plotly-graph-div\" style=\"height:525px; width:100%;\"></div>            <script type=\"text/javascript\">                require([\"plotly\"], function(Plotly) {                    window.PLOTLYENV=window.PLOTLYENV || {};                                    if (document.getElementById(\"0044130e-cd82-4f99-a22f-907efe3a9916\")) {                    Plotly.newPlot(                        \"0044130e-cd82-4f99-a22f-907efe3a9916\",                        [{\"colorscale\":[[0.0,\"#afd0aa\"],[1.0,\"#afd0aa\"]],\"customdata\":[[4.0,\"CYP\",\"0-4: Minimal Anxiety\"],[0.0,\"FJI\",\"0-4: Minimal Anxiety\"],[3.6666666666666665,\"TUN\",\"0-4: Minimal Anxiety\"],[4.0,\"KOR\",\"0-4: Minimal Anxiety\"],[3.7777777777777777,\"UKR\",\"0-4: Minimal Anxiety\"],[3.1666666666666665,\"CHN\",\"0-4: Minimal Anxiety\"],[3.142857142857143,\"LUX\",\"0-4: Minimal Anxiety\"],[1.0,\"GIB\",\"0-4: Minimal Anxiety\"],[2.0,\"GRD\",\"0-4: Minimal Anxiety\"],[4.0,\"SLV\",\"0-4: Minimal Anxiety\"],[1.0,\"BLR\",\"0-4: Minimal Anxiety\"],[4.0,\"TWN\",\"0-4: Minimal Anxiety\"],[4.0,\"DZA\",\"0-4: Minimal Anxiety\"],[0.0,\"BRN\",\"0-4: Minimal Anxiety\"],[2.0,\"LIE\",\"0-4: Minimal Anxiety\"]],\"geo\":\"geo\",\"hovertemplate\":\"<b>%{hovertext}</b><br><br>Average GAD Score=%{customdata[0]}<extra></extra>\",\"hovertext\":[\"Cyprus\",\"Fiji\",\"Tunisia\",\"South Korea\",\"Ukraine\",\"China\",\"Luxembourg\",\"Gibraltar \",\"Grenada\",\"El Salvador\",\"Belarus\",\"Taiwan\",\"Algeria\",\"Brunei\",\"Liechtenstein\"],\"locations\":[\"CYP\",\"FJI\",\"TUN\",\"KOR\",\"UKR\",\"CHN\",\"LUX\",\"GIB\",\"GRD\",\"SLV\",\"BLR\",\"TWN\",\"DZA\",\"BRN\",\"LIE\"],\"name\":\"0-4: Minimal Anxiety\",\"showlegend\":true,\"showscale\":false,\"z\":[1,1,1,1,1,1,1,1,1,1,1,1,1,1,1],\"type\":\"choropleth\"},{\"colorscale\":[[0.0,\"#fe7171\"],[1.0,\"#fe7171\"]],\"customdata\":[[4.912280701754386,\"FRA\",\"5-9: Mild Anxiety\"],[4.25,\"ECU\",\"5-9: Mild Anxiety\"],[4.986190089358245,\"DEU\",\"5-9: Mild Anxiety\"],[4.574074074074074,\"NOR\",\"5-9: Mild Anxiety\"],[5.0,\"PRI\",\"5-9: Mild Anxiety\"],[5.114864864864865,\"FIN\",\"5-9: Mild Anxiety\"],[4.6,\"THA\",\"5-9: Mild Anxiety\"],[4.807606263982103,\"NLD\",\"5-9: Mild Anxiety\"],[5.8,\"EST\",\"5-9: Mild Anxiety\"],[4.782608695652174,\"ARG\",\"5-9: Mild Anxiety\"],[5.467032967032967,\"ESP\",\"5-9: Mild Anxiety\"],[4.7290322580645165,\"SWE\",\"5-9: Mild Anxiety\"],[8.1875,\"PER\",\"5-9: Mild Anxiety\"],[6.75,\"PAN\",\"5-9: Mild Anxiety\"],[9.0,\"JAM\",\"5-9: Mild Anxiety\"],[5.333333333333333,\"GTM\",\"5-9: Mild Anxiety\"],[4.745454545454545,\"NZL\",\"5-9: Mild Anxiety\"],[5.466435185185185,\"CAN\",\"5-9: Mild Anxiety\"],[5.0,\"VCT\",\"5-9: Mild Anxiety\"],[9.0,\"KAZ\",\"5-9: Mild Anxiety\"],[7.666666666666667,\"IND\",\"5-9: Mild Anxiety\"],[5.547287207565954,\"USA\",\"5-9: Mild Anxiety\"],[5.083333333333333,\"CHL\",\"5-9: Mild Anxiety\"],[5.094117647058823,\"CHE\",\"5-9: Mild Anxiety\"],[4.75,\"CRI\",\"5-9: Mild Anxiety\"],[4.333333333333333,\"AUT\",\"5-9: Mild Anxiety\"],[4.189655172413793,\"IRL\",\"5-9: Mild Anxiety\"],[4.42654028436019,\"DNK\",\"5-9: Mild Anxiety\"],[4.714285714285714,\"TTO\",\"5-9: Mild Anxiety\"],[5.0,\"MKD\",\"5-9: Mild Anxiety\"],[4.857142857142857,\"ISL\",\"5-9: Mild Anxiety\"],[6.0,\"DOM\",\"5-9: Mild Anxiety\"],[4.666666666666667,\"GEO\",\"5-9: Mild Anxiety\"],[4.916666666666667,\"MAR\",\"5-9: Mild Anxiety\"],[6.043478260869565,\"ISR\",\"5-9: Mild Anxiety\"],[7.0,\"BOL\",\"5-9: Mild Anxiety\"],[6.0,\"BGD\",\"5-9: Mild Anxiety\"],[5.222222222222222,\"MEX\",\"5-9: Mild Anxiety\"],[9.0,\"GLP\",\"5-9: Mild Anxiety\"],[5.520958083832335,\"BEL\",\"5-9: Mild Anxiety\"],[6.084821428571429,\"BRA\",\"5-9: Mild Anxiety\"],[5.588235294117647,\"LTU\",\"5-9: Mild Anxiety\"],[8.545454545454545,\"URY\",\"5-9: Mild Anxiety\"],[5.666666666666667,\"GRC\",\"5-9: Mild Anxiety\"],[6.0,\"HND\",\"5-9: Mild Anxiety\"],[5.80327868852459,\"SVN\",\"5-9: Mild Anxiety\"],[5.787878787878788,\"RUS\",\"5-9: Mild Anxiety\"],[6.275229357798165,\"ITA\",\"5-9: Mild Anxiety\"],[6.904761904761905,\"TUR\",\"5-9: Mild Anxiety\"],[5.66321243523316,\"PRT\",\"5-9: Mild Anxiety\"],[6.492063492063492,\"HRV\",\"5-9: Mild Anxiety\"],[5.755208333333333,\"AUS\",\"5-9: Mild Anxiety\"],[5.636363636363637,\"ZAF\",\"5-9: Mild Anxiety\"],[5.986175115207374,\"POL\",\"5-9: Mild Anxiety\"],[5.857142857142857,\"VEN\",\"5-9: Mild Anxiety\"],[6.518518518518518,\"LVA\",\"5-9: Mild Anxiety\"],[6.288888888888889,\"BGR\",\"5-9: Mild Anxiety\"],[4.444444444444445,\"HKG\",\"5-9: Mild Anxiety\"],[7.285714285714286,\"SAU\",\"5-9: Mild Anxiety\"],[8.5,\"BLZ\",\"5-9: Mild Anxiety\"],[6.0,\"NIC\",\"5-9: Mild Anxiety\"],[5.4,\"MLT\",\"5-9: Mild Anxiety\"],[4.545454545454546,\"VNM\",\"5-9: Mild Anxiety\"],[5.314814814814815,\"HUN\",\"5-9: Mild Anxiety\"],[8.5,\"SYR\",\"5-9: Mild Anxiety\"],[6.6,\"ARE\",\"5-9: Mild Anxiety\"],[5.476190476190476,\"COL\",\"5-9: Mild Anxiety\"],[6.0,\"MNG\",\"5-9: Mild Anxiety\"],[5.666666666666667,\"SVK\",\"5-9: Mild Anxiety\"],[9.0,\"MNE\",\"5-9: Mild Anxiety\"],[4.428571428571429,\"JPN\",\"5-9: Mild Anxiety\"],[5.5,\"BHR\",\"5-9: Mild Anxiety\"],[5.2,\"BIH\",\"5-9: Mild Anxiety\"],[5.25,\"FRO\",\"5-9: Mild Anxiety\"],[8.0,\"PHL\",\"5-9: Mild Anxiety\"],[6.0,\"NAM\",\"5-9: Mild Anxiety\"],[5.883116883116883,\"ROU\",\"5-9: Mild Anxiety\"],[7.0,\"KWT\",\"5-9: Mild Anxiety\"],[5.25,\"JOR\",\"5-9: Mild Anxiety\"],[6.212086659064994,\"GBR\",\"5-9: Mild Anxiety\"],[4.774193548387097,\"SGP\",\"5-9: Mild Anxiety\"],[4.916666666666667,\"SRB\",\"5-9: Mild Anxiety\"],[4.5,\"PAK\",\"5-9: Mild Anxiety\"],[5.4,\"ALB\",\"5-9: Mild Anxiety\"],[5.12,\"MYS\",\"5-9: Mild Anxiety\"],[5.888888888888889,\"CZE\",\"5-9: Mild Anxiety\"]],\"geo\":\"geo\",\"hovertemplate\":\"<b>%{hovertext}</b><br><br>Average GAD Score=%{customdata[0]}<extra></extra>\",\"hovertext\":[\"France\",\"Ecuador\",\"Germany\",\"Norway\",\"Puerto Rico\",\"Finland\",\"Thailand\",\"Netherlands\",\"Estonia\",\"Argentina\",\"Spain\",\"Sweden\",\"Peru\",\"Panama\",\"Jamaica\",\"Guatemala\",\"New Zealand \",\"Canada\",\"St Vincent\",\"Kazakhstan\",\"India\",\"USA\",\"Chile\",\"Switzerland\",\"Costa Rica\",\"Austria\",\"Ireland\",\"Denmark\",\"Trinidad & Tobago\",\"Macedonia\",\"Iceland\",\"Dominican Republic\",\"Georgia\",\"Morocco\",\"Israel\",\"Bolivia\",\"Bangladesh\",\"Mexico\",\"Guadeloupe\",\"Belgium\",\"Brazil\",\"Lithuania\",\"Uruguay\",\"Greece\",\"Honduras\",\"Slovenia\",\"Russia\",\"Italy\",\"Turkey\",\"Portugal\",\"Croatia\",\"Australia\",\"South Africa\",\"Poland\",\"Venezuela\",\"Latvia\",\"Bulgaria\",\"Hong Kong\",\"Saudi Arabia\",\"Belize\",\"Nicaragua\",\"Malta\",\"Vietnam\",\"Hungary\",\"Syria\",\"UAE\",\"Colombia\",\"Mongolia\",\"Slovakia\",\"Montenegro\",\"Japan\",\"Bahrain\",\"Bosnia and Herzegovina\",\"Faroe Islands\",\"Philippines\",\"Namibia\",\"Romania\",\"Kuwait\",\"Jordan\",\"UK\",\"Singapore\",\"Serbia\",\"Pakistan\",\"Albania\",\"Malaysia\",\"Czech Republic\"],\"locations\":[\"FRA\",\"ECU\",\"DEU\",\"NOR\",\"PRI\",\"FIN\",\"THA\",\"NLD\",\"EST\",\"ARG\",\"ESP\",\"SWE\",\"PER\",\"PAN\",\"JAM\",\"GTM\",\"NZL\",\"CAN\",\"VCT\",\"KAZ\",\"IND\",\"USA\",\"CHL\",\"CHE\",\"CRI\",\"AUT\",\"IRL\",\"DNK\",\"TTO\",\"MKD\",\"ISL\",\"DOM\",\"GEO\",\"MAR\",\"ISR\",\"BOL\",\"BGD\",\"MEX\",\"GLP\",\"BEL\",\"BRA\",\"LTU\",\"URY\",\"GRC\",\"HND\",\"SVN\",\"RUS\",\"ITA\",\"TUR\",\"PRT\",\"HRV\",\"AUS\",\"ZAF\",\"POL\",\"VEN\",\"LVA\",\"BGR\",\"HKG\",\"SAU\",\"BLZ\",\"NIC\",\"MLT\",\"VNM\",\"HUN\",\"SYR\",\"ARE\",\"COL\",\"MNG\",\"SVK\",\"MNE\",\"JPN\",\"BHR\",\"BIH\",\"FRO\",\"PHL\",\"NAM\",\"ROU\",\"KWT\",\"JOR\",\"GBR\",\"SGP\",\"SRB\",\"PAK\",\"ALB\",\"MYS\",\"CZE\"],\"name\":\"5-9: Mild Anxiety\",\"showlegend\":true,\"showscale\":false,\"z\":[1,1,1,1,1,1,1,1,1,1,1,1,1,1,1,1,1,1,1,1,1,1,1,1,1,1,1,1,1,1,1,1,1,1,1,1,1,1,1,1,1,1,1,1,1,1,1,1,1,1,1,1,1,1,1,1,1,1,1,1,1,1,1,1,1,1,1,1,1,1,1,1,1,1,1,1,1,1,1,1,1,1,1,1,1,1],\"type\":\"choropleth\"},{\"colorscale\":[[0.0,\"#a10000\"],[1.0,\"#a10000\"]],\"customdata\":[[9.4,\"LBN\",\"10-14: Moderate Anxiety\"],[12.6,\"EGY\",\"10-14: Moderate Anxiety\"],[11.0,\"PSE\",\"10-14: Moderate Anxiety\"],[14.0,\"IDN\",\"10-14: Moderate Anxiety\"],[10.0,\"MDA\",\"10-14: Moderate Anxiety\"]],\"geo\":\"geo\",\"hovertemplate\":\"<b>%{hovertext}</b><br><br>Average GAD Score=%{customdata[0]}<extra></extra>\",\"hovertext\":[\"Lebanon\",\"Egypt\",\"Palestine\",\"Indonesia\",\"Moldova\"],\"locations\":[\"LBN\",\"EGY\",\"PSE\",\"IDN\",\"MDA\"],\"name\":\"10-14: Moderate Anxiety\",\"showlegend\":true,\"showscale\":false,\"z\":[1,1,1,1,1],\"type\":\"choropleth\"},{\"colorscale\":[[0.0,\"#690000\"],[1.0,\"#690000\"]],\"customdata\":[[16.333333333333332,\"QAT\",\"15-21: Severe Anxiety\"]],\"geo\":\"geo\",\"hovertemplate\":\"<b>%{hovertext}</b><br><br>Average GAD Score=%{customdata[0]}<extra></extra>\",\"hovertext\":[\"Qatar\"],\"locations\":[\"QAT\"],\"name\":\"15-21: Severe Anxiety\",\"showlegend\":true,\"showscale\":false,\"z\":[1],\"type\":\"choropleth\"}],                        {\"template\":{\"data\":{\"bar\":[{\"error_x\":{\"color\":\"#2a3f5f\"},\"error_y\":{\"color\":\"#2a3f5f\"},\"marker\":{\"line\":{\"color\":\"#E5ECF6\",\"width\":0.5},\"pattern\":{\"fillmode\":\"overlay\",\"size\":10,\"solidity\":0.2}},\"type\":\"bar\"}],\"barpolar\":[{\"marker\":{\"line\":{\"color\":\"#E5ECF6\",\"width\":0.5},\"pattern\":{\"fillmode\":\"overlay\",\"size\":10,\"solidity\":0.2}},\"type\":\"barpolar\"}],\"carpet\":[{\"aaxis\":{\"endlinecolor\":\"#2a3f5f\",\"gridcolor\":\"white\",\"linecolor\":\"white\",\"minorgridcolor\":\"white\",\"startlinecolor\":\"#2a3f5f\"},\"baxis\":{\"endlinecolor\":\"#2a3f5f\",\"gridcolor\":\"white\",\"linecolor\":\"white\",\"minorgridcolor\":\"white\",\"startlinecolor\":\"#2a3f5f\"},\"type\":\"carpet\"}],\"choropleth\":[{\"colorbar\":{\"outlinewidth\":0,\"ticks\":\"\"},\"type\":\"choropleth\"}],\"contour\":[{\"colorbar\":{\"outlinewidth\":0,\"ticks\":\"\"},\"colorscale\":[[0.0,\"#0d0887\"],[0.1111111111111111,\"#46039f\"],[0.2222222222222222,\"#7201a8\"],[0.3333333333333333,\"#9c179e\"],[0.4444444444444444,\"#bd3786\"],[0.5555555555555556,\"#d8576b\"],[0.6666666666666666,\"#ed7953\"],[0.7777777777777778,\"#fb9f3a\"],[0.8888888888888888,\"#fdca26\"],[1.0,\"#f0f921\"]],\"type\":\"contour\"}],\"contourcarpet\":[{\"colorbar\":{\"outlinewidth\":0,\"ticks\":\"\"},\"type\":\"contourcarpet\"}],\"heatmap\":[{\"colorbar\":{\"outlinewidth\":0,\"ticks\":\"\"},\"colorscale\":[[0.0,\"#0d0887\"],[0.1111111111111111,\"#46039f\"],[0.2222222222222222,\"#7201a8\"],[0.3333333333333333,\"#9c179e\"],[0.4444444444444444,\"#bd3786\"],[0.5555555555555556,\"#d8576b\"],[0.6666666666666666,\"#ed7953\"],[0.7777777777777778,\"#fb9f3a\"],[0.8888888888888888,\"#fdca26\"],[1.0,\"#f0f921\"]],\"type\":\"heatmap\"}],\"heatmapgl\":[{\"colorbar\":{\"outlinewidth\":0,\"ticks\":\"\"},\"colorscale\":[[0.0,\"#0d0887\"],[0.1111111111111111,\"#46039f\"],[0.2222222222222222,\"#7201a8\"],[0.3333333333333333,\"#9c179e\"],[0.4444444444444444,\"#bd3786\"],[0.5555555555555556,\"#d8576b\"],[0.6666666666666666,\"#ed7953\"],[0.7777777777777778,\"#fb9f3a\"],[0.8888888888888888,\"#fdca26\"],[1.0,\"#f0f921\"]],\"type\":\"heatmapgl\"}],\"histogram\":[{\"marker\":{\"pattern\":{\"fillmode\":\"overlay\",\"size\":10,\"solidity\":0.2}},\"type\":\"histogram\"}],\"histogram2d\":[{\"colorbar\":{\"outlinewidth\":0,\"ticks\":\"\"},\"colorscale\":[[0.0,\"#0d0887\"],[0.1111111111111111,\"#46039f\"],[0.2222222222222222,\"#7201a8\"],[0.3333333333333333,\"#9c179e\"],[0.4444444444444444,\"#bd3786\"],[0.5555555555555556,\"#d8576b\"],[0.6666666666666666,\"#ed7953\"],[0.7777777777777778,\"#fb9f3a\"],[0.8888888888888888,\"#fdca26\"],[1.0,\"#f0f921\"]],\"type\":\"histogram2d\"}],\"histogram2dcontour\":[{\"colorbar\":{\"outlinewidth\":0,\"ticks\":\"\"},\"colorscale\":[[0.0,\"#0d0887\"],[0.1111111111111111,\"#46039f\"],[0.2222222222222222,\"#7201a8\"],[0.3333333333333333,\"#9c179e\"],[0.4444444444444444,\"#bd3786\"],[0.5555555555555556,\"#d8576b\"],[0.6666666666666666,\"#ed7953\"],[0.7777777777777778,\"#fb9f3a\"],[0.8888888888888888,\"#fdca26\"],[1.0,\"#f0f921\"]],\"type\":\"histogram2dcontour\"}],\"mesh3d\":[{\"colorbar\":{\"outlinewidth\":0,\"ticks\":\"\"},\"type\":\"mesh3d\"}],\"parcoords\":[{\"line\":{\"colorbar\":{\"outlinewidth\":0,\"ticks\":\"\"}},\"type\":\"parcoords\"}],\"pie\":[{\"automargin\":true,\"type\":\"pie\"}],\"scatter\":[{\"marker\":{\"colorbar\":{\"outlinewidth\":0,\"ticks\":\"\"}},\"type\":\"scatter\"}],\"scatter3d\":[{\"line\":{\"colorbar\":{\"outlinewidth\":0,\"ticks\":\"\"}},\"marker\":{\"colorbar\":{\"outlinewidth\":0,\"ticks\":\"\"}},\"type\":\"scatter3d\"}],\"scattercarpet\":[{\"marker\":{\"colorbar\":{\"outlinewidth\":0,\"ticks\":\"\"}},\"type\":\"scattercarpet\"}],\"scattergeo\":[{\"marker\":{\"colorbar\":{\"outlinewidth\":0,\"ticks\":\"\"}},\"type\":\"scattergeo\"}],\"scattergl\":[{\"marker\":{\"colorbar\":{\"outlinewidth\":0,\"ticks\":\"\"}},\"type\":\"scattergl\"}],\"scattermapbox\":[{\"marker\":{\"colorbar\":{\"outlinewidth\":0,\"ticks\":\"\"}},\"type\":\"scattermapbox\"}],\"scatterpolar\":[{\"marker\":{\"colorbar\":{\"outlinewidth\":0,\"ticks\":\"\"}},\"type\":\"scatterpolar\"}],\"scatterpolargl\":[{\"marker\":{\"colorbar\":{\"outlinewidth\":0,\"ticks\":\"\"}},\"type\":\"scatterpolargl\"}],\"scatterternary\":[{\"marker\":{\"colorbar\":{\"outlinewidth\":0,\"ticks\":\"\"}},\"type\":\"scatterternary\"}],\"surface\":[{\"colorbar\":{\"outlinewidth\":0,\"ticks\":\"\"},\"colorscale\":[[0.0,\"#0d0887\"],[0.1111111111111111,\"#46039f\"],[0.2222222222222222,\"#7201a8\"],[0.3333333333333333,\"#9c179e\"],[0.4444444444444444,\"#bd3786\"],[0.5555555555555556,\"#d8576b\"],[0.6666666666666666,\"#ed7953\"],[0.7777777777777778,\"#fb9f3a\"],[0.8888888888888888,\"#fdca26\"],[1.0,\"#f0f921\"]],\"type\":\"surface\"}],\"table\":[{\"cells\":{\"fill\":{\"color\":\"#EBF0F8\"},\"line\":{\"color\":\"white\"}},\"header\":{\"fill\":{\"color\":\"#C8D4E3\"},\"line\":{\"color\":\"white\"}},\"type\":\"table\"}]},\"layout\":{\"annotationdefaults\":{\"arrowcolor\":\"#2a3f5f\",\"arrowhead\":0,\"arrowwidth\":1},\"autotypenumbers\":\"strict\",\"coloraxis\":{\"colorbar\":{\"outlinewidth\":0,\"ticks\":\"\"}},\"colorscale\":{\"diverging\":[[0,\"#8e0152\"],[0.1,\"#c51b7d\"],[0.2,\"#de77ae\"],[0.3,\"#f1b6da\"],[0.4,\"#fde0ef\"],[0.5,\"#f7f7f7\"],[0.6,\"#e6f5d0\"],[0.7,\"#b8e186\"],[0.8,\"#7fbc41\"],[0.9,\"#4d9221\"],[1,\"#276419\"]],\"sequential\":[[0.0,\"#0d0887\"],[0.1111111111111111,\"#46039f\"],[0.2222222222222222,\"#7201a8\"],[0.3333333333333333,\"#9c179e\"],[0.4444444444444444,\"#bd3786\"],[0.5555555555555556,\"#d8576b\"],[0.6666666666666666,\"#ed7953\"],[0.7777777777777778,\"#fb9f3a\"],[0.8888888888888888,\"#fdca26\"],[1.0,\"#f0f921\"]],\"sequentialminus\":[[0.0,\"#0d0887\"],[0.1111111111111111,\"#46039f\"],[0.2222222222222222,\"#7201a8\"],[0.3333333333333333,\"#9c179e\"],[0.4444444444444444,\"#bd3786\"],[0.5555555555555556,\"#d8576b\"],[0.6666666666666666,\"#ed7953\"],[0.7777777777777778,\"#fb9f3a\"],[0.8888888888888888,\"#fdca26\"],[1.0,\"#f0f921\"]]},\"colorway\":[\"#636efa\",\"#EF553B\",\"#00cc96\",\"#ab63fa\",\"#FFA15A\",\"#19d3f3\",\"#FF6692\",\"#B6E880\",\"#FF97FF\",\"#FECB52\"],\"font\":{\"color\":\"#2a3f5f\"},\"geo\":{\"bgcolor\":\"white\",\"lakecolor\":\"white\",\"landcolor\":\"#E5ECF6\",\"showlakes\":true,\"showland\":true,\"subunitcolor\":\"white\"},\"hoverlabel\":{\"align\":\"left\"},\"hovermode\":\"closest\",\"mapbox\":{\"style\":\"light\"},\"paper_bgcolor\":\"white\",\"plot_bgcolor\":\"#E5ECF6\",\"polar\":{\"angularaxis\":{\"gridcolor\":\"white\",\"linecolor\":\"white\",\"ticks\":\"\"},\"bgcolor\":\"#E5ECF6\",\"radialaxis\":{\"gridcolor\":\"white\",\"linecolor\":\"white\",\"ticks\":\"\"}},\"scene\":{\"xaxis\":{\"backgroundcolor\":\"#E5ECF6\",\"gridcolor\":\"white\",\"gridwidth\":2,\"linecolor\":\"white\",\"showbackground\":true,\"ticks\":\"\",\"zerolinecolor\":\"white\"},\"yaxis\":{\"backgroundcolor\":\"#E5ECF6\",\"gridcolor\":\"white\",\"gridwidth\":2,\"linecolor\":\"white\",\"showbackground\":true,\"ticks\":\"\",\"zerolinecolor\":\"white\"},\"zaxis\":{\"backgroundcolor\":\"#E5ECF6\",\"gridcolor\":\"white\",\"gridwidth\":2,\"linecolor\":\"white\",\"showbackground\":true,\"ticks\":\"\",\"zerolinecolor\":\"white\"}},\"shapedefaults\":{\"line\":{\"color\":\"#2a3f5f\"}},\"ternary\":{\"aaxis\":{\"gridcolor\":\"white\",\"linecolor\":\"white\",\"ticks\":\"\"},\"baxis\":{\"gridcolor\":\"white\",\"linecolor\":\"white\",\"ticks\":\"\"},\"bgcolor\":\"#E5ECF6\",\"caxis\":{\"gridcolor\":\"white\",\"linecolor\":\"white\",\"ticks\":\"\"}},\"title\":{\"x\":0.05},\"xaxis\":{\"automargin\":true,\"gridcolor\":\"white\",\"linecolor\":\"white\",\"ticks\":\"\",\"title\":{\"standoff\":15},\"zerolinecolor\":\"white\",\"zerolinewidth\":2},\"yaxis\":{\"automargin\":true,\"gridcolor\":\"white\",\"linecolor\":\"white\",\"ticks\":\"\",\"title\":{\"standoff\":15},\"zerolinecolor\":\"white\",\"zerolinewidth\":2}}},\"geo\":{\"domain\":{\"x\":[0.0,1.0],\"y\":[0.0,1.0]},\"center\":{},\"projection\":{\"type\":\"equirectangular\"},\"showframe\":false,\"showcoastlines\":false},\"legend\":{\"title\":{\"text\":\"GAD Anxiety Score\"},\"tracegroupgap\":0},\"margin\":{\"t\":60},\"title\":{\"text\":\"Average GAD Score per Country\"},\"hoverlabel\":{\"font\":{\"size\":14,\"family\":\"Ariel\"},\"bgcolor\":\"white\"}},                        {\"responsive\": true}                    ).then(function(){\n",
       "                            \n",
       "var gd = document.getElementById('0044130e-cd82-4f99-a22f-907efe3a9916');\n",
       "var x = new MutationObserver(function (mutations, observer) {{\n",
       "        var display = window.getComputedStyle(gd).display;\n",
       "        if (!display || display === 'none') {{\n",
       "            console.log([gd, 'removed!']);\n",
       "            Plotly.purge(gd);\n",
       "            observer.disconnect();\n",
       "        }}\n",
       "}});\n",
       "\n",
       "// Listen for the removal of the full notebook cells\n",
       "var notebookContainer = gd.closest('#notebook-container');\n",
       "if (notebookContainer) {{\n",
       "    x.observe(notebookContainer, {childList: true});\n",
       "}}\n",
       "\n",
       "// Listen for the clearing of the current output cell\n",
       "var outputEl = gd.closest('.output');\n",
       "if (outputEl) {{\n",
       "    x.observe(outputEl, {childList: true});\n",
       "}}\n",
       "\n",
       "                        })                };                });            </script>        </div>"
      ]
     },
     "metadata": {},
     "output_type": "display_data"
    }
   ],
   "source": [
    "country_stats.sort_values(by=\"GAD Anxiety Score\", inplace = True)\n",
    "\n",
    "fig = px.choropleth(country_stats, locations=\"Residence_ISO3\",\n",
    "                    color=\"GAD Anxiety Score\",\n",
    "                    hover_name = \"Residence\",\n",
    "                    hover_data= {\"Average GAD Score\": True, \n",
    "                                 \"Residence_ISO3\": False, \n",
    "                                 \"GAD Anxiety Score\":False}, \n",
    "                    color_discrete_sequence =[\"#afd0aa\", \"#fe7171\",\"#a10000\", \"#690000\"])\n",
    "\n",
    "fig.update_layout(\n",
    "    title_text='Average GAD Score per Country',\n",
    "    geo=dict(\n",
    "        showframe=False,\n",
    "        showcoastlines=False,\n",
    "        projection_type='equirectangular'))\n",
    "\n",
    "fig.update_layout(\n",
    "    hoverlabel=dict(\n",
    "        bgcolor=\"white\",\n",
    "        font_size=14,\n",
    "        font_family=\"Ariel\"))\n",
    "\n",
    "fig.show()"
   ]
  },
  {
   "cell_type": "markdown",
   "id": "3cdffc54",
   "metadata": {},
   "source": [
    "## SWL Scores"
   ]
  },
  {
   "cell_type": "code",
   "execution_count": 51,
   "id": "0194267f",
   "metadata": {},
   "outputs": [
    {
     "data": {
      "text/html": [
       "<div>\n",
       "<style scoped>\n",
       "    .dataframe tbody tr th:only-of-type {\n",
       "        vertical-align: middle;\n",
       "    }\n",
       "\n",
       "    .dataframe tbody tr th {\n",
       "        vertical-align: top;\n",
       "    }\n",
       "\n",
       "    .dataframe thead th {\n",
       "        text-align: right;\n",
       "    }\n",
       "</style>\n",
       "<table border=\"1\" class=\"dataframe\">\n",
       "  <thead>\n",
       "    <tr style=\"text-align: right;\">\n",
       "      <th></th>\n",
       "      <th>Residence_ISO3</th>\n",
       "      <th>Residence</th>\n",
       "      <th>Participant Count</th>\n",
       "      <th>Average Hours</th>\n",
       "      <th>Average Streaming Hours</th>\n",
       "      <th>Average Narcissism Score</th>\n",
       "      <th>Average Participant Age</th>\n",
       "      <th>Average GAD Score</th>\n",
       "      <th>Average SWL Score</th>\n",
       "      <th>Average SPIN Score</th>\n",
       "      <th>alpha2</th>\n",
       "      <th>lat</th>\n",
       "      <th>lng</th>\n",
       "      <th>Participant Count Range</th>\n",
       "      <th>GAD Anxiety Score</th>\n",
       "      <th>SWL Score</th>\n",
       "    </tr>\n",
       "  </thead>\n",
       "  <tbody>\n",
       "    <tr>\n",
       "      <th>38</th>\n",
       "      <td>GLP</td>\n",
       "      <td>Guadeloupe</td>\n",
       "      <td>1</td>\n",
       "      <td>35.0</td>\n",
       "      <td>20.0</td>\n",
       "      <td>4.0</td>\n",
       "      <td>21.0</td>\n",
       "      <td>9.0</td>\n",
       "      <td>8.0</td>\n",
       "      <td>9.0</td>\n",
       "      <td>gp</td>\n",
       "      <td>16.265</td>\n",
       "      <td>-61.551</td>\n",
       "      <td>0 - 99</td>\n",
       "      <td>5-9: Mild Anxiety</td>\n",
       "      <td>5-9: Extremely Dissatisfied</td>\n",
       "    </tr>\n",
       "    <tr>\n",
       "      <th>46</th>\n",
       "      <td>IDN</td>\n",
       "      <td>Indonesia</td>\n",
       "      <td>1</td>\n",
       "      <td>25.0</td>\n",
       "      <td>10.0</td>\n",
       "      <td>2.0</td>\n",
       "      <td>24.0</td>\n",
       "      <td>14.0</td>\n",
       "      <td>9.0</td>\n",
       "      <td>26.0</td>\n",
       "      <td>id</td>\n",
       "      <td>-0.789275</td>\n",
       "      <td>113.921</td>\n",
       "      <td>0 - 99</td>\n",
       "      <td>10-14: Moderate Anxiety</td>\n",
       "      <td>5-9: Extremely Dissatisfied</td>\n",
       "    </tr>\n",
       "    <tr>\n",
       "      <th>14</th>\n",
       "      <td>BRN</td>\n",
       "      <td>Brunei</td>\n",
       "      <td>1</td>\n",
       "      <td>10.0</td>\n",
       "      <td>2.0</td>\n",
       "      <td>5.0</td>\n",
       "      <td>18.0</td>\n",
       "      <td>0.0</td>\n",
       "      <td>14.0</td>\n",
       "      <td>10.0</td>\n",
       "      <td>bn</td>\n",
       "      <td>4.53528</td>\n",
       "      <td>114.728</td>\n",
       "      <td>0 - 99</td>\n",
       "      <td>0-4: Minimal Anxiety</td>\n",
       "      <td>10-14: Dissatisfied</td>\n",
       "    </tr>\n",
       "    <tr>\n",
       "      <th>99</th>\n",
       "      <td>TWN</td>\n",
       "      <td>Taiwan</td>\n",
       "      <td>2</td>\n",
       "      <td>31.0</td>\n",
       "      <td>6.5</td>\n",
       "      <td>2.0</td>\n",
       "      <td>21.5</td>\n",
       "      <td>4.0</td>\n",
       "      <td>11.0</td>\n",
       "      <td>37.5</td>\n",
       "      <td>tw</td>\n",
       "      <td>23.6978</td>\n",
       "      <td>120.961</td>\n",
       "      <td>0 - 99</td>\n",
       "      <td>0-4: Minimal Anxiety</td>\n",
       "      <td>10-14: Dissatisfied</td>\n",
       "    </tr>\n",
       "    <tr>\n",
       "      <th>83</th>\n",
       "      <td>PSE</td>\n",
       "      <td>Palestine</td>\n",
       "      <td>1</td>\n",
       "      <td>7.0</td>\n",
       "      <td>5.0</td>\n",
       "      <td>1.0</td>\n",
       "      <td>18.0</td>\n",
       "      <td>11.0</td>\n",
       "      <td>11.0</td>\n",
       "      <td>10.0</td>\n",
       "      <td>ps</td>\n",
       "      <td>31.9522</td>\n",
       "      <td>35.2332</td>\n",
       "      <td>0 - 99</td>\n",
       "      <td>10-14: Moderate Anxiety</td>\n",
       "      <td>10-14: Dissatisfied</td>\n",
       "    </tr>\n",
       "    <tr>\n",
       "      <th>...</th>\n",
       "      <td>...</td>\n",
       "      <td>...</td>\n",
       "      <td>...</td>\n",
       "      <td>...</td>\n",
       "      <td>...</td>\n",
       "      <td>...</td>\n",
       "      <td>...</td>\n",
       "      <td>...</td>\n",
       "      <td>...</td>\n",
       "      <td>...</td>\n",
       "      <td>...</td>\n",
       "      <td>...</td>\n",
       "      <td>...</td>\n",
       "      <td>...</td>\n",
       "      <td>...</td>\n",
       "      <td>...</td>\n",
       "    </tr>\n",
       "    <tr>\n",
       "      <th>89</th>\n",
       "      <td>SLV</td>\n",
       "      <td>El Salvador</td>\n",
       "      <td>1</td>\n",
       "      <td>25.0</td>\n",
       "      <td>5.0</td>\n",
       "      <td>2.0</td>\n",
       "      <td>18.0</td>\n",
       "      <td>4.0</td>\n",
       "      <td>27.0</td>\n",
       "      <td>12.0</td>\n",
       "      <td>sv</td>\n",
       "      <td>13.7942</td>\n",
       "      <td>-88.8965</td>\n",
       "      <td>0 - 99</td>\n",
       "      <td>0-4: Minimal Anxiety</td>\n",
       "      <td>26-30: Satisfied</td>\n",
       "    </tr>\n",
       "    <tr>\n",
       "      <th>103</th>\n",
       "      <td>VCT</td>\n",
       "      <td>St Vincent</td>\n",
       "      <td>1</td>\n",
       "      <td>15.0</td>\n",
       "      <td>4.0</td>\n",
       "      <td>1.0</td>\n",
       "      <td>19.0</td>\n",
       "      <td>5.0</td>\n",
       "      <td>26.0</td>\n",
       "      <td>28.0</td>\n",
       "      <td>vc</td>\n",
       "      <td>12.9843</td>\n",
       "      <td>-61.2872</td>\n",
       "      <td>0 - 99</td>\n",
       "      <td>5-9: Mild Anxiety</td>\n",
       "      <td>26-30: Satisfied</td>\n",
       "    </tr>\n",
       "    <tr>\n",
       "      <th>10</th>\n",
       "      <td>BLR</td>\n",
       "      <td>Belarus</td>\n",
       "      <td>1</td>\n",
       "      <td>20.0</td>\n",
       "      <td>12.0</td>\n",
       "      <td>5.0</td>\n",
       "      <td>19.0</td>\n",
       "      <td>1.0</td>\n",
       "      <td>29.0</td>\n",
       "      <td>7.0</td>\n",
       "      <td>by</td>\n",
       "      <td>53.7098</td>\n",
       "      <td>27.9534</td>\n",
       "      <td>0 - 99</td>\n",
       "      <td>0-4: Minimal Anxiety</td>\n",
       "      <td>26-30: Satisfied</td>\n",
       "    </tr>\n",
       "    <tr>\n",
       "      <th>71</th>\n",
       "      <td>NAM</td>\n",
       "      <td>Namibia</td>\n",
       "      <td>1</td>\n",
       "      <td>20.0</td>\n",
       "      <td>5.0</td>\n",
       "      <td>2.0</td>\n",
       "      <td>18.0</td>\n",
       "      <td>6.0</td>\n",
       "      <td>35.0</td>\n",
       "      <td>0.0</td>\n",
       "      <td>na</td>\n",
       "      <td>-22.9576</td>\n",
       "      <td>18.4904</td>\n",
       "      <td>0 - 99</td>\n",
       "      <td>5-9: Mild Anxiety</td>\n",
       "      <td>31-35: Extremely satisfied</td>\n",
       "    </tr>\n",
       "    <tr>\n",
       "      <th>40</th>\n",
       "      <td>GRD</td>\n",
       "      <td>Grenada</td>\n",
       "      <td>1</td>\n",
       "      <td>10.0</td>\n",
       "      <td>5.0</td>\n",
       "      <td>2.0</td>\n",
       "      <td>21.0</td>\n",
       "      <td>2.0</td>\n",
       "      <td>34.0</td>\n",
       "      <td>11.0</td>\n",
       "      <td>gd</td>\n",
       "      <td>12.1165</td>\n",
       "      <td>-61.679</td>\n",
       "      <td>0 - 99</td>\n",
       "      <td>0-4: Minimal Anxiety</td>\n",
       "      <td>31-35: Extremely satisfied</td>\n",
       "    </tr>\n",
       "  </tbody>\n",
       "</table>\n",
       "<p>107 rows × 16 columns</p>\n",
       "</div>"
      ],
      "text/plain": [
       "    Residence_ISO3    Residence  Participant Count  Average Hours  \\\n",
       "38             GLP   Guadeloupe                  1           35.0   \n",
       "46             IDN    Indonesia                  1           25.0   \n",
       "14             BRN       Brunei                  1           10.0   \n",
       "99             TWN       Taiwan                  2           31.0   \n",
       "83             PSE    Palestine                  1            7.0   \n",
       "..             ...          ...                ...            ...   \n",
       "89             SLV  El Salvador                  1           25.0   \n",
       "103            VCT   St Vincent                  1           15.0   \n",
       "10             BLR      Belarus                  1           20.0   \n",
       "71             NAM      Namibia                  1           20.0   \n",
       "40             GRD      Grenada                  1           10.0   \n",
       "\n",
       "     Average Streaming Hours  Average Narcissism Score  \\\n",
       "38                      20.0                       4.0   \n",
       "46                      10.0                       2.0   \n",
       "14                       2.0                       5.0   \n",
       "99                       6.5                       2.0   \n",
       "83                       5.0                       1.0   \n",
       "..                       ...                       ...   \n",
       "89                       5.0                       2.0   \n",
       "103                      4.0                       1.0   \n",
       "10                      12.0                       5.0   \n",
       "71                       5.0                       2.0   \n",
       "40                       5.0                       2.0   \n",
       "\n",
       "     Average Participant Age  Average GAD Score  Average SWL Score  \\\n",
       "38                      21.0                9.0                8.0   \n",
       "46                      24.0               14.0                9.0   \n",
       "14                      18.0                0.0               14.0   \n",
       "99                      21.5                4.0               11.0   \n",
       "83                      18.0               11.0               11.0   \n",
       "..                       ...                ...                ...   \n",
       "89                      18.0                4.0               27.0   \n",
       "103                     19.0                5.0               26.0   \n",
       "10                      19.0                1.0               29.0   \n",
       "71                      18.0                6.0               35.0   \n",
       "40                      21.0                2.0               34.0   \n",
       "\n",
       "     Average SPIN Score alpha2       lat      lng Participant Count Range  \\\n",
       "38                  9.0     gp    16.265  -61.551                  0 - 99   \n",
       "46                 26.0     id -0.789275  113.921                  0 - 99   \n",
       "14                 10.0     bn   4.53528  114.728                  0 - 99   \n",
       "99                 37.5     tw   23.6978  120.961                  0 - 99   \n",
       "83                 10.0     ps   31.9522  35.2332                  0 - 99   \n",
       "..                  ...    ...       ...      ...                     ...   \n",
       "89                 12.0     sv   13.7942 -88.8965                  0 - 99   \n",
       "103                28.0     vc   12.9843 -61.2872                  0 - 99   \n",
       "10                  7.0     by   53.7098  27.9534                  0 - 99   \n",
       "71                  0.0     na  -22.9576  18.4904                  0 - 99   \n",
       "40                 11.0     gd   12.1165  -61.679                  0 - 99   \n",
       "\n",
       "           GAD Anxiety Score                    SWL Score  \n",
       "38         5-9: Mild Anxiety  5-9: Extremely Dissatisfied  \n",
       "46   10-14: Moderate Anxiety  5-9: Extremely Dissatisfied  \n",
       "14      0-4: Minimal Anxiety          10-14: Dissatisfied  \n",
       "99      0-4: Minimal Anxiety          10-14: Dissatisfied  \n",
       "83   10-14: Moderate Anxiety          10-14: Dissatisfied  \n",
       "..                       ...                          ...  \n",
       "89      0-4: Minimal Anxiety             26-30: Satisfied  \n",
       "103        5-9: Mild Anxiety             26-30: Satisfied  \n",
       "10      0-4: Minimal Anxiety             26-30: Satisfied  \n",
       "71         5-9: Mild Anxiety   31-35: Extremely satisfied  \n",
       "40      0-4: Minimal Anxiety   31-35: Extremely satisfied  \n",
       "\n",
       "[107 rows x 16 columns]"
      ]
     },
     "execution_count": 51,
     "metadata": {},
     "output_type": "execute_result"
    }
   ],
   "source": [
    "#Create bins to place values based on average SWL_T per country\n",
    "bins = [5, 9, 14, 19, 20, 25, 30, 35]\n",
    "\n",
    "bin_labels = [\"5-9: Extremely Dissatisfied\", \"10-14: Dissatisfied\", \"15-19: Slightly Dissatisfied\", \"20: Neutral\", \n",
    "              \"21-25: Slightly Satisfied\", \"26-30: Satisfied\", \"31-35: Extremely satisfied\"]\n",
    "\n",
    "country_stats['SWL Score'] = pd.cut(country_stats['Average SWL Score'], \n",
    "                                            bins, labels = bin_labels, include_lowest = True)\n",
    "\n",
    "country_stats"
   ]
  },
  {
   "cell_type": "code",
   "execution_count": 59,
   "id": "e7652b34",
   "metadata": {},
   "outputs": [
    {
     "data": {
      "application/vnd.plotly.v1+json": {
       "config": {
        "plotlyServerURL": "https://plot.ly"
       },
       "data": [
        {
         "colorscale": [
          [
           0,
           "#690000"
          ],
          [
           1,
           "#690000"
          ]
         ],
         "customdata": [
          [
           8,
           "GLP",
           "5-9: Extremely Dissatisfied"
          ],
          [
           9,
           "IDN",
           "5-9: Extremely Dissatisfied"
          ]
         ],
         "geo": "geo",
         "hovertemplate": "<b>%{hovertext}</b><br><br>Average SWL Score=%{customdata[0]}<extra></extra>",
         "hovertext": [
          "Guadeloupe",
          "Indonesia"
         ],
         "locations": [
          "GLP",
          "IDN"
         ],
         "name": "5-9: Extremely Dissatisfied",
         "showlegend": true,
         "showscale": false,
         "type": "choropleth",
         "z": [
          1,
          1
         ]
        },
        {
         "colorscale": [
          [
           0,
           "#ee0000"
          ],
          [
           1,
           "#ee0000"
          ]
         ],
         "customdata": [
          [
           11,
           "TWN",
           "10-14: Dissatisfied"
          ],
          [
           11,
           "NIC",
           "10-14: Dissatisfied"
          ],
          [
           11,
           "PSE",
           "10-14: Dissatisfied"
          ],
          [
           14,
           "BRN",
           "10-14: Dissatisfied"
          ],
          [
           11.8,
           "EGY",
           "10-14: Dissatisfied"
          ],
          [
           12,
           "BLZ",
           "10-14: Dissatisfied"
          ]
         ],
         "geo": "geo",
         "hovertemplate": "<b>%{hovertext}</b><br><br>Average SWL Score=%{customdata[0]}<extra></extra>",
         "hovertext": [
          "Taiwan",
          "Nicaragua",
          "Palestine",
          "Brunei",
          "Egypt",
          "Belize"
         ],
         "locations": [
          "TWN",
          "NIC",
          "PSE",
          "BRN",
          "EGY",
          "BLZ"
         ],
         "name": "10-14: Dissatisfied",
         "showlegend": true,
         "showscale": false,
         "type": "choropleth",
         "z": [
          1,
          1,
          1,
          1,
          1,
          1
         ]
        },
        {
         "colorscale": [
          [
           0,
           "#fe7171"
          ],
          [
           1,
           "#fe7171"
          ]
         ],
         "customdata": [
          [
           17,
           "SAU",
           "15-19: Slightly Dissatisfied"
          ],
          [
           18.88888888888889,
           "HKG",
           "15-19: Slightly Dissatisfied"
          ],
          [
           16.355555555555554,
           "BGR",
           "15-19: Slightly Dissatisfied"
          ],
          [
           17.85185185185185,
           "LVA",
           "15-19: Slightly Dissatisfied"
          ],
          [
           18.321428571428573,
           "VEN",
           "15-19: Slightly Dissatisfied"
          ],
          [
           17.714285714285715,
           "POL",
           "15-19: Slightly Dissatisfied"
          ],
          [
           18.545454545454547,
           "ZAF",
           "15-19: Slightly Dissatisfied"
          ],
          [
           17.8,
           "MLT",
           "15-19: Slightly Dissatisfied"
          ],
          [
           18.619791666666668,
           "AUS",
           "15-19: Slightly Dissatisfied"
          ],
          [
           18.3419689119171,
           "PRT",
           "15-19: Slightly Dissatisfied"
          ],
          [
           17.595238095238095,
           "TUR",
           "15-19: Slightly Dissatisfied"
          ],
          [
           16.642201834862384,
           "ITA",
           "15-19: Slightly Dissatisfied"
          ],
          [
           18.818181818181817,
           "RUS",
           "15-19: Slightly Dissatisfied"
          ],
          [
           18.16393442622951,
           "SVN",
           "15-19: Slightly Dissatisfied"
          ],
          [
           19,
           "HND",
           "15-19: Slightly Dissatisfied"
          ],
          [
           18.333333333333332,
           "GRC",
           "15-19: Slightly Dissatisfied"
          ],
          [
           17.727272727272727,
           "URY",
           "15-19: Slightly Dissatisfied"
          ],
          [
           16.529411764705884,
           "LTU",
           "15-19: Slightly Dissatisfied"
          ],
          [
           19,
           "CYP",
           "15-19: Slightly Dissatisfied"
          ],
          [
           18,
           "HUN",
           "15-19: Slightly Dissatisfied"
          ],
          [
           19,
           "MDA",
           "15-19: Slightly Dissatisfied"
          ],
          [
           14.090909090909092,
           "VNM",
           "15-19: Slightly Dissatisfied"
          ],
          [
           14.75,
           "FRO",
           "15-19: Slightly Dissatisfied"
          ],
          [
           16.44,
           "MYS",
           "15-19: Slightly Dissatisfied"
          ],
          [
           16,
           "ALB",
           "15-19: Slightly Dissatisfied"
          ],
          [
           17.75,
           "PAK",
           "15-19: Slightly Dissatisfied"
          ],
          [
           16,
           "FJI",
           "15-19: Slightly Dissatisfied"
          ],
          [
           17.833333333333332,
           "SRB",
           "15-19: Slightly Dissatisfied"
          ],
          [
           18.419354838709676,
           "SGP",
           "15-19: Slightly Dissatisfied"
          ],
          [
           18.619156214367163,
           "GBR",
           "15-19: Slightly Dissatisfied"
          ],
          [
           19,
           "JOR",
           "15-19: Slightly Dissatisfied"
          ],
          [
           14.333333333333334,
           "KWT",
           "15-19: Slightly Dissatisfied"
          ],
          [
           18.31168831168831,
           "ROU",
           "15-19: Slightly Dissatisfied"
          ],
          [
           18.49206349206349,
           "CZE",
           "15-19: Slightly Dissatisfied"
          ],
          [
           17.15,
           "PHL",
           "15-19: Slightly Dissatisfied"
          ],
          [
           17,
           "SYR",
           "15-19: Slightly Dissatisfied"
          ],
          [
           15.8,
           "BIH",
           "15-19: Slightly Dissatisfied"
          ],
          [
           17.5,
           "BHR",
           "15-19: Slightly Dissatisfied"
          ],
          [
           18.571428571428573,
           "JPN",
           "15-19: Slightly Dissatisfied"
          ],
          [
           17,
           "MNE",
           "15-19: Slightly Dissatisfied"
          ],
          [
           16.666666666666668,
           "SVK",
           "15-19: Slightly Dissatisfied"
          ],
          [
           15,
           "MNG",
           "15-19: Slightly Dissatisfied"
          ]
         ],
         "geo": "geo",
         "hovertemplate": "<b>%{hovertext}</b><br><br>Average SWL Score=%{customdata[0]}<extra></extra>",
         "hovertext": [
          "Saudi Arabia",
          "Hong Kong",
          "Bulgaria",
          "Latvia",
          "Venezuela",
          "Poland",
          "South Africa",
          "Malta",
          "Australia",
          "Portugal",
          "Turkey",
          "Italy",
          "Russia",
          "Slovenia",
          "Honduras",
          "Greece",
          "Uruguay",
          "Lithuania",
          "Cyprus",
          "Hungary",
          "Moldova",
          "Vietnam",
          "Faroe Islands",
          "Malaysia",
          "Albania",
          "Pakistan",
          "Fiji",
          "Serbia",
          "Singapore",
          "UK",
          "Jordan",
          "Kuwait",
          "Romania",
          "Czech Republic",
          "Philippines",
          "Syria",
          "Bosnia and Herzegovina",
          "Bahrain",
          "Japan",
          "Montenegro",
          "Slovakia",
          "Mongolia"
         ],
         "locations": [
          "SAU",
          "HKG",
          "BGR",
          "LVA",
          "VEN",
          "POL",
          "ZAF",
          "MLT",
          "AUS",
          "PRT",
          "TUR",
          "ITA",
          "RUS",
          "SVN",
          "HND",
          "GRC",
          "URY",
          "LTU",
          "CYP",
          "HUN",
          "MDA",
          "VNM",
          "FRO",
          "MYS",
          "ALB",
          "PAK",
          "FJI",
          "SRB",
          "SGP",
          "GBR",
          "JOR",
          "KWT",
          "ROU",
          "CZE",
          "PHL",
          "SYR",
          "BIH",
          "BHR",
          "JPN",
          "MNE",
          "SVK",
          "MNG"
         ],
         "name": "15-19: Slightly Dissatisfied",
         "showlegend": true,
         "showscale": false,
         "type": "choropleth",
         "z": [
          1,
          1,
          1,
          1,
          1,
          1,
          1,
          1,
          1,
          1,
          1,
          1,
          1,
          1,
          1,
          1,
          1,
          1,
          1,
          1,
          1,
          1,
          1,
          1,
          1,
          1,
          1,
          1,
          1,
          1,
          1,
          1,
          1,
          1,
          1,
          1,
          1,
          1,
          1,
          1,
          1,
          1
         ]
        },
        {
         "colorscale": [
          [
           0,
           "#d4a48f"
          ],
          [
           1,
           "#d4a48f"
          ]
         ],
         "customdata": [
          [
           19.666666666666668,
           "COL",
           "20: Neutral"
          ],
          [
           19.1,
           "ARE",
           "20: Neutral"
          ],
          [
           19.09375,
           "BRA",
           "20: Neutral"
          ],
          [
           19.526946107784433,
           "BEL",
           "20: Neutral"
          ],
          [
           19.317460317460316,
           "HRV",
           "20: Neutral"
          ],
          [
           19.833333333333332,
           "MAR",
           "20: Neutral"
          ],
          [
           19.472727272727273,
           "NZL",
           "20: Neutral"
          ],
          [
           19.333333333333332,
           "GTM",
           "20: Neutral"
          ],
          [
           20,
           "JAM",
           "20: Neutral"
          ],
          [
           19.25,
           "PAN",
           "20: Neutral"
          ],
          [
           19.6875,
           "PER",
           "20: Neutral"
          ],
          [
           19.15806451612903,
           "SWE",
           "20: Neutral"
          ],
          [
           19.434065934065934,
           "ESP",
           "20: Neutral"
          ],
          [
           19.195652173913043,
           "ARG",
           "20: Neutral"
          ],
          [
           19.59027777777778,
           "CAN",
           "20: Neutral"
          ],
          [
           20,
           "THA",
           "20: Neutral"
          ],
          [
           19.68243243243243,
           "FIN",
           "20: Neutral"
          ],
          [
           19.333333333333332,
           "PRI",
           "20: Neutral"
          ],
          [
           19.185185185185187,
           "NOR",
           "20: Neutral"
          ],
          [
           19.896019496344437,
           "DEU",
           "20: Neutral"
          ],
          [
           19.75,
           "ECU",
           "20: Neutral"
          ],
          [
           19.792397660818715,
           "FRA",
           "20: Neutral"
          ],
          [
           19.5,
           "EST",
           "20: Neutral"
          ],
          [
           19.857142857142858,
           "TTO",
           "20: Neutral"
          ]
         ],
         "geo": "geo",
         "hovertemplate": "<b>%{hovertext}</b><br><br>Average SWL Score=%{customdata[0]}<extra></extra>",
         "hovertext": [
          "Colombia",
          "UAE",
          "Brazil",
          "Belgium",
          "Croatia",
          "Morocco",
          "New Zealand ",
          "Guatemala",
          "Jamaica",
          "Panama",
          "Peru",
          "Sweden",
          "Spain",
          "Argentina",
          "Canada",
          "Thailand",
          "Finland",
          "Puerto Rico",
          "Norway",
          "Germany",
          "Ecuador",
          "France",
          "Estonia",
          "Trinidad & Tobago"
         ],
         "locations": [
          "COL",
          "ARE",
          "BRA",
          "BEL",
          "HRV",
          "MAR",
          "NZL",
          "GTM",
          "JAM",
          "PAN",
          "PER",
          "SWE",
          "ESP",
          "ARG",
          "CAN",
          "THA",
          "FIN",
          "PRI",
          "NOR",
          "DEU",
          "ECU",
          "FRA",
          "EST",
          "TTO"
         ],
         "name": "20: Neutral",
         "showlegend": true,
         "showscale": false,
         "type": "choropleth",
         "z": [
          1,
          1,
          1,
          1,
          1,
          1,
          1,
          1,
          1,
          1,
          1,
          1,
          1,
          1,
          1,
          1,
          1,
          1,
          1,
          1,
          1,
          1,
          1,
          1
         ]
        },
        {
         "colorscale": [
          [
           0,
           "#62cb5c"
          ],
          [
           1,
           "#62cb5c"
          ]
         ],
         "customdata": [
          [
           22.6,
           "IND",
           "21-25: Slightly Satisfied"
          ],
          [
           21.666666666666668,
           "QAT",
           "21-25: Slightly Satisfied"
          ],
          [
           25,
           "KAZ",
           "21-25: Slightly Satisfied"
          ],
          [
           23.333333333333332,
           "TUN",
           "21-25: Slightly Satisfied"
          ],
          [
           22,
           "BGD",
           "21-25: Slightly Satisfied"
          ],
          [
           24,
           "BOL",
           "21-25: Slightly Satisfied"
          ],
          [
           20.043478260869566,
           "ISR",
           "21-25: Slightly Satisfied"
          ],
          [
           22,
           "GEO",
           "21-25: Slightly Satisfied"
          ],
          [
           23.428571428571427,
           "DOM",
           "21-25: Slightly Satisfied"
          ],
          [
           20.928571428571427,
           "ISL",
           "21-25: Slightly Satisfied"
          ],
          [
           22.625,
           "MEX",
           "21-25: Slightly Satisfied"
          ],
          [
           20.714285714285715,
           "KOR",
           "21-25: Slightly Satisfied"
          ],
          [
           20.22222222222222,
           "UKR",
           "21-25: Slightly Satisfied"
          ],
          [
           22.2,
           "MKD",
           "21-25: Slightly Satisfied"
          ],
          [
           22.833333333333332,
           "CHN",
           "21-25: Slightly Satisfied"
          ],
          [
           21.33175355450237,
           "DNK",
           "21-25: Slightly Satisfied"
          ],
          [
           21,
           "LUX",
           "21-25: Slightly Satisfied"
          ],
          [
           20.70689655172414,
           "IRL",
           "21-25: Slightly Satisfied"
          ],
          [
           21.364341085271317,
           "AUT",
           "21-25: Slightly Satisfied"
          ],
          [
           23.625,
           "CRI",
           "21-25: Slightly Satisfied"
          ],
          [
           21.823529411764707,
           "CHE",
           "21-25: Slightly Satisfied"
          ],
          [
           21.3,
           "CHL",
           "21-25: Slightly Satisfied"
          ],
          [
           20.1363862618218,
           "USA",
           "21-25: Slightly Satisfied"
          ],
          [
           20.366890380313198,
           "NLD",
           "21-25: Slightly Satisfied"
          ],
          [
           21.8,
           "LBN",
           "21-25: Slightly Satisfied"
          ]
         ],
         "geo": "geo",
         "hovertemplate": "<b>%{hovertext}</b><br><br>Average SWL Score=%{customdata[0]}<extra></extra>",
         "hovertext": [
          "India",
          "Qatar",
          "Kazakhstan",
          "Tunisia",
          "Bangladesh",
          "Bolivia",
          "Israel",
          "Georgia",
          "Dominican Republic",
          "Iceland",
          "Mexico",
          "South Korea",
          "Ukraine",
          "Macedonia",
          "China",
          "Denmark",
          "Luxembourg",
          "Ireland",
          "Austria",
          "Costa Rica",
          "Switzerland",
          "Chile",
          "USA",
          "Netherlands",
          "Lebanon"
         ],
         "locations": [
          "IND",
          "QAT",
          "KAZ",
          "TUN",
          "BGD",
          "BOL",
          "ISR",
          "GEO",
          "DOM",
          "ISL",
          "MEX",
          "KOR",
          "UKR",
          "MKD",
          "CHN",
          "DNK",
          "LUX",
          "IRL",
          "AUT",
          "CRI",
          "CHE",
          "CHL",
          "USA",
          "NLD",
          "LBN"
         ],
         "name": "21-25: Slightly Satisfied",
         "showlegend": true,
         "showscale": false,
         "type": "choropleth",
         "z": [
          1,
          1,
          1,
          1,
          1,
          1,
          1,
          1,
          1,
          1,
          1,
          1,
          1,
          1,
          1,
          1,
          1,
          1,
          1,
          1,
          1,
          1,
          1,
          1,
          1
         ]
        },
        {
         "colorscale": [
          [
           0,
           "#1d961f"
          ],
          [
           1,
           "#1d961f"
          ]
         ],
         "customdata": [
          [
           30,
           "GIB",
           "26-30: Satisfied"
          ],
          [
           29,
           "BLR",
           "26-30: Satisfied"
          ],
          [
           26.5,
           "DZA",
           "26-30: Satisfied"
          ],
          [
           28,
           "LIE",
           "26-30: Satisfied"
          ],
          [
           27,
           "SLV",
           "26-30: Satisfied"
          ],
          [
           26,
           "VCT",
           "26-30: Satisfied"
          ]
         ],
         "geo": "geo",
         "hovertemplate": "<b>%{hovertext}</b><br><br>Average SWL Score=%{customdata[0]}<extra></extra>",
         "hovertext": [
          "Gibraltar ",
          "Belarus",
          "Algeria",
          "Liechtenstein",
          "El Salvador",
          "St Vincent"
         ],
         "locations": [
          "GIB",
          "BLR",
          "DZA",
          "LIE",
          "SLV",
          "VCT"
         ],
         "name": "26-30: Satisfied",
         "showlegend": true,
         "showscale": false,
         "type": "choropleth",
         "z": [
          1,
          1,
          1,
          1,
          1,
          1
         ]
        },
        {
         "colorscale": [
          [
           0,
           "#005b04"
          ],
          [
           1,
           "#005b04"
          ]
         ],
         "customdata": [
          [
           34,
           "GRD",
           "31-35: Extremely satisfied"
          ],
          [
           35,
           "NAM",
           "31-35: Extremely satisfied"
          ]
         ],
         "geo": "geo",
         "hovertemplate": "<b>%{hovertext}</b><br><br>Average SWL Score=%{customdata[0]}<extra></extra>",
         "hovertext": [
          "Grenada",
          "Namibia"
         ],
         "locations": [
          "GRD",
          "NAM"
         ],
         "name": "31-35: Extremely satisfied",
         "showlegend": true,
         "showscale": false,
         "type": "choropleth",
         "z": [
          1,
          1
         ]
        }
       ],
       "layout": {
        "geo": {
         "center": {},
         "domain": {
          "x": [
           0,
           1
          ],
          "y": [
           0,
           1
          ]
         },
         "projection": {
          "type": "equirectangular"
         },
         "showcoastlines": false,
         "showframe": false
        },
        "hoverlabel": {
         "bgcolor": "white",
         "font": {
          "family": "Ariel",
          "size": 14
         }
        },
        "legend": {
         "title": {
          "text": "SWL Score"
         },
         "tracegroupgap": 0
        },
        "margin": {
         "t": 60
        },
        "template": {
         "data": {
          "bar": [
           {
            "error_x": {
             "color": "#2a3f5f"
            },
            "error_y": {
             "color": "#2a3f5f"
            },
            "marker": {
             "line": {
              "color": "#E5ECF6",
              "width": 0.5
             },
             "pattern": {
              "fillmode": "overlay",
              "size": 10,
              "solidity": 0.2
             }
            },
            "type": "bar"
           }
          ],
          "barpolar": [
           {
            "marker": {
             "line": {
              "color": "#E5ECF6",
              "width": 0.5
             },
             "pattern": {
              "fillmode": "overlay",
              "size": 10,
              "solidity": 0.2
             }
            },
            "type": "barpolar"
           }
          ],
          "carpet": [
           {
            "aaxis": {
             "endlinecolor": "#2a3f5f",
             "gridcolor": "white",
             "linecolor": "white",
             "minorgridcolor": "white",
             "startlinecolor": "#2a3f5f"
            },
            "baxis": {
             "endlinecolor": "#2a3f5f",
             "gridcolor": "white",
             "linecolor": "white",
             "minorgridcolor": "white",
             "startlinecolor": "#2a3f5f"
            },
            "type": "carpet"
           }
          ],
          "choropleth": [
           {
            "colorbar": {
             "outlinewidth": 0,
             "ticks": ""
            },
            "type": "choropleth"
           }
          ],
          "contour": [
           {
            "colorbar": {
             "outlinewidth": 0,
             "ticks": ""
            },
            "colorscale": [
             [
              0,
              "#0d0887"
             ],
             [
              0.1111111111111111,
              "#46039f"
             ],
             [
              0.2222222222222222,
              "#7201a8"
             ],
             [
              0.3333333333333333,
              "#9c179e"
             ],
             [
              0.4444444444444444,
              "#bd3786"
             ],
             [
              0.5555555555555556,
              "#d8576b"
             ],
             [
              0.6666666666666666,
              "#ed7953"
             ],
             [
              0.7777777777777778,
              "#fb9f3a"
             ],
             [
              0.8888888888888888,
              "#fdca26"
             ],
             [
              1,
              "#f0f921"
             ]
            ],
            "type": "contour"
           }
          ],
          "contourcarpet": [
           {
            "colorbar": {
             "outlinewidth": 0,
             "ticks": ""
            },
            "type": "contourcarpet"
           }
          ],
          "heatmap": [
           {
            "colorbar": {
             "outlinewidth": 0,
             "ticks": ""
            },
            "colorscale": [
             [
              0,
              "#0d0887"
             ],
             [
              0.1111111111111111,
              "#46039f"
             ],
             [
              0.2222222222222222,
              "#7201a8"
             ],
             [
              0.3333333333333333,
              "#9c179e"
             ],
             [
              0.4444444444444444,
              "#bd3786"
             ],
             [
              0.5555555555555556,
              "#d8576b"
             ],
             [
              0.6666666666666666,
              "#ed7953"
             ],
             [
              0.7777777777777778,
              "#fb9f3a"
             ],
             [
              0.8888888888888888,
              "#fdca26"
             ],
             [
              1,
              "#f0f921"
             ]
            ],
            "type": "heatmap"
           }
          ],
          "heatmapgl": [
           {
            "colorbar": {
             "outlinewidth": 0,
             "ticks": ""
            },
            "colorscale": [
             [
              0,
              "#0d0887"
             ],
             [
              0.1111111111111111,
              "#46039f"
             ],
             [
              0.2222222222222222,
              "#7201a8"
             ],
             [
              0.3333333333333333,
              "#9c179e"
             ],
             [
              0.4444444444444444,
              "#bd3786"
             ],
             [
              0.5555555555555556,
              "#d8576b"
             ],
             [
              0.6666666666666666,
              "#ed7953"
             ],
             [
              0.7777777777777778,
              "#fb9f3a"
             ],
             [
              0.8888888888888888,
              "#fdca26"
             ],
             [
              1,
              "#f0f921"
             ]
            ],
            "type": "heatmapgl"
           }
          ],
          "histogram": [
           {
            "marker": {
             "pattern": {
              "fillmode": "overlay",
              "size": 10,
              "solidity": 0.2
             }
            },
            "type": "histogram"
           }
          ],
          "histogram2d": [
           {
            "colorbar": {
             "outlinewidth": 0,
             "ticks": ""
            },
            "colorscale": [
             [
              0,
              "#0d0887"
             ],
             [
              0.1111111111111111,
              "#46039f"
             ],
             [
              0.2222222222222222,
              "#7201a8"
             ],
             [
              0.3333333333333333,
              "#9c179e"
             ],
             [
              0.4444444444444444,
              "#bd3786"
             ],
             [
              0.5555555555555556,
              "#d8576b"
             ],
             [
              0.6666666666666666,
              "#ed7953"
             ],
             [
              0.7777777777777778,
              "#fb9f3a"
             ],
             [
              0.8888888888888888,
              "#fdca26"
             ],
             [
              1,
              "#f0f921"
             ]
            ],
            "type": "histogram2d"
           }
          ],
          "histogram2dcontour": [
           {
            "colorbar": {
             "outlinewidth": 0,
             "ticks": ""
            },
            "colorscale": [
             [
              0,
              "#0d0887"
             ],
             [
              0.1111111111111111,
              "#46039f"
             ],
             [
              0.2222222222222222,
              "#7201a8"
             ],
             [
              0.3333333333333333,
              "#9c179e"
             ],
             [
              0.4444444444444444,
              "#bd3786"
             ],
             [
              0.5555555555555556,
              "#d8576b"
             ],
             [
              0.6666666666666666,
              "#ed7953"
             ],
             [
              0.7777777777777778,
              "#fb9f3a"
             ],
             [
              0.8888888888888888,
              "#fdca26"
             ],
             [
              1,
              "#f0f921"
             ]
            ],
            "type": "histogram2dcontour"
           }
          ],
          "mesh3d": [
           {
            "colorbar": {
             "outlinewidth": 0,
             "ticks": ""
            },
            "type": "mesh3d"
           }
          ],
          "parcoords": [
           {
            "line": {
             "colorbar": {
              "outlinewidth": 0,
              "ticks": ""
             }
            },
            "type": "parcoords"
           }
          ],
          "pie": [
           {
            "automargin": true,
            "type": "pie"
           }
          ],
          "scatter": [
           {
            "marker": {
             "colorbar": {
              "outlinewidth": 0,
              "ticks": ""
             }
            },
            "type": "scatter"
           }
          ],
          "scatter3d": [
           {
            "line": {
             "colorbar": {
              "outlinewidth": 0,
              "ticks": ""
             }
            },
            "marker": {
             "colorbar": {
              "outlinewidth": 0,
              "ticks": ""
             }
            },
            "type": "scatter3d"
           }
          ],
          "scattercarpet": [
           {
            "marker": {
             "colorbar": {
              "outlinewidth": 0,
              "ticks": ""
             }
            },
            "type": "scattercarpet"
           }
          ],
          "scattergeo": [
           {
            "marker": {
             "colorbar": {
              "outlinewidth": 0,
              "ticks": ""
             }
            },
            "type": "scattergeo"
           }
          ],
          "scattergl": [
           {
            "marker": {
             "colorbar": {
              "outlinewidth": 0,
              "ticks": ""
             }
            },
            "type": "scattergl"
           }
          ],
          "scattermapbox": [
           {
            "marker": {
             "colorbar": {
              "outlinewidth": 0,
              "ticks": ""
             }
            },
            "type": "scattermapbox"
           }
          ],
          "scatterpolar": [
           {
            "marker": {
             "colorbar": {
              "outlinewidth": 0,
              "ticks": ""
             }
            },
            "type": "scatterpolar"
           }
          ],
          "scatterpolargl": [
           {
            "marker": {
             "colorbar": {
              "outlinewidth": 0,
              "ticks": ""
             }
            },
            "type": "scatterpolargl"
           }
          ],
          "scatterternary": [
           {
            "marker": {
             "colorbar": {
              "outlinewidth": 0,
              "ticks": ""
             }
            },
            "type": "scatterternary"
           }
          ],
          "surface": [
           {
            "colorbar": {
             "outlinewidth": 0,
             "ticks": ""
            },
            "colorscale": [
             [
              0,
              "#0d0887"
             ],
             [
              0.1111111111111111,
              "#46039f"
             ],
             [
              0.2222222222222222,
              "#7201a8"
             ],
             [
              0.3333333333333333,
              "#9c179e"
             ],
             [
              0.4444444444444444,
              "#bd3786"
             ],
             [
              0.5555555555555556,
              "#d8576b"
             ],
             [
              0.6666666666666666,
              "#ed7953"
             ],
             [
              0.7777777777777778,
              "#fb9f3a"
             ],
             [
              0.8888888888888888,
              "#fdca26"
             ],
             [
              1,
              "#f0f921"
             ]
            ],
            "type": "surface"
           }
          ],
          "table": [
           {
            "cells": {
             "fill": {
              "color": "#EBF0F8"
             },
             "line": {
              "color": "white"
             }
            },
            "header": {
             "fill": {
              "color": "#C8D4E3"
             },
             "line": {
              "color": "white"
             }
            },
            "type": "table"
           }
          ]
         },
         "layout": {
          "annotationdefaults": {
           "arrowcolor": "#2a3f5f",
           "arrowhead": 0,
           "arrowwidth": 1
          },
          "autotypenumbers": "strict",
          "coloraxis": {
           "colorbar": {
            "outlinewidth": 0,
            "ticks": ""
           }
          },
          "colorscale": {
           "diverging": [
            [
             0,
             "#8e0152"
            ],
            [
             0.1,
             "#c51b7d"
            ],
            [
             0.2,
             "#de77ae"
            ],
            [
             0.3,
             "#f1b6da"
            ],
            [
             0.4,
             "#fde0ef"
            ],
            [
             0.5,
             "#f7f7f7"
            ],
            [
             0.6,
             "#e6f5d0"
            ],
            [
             0.7,
             "#b8e186"
            ],
            [
             0.8,
             "#7fbc41"
            ],
            [
             0.9,
             "#4d9221"
            ],
            [
             1,
             "#276419"
            ]
           ],
           "sequential": [
            [
             0,
             "#0d0887"
            ],
            [
             0.1111111111111111,
             "#46039f"
            ],
            [
             0.2222222222222222,
             "#7201a8"
            ],
            [
             0.3333333333333333,
             "#9c179e"
            ],
            [
             0.4444444444444444,
             "#bd3786"
            ],
            [
             0.5555555555555556,
             "#d8576b"
            ],
            [
             0.6666666666666666,
             "#ed7953"
            ],
            [
             0.7777777777777778,
             "#fb9f3a"
            ],
            [
             0.8888888888888888,
             "#fdca26"
            ],
            [
             1,
             "#f0f921"
            ]
           ],
           "sequentialminus": [
            [
             0,
             "#0d0887"
            ],
            [
             0.1111111111111111,
             "#46039f"
            ],
            [
             0.2222222222222222,
             "#7201a8"
            ],
            [
             0.3333333333333333,
             "#9c179e"
            ],
            [
             0.4444444444444444,
             "#bd3786"
            ],
            [
             0.5555555555555556,
             "#d8576b"
            ],
            [
             0.6666666666666666,
             "#ed7953"
            ],
            [
             0.7777777777777778,
             "#fb9f3a"
            ],
            [
             0.8888888888888888,
             "#fdca26"
            ],
            [
             1,
             "#f0f921"
            ]
           ]
          },
          "colorway": [
           "#636efa",
           "#EF553B",
           "#00cc96",
           "#ab63fa",
           "#FFA15A",
           "#19d3f3",
           "#FF6692",
           "#B6E880",
           "#FF97FF",
           "#FECB52"
          ],
          "font": {
           "color": "#2a3f5f"
          },
          "geo": {
           "bgcolor": "white",
           "lakecolor": "white",
           "landcolor": "#E5ECF6",
           "showlakes": true,
           "showland": true,
           "subunitcolor": "white"
          },
          "hoverlabel": {
           "align": "left"
          },
          "hovermode": "closest",
          "mapbox": {
           "style": "light"
          },
          "paper_bgcolor": "white",
          "plot_bgcolor": "#E5ECF6",
          "polar": {
           "angularaxis": {
            "gridcolor": "white",
            "linecolor": "white",
            "ticks": ""
           },
           "bgcolor": "#E5ECF6",
           "radialaxis": {
            "gridcolor": "white",
            "linecolor": "white",
            "ticks": ""
           }
          },
          "scene": {
           "xaxis": {
            "backgroundcolor": "#E5ECF6",
            "gridcolor": "white",
            "gridwidth": 2,
            "linecolor": "white",
            "showbackground": true,
            "ticks": "",
            "zerolinecolor": "white"
           },
           "yaxis": {
            "backgroundcolor": "#E5ECF6",
            "gridcolor": "white",
            "gridwidth": 2,
            "linecolor": "white",
            "showbackground": true,
            "ticks": "",
            "zerolinecolor": "white"
           },
           "zaxis": {
            "backgroundcolor": "#E5ECF6",
            "gridcolor": "white",
            "gridwidth": 2,
            "linecolor": "white",
            "showbackground": true,
            "ticks": "",
            "zerolinecolor": "white"
           }
          },
          "shapedefaults": {
           "line": {
            "color": "#2a3f5f"
           }
          },
          "ternary": {
           "aaxis": {
            "gridcolor": "white",
            "linecolor": "white",
            "ticks": ""
           },
           "baxis": {
            "gridcolor": "white",
            "linecolor": "white",
            "ticks": ""
           },
           "bgcolor": "#E5ECF6",
           "caxis": {
            "gridcolor": "white",
            "linecolor": "white",
            "ticks": ""
           }
          },
          "title": {
           "x": 0.05
          },
          "xaxis": {
           "automargin": true,
           "gridcolor": "white",
           "linecolor": "white",
           "ticks": "",
           "title": {
            "standoff": 15
           },
           "zerolinecolor": "white",
           "zerolinewidth": 2
          },
          "yaxis": {
           "automargin": true,
           "gridcolor": "white",
           "linecolor": "white",
           "ticks": "",
           "title": {
            "standoff": 15
           },
           "zerolinecolor": "white",
           "zerolinewidth": 2
          }
         }
        },
        "title": {
         "text": "Average Satisfaction with Life per Country"
        }
       }
      },
      "text/html": [
       "<div>                            <div id=\"a4abb79b-baf7-45e8-9976-6d27d2f19215\" class=\"plotly-graph-div\" style=\"height:525px; width:100%;\"></div>            <script type=\"text/javascript\">                require([\"plotly\"], function(Plotly) {                    window.PLOTLYENV=window.PLOTLYENV || {};                                    if (document.getElementById(\"a4abb79b-baf7-45e8-9976-6d27d2f19215\")) {                    Plotly.newPlot(                        \"a4abb79b-baf7-45e8-9976-6d27d2f19215\",                        [{\"colorscale\":[[0.0,\"#690000\"],[1.0,\"#690000\"]],\"customdata\":[[8.0,\"GLP\",\"5-9: Extremely Dissatisfied\"],[9.0,\"IDN\",\"5-9: Extremely Dissatisfied\"]],\"geo\":\"geo\",\"hovertemplate\":\"<b>%{hovertext}</b><br><br>Average SWL Score=%{customdata[0]}<extra></extra>\",\"hovertext\":[\"Guadeloupe\",\"Indonesia\"],\"locations\":[\"GLP\",\"IDN\"],\"name\":\"5-9: Extremely Dissatisfied\",\"showlegend\":true,\"showscale\":false,\"z\":[1,1],\"type\":\"choropleth\"},{\"colorscale\":[[0.0,\"#ee0000\"],[1.0,\"#ee0000\"]],\"customdata\":[[11.0,\"TWN\",\"10-14: Dissatisfied\"],[11.0,\"NIC\",\"10-14: Dissatisfied\"],[11.0,\"PSE\",\"10-14: Dissatisfied\"],[14.0,\"BRN\",\"10-14: Dissatisfied\"],[11.8,\"EGY\",\"10-14: Dissatisfied\"],[12.0,\"BLZ\",\"10-14: Dissatisfied\"]],\"geo\":\"geo\",\"hovertemplate\":\"<b>%{hovertext}</b><br><br>Average SWL Score=%{customdata[0]}<extra></extra>\",\"hovertext\":[\"Taiwan\",\"Nicaragua\",\"Palestine\",\"Brunei\",\"Egypt\",\"Belize\"],\"locations\":[\"TWN\",\"NIC\",\"PSE\",\"BRN\",\"EGY\",\"BLZ\"],\"name\":\"10-14: Dissatisfied\",\"showlegend\":true,\"showscale\":false,\"z\":[1,1,1,1,1,1],\"type\":\"choropleth\"},{\"colorscale\":[[0.0,\"#fe7171\"],[1.0,\"#fe7171\"]],\"customdata\":[[17.0,\"SAU\",\"15-19: Slightly Dissatisfied\"],[18.88888888888889,\"HKG\",\"15-19: Slightly Dissatisfied\"],[16.355555555555554,\"BGR\",\"15-19: Slightly Dissatisfied\"],[17.85185185185185,\"LVA\",\"15-19: Slightly Dissatisfied\"],[18.321428571428573,\"VEN\",\"15-19: Slightly Dissatisfied\"],[17.714285714285715,\"POL\",\"15-19: Slightly Dissatisfied\"],[18.545454545454547,\"ZAF\",\"15-19: Slightly Dissatisfied\"],[17.8,\"MLT\",\"15-19: Slightly Dissatisfied\"],[18.619791666666668,\"AUS\",\"15-19: Slightly Dissatisfied\"],[18.3419689119171,\"PRT\",\"15-19: Slightly Dissatisfied\"],[17.595238095238095,\"TUR\",\"15-19: Slightly Dissatisfied\"],[16.642201834862384,\"ITA\",\"15-19: Slightly Dissatisfied\"],[18.818181818181817,\"RUS\",\"15-19: Slightly Dissatisfied\"],[18.16393442622951,\"SVN\",\"15-19: Slightly Dissatisfied\"],[19.0,\"HND\",\"15-19: Slightly Dissatisfied\"],[18.333333333333332,\"GRC\",\"15-19: Slightly Dissatisfied\"],[17.727272727272727,\"URY\",\"15-19: Slightly Dissatisfied\"],[16.529411764705884,\"LTU\",\"15-19: Slightly Dissatisfied\"],[19.0,\"CYP\",\"15-19: Slightly Dissatisfied\"],[18.0,\"HUN\",\"15-19: Slightly Dissatisfied\"],[19.0,\"MDA\",\"15-19: Slightly Dissatisfied\"],[14.090909090909092,\"VNM\",\"15-19: Slightly Dissatisfied\"],[14.75,\"FRO\",\"15-19: Slightly Dissatisfied\"],[16.44,\"MYS\",\"15-19: Slightly Dissatisfied\"],[16.0,\"ALB\",\"15-19: Slightly Dissatisfied\"],[17.75,\"PAK\",\"15-19: Slightly Dissatisfied\"],[16.0,\"FJI\",\"15-19: Slightly Dissatisfied\"],[17.833333333333332,\"SRB\",\"15-19: Slightly Dissatisfied\"],[18.419354838709676,\"SGP\",\"15-19: Slightly Dissatisfied\"],[18.619156214367163,\"GBR\",\"15-19: Slightly Dissatisfied\"],[19.0,\"JOR\",\"15-19: Slightly Dissatisfied\"],[14.333333333333334,\"KWT\",\"15-19: Slightly Dissatisfied\"],[18.31168831168831,\"ROU\",\"15-19: Slightly Dissatisfied\"],[18.49206349206349,\"CZE\",\"15-19: Slightly Dissatisfied\"],[17.15,\"PHL\",\"15-19: Slightly Dissatisfied\"],[17.0,\"SYR\",\"15-19: Slightly Dissatisfied\"],[15.8,\"BIH\",\"15-19: Slightly Dissatisfied\"],[17.5,\"BHR\",\"15-19: Slightly Dissatisfied\"],[18.571428571428573,\"JPN\",\"15-19: Slightly Dissatisfied\"],[17.0,\"MNE\",\"15-19: Slightly Dissatisfied\"],[16.666666666666668,\"SVK\",\"15-19: Slightly Dissatisfied\"],[15.0,\"MNG\",\"15-19: Slightly Dissatisfied\"]],\"geo\":\"geo\",\"hovertemplate\":\"<b>%{hovertext}</b><br><br>Average SWL Score=%{customdata[0]}<extra></extra>\",\"hovertext\":[\"Saudi Arabia\",\"Hong Kong\",\"Bulgaria\",\"Latvia\",\"Venezuela\",\"Poland\",\"South Africa\",\"Malta\",\"Australia\",\"Portugal\",\"Turkey\",\"Italy\",\"Russia\",\"Slovenia\",\"Honduras\",\"Greece\",\"Uruguay\",\"Lithuania\",\"Cyprus\",\"Hungary\",\"Moldova\",\"Vietnam\",\"Faroe Islands\",\"Malaysia\",\"Albania\",\"Pakistan\",\"Fiji\",\"Serbia\",\"Singapore\",\"UK\",\"Jordan\",\"Kuwait\",\"Romania\",\"Czech Republic\",\"Philippines\",\"Syria\",\"Bosnia and Herzegovina\",\"Bahrain\",\"Japan\",\"Montenegro\",\"Slovakia\",\"Mongolia\"],\"locations\":[\"SAU\",\"HKG\",\"BGR\",\"LVA\",\"VEN\",\"POL\",\"ZAF\",\"MLT\",\"AUS\",\"PRT\",\"TUR\",\"ITA\",\"RUS\",\"SVN\",\"HND\",\"GRC\",\"URY\",\"LTU\",\"CYP\",\"HUN\",\"MDA\",\"VNM\",\"FRO\",\"MYS\",\"ALB\",\"PAK\",\"FJI\",\"SRB\",\"SGP\",\"GBR\",\"JOR\",\"KWT\",\"ROU\",\"CZE\",\"PHL\",\"SYR\",\"BIH\",\"BHR\",\"JPN\",\"MNE\",\"SVK\",\"MNG\"],\"name\":\"15-19: Slightly Dissatisfied\",\"showlegend\":true,\"showscale\":false,\"z\":[1,1,1,1,1,1,1,1,1,1,1,1,1,1,1,1,1,1,1,1,1,1,1,1,1,1,1,1,1,1,1,1,1,1,1,1,1,1,1,1,1,1],\"type\":\"choropleth\"},{\"colorscale\":[[0.0,\"#d4a48f\"],[1.0,\"#d4a48f\"]],\"customdata\":[[19.666666666666668,\"COL\",\"20: Neutral\"],[19.1,\"ARE\",\"20: Neutral\"],[19.09375,\"BRA\",\"20: Neutral\"],[19.526946107784433,\"BEL\",\"20: Neutral\"],[19.317460317460316,\"HRV\",\"20: Neutral\"],[19.833333333333332,\"MAR\",\"20: Neutral\"],[19.472727272727273,\"NZL\",\"20: Neutral\"],[19.333333333333332,\"GTM\",\"20: Neutral\"],[20.0,\"JAM\",\"20: Neutral\"],[19.25,\"PAN\",\"20: Neutral\"],[19.6875,\"PER\",\"20: Neutral\"],[19.15806451612903,\"SWE\",\"20: Neutral\"],[19.434065934065934,\"ESP\",\"20: Neutral\"],[19.195652173913043,\"ARG\",\"20: Neutral\"],[19.59027777777778,\"CAN\",\"20: Neutral\"],[20.0,\"THA\",\"20: Neutral\"],[19.68243243243243,\"FIN\",\"20: Neutral\"],[19.333333333333332,\"PRI\",\"20: Neutral\"],[19.185185185185187,\"NOR\",\"20: Neutral\"],[19.896019496344437,\"DEU\",\"20: Neutral\"],[19.75,\"ECU\",\"20: Neutral\"],[19.792397660818715,\"FRA\",\"20: Neutral\"],[19.5,\"EST\",\"20: Neutral\"],[19.857142857142858,\"TTO\",\"20: Neutral\"]],\"geo\":\"geo\",\"hovertemplate\":\"<b>%{hovertext}</b><br><br>Average SWL Score=%{customdata[0]}<extra></extra>\",\"hovertext\":[\"Colombia\",\"UAE\",\"Brazil\",\"Belgium\",\"Croatia\",\"Morocco\",\"New Zealand \",\"Guatemala\",\"Jamaica\",\"Panama\",\"Peru\",\"Sweden\",\"Spain\",\"Argentina\",\"Canada\",\"Thailand\",\"Finland\",\"Puerto Rico\",\"Norway\",\"Germany\",\"Ecuador\",\"France\",\"Estonia\",\"Trinidad & Tobago\"],\"locations\":[\"COL\",\"ARE\",\"BRA\",\"BEL\",\"HRV\",\"MAR\",\"NZL\",\"GTM\",\"JAM\",\"PAN\",\"PER\",\"SWE\",\"ESP\",\"ARG\",\"CAN\",\"THA\",\"FIN\",\"PRI\",\"NOR\",\"DEU\",\"ECU\",\"FRA\",\"EST\",\"TTO\"],\"name\":\"20: Neutral\",\"showlegend\":true,\"showscale\":false,\"z\":[1,1,1,1,1,1,1,1,1,1,1,1,1,1,1,1,1,1,1,1,1,1,1,1],\"type\":\"choropleth\"},{\"colorscale\":[[0.0,\"#62cb5c\"],[1.0,\"#62cb5c\"]],\"customdata\":[[22.6,\"IND\",\"21-25: Slightly Satisfied\"],[21.666666666666668,\"QAT\",\"21-25: Slightly Satisfied\"],[25.0,\"KAZ\",\"21-25: Slightly Satisfied\"],[23.333333333333332,\"TUN\",\"21-25: Slightly Satisfied\"],[22.0,\"BGD\",\"21-25: Slightly Satisfied\"],[24.0,\"BOL\",\"21-25: Slightly Satisfied\"],[20.043478260869566,\"ISR\",\"21-25: Slightly Satisfied\"],[22.0,\"GEO\",\"21-25: Slightly Satisfied\"],[23.428571428571427,\"DOM\",\"21-25: Slightly Satisfied\"],[20.928571428571427,\"ISL\",\"21-25: Slightly Satisfied\"],[22.625,\"MEX\",\"21-25: Slightly Satisfied\"],[20.714285714285715,\"KOR\",\"21-25: Slightly Satisfied\"],[20.22222222222222,\"UKR\",\"21-25: Slightly Satisfied\"],[22.2,\"MKD\",\"21-25: Slightly Satisfied\"],[22.833333333333332,\"CHN\",\"21-25: Slightly Satisfied\"],[21.33175355450237,\"DNK\",\"21-25: Slightly Satisfied\"],[21.0,\"LUX\",\"21-25: Slightly Satisfied\"],[20.70689655172414,\"IRL\",\"21-25: Slightly Satisfied\"],[21.364341085271317,\"AUT\",\"21-25: Slightly Satisfied\"],[23.625,\"CRI\",\"21-25: Slightly Satisfied\"],[21.823529411764707,\"CHE\",\"21-25: Slightly Satisfied\"],[21.3,\"CHL\",\"21-25: Slightly Satisfied\"],[20.1363862618218,\"USA\",\"21-25: Slightly Satisfied\"],[20.366890380313198,\"NLD\",\"21-25: Slightly Satisfied\"],[21.8,\"LBN\",\"21-25: Slightly Satisfied\"]],\"geo\":\"geo\",\"hovertemplate\":\"<b>%{hovertext}</b><br><br>Average SWL Score=%{customdata[0]}<extra></extra>\",\"hovertext\":[\"India\",\"Qatar\",\"Kazakhstan\",\"Tunisia\",\"Bangladesh\",\"Bolivia\",\"Israel\",\"Georgia\",\"Dominican Republic\",\"Iceland\",\"Mexico\",\"South Korea\",\"Ukraine\",\"Macedonia\",\"China\",\"Denmark\",\"Luxembourg\",\"Ireland\",\"Austria\",\"Costa Rica\",\"Switzerland\",\"Chile\",\"USA\",\"Netherlands\",\"Lebanon\"],\"locations\":[\"IND\",\"QAT\",\"KAZ\",\"TUN\",\"BGD\",\"BOL\",\"ISR\",\"GEO\",\"DOM\",\"ISL\",\"MEX\",\"KOR\",\"UKR\",\"MKD\",\"CHN\",\"DNK\",\"LUX\",\"IRL\",\"AUT\",\"CRI\",\"CHE\",\"CHL\",\"USA\",\"NLD\",\"LBN\"],\"name\":\"21-25: Slightly Satisfied\",\"showlegend\":true,\"showscale\":false,\"z\":[1,1,1,1,1,1,1,1,1,1,1,1,1,1,1,1,1,1,1,1,1,1,1,1,1],\"type\":\"choropleth\"},{\"colorscale\":[[0.0,\"#1d961f\"],[1.0,\"#1d961f\"]],\"customdata\":[[30.0,\"GIB\",\"26-30: Satisfied\"],[29.0,\"BLR\",\"26-30: Satisfied\"],[26.5,\"DZA\",\"26-30: Satisfied\"],[28.0,\"LIE\",\"26-30: Satisfied\"],[27.0,\"SLV\",\"26-30: Satisfied\"],[26.0,\"VCT\",\"26-30: Satisfied\"]],\"geo\":\"geo\",\"hovertemplate\":\"<b>%{hovertext}</b><br><br>Average SWL Score=%{customdata[0]}<extra></extra>\",\"hovertext\":[\"Gibraltar \",\"Belarus\",\"Algeria\",\"Liechtenstein\",\"El Salvador\",\"St Vincent\"],\"locations\":[\"GIB\",\"BLR\",\"DZA\",\"LIE\",\"SLV\",\"VCT\"],\"name\":\"26-30: Satisfied\",\"showlegend\":true,\"showscale\":false,\"z\":[1,1,1,1,1,1],\"type\":\"choropleth\"},{\"colorscale\":[[0.0,\"#005b04\"],[1.0,\"#005b04\"]],\"customdata\":[[34.0,\"GRD\",\"31-35: Extremely satisfied\"],[35.0,\"NAM\",\"31-35: Extremely satisfied\"]],\"geo\":\"geo\",\"hovertemplate\":\"<b>%{hovertext}</b><br><br>Average SWL Score=%{customdata[0]}<extra></extra>\",\"hovertext\":[\"Grenada\",\"Namibia\"],\"locations\":[\"GRD\",\"NAM\"],\"name\":\"31-35: Extremely satisfied\",\"showlegend\":true,\"showscale\":false,\"z\":[1,1],\"type\":\"choropleth\"}],                        {\"template\":{\"data\":{\"bar\":[{\"error_x\":{\"color\":\"#2a3f5f\"},\"error_y\":{\"color\":\"#2a3f5f\"},\"marker\":{\"line\":{\"color\":\"#E5ECF6\",\"width\":0.5},\"pattern\":{\"fillmode\":\"overlay\",\"size\":10,\"solidity\":0.2}},\"type\":\"bar\"}],\"barpolar\":[{\"marker\":{\"line\":{\"color\":\"#E5ECF6\",\"width\":0.5},\"pattern\":{\"fillmode\":\"overlay\",\"size\":10,\"solidity\":0.2}},\"type\":\"barpolar\"}],\"carpet\":[{\"aaxis\":{\"endlinecolor\":\"#2a3f5f\",\"gridcolor\":\"white\",\"linecolor\":\"white\",\"minorgridcolor\":\"white\",\"startlinecolor\":\"#2a3f5f\"},\"baxis\":{\"endlinecolor\":\"#2a3f5f\",\"gridcolor\":\"white\",\"linecolor\":\"white\",\"minorgridcolor\":\"white\",\"startlinecolor\":\"#2a3f5f\"},\"type\":\"carpet\"}],\"choropleth\":[{\"colorbar\":{\"outlinewidth\":0,\"ticks\":\"\"},\"type\":\"choropleth\"}],\"contour\":[{\"colorbar\":{\"outlinewidth\":0,\"ticks\":\"\"},\"colorscale\":[[0.0,\"#0d0887\"],[0.1111111111111111,\"#46039f\"],[0.2222222222222222,\"#7201a8\"],[0.3333333333333333,\"#9c179e\"],[0.4444444444444444,\"#bd3786\"],[0.5555555555555556,\"#d8576b\"],[0.6666666666666666,\"#ed7953\"],[0.7777777777777778,\"#fb9f3a\"],[0.8888888888888888,\"#fdca26\"],[1.0,\"#f0f921\"]],\"type\":\"contour\"}],\"contourcarpet\":[{\"colorbar\":{\"outlinewidth\":0,\"ticks\":\"\"},\"type\":\"contourcarpet\"}],\"heatmap\":[{\"colorbar\":{\"outlinewidth\":0,\"ticks\":\"\"},\"colorscale\":[[0.0,\"#0d0887\"],[0.1111111111111111,\"#46039f\"],[0.2222222222222222,\"#7201a8\"],[0.3333333333333333,\"#9c179e\"],[0.4444444444444444,\"#bd3786\"],[0.5555555555555556,\"#d8576b\"],[0.6666666666666666,\"#ed7953\"],[0.7777777777777778,\"#fb9f3a\"],[0.8888888888888888,\"#fdca26\"],[1.0,\"#f0f921\"]],\"type\":\"heatmap\"}],\"heatmapgl\":[{\"colorbar\":{\"outlinewidth\":0,\"ticks\":\"\"},\"colorscale\":[[0.0,\"#0d0887\"],[0.1111111111111111,\"#46039f\"],[0.2222222222222222,\"#7201a8\"],[0.3333333333333333,\"#9c179e\"],[0.4444444444444444,\"#bd3786\"],[0.5555555555555556,\"#d8576b\"],[0.6666666666666666,\"#ed7953\"],[0.7777777777777778,\"#fb9f3a\"],[0.8888888888888888,\"#fdca26\"],[1.0,\"#f0f921\"]],\"type\":\"heatmapgl\"}],\"histogram\":[{\"marker\":{\"pattern\":{\"fillmode\":\"overlay\",\"size\":10,\"solidity\":0.2}},\"type\":\"histogram\"}],\"histogram2d\":[{\"colorbar\":{\"outlinewidth\":0,\"ticks\":\"\"},\"colorscale\":[[0.0,\"#0d0887\"],[0.1111111111111111,\"#46039f\"],[0.2222222222222222,\"#7201a8\"],[0.3333333333333333,\"#9c179e\"],[0.4444444444444444,\"#bd3786\"],[0.5555555555555556,\"#d8576b\"],[0.6666666666666666,\"#ed7953\"],[0.7777777777777778,\"#fb9f3a\"],[0.8888888888888888,\"#fdca26\"],[1.0,\"#f0f921\"]],\"type\":\"histogram2d\"}],\"histogram2dcontour\":[{\"colorbar\":{\"outlinewidth\":0,\"ticks\":\"\"},\"colorscale\":[[0.0,\"#0d0887\"],[0.1111111111111111,\"#46039f\"],[0.2222222222222222,\"#7201a8\"],[0.3333333333333333,\"#9c179e\"],[0.4444444444444444,\"#bd3786\"],[0.5555555555555556,\"#d8576b\"],[0.6666666666666666,\"#ed7953\"],[0.7777777777777778,\"#fb9f3a\"],[0.8888888888888888,\"#fdca26\"],[1.0,\"#f0f921\"]],\"type\":\"histogram2dcontour\"}],\"mesh3d\":[{\"colorbar\":{\"outlinewidth\":0,\"ticks\":\"\"},\"type\":\"mesh3d\"}],\"parcoords\":[{\"line\":{\"colorbar\":{\"outlinewidth\":0,\"ticks\":\"\"}},\"type\":\"parcoords\"}],\"pie\":[{\"automargin\":true,\"type\":\"pie\"}],\"scatter\":[{\"marker\":{\"colorbar\":{\"outlinewidth\":0,\"ticks\":\"\"}},\"type\":\"scatter\"}],\"scatter3d\":[{\"line\":{\"colorbar\":{\"outlinewidth\":0,\"ticks\":\"\"}},\"marker\":{\"colorbar\":{\"outlinewidth\":0,\"ticks\":\"\"}},\"type\":\"scatter3d\"}],\"scattercarpet\":[{\"marker\":{\"colorbar\":{\"outlinewidth\":0,\"ticks\":\"\"}},\"type\":\"scattercarpet\"}],\"scattergeo\":[{\"marker\":{\"colorbar\":{\"outlinewidth\":0,\"ticks\":\"\"}},\"type\":\"scattergeo\"}],\"scattergl\":[{\"marker\":{\"colorbar\":{\"outlinewidth\":0,\"ticks\":\"\"}},\"type\":\"scattergl\"}],\"scattermapbox\":[{\"marker\":{\"colorbar\":{\"outlinewidth\":0,\"ticks\":\"\"}},\"type\":\"scattermapbox\"}],\"scatterpolar\":[{\"marker\":{\"colorbar\":{\"outlinewidth\":0,\"ticks\":\"\"}},\"type\":\"scatterpolar\"}],\"scatterpolargl\":[{\"marker\":{\"colorbar\":{\"outlinewidth\":0,\"ticks\":\"\"}},\"type\":\"scatterpolargl\"}],\"scatterternary\":[{\"marker\":{\"colorbar\":{\"outlinewidth\":0,\"ticks\":\"\"}},\"type\":\"scatterternary\"}],\"surface\":[{\"colorbar\":{\"outlinewidth\":0,\"ticks\":\"\"},\"colorscale\":[[0.0,\"#0d0887\"],[0.1111111111111111,\"#46039f\"],[0.2222222222222222,\"#7201a8\"],[0.3333333333333333,\"#9c179e\"],[0.4444444444444444,\"#bd3786\"],[0.5555555555555556,\"#d8576b\"],[0.6666666666666666,\"#ed7953\"],[0.7777777777777778,\"#fb9f3a\"],[0.8888888888888888,\"#fdca26\"],[1.0,\"#f0f921\"]],\"type\":\"surface\"}],\"table\":[{\"cells\":{\"fill\":{\"color\":\"#EBF0F8\"},\"line\":{\"color\":\"white\"}},\"header\":{\"fill\":{\"color\":\"#C8D4E3\"},\"line\":{\"color\":\"white\"}},\"type\":\"table\"}]},\"layout\":{\"annotationdefaults\":{\"arrowcolor\":\"#2a3f5f\",\"arrowhead\":0,\"arrowwidth\":1},\"autotypenumbers\":\"strict\",\"coloraxis\":{\"colorbar\":{\"outlinewidth\":0,\"ticks\":\"\"}},\"colorscale\":{\"diverging\":[[0,\"#8e0152\"],[0.1,\"#c51b7d\"],[0.2,\"#de77ae\"],[0.3,\"#f1b6da\"],[0.4,\"#fde0ef\"],[0.5,\"#f7f7f7\"],[0.6,\"#e6f5d0\"],[0.7,\"#b8e186\"],[0.8,\"#7fbc41\"],[0.9,\"#4d9221\"],[1,\"#276419\"]],\"sequential\":[[0.0,\"#0d0887\"],[0.1111111111111111,\"#46039f\"],[0.2222222222222222,\"#7201a8\"],[0.3333333333333333,\"#9c179e\"],[0.4444444444444444,\"#bd3786\"],[0.5555555555555556,\"#d8576b\"],[0.6666666666666666,\"#ed7953\"],[0.7777777777777778,\"#fb9f3a\"],[0.8888888888888888,\"#fdca26\"],[1.0,\"#f0f921\"]],\"sequentialminus\":[[0.0,\"#0d0887\"],[0.1111111111111111,\"#46039f\"],[0.2222222222222222,\"#7201a8\"],[0.3333333333333333,\"#9c179e\"],[0.4444444444444444,\"#bd3786\"],[0.5555555555555556,\"#d8576b\"],[0.6666666666666666,\"#ed7953\"],[0.7777777777777778,\"#fb9f3a\"],[0.8888888888888888,\"#fdca26\"],[1.0,\"#f0f921\"]]},\"colorway\":[\"#636efa\",\"#EF553B\",\"#00cc96\",\"#ab63fa\",\"#FFA15A\",\"#19d3f3\",\"#FF6692\",\"#B6E880\",\"#FF97FF\",\"#FECB52\"],\"font\":{\"color\":\"#2a3f5f\"},\"geo\":{\"bgcolor\":\"white\",\"lakecolor\":\"white\",\"landcolor\":\"#E5ECF6\",\"showlakes\":true,\"showland\":true,\"subunitcolor\":\"white\"},\"hoverlabel\":{\"align\":\"left\"},\"hovermode\":\"closest\",\"mapbox\":{\"style\":\"light\"},\"paper_bgcolor\":\"white\",\"plot_bgcolor\":\"#E5ECF6\",\"polar\":{\"angularaxis\":{\"gridcolor\":\"white\",\"linecolor\":\"white\",\"ticks\":\"\"},\"bgcolor\":\"#E5ECF6\",\"radialaxis\":{\"gridcolor\":\"white\",\"linecolor\":\"white\",\"ticks\":\"\"}},\"scene\":{\"xaxis\":{\"backgroundcolor\":\"#E5ECF6\",\"gridcolor\":\"white\",\"gridwidth\":2,\"linecolor\":\"white\",\"showbackground\":true,\"ticks\":\"\",\"zerolinecolor\":\"white\"},\"yaxis\":{\"backgroundcolor\":\"#E5ECF6\",\"gridcolor\":\"white\",\"gridwidth\":2,\"linecolor\":\"white\",\"showbackground\":true,\"ticks\":\"\",\"zerolinecolor\":\"white\"},\"zaxis\":{\"backgroundcolor\":\"#E5ECF6\",\"gridcolor\":\"white\",\"gridwidth\":2,\"linecolor\":\"white\",\"showbackground\":true,\"ticks\":\"\",\"zerolinecolor\":\"white\"}},\"shapedefaults\":{\"line\":{\"color\":\"#2a3f5f\"}},\"ternary\":{\"aaxis\":{\"gridcolor\":\"white\",\"linecolor\":\"white\",\"ticks\":\"\"},\"baxis\":{\"gridcolor\":\"white\",\"linecolor\":\"white\",\"ticks\":\"\"},\"bgcolor\":\"#E5ECF6\",\"caxis\":{\"gridcolor\":\"white\",\"linecolor\":\"white\",\"ticks\":\"\"}},\"title\":{\"x\":0.05},\"xaxis\":{\"automargin\":true,\"gridcolor\":\"white\",\"linecolor\":\"white\",\"ticks\":\"\",\"title\":{\"standoff\":15},\"zerolinecolor\":\"white\",\"zerolinewidth\":2},\"yaxis\":{\"automargin\":true,\"gridcolor\":\"white\",\"linecolor\":\"white\",\"ticks\":\"\",\"title\":{\"standoff\":15},\"zerolinecolor\":\"white\",\"zerolinewidth\":2}}},\"geo\":{\"domain\":{\"x\":[0.0,1.0],\"y\":[0.0,1.0]},\"center\":{},\"projection\":{\"type\":\"equirectangular\"},\"showframe\":false,\"showcoastlines\":false},\"legend\":{\"title\":{\"text\":\"SWL Score\"},\"tracegroupgap\":0},\"margin\":{\"t\":60},\"title\":{\"text\":\"Average Satisfaction with Life per Country\"},\"hoverlabel\":{\"font\":{\"size\":14,\"family\":\"Ariel\"},\"bgcolor\":\"white\"}},                        {\"responsive\": true}                    ).then(function(){\n",
       "                            \n",
       "var gd = document.getElementById('a4abb79b-baf7-45e8-9976-6d27d2f19215');\n",
       "var x = new MutationObserver(function (mutations, observer) {{\n",
       "        var display = window.getComputedStyle(gd).display;\n",
       "        if (!display || display === 'none') {{\n",
       "            console.log([gd, 'removed!']);\n",
       "            Plotly.purge(gd);\n",
       "            observer.disconnect();\n",
       "        }}\n",
       "}});\n",
       "\n",
       "// Listen for the removal of the full notebook cells\n",
       "var notebookContainer = gd.closest('#notebook-container');\n",
       "if (notebookContainer) {{\n",
       "    x.observe(notebookContainer, {childList: true});\n",
       "}}\n",
       "\n",
       "// Listen for the clearing of the current output cell\n",
       "var outputEl = gd.closest('.output');\n",
       "if (outputEl) {{\n",
       "    x.observe(outputEl, {childList: true});\n",
       "}}\n",
       "\n",
       "                        })                };                });            </script>        </div>"
      ]
     },
     "metadata": {},
     "output_type": "display_data"
    }
   ],
   "source": [
    "country_stats.sort_values(by = \"SWL Score\", inplace = True)\n",
    "fig = px.choropleth(country_stats, locations=\"Residence_ISO3\",\n",
    "                    color=\"SWL Score\",\n",
    "                    hover_name = \"Residence\",\n",
    "                    hover_data= {\"Average SWL Score\": True, \n",
    "                                 \"Residence_ISO3\": False, \n",
    "                                 \"SWL Score\":False}, \n",
    "                    color_discrete_sequence = [\"#690000\",\"#ee0000\",\"#fe7171\",\"#d4a48f\", \"#62cb5c\",\"#1d961f\", \"#005b04\"])\n",
    "\n",
    "fig.update_layout(\n",
    "    title_text='Average Satisfaction with Life per Country',\n",
    "    geo=dict(\n",
    "        showframe=False,\n",
    "        showcoastlines=False,\n",
    "        projection_type='equirectangular'))\n",
    "\n",
    "fig.update_layout(\n",
    "    hoverlabel=dict(\n",
    "        bgcolor=\"white\",\n",
    "        font_size=14,\n",
    "        font_family=\"Ariel\"))\n",
    "\n",
    "fig.show()"
   ]
  },
  {
   "cell_type": "markdown",
   "id": "880514a8",
   "metadata": {},
   "source": [
    "## SPIN Scores"
   ]
  },
  {
   "cell_type": "code",
   "execution_count": 53,
   "id": "54a2d8a7",
   "metadata": {},
   "outputs": [
    {
     "data": {
      "text/plain": [
       "46.0"
      ]
     },
     "execution_count": 53,
     "metadata": {},
     "output_type": "execute_result"
    }
   ],
   "source": [
    "country_stats['Average SPIN Score'].max()"
   ]
  },
  {
   "cell_type": "code",
   "execution_count": 54,
   "id": "a8e56f31",
   "metadata": {},
   "outputs": [
    {
     "data": {
      "text/html": [
       "<div>\n",
       "<style scoped>\n",
       "    .dataframe tbody tr th:only-of-type {\n",
       "        vertical-align: middle;\n",
       "    }\n",
       "\n",
       "    .dataframe tbody tr th {\n",
       "        vertical-align: top;\n",
       "    }\n",
       "\n",
       "    .dataframe thead th {\n",
       "        text-align: right;\n",
       "    }\n",
       "</style>\n",
       "<table border=\"1\" class=\"dataframe\">\n",
       "  <thead>\n",
       "    <tr style=\"text-align: right;\">\n",
       "      <th></th>\n",
       "      <th>Residence_ISO3</th>\n",
       "      <th>Residence</th>\n",
       "      <th>Participant Count</th>\n",
       "      <th>Average Hours</th>\n",
       "      <th>Average Streaming Hours</th>\n",
       "      <th>Average Narcissism Score</th>\n",
       "      <th>Average Participant Age</th>\n",
       "      <th>Average GAD Score</th>\n",
       "      <th>Average SWL Score</th>\n",
       "      <th>Average SPIN Score</th>\n",
       "      <th>alpha2</th>\n",
       "      <th>lat</th>\n",
       "      <th>lng</th>\n",
       "      <th>Participant Count Range</th>\n",
       "      <th>GAD Anxiety Score</th>\n",
       "      <th>SWL Score</th>\n",
       "      <th>SPIN Score</th>\n",
       "    </tr>\n",
       "  </thead>\n",
       "  <tbody>\n",
       "    <tr>\n",
       "      <th>38</th>\n",
       "      <td>GLP</td>\n",
       "      <td>Guadeloupe</td>\n",
       "      <td>1</td>\n",
       "      <td>35.0</td>\n",
       "      <td>20.0</td>\n",
       "      <td>4.0</td>\n",
       "      <td>21.0</td>\n",
       "      <td>9.0</td>\n",
       "      <td>8.0</td>\n",
       "      <td>9.0</td>\n",
       "      <td>gp</td>\n",
       "      <td>16.265</td>\n",
       "      <td>-61.551</td>\n",
       "      <td>0 - 99</td>\n",
       "      <td>5-9: Mild Anxiety</td>\n",
       "      <td>5-9: Extremely Dissatisfied</td>\n",
       "      <td>0-20: No Social Phobia</td>\n",
       "    </tr>\n",
       "    <tr>\n",
       "      <th>46</th>\n",
       "      <td>IDN</td>\n",
       "      <td>Indonesia</td>\n",
       "      <td>1</td>\n",
       "      <td>25.0</td>\n",
       "      <td>10.0</td>\n",
       "      <td>2.0</td>\n",
       "      <td>24.0</td>\n",
       "      <td>14.0</td>\n",
       "      <td>9.0</td>\n",
       "      <td>26.0</td>\n",
       "      <td>id</td>\n",
       "      <td>-0.789275</td>\n",
       "      <td>113.921</td>\n",
       "      <td>0 - 99</td>\n",
       "      <td>10-14: Moderate Anxiety</td>\n",
       "      <td>5-9: Extremely Dissatisfied</td>\n",
       "      <td>21-30: Mild Social Phobia</td>\n",
       "    </tr>\n",
       "    <tr>\n",
       "      <th>14</th>\n",
       "      <td>BRN</td>\n",
       "      <td>Brunei</td>\n",
       "      <td>1</td>\n",
       "      <td>10.0</td>\n",
       "      <td>2.0</td>\n",
       "      <td>5.0</td>\n",
       "      <td>18.0</td>\n",
       "      <td>0.0</td>\n",
       "      <td>14.0</td>\n",
       "      <td>10.0</td>\n",
       "      <td>bn</td>\n",
       "      <td>4.53528</td>\n",
       "      <td>114.728</td>\n",
       "      <td>0 - 99</td>\n",
       "      <td>0-4: Minimal Anxiety</td>\n",
       "      <td>10-14: Dissatisfied</td>\n",
       "      <td>0-20: No Social Phobia</td>\n",
       "    </tr>\n",
       "    <tr>\n",
       "      <th>99</th>\n",
       "      <td>TWN</td>\n",
       "      <td>Taiwan</td>\n",
       "      <td>2</td>\n",
       "      <td>31.0</td>\n",
       "      <td>6.5</td>\n",
       "      <td>2.0</td>\n",
       "      <td>21.5</td>\n",
       "      <td>4.0</td>\n",
       "      <td>11.0</td>\n",
       "      <td>37.5</td>\n",
       "      <td>tw</td>\n",
       "      <td>23.6978</td>\n",
       "      <td>120.961</td>\n",
       "      <td>0 - 99</td>\n",
       "      <td>0-4: Minimal Anxiety</td>\n",
       "      <td>10-14: Dissatisfied</td>\n",
       "      <td>31-40: Moderate Social Phobia</td>\n",
       "    </tr>\n",
       "    <tr>\n",
       "      <th>83</th>\n",
       "      <td>PSE</td>\n",
       "      <td>Palestine</td>\n",
       "      <td>1</td>\n",
       "      <td>7.0</td>\n",
       "      <td>5.0</td>\n",
       "      <td>1.0</td>\n",
       "      <td>18.0</td>\n",
       "      <td>11.0</td>\n",
       "      <td>11.0</td>\n",
       "      <td>10.0</td>\n",
       "      <td>ps</td>\n",
       "      <td>31.9522</td>\n",
       "      <td>35.2332</td>\n",
       "      <td>0 - 99</td>\n",
       "      <td>10-14: Moderate Anxiety</td>\n",
       "      <td>10-14: Dissatisfied</td>\n",
       "      <td>0-20: No Social Phobia</td>\n",
       "    </tr>\n",
       "    <tr>\n",
       "      <th>...</th>\n",
       "      <td>...</td>\n",
       "      <td>...</td>\n",
       "      <td>...</td>\n",
       "      <td>...</td>\n",
       "      <td>...</td>\n",
       "      <td>...</td>\n",
       "      <td>...</td>\n",
       "      <td>...</td>\n",
       "      <td>...</td>\n",
       "      <td>...</td>\n",
       "      <td>...</td>\n",
       "      <td>...</td>\n",
       "      <td>...</td>\n",
       "      <td>...</td>\n",
       "      <td>...</td>\n",
       "      <td>...</td>\n",
       "      <td>...</td>\n",
       "    </tr>\n",
       "    <tr>\n",
       "      <th>89</th>\n",
       "      <td>SLV</td>\n",
       "      <td>El Salvador</td>\n",
       "      <td>1</td>\n",
       "      <td>25.0</td>\n",
       "      <td>5.0</td>\n",
       "      <td>2.0</td>\n",
       "      <td>18.0</td>\n",
       "      <td>4.0</td>\n",
       "      <td>27.0</td>\n",
       "      <td>12.0</td>\n",
       "      <td>sv</td>\n",
       "      <td>13.7942</td>\n",
       "      <td>-88.8965</td>\n",
       "      <td>0 - 99</td>\n",
       "      <td>0-4: Minimal Anxiety</td>\n",
       "      <td>26-30: Satisfied</td>\n",
       "      <td>0-20: No Social Phobia</td>\n",
       "    </tr>\n",
       "    <tr>\n",
       "      <th>103</th>\n",
       "      <td>VCT</td>\n",
       "      <td>St Vincent</td>\n",
       "      <td>1</td>\n",
       "      <td>15.0</td>\n",
       "      <td>4.0</td>\n",
       "      <td>1.0</td>\n",
       "      <td>19.0</td>\n",
       "      <td>5.0</td>\n",
       "      <td>26.0</td>\n",
       "      <td>28.0</td>\n",
       "      <td>vc</td>\n",
       "      <td>12.9843</td>\n",
       "      <td>-61.2872</td>\n",
       "      <td>0 - 99</td>\n",
       "      <td>5-9: Mild Anxiety</td>\n",
       "      <td>26-30: Satisfied</td>\n",
       "      <td>21-30: Mild Social Phobia</td>\n",
       "    </tr>\n",
       "    <tr>\n",
       "      <th>10</th>\n",
       "      <td>BLR</td>\n",
       "      <td>Belarus</td>\n",
       "      <td>1</td>\n",
       "      <td>20.0</td>\n",
       "      <td>12.0</td>\n",
       "      <td>5.0</td>\n",
       "      <td>19.0</td>\n",
       "      <td>1.0</td>\n",
       "      <td>29.0</td>\n",
       "      <td>7.0</td>\n",
       "      <td>by</td>\n",
       "      <td>53.7098</td>\n",
       "      <td>27.9534</td>\n",
       "      <td>0 - 99</td>\n",
       "      <td>0-4: Minimal Anxiety</td>\n",
       "      <td>26-30: Satisfied</td>\n",
       "      <td>0-20: No Social Phobia</td>\n",
       "    </tr>\n",
       "    <tr>\n",
       "      <th>71</th>\n",
       "      <td>NAM</td>\n",
       "      <td>Namibia</td>\n",
       "      <td>1</td>\n",
       "      <td>20.0</td>\n",
       "      <td>5.0</td>\n",
       "      <td>2.0</td>\n",
       "      <td>18.0</td>\n",
       "      <td>6.0</td>\n",
       "      <td>35.0</td>\n",
       "      <td>0.0</td>\n",
       "      <td>na</td>\n",
       "      <td>-22.9576</td>\n",
       "      <td>18.4904</td>\n",
       "      <td>0 - 99</td>\n",
       "      <td>5-9: Mild Anxiety</td>\n",
       "      <td>31-35: Extremely satisfied</td>\n",
       "      <td>0-20: No Social Phobia</td>\n",
       "    </tr>\n",
       "    <tr>\n",
       "      <th>40</th>\n",
       "      <td>GRD</td>\n",
       "      <td>Grenada</td>\n",
       "      <td>1</td>\n",
       "      <td>10.0</td>\n",
       "      <td>5.0</td>\n",
       "      <td>2.0</td>\n",
       "      <td>21.0</td>\n",
       "      <td>2.0</td>\n",
       "      <td>34.0</td>\n",
       "      <td>11.0</td>\n",
       "      <td>gd</td>\n",
       "      <td>12.1165</td>\n",
       "      <td>-61.679</td>\n",
       "      <td>0 - 99</td>\n",
       "      <td>0-4: Minimal Anxiety</td>\n",
       "      <td>31-35: Extremely satisfied</td>\n",
       "      <td>0-20: No Social Phobia</td>\n",
       "    </tr>\n",
       "  </tbody>\n",
       "</table>\n",
       "<p>107 rows × 17 columns</p>\n",
       "</div>"
      ],
      "text/plain": [
       "    Residence_ISO3    Residence  Participant Count  Average Hours  \\\n",
       "38             GLP   Guadeloupe                  1           35.0   \n",
       "46             IDN    Indonesia                  1           25.0   \n",
       "14             BRN       Brunei                  1           10.0   \n",
       "99             TWN       Taiwan                  2           31.0   \n",
       "83             PSE    Palestine                  1            7.0   \n",
       "..             ...          ...                ...            ...   \n",
       "89             SLV  El Salvador                  1           25.0   \n",
       "103            VCT   St Vincent                  1           15.0   \n",
       "10             BLR      Belarus                  1           20.0   \n",
       "71             NAM      Namibia                  1           20.0   \n",
       "40             GRD      Grenada                  1           10.0   \n",
       "\n",
       "     Average Streaming Hours  Average Narcissism Score  \\\n",
       "38                      20.0                       4.0   \n",
       "46                      10.0                       2.0   \n",
       "14                       2.0                       5.0   \n",
       "99                       6.5                       2.0   \n",
       "83                       5.0                       1.0   \n",
       "..                       ...                       ...   \n",
       "89                       5.0                       2.0   \n",
       "103                      4.0                       1.0   \n",
       "10                      12.0                       5.0   \n",
       "71                       5.0                       2.0   \n",
       "40                       5.0                       2.0   \n",
       "\n",
       "     Average Participant Age  Average GAD Score  Average SWL Score  \\\n",
       "38                      21.0                9.0                8.0   \n",
       "46                      24.0               14.0                9.0   \n",
       "14                      18.0                0.0               14.0   \n",
       "99                      21.5                4.0               11.0   \n",
       "83                      18.0               11.0               11.0   \n",
       "..                       ...                ...                ...   \n",
       "89                      18.0                4.0               27.0   \n",
       "103                     19.0                5.0               26.0   \n",
       "10                      19.0                1.0               29.0   \n",
       "71                      18.0                6.0               35.0   \n",
       "40                      21.0                2.0               34.0   \n",
       "\n",
       "     Average SPIN Score alpha2       lat      lng Participant Count Range  \\\n",
       "38                  9.0     gp    16.265  -61.551                  0 - 99   \n",
       "46                 26.0     id -0.789275  113.921                  0 - 99   \n",
       "14                 10.0     bn   4.53528  114.728                  0 - 99   \n",
       "99                 37.5     tw   23.6978  120.961                  0 - 99   \n",
       "83                 10.0     ps   31.9522  35.2332                  0 - 99   \n",
       "..                  ...    ...       ...      ...                     ...   \n",
       "89                 12.0     sv   13.7942 -88.8965                  0 - 99   \n",
       "103                28.0     vc   12.9843 -61.2872                  0 - 99   \n",
       "10                  7.0     by   53.7098  27.9534                  0 - 99   \n",
       "71                  0.0     na  -22.9576  18.4904                  0 - 99   \n",
       "40                 11.0     gd   12.1165  -61.679                  0 - 99   \n",
       "\n",
       "           GAD Anxiety Score                    SWL Score  \\\n",
       "38         5-9: Mild Anxiety  5-9: Extremely Dissatisfied   \n",
       "46   10-14: Moderate Anxiety  5-9: Extremely Dissatisfied   \n",
       "14      0-4: Minimal Anxiety          10-14: Dissatisfied   \n",
       "99      0-4: Minimal Anxiety          10-14: Dissatisfied   \n",
       "83   10-14: Moderate Anxiety          10-14: Dissatisfied   \n",
       "..                       ...                          ...   \n",
       "89      0-4: Minimal Anxiety             26-30: Satisfied   \n",
       "103        5-9: Mild Anxiety             26-30: Satisfied   \n",
       "10      0-4: Minimal Anxiety             26-30: Satisfied   \n",
       "71         5-9: Mild Anxiety   31-35: Extremely satisfied   \n",
       "40      0-4: Minimal Anxiety   31-35: Extremely satisfied   \n",
       "\n",
       "                        SPIN Score  \n",
       "38          0-20: No Social Phobia  \n",
       "46       21-30: Mild Social Phobia  \n",
       "14          0-20: No Social Phobia  \n",
       "99   31-40: Moderate Social Phobia  \n",
       "83          0-20: No Social Phobia  \n",
       "..                             ...  \n",
       "89          0-20: No Social Phobia  \n",
       "103      21-30: Mild Social Phobia  \n",
       "10          0-20: No Social Phobia  \n",
       "71          0-20: No Social Phobia  \n",
       "40          0-20: No Social Phobia  \n",
       "\n",
       "[107 rows x 17 columns]"
      ]
     },
     "execution_count": 54,
     "metadata": {},
     "output_type": "execute_result"
    }
   ],
   "source": [
    "#Create bins to place values based on average Average SPIN Score per country\n",
    "bins = [0, 20, 30, 40, 50, 68]\n",
    "\n",
    "bin_labels = [\"0-20: No Social Phobia\", \"21-30: Mild Social Phobia\", \"31-40: Moderate Social Phobia\", \n",
    "              \"41-50: Severe Social Phobia\", \"51-68: Very Severe Social Phobia\"]\n",
    "\n",
    "country_stats['SPIN Score'] = pd.cut(country_stats['Average SPIN Score'], \n",
    "                                            bins, labels = bin_labels, include_lowest = True)\n",
    "\n",
    "country_stats"
   ]
  },
  {
   "cell_type": "code",
   "execution_count": 58,
   "id": "56d56cf3",
   "metadata": {},
   "outputs": [
    {
     "data": {
      "application/vnd.plotly.v1+json": {
       "config": {
        "plotlyServerURL": "https://plot.ly"
       },
       "data": [
        {
         "colorscale": [
          [
           0,
           "#62cb5c"
          ],
          [
           1,
           "#62cb5c"
          ]
         ],
         "customdata": [
          [
           0,
           "NAM",
           "0-20: No Social Phobia"
          ],
          [
           1,
           "GIB",
           "0-20: No Social Phobia"
          ],
          [
           7,
           "BLR",
           "0-20: No Social Phobia"
          ],
          [
           7.333333333333333,
           "GEO",
           "0-20: No Social Phobia"
          ],
          [
           9,
           "GLP",
           "0-20: No Social Phobia"
          ],
          [
           10,
           "PSE",
           "0-20: No Social Phobia"
          ],
          [
           10,
           "ALB",
           "0-20: No Social Phobia"
          ],
          [
           10,
           "BRN",
           "0-20: No Social Phobia"
          ],
          [
           11,
           "GRD",
           "0-20: No Social Phobia"
          ],
          [
           11,
           "LIE",
           "0-20: No Social Phobia"
          ],
          [
           11,
           "FJI",
           "0-20: No Social Phobia"
          ],
          [
           12,
           "SLV",
           "0-20: No Social Phobia"
          ],
          [
           13.125,
           "SRB",
           "0-20: No Social Phobia"
          ],
          [
           14,
           "DZA",
           "0-20: No Social Phobia"
          ],
          [
           14.25,
           "PAN",
           "0-20: No Social Phobia"
          ],
          [
           14.714285714285714,
           "DOM",
           "0-20: No Social Phobia"
          ],
          [
           15,
           "JOR",
           "0-20: No Social Phobia"
          ],
          [
           15,
           "ISL",
           "0-20: No Social Phobia"
          ],
          [
           15.319444444444445,
           "MEX",
           "0-20: No Social Phobia"
          ],
          [
           16,
           "KOR",
           "0-20: No Social Phobia"
          ],
          [
           16.976303317535546,
           "DNK",
           "0-20: No Social Phobia"
          ],
          [
           17,
           "SYR",
           "0-20: No Social Phobia"
          ],
          [
           17.466666666666665,
           "BIH",
           "0-20: No Social Phobia"
          ],
          [
           17.5,
           "BHR",
           "0-20: No Social Phobia"
          ],
          [
           17.571428571428573,
           "JPN",
           "0-20: No Social Phobia"
          ],
          [
           17.6,
           "MKD",
           "0-20: No Social Phobia"
          ],
          [
           17.666666666666668,
           "CHN",
           "0-20: No Social Phobia"
          ],
          [
           17.774049217002236,
           "NLD",
           "0-20: No Social Phobia"
          ],
          [
           18.083870967741934,
           "SWE",
           "0-20: No Social Phobia"
          ],
          [
           18.087912087912088,
           "ESP",
           "0-20: No Social Phobia"
          ],
          [
           18.142857142857142,
           "LUX",
           "0-20: No Social Phobia"
          ],
          [
           18.227272727272727,
           "ZAF",
           "0-20: No Social Phobia"
          ],
          [
           18.282608695652176,
           "ARG",
           "0-20: No Social Phobia"
          ],
          [
           18.51851851851852,
           "LVA",
           "0-20: No Social Phobia"
          ],
          [
           18.53448275862069,
           "IRL",
           "0-20: No Social Phobia"
          ],
          [
           18.6,
           "THA",
           "0-20: No Social Phobia"
          ],
          [
           18.666666666666668,
           "HKG",
           "0-20: No Social Phobia"
          ],
          [
           18.705426356589147,
           "AUT",
           "0-20: No Social Phobia"
          ],
          [
           18.857142857142858,
           "VEN",
           "0-20: No Social Phobia"
          ],
          [
           18.945945945945947,
           "FIN",
           "0-20: No Social Phobia"
          ],
          [
           19,
           "CYP",
           "0-20: No Social Phobia"
          ],
          [
           19.04320987654321,
           "NOR",
           "0-20: No Social Phobia"
          ],
          [
           19.115353371242893,
           "DEU",
           "0-20: No Social Phobia"
          ],
          [
           19.125,
           "CRI",
           "0-20: No Social Phobia"
          ],
          [
           19.357142857142858,
           "TUR",
           "0-20: No Social Phobia"
          ],
          [
           19.42105263157895,
           "FRA",
           "0-20: No Social Phobia"
          ],
          [
           19.633333333333333,
           "EST",
           "0-20: No Social Phobia"
          ],
          [
           19.741176470588236,
           "CHE",
           "0-20: No Social Phobia"
          ],
          [
           19.816666666666666,
           "CHL",
           "0-20: No Social Phobia"
          ]
         ],
         "geo": "geo",
         "hovertemplate": "<b>%{hovertext}</b><br><br>Average SPIN Score=%{customdata[0]}<extra></extra>",
         "hovertext": [
          "Namibia",
          "Gibraltar ",
          "Belarus",
          "Georgia",
          "Guadeloupe",
          "Palestine",
          "Albania",
          "Brunei",
          "Grenada",
          "Liechtenstein",
          "Fiji",
          "El Salvador",
          "Serbia",
          "Algeria",
          "Panama",
          "Dominican Republic",
          "Jordan",
          "Iceland",
          "Mexico",
          "South Korea",
          "Denmark",
          "Syria",
          "Bosnia and Herzegovina",
          "Bahrain",
          "Japan",
          "Macedonia",
          "China",
          "Netherlands",
          "Sweden",
          "Spain",
          "Luxembourg",
          "South Africa",
          "Argentina",
          "Latvia",
          "Ireland",
          "Thailand",
          "Hong Kong",
          "Austria",
          "Venezuela",
          "Finland",
          "Cyprus",
          "Norway",
          "Germany",
          "Costa Rica",
          "Turkey",
          "France",
          "Estonia",
          "Switzerland",
          "Chile"
         ],
         "locations": [
          "NAM",
          "GIB",
          "BLR",
          "GEO",
          "GLP",
          "PSE",
          "ALB",
          "BRN",
          "GRD",
          "LIE",
          "FJI",
          "SLV",
          "SRB",
          "DZA",
          "PAN",
          "DOM",
          "JOR",
          "ISL",
          "MEX",
          "KOR",
          "DNK",
          "SYR",
          "BIH",
          "BHR",
          "JPN",
          "MKD",
          "CHN",
          "NLD",
          "SWE",
          "ESP",
          "LUX",
          "ZAF",
          "ARG",
          "LVA",
          "IRL",
          "THA",
          "HKG",
          "AUT",
          "VEN",
          "FIN",
          "CYP",
          "NOR",
          "DEU",
          "CRI",
          "TUR",
          "FRA",
          "EST",
          "CHE",
          "CHL"
         ],
         "name": "0-20: No Social Phobia",
         "showlegend": true,
         "showscale": false,
         "type": "choropleth",
         "z": [
          1,
          1,
          1,
          1,
          1,
          1,
          1,
          1,
          1,
          1,
          1,
          1,
          1,
          1,
          1,
          1,
          1,
          1,
          1,
          1,
          1,
          1,
          1,
          1,
          1,
          1,
          1,
          1,
          1,
          1,
          1,
          1,
          1,
          1,
          1,
          1,
          1,
          1,
          1,
          1,
          1,
          1,
          1,
          1,
          1,
          1,
          1,
          1,
          1
         ]
        },
        {
         "colorscale": [
          [
           0,
           "#d4a48f"
          ],
          [
           1,
           "#d4a48f"
          ]
         ],
         "customdata": [
          [
           20.137381781981084,
           "USA",
           "21-30: Mild Social Phobia"
          ],
          [
           20.229885057471265,
           "GRC",
           "21-30: Mild Social Phobia"
          ],
          [
           20.4,
           "LBN",
           "21-30: Mild Social Phobia"
          ],
          [
           20.470588235294116,
           "LTU",
           "21-30: Mild Social Phobia"
          ],
          [
           20.581818181818182,
           "NZL",
           "21-30: Mild Social Phobia"
          ],
          [
           20.727272727272727,
           "VNM",
           "21-30: Mild Social Phobia"
          ],
          [
           20.77922077922078,
           "ROU",
           "21-30: Mild Social Phobia"
          ],
          [
           20.855324074074073,
           "CAN",
           "21-30: Mild Social Phobia"
          ],
          [
           20.90909090909091,
           "URY",
           "21-30: Mild Social Phobia"
          ],
          [
           20.91304347826087,
           "ISR",
           "21-30: Mild Social Phobia"
          ],
          [
           21.181818181818183,
           "RUS",
           "21-30: Mild Social Phobia"
          ],
          [
           21.3302752293578,
           "ITA",
           "21-30: Mild Social Phobia"
          ],
          [
           21.333333333333332,
           "UKR",
           "21-30: Mild Social Phobia"
          ],
          [
           21.5,
           "MAR",
           "21-30: Mild Social Phobia"
          ],
          [
           21.571428571428573,
           "COL",
           "21-30: Mild Social Phobia"
          ],
          [
           21.588541666666668,
           "AUS",
           "21-30: Mild Social Phobia"
          ],
          [
           21.67065868263473,
           "BEL",
           "21-30: Mild Social Phobia"
          ],
          [
           21.77777777777778,
           "BGR",
           "21-30: Mild Social Phobia"
          ],
          [
           21.8,
           "MLT",
           "21-30: Mild Social Phobia"
          ],
          [
           21.820276497695854,
           "POL",
           "21-30: Mild Social Phobia"
          ],
          [
           21.85185185185185,
           "HUN",
           "21-30: Mild Social Phobia"
          ],
          [
           21.9,
           "ARE",
           "21-30: Mild Social Phobia"
          ],
          [
           22,
           "MDA",
           "21-30: Mild Social Phobia"
          ],
          [
           22.095238095238095,
           "CZE",
           "21-30: Mild Social Phobia"
          ],
          [
           22.296465222348917,
           "GBR",
           "21-30: Mild Social Phobia"
          ],
          [
           22.349206349206348,
           "HRV",
           "21-30: Mild Social Phobia"
          ],
          [
           22.5,
           "PAK",
           "21-30: Mild Social Phobia"
          ],
          [
           22.64,
           "MYS",
           "21-30: Mild Social Phobia"
          ],
          [
           22.666666666666668,
           "PRI",
           "21-30: Mild Social Phobia"
          ],
          [
           23.142857142857142,
           "SAU",
           "21-30: Mild Social Phobia"
          ],
          [
           23.200892857142858,
           "BRA",
           "21-30: Mild Social Phobia"
          ],
          [
           23.476683937823836,
           "PRT",
           "21-30: Mild Social Phobia"
          ],
          [
           23.666666666666668,
           "GTM",
           "21-30: Mild Social Phobia"
          ],
          [
           23.666666666666668,
           "HND",
           "21-30: Mild Social Phobia"
          ],
          [
           24.57377049180328,
           "SVN",
           "21-30: Mild Social Phobia"
          ],
          [
           24.666666666666668,
           "TUN",
           "21-30: Mild Social Phobia"
          ],
          [
           25.75,
           "ECU",
           "21-30: Mild Social Phobia"
          ],
          [
           25.857142857142858,
           "TTO",
           "21-30: Mild Social Phobia"
          ],
          [
           26,
           "BGD",
           "21-30: Mild Social Phobia"
          ],
          [
           26,
           "IDN",
           "21-30: Mild Social Phobia"
          ],
          [
           27.4,
           "IND",
           "21-30: Mild Social Phobia"
          ],
          [
           27.428571428571427,
           "SVK",
           "21-30: Mild Social Phobia"
          ],
          [
           27.5,
           "MNE",
           "21-30: Mild Social Phobia"
          ],
          [
           28,
           "VCT",
           "21-30: Mild Social Phobia"
          ],
          [
           28.3,
           "PHL",
           "21-30: Mild Social Phobia"
          ],
          [
           28.5,
           "PER",
           "21-30: Mild Social Phobia"
          ],
          [
           29.5,
           "MNG",
           "21-30: Mild Social Phobia"
          ],
          [
           30,
           "KWT",
           "21-30: Mild Social Phobia"
          ],
          [
           30,
           "QAT",
           "21-30: Mild Social Phobia"
          ]
         ],
         "geo": "geo",
         "hovertemplate": "<b>%{hovertext}</b><br><br>Average SPIN Score=%{customdata[0]}<extra></extra>",
         "hovertext": [
          "USA",
          "Greece",
          "Lebanon",
          "Lithuania",
          "New Zealand ",
          "Vietnam",
          "Romania",
          "Canada",
          "Uruguay",
          "Israel",
          "Russia",
          "Italy",
          "Ukraine",
          "Morocco",
          "Colombia",
          "Australia",
          "Belgium",
          "Bulgaria",
          "Malta",
          "Poland",
          "Hungary",
          "UAE",
          "Moldova",
          "Czech Republic",
          "UK",
          "Croatia",
          "Pakistan",
          "Malaysia",
          "Puerto Rico",
          "Saudi Arabia",
          "Brazil",
          "Portugal",
          "Guatemala",
          "Honduras",
          "Slovenia",
          "Tunisia",
          "Ecuador",
          "Trinidad & Tobago",
          "Bangladesh",
          "Indonesia",
          "India",
          "Slovakia",
          "Montenegro",
          "St Vincent",
          "Philippines",
          "Peru",
          "Mongolia",
          "Kuwait",
          "Qatar"
         ],
         "locations": [
          "USA",
          "GRC",
          "LBN",
          "LTU",
          "NZL",
          "VNM",
          "ROU",
          "CAN",
          "URY",
          "ISR",
          "RUS",
          "ITA",
          "UKR",
          "MAR",
          "COL",
          "AUS",
          "BEL",
          "BGR",
          "MLT",
          "POL",
          "HUN",
          "ARE",
          "MDA",
          "CZE",
          "GBR",
          "HRV",
          "PAK",
          "MYS",
          "PRI",
          "SAU",
          "BRA",
          "PRT",
          "GTM",
          "HND",
          "SVN",
          "TUN",
          "ECU",
          "TTO",
          "BGD",
          "IDN",
          "IND",
          "SVK",
          "MNE",
          "VCT",
          "PHL",
          "PER",
          "MNG",
          "KWT",
          "QAT"
         ],
         "name": "21-30: Mild Social Phobia",
         "showlegend": true,
         "showscale": false,
         "type": "choropleth",
         "z": [
          1,
          1,
          1,
          1,
          1,
          1,
          1,
          1,
          1,
          1,
          1,
          1,
          1,
          1,
          1,
          1,
          1,
          1,
          1,
          1,
          1,
          1,
          1,
          1,
          1,
          1,
          1,
          1,
          1,
          1,
          1,
          1,
          1,
          1,
          1,
          1,
          1,
          1,
          1,
          1,
          1,
          1,
          1,
          1,
          1,
          1,
          1,
          1,
          1
         ]
        },
        {
         "colorscale": [
          [
           0,
           "#fe7171"
          ],
          [
           1,
           "#fe7171"
          ]
         ],
         "customdata": [
          [
           30.419354838709676,
           "SGP",
           "31-40: Moderate Social Phobia"
          ],
          [
           30.5,
           "BLZ",
           "31-40: Moderate Social Phobia"
          ],
          [
           33,
           "EGY",
           "31-40: Moderate Social Phobia"
          ],
          [
           35,
           "KAZ",
           "31-40: Moderate Social Phobia"
          ],
          [
           35,
           "JAM",
           "31-40: Moderate Social Phobia"
          ],
          [
           36,
           "FRO",
           "31-40: Moderate Social Phobia"
          ],
          [
           37.5,
           "TWN",
           "31-40: Moderate Social Phobia"
          ]
         ],
         "geo": "geo",
         "hovertemplate": "<b>%{hovertext}</b><br><br>Average SPIN Score=%{customdata[0]}<extra></extra>",
         "hovertext": [
          "Singapore",
          "Belize",
          "Egypt",
          "Kazakhstan",
          "Jamaica",
          "Faroe Islands",
          "Taiwan"
         ],
         "locations": [
          "SGP",
          "BLZ",
          "EGY",
          "KAZ",
          "JAM",
          "FRO",
          "TWN"
         ],
         "name": "31-40: Moderate Social Phobia",
         "showlegend": true,
         "showscale": false,
         "type": "choropleth",
         "z": [
          1,
          1,
          1,
          1,
          1,
          1,
          1
         ]
        },
        {
         "colorscale": [
          [
           0,
           "#a10000"
          ],
          [
           1,
           "#a10000"
          ]
         ],
         "customdata": [
          [
           44,
           "NIC",
           "41-50: Severe Social Phobia"
          ],
          [
           46,
           "BOL",
           "41-50: Severe Social Phobia"
          ]
         ],
         "geo": "geo",
         "hovertemplate": "<b>%{hovertext}</b><br><br>Average SPIN Score=%{customdata[0]}<extra></extra>",
         "hovertext": [
          "Nicaragua",
          "Bolivia"
         ],
         "locations": [
          "NIC",
          "BOL"
         ],
         "name": "41-50: Severe Social Phobia",
         "showlegend": true,
         "showscale": false,
         "type": "choropleth",
         "z": [
          1,
          1
         ]
        }
       ],
       "layout": {
        "geo": {
         "center": {},
         "domain": {
          "x": [
           0,
           1
          ],
          "y": [
           0,
           1
          ]
         },
         "projection": {
          "type": "equirectangular"
         },
         "showcoastlines": false,
         "showframe": false
        },
        "hoverlabel": {
         "bgcolor": "white",
         "font": {
          "family": "Ariel",
          "size": 14
         }
        },
        "legend": {
         "title": {
          "text": "SPIN Score"
         },
         "tracegroupgap": 0
        },
        "margin": {
         "t": 60
        },
        "template": {
         "data": {
          "bar": [
           {
            "error_x": {
             "color": "#2a3f5f"
            },
            "error_y": {
             "color": "#2a3f5f"
            },
            "marker": {
             "line": {
              "color": "#E5ECF6",
              "width": 0.5
             },
             "pattern": {
              "fillmode": "overlay",
              "size": 10,
              "solidity": 0.2
             }
            },
            "type": "bar"
           }
          ],
          "barpolar": [
           {
            "marker": {
             "line": {
              "color": "#E5ECF6",
              "width": 0.5
             },
             "pattern": {
              "fillmode": "overlay",
              "size": 10,
              "solidity": 0.2
             }
            },
            "type": "barpolar"
           }
          ],
          "carpet": [
           {
            "aaxis": {
             "endlinecolor": "#2a3f5f",
             "gridcolor": "white",
             "linecolor": "white",
             "minorgridcolor": "white",
             "startlinecolor": "#2a3f5f"
            },
            "baxis": {
             "endlinecolor": "#2a3f5f",
             "gridcolor": "white",
             "linecolor": "white",
             "minorgridcolor": "white",
             "startlinecolor": "#2a3f5f"
            },
            "type": "carpet"
           }
          ],
          "choropleth": [
           {
            "colorbar": {
             "outlinewidth": 0,
             "ticks": ""
            },
            "type": "choropleth"
           }
          ],
          "contour": [
           {
            "colorbar": {
             "outlinewidth": 0,
             "ticks": ""
            },
            "colorscale": [
             [
              0,
              "#0d0887"
             ],
             [
              0.1111111111111111,
              "#46039f"
             ],
             [
              0.2222222222222222,
              "#7201a8"
             ],
             [
              0.3333333333333333,
              "#9c179e"
             ],
             [
              0.4444444444444444,
              "#bd3786"
             ],
             [
              0.5555555555555556,
              "#d8576b"
             ],
             [
              0.6666666666666666,
              "#ed7953"
             ],
             [
              0.7777777777777778,
              "#fb9f3a"
             ],
             [
              0.8888888888888888,
              "#fdca26"
             ],
             [
              1,
              "#f0f921"
             ]
            ],
            "type": "contour"
           }
          ],
          "contourcarpet": [
           {
            "colorbar": {
             "outlinewidth": 0,
             "ticks": ""
            },
            "type": "contourcarpet"
           }
          ],
          "heatmap": [
           {
            "colorbar": {
             "outlinewidth": 0,
             "ticks": ""
            },
            "colorscale": [
             [
              0,
              "#0d0887"
             ],
             [
              0.1111111111111111,
              "#46039f"
             ],
             [
              0.2222222222222222,
              "#7201a8"
             ],
             [
              0.3333333333333333,
              "#9c179e"
             ],
             [
              0.4444444444444444,
              "#bd3786"
             ],
             [
              0.5555555555555556,
              "#d8576b"
             ],
             [
              0.6666666666666666,
              "#ed7953"
             ],
             [
              0.7777777777777778,
              "#fb9f3a"
             ],
             [
              0.8888888888888888,
              "#fdca26"
             ],
             [
              1,
              "#f0f921"
             ]
            ],
            "type": "heatmap"
           }
          ],
          "heatmapgl": [
           {
            "colorbar": {
             "outlinewidth": 0,
             "ticks": ""
            },
            "colorscale": [
             [
              0,
              "#0d0887"
             ],
             [
              0.1111111111111111,
              "#46039f"
             ],
             [
              0.2222222222222222,
              "#7201a8"
             ],
             [
              0.3333333333333333,
              "#9c179e"
             ],
             [
              0.4444444444444444,
              "#bd3786"
             ],
             [
              0.5555555555555556,
              "#d8576b"
             ],
             [
              0.6666666666666666,
              "#ed7953"
             ],
             [
              0.7777777777777778,
              "#fb9f3a"
             ],
             [
              0.8888888888888888,
              "#fdca26"
             ],
             [
              1,
              "#f0f921"
             ]
            ],
            "type": "heatmapgl"
           }
          ],
          "histogram": [
           {
            "marker": {
             "pattern": {
              "fillmode": "overlay",
              "size": 10,
              "solidity": 0.2
             }
            },
            "type": "histogram"
           }
          ],
          "histogram2d": [
           {
            "colorbar": {
             "outlinewidth": 0,
             "ticks": ""
            },
            "colorscale": [
             [
              0,
              "#0d0887"
             ],
             [
              0.1111111111111111,
              "#46039f"
             ],
             [
              0.2222222222222222,
              "#7201a8"
             ],
             [
              0.3333333333333333,
              "#9c179e"
             ],
             [
              0.4444444444444444,
              "#bd3786"
             ],
             [
              0.5555555555555556,
              "#d8576b"
             ],
             [
              0.6666666666666666,
              "#ed7953"
             ],
             [
              0.7777777777777778,
              "#fb9f3a"
             ],
             [
              0.8888888888888888,
              "#fdca26"
             ],
             [
              1,
              "#f0f921"
             ]
            ],
            "type": "histogram2d"
           }
          ],
          "histogram2dcontour": [
           {
            "colorbar": {
             "outlinewidth": 0,
             "ticks": ""
            },
            "colorscale": [
             [
              0,
              "#0d0887"
             ],
             [
              0.1111111111111111,
              "#46039f"
             ],
             [
              0.2222222222222222,
              "#7201a8"
             ],
             [
              0.3333333333333333,
              "#9c179e"
             ],
             [
              0.4444444444444444,
              "#bd3786"
             ],
             [
              0.5555555555555556,
              "#d8576b"
             ],
             [
              0.6666666666666666,
              "#ed7953"
             ],
             [
              0.7777777777777778,
              "#fb9f3a"
             ],
             [
              0.8888888888888888,
              "#fdca26"
             ],
             [
              1,
              "#f0f921"
             ]
            ],
            "type": "histogram2dcontour"
           }
          ],
          "mesh3d": [
           {
            "colorbar": {
             "outlinewidth": 0,
             "ticks": ""
            },
            "type": "mesh3d"
           }
          ],
          "parcoords": [
           {
            "line": {
             "colorbar": {
              "outlinewidth": 0,
              "ticks": ""
             }
            },
            "type": "parcoords"
           }
          ],
          "pie": [
           {
            "automargin": true,
            "type": "pie"
           }
          ],
          "scatter": [
           {
            "marker": {
             "colorbar": {
              "outlinewidth": 0,
              "ticks": ""
             }
            },
            "type": "scatter"
           }
          ],
          "scatter3d": [
           {
            "line": {
             "colorbar": {
              "outlinewidth": 0,
              "ticks": ""
             }
            },
            "marker": {
             "colorbar": {
              "outlinewidth": 0,
              "ticks": ""
             }
            },
            "type": "scatter3d"
           }
          ],
          "scattercarpet": [
           {
            "marker": {
             "colorbar": {
              "outlinewidth": 0,
              "ticks": ""
             }
            },
            "type": "scattercarpet"
           }
          ],
          "scattergeo": [
           {
            "marker": {
             "colorbar": {
              "outlinewidth": 0,
              "ticks": ""
             }
            },
            "type": "scattergeo"
           }
          ],
          "scattergl": [
           {
            "marker": {
             "colorbar": {
              "outlinewidth": 0,
              "ticks": ""
             }
            },
            "type": "scattergl"
           }
          ],
          "scattermapbox": [
           {
            "marker": {
             "colorbar": {
              "outlinewidth": 0,
              "ticks": ""
             }
            },
            "type": "scattermapbox"
           }
          ],
          "scatterpolar": [
           {
            "marker": {
             "colorbar": {
              "outlinewidth": 0,
              "ticks": ""
             }
            },
            "type": "scatterpolar"
           }
          ],
          "scatterpolargl": [
           {
            "marker": {
             "colorbar": {
              "outlinewidth": 0,
              "ticks": ""
             }
            },
            "type": "scatterpolargl"
           }
          ],
          "scatterternary": [
           {
            "marker": {
             "colorbar": {
              "outlinewidth": 0,
              "ticks": ""
             }
            },
            "type": "scatterternary"
           }
          ],
          "surface": [
           {
            "colorbar": {
             "outlinewidth": 0,
             "ticks": ""
            },
            "colorscale": [
             [
              0,
              "#0d0887"
             ],
             [
              0.1111111111111111,
              "#46039f"
             ],
             [
              0.2222222222222222,
              "#7201a8"
             ],
             [
              0.3333333333333333,
              "#9c179e"
             ],
             [
              0.4444444444444444,
              "#bd3786"
             ],
             [
              0.5555555555555556,
              "#d8576b"
             ],
             [
              0.6666666666666666,
              "#ed7953"
             ],
             [
              0.7777777777777778,
              "#fb9f3a"
             ],
             [
              0.8888888888888888,
              "#fdca26"
             ],
             [
              1,
              "#f0f921"
             ]
            ],
            "type": "surface"
           }
          ],
          "table": [
           {
            "cells": {
             "fill": {
              "color": "#EBF0F8"
             },
             "line": {
              "color": "white"
             }
            },
            "header": {
             "fill": {
              "color": "#C8D4E3"
             },
             "line": {
              "color": "white"
             }
            },
            "type": "table"
           }
          ]
         },
         "layout": {
          "annotationdefaults": {
           "arrowcolor": "#2a3f5f",
           "arrowhead": 0,
           "arrowwidth": 1
          },
          "autotypenumbers": "strict",
          "coloraxis": {
           "colorbar": {
            "outlinewidth": 0,
            "ticks": ""
           }
          },
          "colorscale": {
           "diverging": [
            [
             0,
             "#8e0152"
            ],
            [
             0.1,
             "#c51b7d"
            ],
            [
             0.2,
             "#de77ae"
            ],
            [
             0.3,
             "#f1b6da"
            ],
            [
             0.4,
             "#fde0ef"
            ],
            [
             0.5,
             "#f7f7f7"
            ],
            [
             0.6,
             "#e6f5d0"
            ],
            [
             0.7,
             "#b8e186"
            ],
            [
             0.8,
             "#7fbc41"
            ],
            [
             0.9,
             "#4d9221"
            ],
            [
             1,
             "#276419"
            ]
           ],
           "sequential": [
            [
             0,
             "#0d0887"
            ],
            [
             0.1111111111111111,
             "#46039f"
            ],
            [
             0.2222222222222222,
             "#7201a8"
            ],
            [
             0.3333333333333333,
             "#9c179e"
            ],
            [
             0.4444444444444444,
             "#bd3786"
            ],
            [
             0.5555555555555556,
             "#d8576b"
            ],
            [
             0.6666666666666666,
             "#ed7953"
            ],
            [
             0.7777777777777778,
             "#fb9f3a"
            ],
            [
             0.8888888888888888,
             "#fdca26"
            ],
            [
             1,
             "#f0f921"
            ]
           ],
           "sequentialminus": [
            [
             0,
             "#0d0887"
            ],
            [
             0.1111111111111111,
             "#46039f"
            ],
            [
             0.2222222222222222,
             "#7201a8"
            ],
            [
             0.3333333333333333,
             "#9c179e"
            ],
            [
             0.4444444444444444,
             "#bd3786"
            ],
            [
             0.5555555555555556,
             "#d8576b"
            ],
            [
             0.6666666666666666,
             "#ed7953"
            ],
            [
             0.7777777777777778,
             "#fb9f3a"
            ],
            [
             0.8888888888888888,
             "#fdca26"
            ],
            [
             1,
             "#f0f921"
            ]
           ]
          },
          "colorway": [
           "#636efa",
           "#EF553B",
           "#00cc96",
           "#ab63fa",
           "#FFA15A",
           "#19d3f3",
           "#FF6692",
           "#B6E880",
           "#FF97FF",
           "#FECB52"
          ],
          "font": {
           "color": "#2a3f5f"
          },
          "geo": {
           "bgcolor": "white",
           "lakecolor": "white",
           "landcolor": "#E5ECF6",
           "showlakes": true,
           "showland": true,
           "subunitcolor": "white"
          },
          "hoverlabel": {
           "align": "left"
          },
          "hovermode": "closest",
          "mapbox": {
           "style": "light"
          },
          "paper_bgcolor": "white",
          "plot_bgcolor": "#E5ECF6",
          "polar": {
           "angularaxis": {
            "gridcolor": "white",
            "linecolor": "white",
            "ticks": ""
           },
           "bgcolor": "#E5ECF6",
           "radialaxis": {
            "gridcolor": "white",
            "linecolor": "white",
            "ticks": ""
           }
          },
          "scene": {
           "xaxis": {
            "backgroundcolor": "#E5ECF6",
            "gridcolor": "white",
            "gridwidth": 2,
            "linecolor": "white",
            "showbackground": true,
            "ticks": "",
            "zerolinecolor": "white"
           },
           "yaxis": {
            "backgroundcolor": "#E5ECF6",
            "gridcolor": "white",
            "gridwidth": 2,
            "linecolor": "white",
            "showbackground": true,
            "ticks": "",
            "zerolinecolor": "white"
           },
           "zaxis": {
            "backgroundcolor": "#E5ECF6",
            "gridcolor": "white",
            "gridwidth": 2,
            "linecolor": "white",
            "showbackground": true,
            "ticks": "",
            "zerolinecolor": "white"
           }
          },
          "shapedefaults": {
           "line": {
            "color": "#2a3f5f"
           }
          },
          "ternary": {
           "aaxis": {
            "gridcolor": "white",
            "linecolor": "white",
            "ticks": ""
           },
           "baxis": {
            "gridcolor": "white",
            "linecolor": "white",
            "ticks": ""
           },
           "bgcolor": "#E5ECF6",
           "caxis": {
            "gridcolor": "white",
            "linecolor": "white",
            "ticks": ""
           }
          },
          "title": {
           "x": 0.05
          },
          "xaxis": {
           "automargin": true,
           "gridcolor": "white",
           "linecolor": "white",
           "ticks": "",
           "title": {
            "standoff": 15
           },
           "zerolinecolor": "white",
           "zerolinewidth": 2
          },
          "yaxis": {
           "automargin": true,
           "gridcolor": "white",
           "linecolor": "white",
           "ticks": "",
           "title": {
            "standoff": 15
           },
           "zerolinecolor": "white",
           "zerolinewidth": 2
          }
         }
        },
        "title": {
         "text": "Average Social Phobia Score per Country"
        }
       }
      },
      "text/html": [
       "<div>                            <div id=\"7ab4f791-7df0-4d33-be07-9d081033f232\" class=\"plotly-graph-div\" style=\"height:525px; width:100%;\"></div>            <script type=\"text/javascript\">                require([\"plotly\"], function(Plotly) {                    window.PLOTLYENV=window.PLOTLYENV || {};                                    if (document.getElementById(\"7ab4f791-7df0-4d33-be07-9d081033f232\")) {                    Plotly.newPlot(                        \"7ab4f791-7df0-4d33-be07-9d081033f232\",                        [{\"colorscale\":[[0.0,\"#62cb5c\"],[1.0,\"#62cb5c\"]],\"customdata\":[[0.0,\"NAM\",\"0-20: No Social Phobia\"],[1.0,\"GIB\",\"0-20: No Social Phobia\"],[7.0,\"BLR\",\"0-20: No Social Phobia\"],[7.333333333333333,\"GEO\",\"0-20: No Social Phobia\"],[9.0,\"GLP\",\"0-20: No Social Phobia\"],[10.0,\"PSE\",\"0-20: No Social Phobia\"],[10.0,\"ALB\",\"0-20: No Social Phobia\"],[10.0,\"BRN\",\"0-20: No Social Phobia\"],[11.0,\"GRD\",\"0-20: No Social Phobia\"],[11.0,\"LIE\",\"0-20: No Social Phobia\"],[11.0,\"FJI\",\"0-20: No Social Phobia\"],[12.0,\"SLV\",\"0-20: No Social Phobia\"],[13.125,\"SRB\",\"0-20: No Social Phobia\"],[14.0,\"DZA\",\"0-20: No Social Phobia\"],[14.25,\"PAN\",\"0-20: No Social Phobia\"],[14.714285714285714,\"DOM\",\"0-20: No Social Phobia\"],[15.0,\"JOR\",\"0-20: No Social Phobia\"],[15.0,\"ISL\",\"0-20: No Social Phobia\"],[15.319444444444445,\"MEX\",\"0-20: No Social Phobia\"],[16.0,\"KOR\",\"0-20: No Social Phobia\"],[16.976303317535546,\"DNK\",\"0-20: No Social Phobia\"],[17.0,\"SYR\",\"0-20: No Social Phobia\"],[17.466666666666665,\"BIH\",\"0-20: No Social Phobia\"],[17.5,\"BHR\",\"0-20: No Social Phobia\"],[17.571428571428573,\"JPN\",\"0-20: No Social Phobia\"],[17.6,\"MKD\",\"0-20: No Social Phobia\"],[17.666666666666668,\"CHN\",\"0-20: No Social Phobia\"],[17.774049217002236,\"NLD\",\"0-20: No Social Phobia\"],[18.083870967741934,\"SWE\",\"0-20: No Social Phobia\"],[18.087912087912088,\"ESP\",\"0-20: No Social Phobia\"],[18.142857142857142,\"LUX\",\"0-20: No Social Phobia\"],[18.227272727272727,\"ZAF\",\"0-20: No Social Phobia\"],[18.282608695652176,\"ARG\",\"0-20: No Social Phobia\"],[18.51851851851852,\"LVA\",\"0-20: No Social Phobia\"],[18.53448275862069,\"IRL\",\"0-20: No Social Phobia\"],[18.6,\"THA\",\"0-20: No Social Phobia\"],[18.666666666666668,\"HKG\",\"0-20: No Social Phobia\"],[18.705426356589147,\"AUT\",\"0-20: No Social Phobia\"],[18.857142857142858,\"VEN\",\"0-20: No Social Phobia\"],[18.945945945945947,\"FIN\",\"0-20: No Social Phobia\"],[19.0,\"CYP\",\"0-20: No Social Phobia\"],[19.04320987654321,\"NOR\",\"0-20: No Social Phobia\"],[19.115353371242893,\"DEU\",\"0-20: No Social Phobia\"],[19.125,\"CRI\",\"0-20: No Social Phobia\"],[19.357142857142858,\"TUR\",\"0-20: No Social Phobia\"],[19.42105263157895,\"FRA\",\"0-20: No Social Phobia\"],[19.633333333333333,\"EST\",\"0-20: No Social Phobia\"],[19.741176470588236,\"CHE\",\"0-20: No Social Phobia\"],[19.816666666666666,\"CHL\",\"0-20: No Social Phobia\"]],\"geo\":\"geo\",\"hovertemplate\":\"<b>%{hovertext}</b><br><br>Average SPIN Score=%{customdata[0]}<extra></extra>\",\"hovertext\":[\"Namibia\",\"Gibraltar \",\"Belarus\",\"Georgia\",\"Guadeloupe\",\"Palestine\",\"Albania\",\"Brunei\",\"Grenada\",\"Liechtenstein\",\"Fiji\",\"El Salvador\",\"Serbia\",\"Algeria\",\"Panama\",\"Dominican Republic\",\"Jordan\",\"Iceland\",\"Mexico\",\"South Korea\",\"Denmark\",\"Syria\",\"Bosnia and Herzegovina\",\"Bahrain\",\"Japan\",\"Macedonia\",\"China\",\"Netherlands\",\"Sweden\",\"Spain\",\"Luxembourg\",\"South Africa\",\"Argentina\",\"Latvia\",\"Ireland\",\"Thailand\",\"Hong Kong\",\"Austria\",\"Venezuela\",\"Finland\",\"Cyprus\",\"Norway\",\"Germany\",\"Costa Rica\",\"Turkey\",\"France\",\"Estonia\",\"Switzerland\",\"Chile\"],\"locations\":[\"NAM\",\"GIB\",\"BLR\",\"GEO\",\"GLP\",\"PSE\",\"ALB\",\"BRN\",\"GRD\",\"LIE\",\"FJI\",\"SLV\",\"SRB\",\"DZA\",\"PAN\",\"DOM\",\"JOR\",\"ISL\",\"MEX\",\"KOR\",\"DNK\",\"SYR\",\"BIH\",\"BHR\",\"JPN\",\"MKD\",\"CHN\",\"NLD\",\"SWE\",\"ESP\",\"LUX\",\"ZAF\",\"ARG\",\"LVA\",\"IRL\",\"THA\",\"HKG\",\"AUT\",\"VEN\",\"FIN\",\"CYP\",\"NOR\",\"DEU\",\"CRI\",\"TUR\",\"FRA\",\"EST\",\"CHE\",\"CHL\"],\"name\":\"0-20: No Social Phobia\",\"showlegend\":true,\"showscale\":false,\"z\":[1,1,1,1,1,1,1,1,1,1,1,1,1,1,1,1,1,1,1,1,1,1,1,1,1,1,1,1,1,1,1,1,1,1,1,1,1,1,1,1,1,1,1,1,1,1,1,1,1],\"type\":\"choropleth\"},{\"colorscale\":[[0.0,\"#d4a48f\"],[1.0,\"#d4a48f\"]],\"customdata\":[[20.137381781981084,\"USA\",\"21-30: Mild Social Phobia\"],[20.229885057471265,\"GRC\",\"21-30: Mild Social Phobia\"],[20.4,\"LBN\",\"21-30: Mild Social Phobia\"],[20.470588235294116,\"LTU\",\"21-30: Mild Social Phobia\"],[20.581818181818182,\"NZL\",\"21-30: Mild Social Phobia\"],[20.727272727272727,\"VNM\",\"21-30: Mild Social Phobia\"],[20.77922077922078,\"ROU\",\"21-30: Mild Social Phobia\"],[20.855324074074073,\"CAN\",\"21-30: Mild Social Phobia\"],[20.90909090909091,\"URY\",\"21-30: Mild Social Phobia\"],[20.91304347826087,\"ISR\",\"21-30: Mild Social Phobia\"],[21.181818181818183,\"RUS\",\"21-30: Mild Social Phobia\"],[21.3302752293578,\"ITA\",\"21-30: Mild Social Phobia\"],[21.333333333333332,\"UKR\",\"21-30: Mild Social Phobia\"],[21.5,\"MAR\",\"21-30: Mild Social Phobia\"],[21.571428571428573,\"COL\",\"21-30: Mild Social Phobia\"],[21.588541666666668,\"AUS\",\"21-30: Mild Social Phobia\"],[21.67065868263473,\"BEL\",\"21-30: Mild Social Phobia\"],[21.77777777777778,\"BGR\",\"21-30: Mild Social Phobia\"],[21.8,\"MLT\",\"21-30: Mild Social Phobia\"],[21.820276497695854,\"POL\",\"21-30: Mild Social Phobia\"],[21.85185185185185,\"HUN\",\"21-30: Mild Social Phobia\"],[21.9,\"ARE\",\"21-30: Mild Social Phobia\"],[22.0,\"MDA\",\"21-30: Mild Social Phobia\"],[22.095238095238095,\"CZE\",\"21-30: Mild Social Phobia\"],[22.296465222348917,\"GBR\",\"21-30: Mild Social Phobia\"],[22.349206349206348,\"HRV\",\"21-30: Mild Social Phobia\"],[22.5,\"PAK\",\"21-30: Mild Social Phobia\"],[22.64,\"MYS\",\"21-30: Mild Social Phobia\"],[22.666666666666668,\"PRI\",\"21-30: Mild Social Phobia\"],[23.142857142857142,\"SAU\",\"21-30: Mild Social Phobia\"],[23.200892857142858,\"BRA\",\"21-30: Mild Social Phobia\"],[23.476683937823836,\"PRT\",\"21-30: Mild Social Phobia\"],[23.666666666666668,\"GTM\",\"21-30: Mild Social Phobia\"],[23.666666666666668,\"HND\",\"21-30: Mild Social Phobia\"],[24.57377049180328,\"SVN\",\"21-30: Mild Social Phobia\"],[24.666666666666668,\"TUN\",\"21-30: Mild Social Phobia\"],[25.75,\"ECU\",\"21-30: Mild Social Phobia\"],[25.857142857142858,\"TTO\",\"21-30: Mild Social Phobia\"],[26.0,\"BGD\",\"21-30: Mild Social Phobia\"],[26.0,\"IDN\",\"21-30: Mild Social Phobia\"],[27.4,\"IND\",\"21-30: Mild Social Phobia\"],[27.428571428571427,\"SVK\",\"21-30: Mild Social Phobia\"],[27.5,\"MNE\",\"21-30: Mild Social Phobia\"],[28.0,\"VCT\",\"21-30: Mild Social Phobia\"],[28.3,\"PHL\",\"21-30: Mild Social Phobia\"],[28.5,\"PER\",\"21-30: Mild Social Phobia\"],[29.5,\"MNG\",\"21-30: Mild Social Phobia\"],[30.0,\"KWT\",\"21-30: Mild Social Phobia\"],[30.0,\"QAT\",\"21-30: Mild Social Phobia\"]],\"geo\":\"geo\",\"hovertemplate\":\"<b>%{hovertext}</b><br><br>Average SPIN Score=%{customdata[0]}<extra></extra>\",\"hovertext\":[\"USA\",\"Greece\",\"Lebanon\",\"Lithuania\",\"New Zealand \",\"Vietnam\",\"Romania\",\"Canada\",\"Uruguay\",\"Israel\",\"Russia\",\"Italy\",\"Ukraine\",\"Morocco\",\"Colombia\",\"Australia\",\"Belgium\",\"Bulgaria\",\"Malta\",\"Poland\",\"Hungary\",\"UAE\",\"Moldova\",\"Czech Republic\",\"UK\",\"Croatia\",\"Pakistan\",\"Malaysia\",\"Puerto Rico\",\"Saudi Arabia\",\"Brazil\",\"Portugal\",\"Guatemala\",\"Honduras\",\"Slovenia\",\"Tunisia\",\"Ecuador\",\"Trinidad & Tobago\",\"Bangladesh\",\"Indonesia\",\"India\",\"Slovakia\",\"Montenegro\",\"St Vincent\",\"Philippines\",\"Peru\",\"Mongolia\",\"Kuwait\",\"Qatar\"],\"locations\":[\"USA\",\"GRC\",\"LBN\",\"LTU\",\"NZL\",\"VNM\",\"ROU\",\"CAN\",\"URY\",\"ISR\",\"RUS\",\"ITA\",\"UKR\",\"MAR\",\"COL\",\"AUS\",\"BEL\",\"BGR\",\"MLT\",\"POL\",\"HUN\",\"ARE\",\"MDA\",\"CZE\",\"GBR\",\"HRV\",\"PAK\",\"MYS\",\"PRI\",\"SAU\",\"BRA\",\"PRT\",\"GTM\",\"HND\",\"SVN\",\"TUN\",\"ECU\",\"TTO\",\"BGD\",\"IDN\",\"IND\",\"SVK\",\"MNE\",\"VCT\",\"PHL\",\"PER\",\"MNG\",\"KWT\",\"QAT\"],\"name\":\"21-30: Mild Social Phobia\",\"showlegend\":true,\"showscale\":false,\"z\":[1,1,1,1,1,1,1,1,1,1,1,1,1,1,1,1,1,1,1,1,1,1,1,1,1,1,1,1,1,1,1,1,1,1,1,1,1,1,1,1,1,1,1,1,1,1,1,1,1],\"type\":\"choropleth\"},{\"colorscale\":[[0.0,\"#fe7171\"],[1.0,\"#fe7171\"]],\"customdata\":[[30.419354838709676,\"SGP\",\"31-40: Moderate Social Phobia\"],[30.5,\"BLZ\",\"31-40: Moderate Social Phobia\"],[33.0,\"EGY\",\"31-40: Moderate Social Phobia\"],[35.0,\"KAZ\",\"31-40: Moderate Social Phobia\"],[35.0,\"JAM\",\"31-40: Moderate Social Phobia\"],[36.0,\"FRO\",\"31-40: Moderate Social Phobia\"],[37.5,\"TWN\",\"31-40: Moderate Social Phobia\"]],\"geo\":\"geo\",\"hovertemplate\":\"<b>%{hovertext}</b><br><br>Average SPIN Score=%{customdata[0]}<extra></extra>\",\"hovertext\":[\"Singapore\",\"Belize\",\"Egypt\",\"Kazakhstan\",\"Jamaica\",\"Faroe Islands\",\"Taiwan\"],\"locations\":[\"SGP\",\"BLZ\",\"EGY\",\"KAZ\",\"JAM\",\"FRO\",\"TWN\"],\"name\":\"31-40: Moderate Social Phobia\",\"showlegend\":true,\"showscale\":false,\"z\":[1,1,1,1,1,1,1],\"type\":\"choropleth\"},{\"colorscale\":[[0.0,\"#a10000\"],[1.0,\"#a10000\"]],\"customdata\":[[44.0,\"NIC\",\"41-50: Severe Social Phobia\"],[46.0,\"BOL\",\"41-50: Severe Social Phobia\"]],\"geo\":\"geo\",\"hovertemplate\":\"<b>%{hovertext}</b><br><br>Average SPIN Score=%{customdata[0]}<extra></extra>\",\"hovertext\":[\"Nicaragua\",\"Bolivia\"],\"locations\":[\"NIC\",\"BOL\"],\"name\":\"41-50: Severe Social Phobia\",\"showlegend\":true,\"showscale\":false,\"z\":[1,1],\"type\":\"choropleth\"}],                        {\"template\":{\"data\":{\"bar\":[{\"error_x\":{\"color\":\"#2a3f5f\"},\"error_y\":{\"color\":\"#2a3f5f\"},\"marker\":{\"line\":{\"color\":\"#E5ECF6\",\"width\":0.5},\"pattern\":{\"fillmode\":\"overlay\",\"size\":10,\"solidity\":0.2}},\"type\":\"bar\"}],\"barpolar\":[{\"marker\":{\"line\":{\"color\":\"#E5ECF6\",\"width\":0.5},\"pattern\":{\"fillmode\":\"overlay\",\"size\":10,\"solidity\":0.2}},\"type\":\"barpolar\"}],\"carpet\":[{\"aaxis\":{\"endlinecolor\":\"#2a3f5f\",\"gridcolor\":\"white\",\"linecolor\":\"white\",\"minorgridcolor\":\"white\",\"startlinecolor\":\"#2a3f5f\"},\"baxis\":{\"endlinecolor\":\"#2a3f5f\",\"gridcolor\":\"white\",\"linecolor\":\"white\",\"minorgridcolor\":\"white\",\"startlinecolor\":\"#2a3f5f\"},\"type\":\"carpet\"}],\"choropleth\":[{\"colorbar\":{\"outlinewidth\":0,\"ticks\":\"\"},\"type\":\"choropleth\"}],\"contour\":[{\"colorbar\":{\"outlinewidth\":0,\"ticks\":\"\"},\"colorscale\":[[0.0,\"#0d0887\"],[0.1111111111111111,\"#46039f\"],[0.2222222222222222,\"#7201a8\"],[0.3333333333333333,\"#9c179e\"],[0.4444444444444444,\"#bd3786\"],[0.5555555555555556,\"#d8576b\"],[0.6666666666666666,\"#ed7953\"],[0.7777777777777778,\"#fb9f3a\"],[0.8888888888888888,\"#fdca26\"],[1.0,\"#f0f921\"]],\"type\":\"contour\"}],\"contourcarpet\":[{\"colorbar\":{\"outlinewidth\":0,\"ticks\":\"\"},\"type\":\"contourcarpet\"}],\"heatmap\":[{\"colorbar\":{\"outlinewidth\":0,\"ticks\":\"\"},\"colorscale\":[[0.0,\"#0d0887\"],[0.1111111111111111,\"#46039f\"],[0.2222222222222222,\"#7201a8\"],[0.3333333333333333,\"#9c179e\"],[0.4444444444444444,\"#bd3786\"],[0.5555555555555556,\"#d8576b\"],[0.6666666666666666,\"#ed7953\"],[0.7777777777777778,\"#fb9f3a\"],[0.8888888888888888,\"#fdca26\"],[1.0,\"#f0f921\"]],\"type\":\"heatmap\"}],\"heatmapgl\":[{\"colorbar\":{\"outlinewidth\":0,\"ticks\":\"\"},\"colorscale\":[[0.0,\"#0d0887\"],[0.1111111111111111,\"#46039f\"],[0.2222222222222222,\"#7201a8\"],[0.3333333333333333,\"#9c179e\"],[0.4444444444444444,\"#bd3786\"],[0.5555555555555556,\"#d8576b\"],[0.6666666666666666,\"#ed7953\"],[0.7777777777777778,\"#fb9f3a\"],[0.8888888888888888,\"#fdca26\"],[1.0,\"#f0f921\"]],\"type\":\"heatmapgl\"}],\"histogram\":[{\"marker\":{\"pattern\":{\"fillmode\":\"overlay\",\"size\":10,\"solidity\":0.2}},\"type\":\"histogram\"}],\"histogram2d\":[{\"colorbar\":{\"outlinewidth\":0,\"ticks\":\"\"},\"colorscale\":[[0.0,\"#0d0887\"],[0.1111111111111111,\"#46039f\"],[0.2222222222222222,\"#7201a8\"],[0.3333333333333333,\"#9c179e\"],[0.4444444444444444,\"#bd3786\"],[0.5555555555555556,\"#d8576b\"],[0.6666666666666666,\"#ed7953\"],[0.7777777777777778,\"#fb9f3a\"],[0.8888888888888888,\"#fdca26\"],[1.0,\"#f0f921\"]],\"type\":\"histogram2d\"}],\"histogram2dcontour\":[{\"colorbar\":{\"outlinewidth\":0,\"ticks\":\"\"},\"colorscale\":[[0.0,\"#0d0887\"],[0.1111111111111111,\"#46039f\"],[0.2222222222222222,\"#7201a8\"],[0.3333333333333333,\"#9c179e\"],[0.4444444444444444,\"#bd3786\"],[0.5555555555555556,\"#d8576b\"],[0.6666666666666666,\"#ed7953\"],[0.7777777777777778,\"#fb9f3a\"],[0.8888888888888888,\"#fdca26\"],[1.0,\"#f0f921\"]],\"type\":\"histogram2dcontour\"}],\"mesh3d\":[{\"colorbar\":{\"outlinewidth\":0,\"ticks\":\"\"},\"type\":\"mesh3d\"}],\"parcoords\":[{\"line\":{\"colorbar\":{\"outlinewidth\":0,\"ticks\":\"\"}},\"type\":\"parcoords\"}],\"pie\":[{\"automargin\":true,\"type\":\"pie\"}],\"scatter\":[{\"marker\":{\"colorbar\":{\"outlinewidth\":0,\"ticks\":\"\"}},\"type\":\"scatter\"}],\"scatter3d\":[{\"line\":{\"colorbar\":{\"outlinewidth\":0,\"ticks\":\"\"}},\"marker\":{\"colorbar\":{\"outlinewidth\":0,\"ticks\":\"\"}},\"type\":\"scatter3d\"}],\"scattercarpet\":[{\"marker\":{\"colorbar\":{\"outlinewidth\":0,\"ticks\":\"\"}},\"type\":\"scattercarpet\"}],\"scattergeo\":[{\"marker\":{\"colorbar\":{\"outlinewidth\":0,\"ticks\":\"\"}},\"type\":\"scattergeo\"}],\"scattergl\":[{\"marker\":{\"colorbar\":{\"outlinewidth\":0,\"ticks\":\"\"}},\"type\":\"scattergl\"}],\"scattermapbox\":[{\"marker\":{\"colorbar\":{\"outlinewidth\":0,\"ticks\":\"\"}},\"type\":\"scattermapbox\"}],\"scatterpolar\":[{\"marker\":{\"colorbar\":{\"outlinewidth\":0,\"ticks\":\"\"}},\"type\":\"scatterpolar\"}],\"scatterpolargl\":[{\"marker\":{\"colorbar\":{\"outlinewidth\":0,\"ticks\":\"\"}},\"type\":\"scatterpolargl\"}],\"scatterternary\":[{\"marker\":{\"colorbar\":{\"outlinewidth\":0,\"ticks\":\"\"}},\"type\":\"scatterternary\"}],\"surface\":[{\"colorbar\":{\"outlinewidth\":0,\"ticks\":\"\"},\"colorscale\":[[0.0,\"#0d0887\"],[0.1111111111111111,\"#46039f\"],[0.2222222222222222,\"#7201a8\"],[0.3333333333333333,\"#9c179e\"],[0.4444444444444444,\"#bd3786\"],[0.5555555555555556,\"#d8576b\"],[0.6666666666666666,\"#ed7953\"],[0.7777777777777778,\"#fb9f3a\"],[0.8888888888888888,\"#fdca26\"],[1.0,\"#f0f921\"]],\"type\":\"surface\"}],\"table\":[{\"cells\":{\"fill\":{\"color\":\"#EBF0F8\"},\"line\":{\"color\":\"white\"}},\"header\":{\"fill\":{\"color\":\"#C8D4E3\"},\"line\":{\"color\":\"white\"}},\"type\":\"table\"}]},\"layout\":{\"annotationdefaults\":{\"arrowcolor\":\"#2a3f5f\",\"arrowhead\":0,\"arrowwidth\":1},\"autotypenumbers\":\"strict\",\"coloraxis\":{\"colorbar\":{\"outlinewidth\":0,\"ticks\":\"\"}},\"colorscale\":{\"diverging\":[[0,\"#8e0152\"],[0.1,\"#c51b7d\"],[0.2,\"#de77ae\"],[0.3,\"#f1b6da\"],[0.4,\"#fde0ef\"],[0.5,\"#f7f7f7\"],[0.6,\"#e6f5d0\"],[0.7,\"#b8e186\"],[0.8,\"#7fbc41\"],[0.9,\"#4d9221\"],[1,\"#276419\"]],\"sequential\":[[0.0,\"#0d0887\"],[0.1111111111111111,\"#46039f\"],[0.2222222222222222,\"#7201a8\"],[0.3333333333333333,\"#9c179e\"],[0.4444444444444444,\"#bd3786\"],[0.5555555555555556,\"#d8576b\"],[0.6666666666666666,\"#ed7953\"],[0.7777777777777778,\"#fb9f3a\"],[0.8888888888888888,\"#fdca26\"],[1.0,\"#f0f921\"]],\"sequentialminus\":[[0.0,\"#0d0887\"],[0.1111111111111111,\"#46039f\"],[0.2222222222222222,\"#7201a8\"],[0.3333333333333333,\"#9c179e\"],[0.4444444444444444,\"#bd3786\"],[0.5555555555555556,\"#d8576b\"],[0.6666666666666666,\"#ed7953\"],[0.7777777777777778,\"#fb9f3a\"],[0.8888888888888888,\"#fdca26\"],[1.0,\"#f0f921\"]]},\"colorway\":[\"#636efa\",\"#EF553B\",\"#00cc96\",\"#ab63fa\",\"#FFA15A\",\"#19d3f3\",\"#FF6692\",\"#B6E880\",\"#FF97FF\",\"#FECB52\"],\"font\":{\"color\":\"#2a3f5f\"},\"geo\":{\"bgcolor\":\"white\",\"lakecolor\":\"white\",\"landcolor\":\"#E5ECF6\",\"showlakes\":true,\"showland\":true,\"subunitcolor\":\"white\"},\"hoverlabel\":{\"align\":\"left\"},\"hovermode\":\"closest\",\"mapbox\":{\"style\":\"light\"},\"paper_bgcolor\":\"white\",\"plot_bgcolor\":\"#E5ECF6\",\"polar\":{\"angularaxis\":{\"gridcolor\":\"white\",\"linecolor\":\"white\",\"ticks\":\"\"},\"bgcolor\":\"#E5ECF6\",\"radialaxis\":{\"gridcolor\":\"white\",\"linecolor\":\"white\",\"ticks\":\"\"}},\"scene\":{\"xaxis\":{\"backgroundcolor\":\"#E5ECF6\",\"gridcolor\":\"white\",\"gridwidth\":2,\"linecolor\":\"white\",\"showbackground\":true,\"ticks\":\"\",\"zerolinecolor\":\"white\"},\"yaxis\":{\"backgroundcolor\":\"#E5ECF6\",\"gridcolor\":\"white\",\"gridwidth\":2,\"linecolor\":\"white\",\"showbackground\":true,\"ticks\":\"\",\"zerolinecolor\":\"white\"},\"zaxis\":{\"backgroundcolor\":\"#E5ECF6\",\"gridcolor\":\"white\",\"gridwidth\":2,\"linecolor\":\"white\",\"showbackground\":true,\"ticks\":\"\",\"zerolinecolor\":\"white\"}},\"shapedefaults\":{\"line\":{\"color\":\"#2a3f5f\"}},\"ternary\":{\"aaxis\":{\"gridcolor\":\"white\",\"linecolor\":\"white\",\"ticks\":\"\"},\"baxis\":{\"gridcolor\":\"white\",\"linecolor\":\"white\",\"ticks\":\"\"},\"bgcolor\":\"#E5ECF6\",\"caxis\":{\"gridcolor\":\"white\",\"linecolor\":\"white\",\"ticks\":\"\"}},\"title\":{\"x\":0.05},\"xaxis\":{\"automargin\":true,\"gridcolor\":\"white\",\"linecolor\":\"white\",\"ticks\":\"\",\"title\":{\"standoff\":15},\"zerolinecolor\":\"white\",\"zerolinewidth\":2},\"yaxis\":{\"automargin\":true,\"gridcolor\":\"white\",\"linecolor\":\"white\",\"ticks\":\"\",\"title\":{\"standoff\":15},\"zerolinecolor\":\"white\",\"zerolinewidth\":2}}},\"geo\":{\"domain\":{\"x\":[0.0,1.0],\"y\":[0.0,1.0]},\"center\":{},\"projection\":{\"type\":\"equirectangular\"},\"showframe\":false,\"showcoastlines\":false},\"legend\":{\"title\":{\"text\":\"SPIN Score\"},\"tracegroupgap\":0},\"margin\":{\"t\":60},\"title\":{\"text\":\"Average Social Phobia Score per Country\"},\"hoverlabel\":{\"font\":{\"size\":14,\"family\":\"Ariel\"},\"bgcolor\":\"white\"}},                        {\"responsive\": true}                    ).then(function(){\n",
       "                            \n",
       "var gd = document.getElementById('7ab4f791-7df0-4d33-be07-9d081033f232');\n",
       "var x = new MutationObserver(function (mutations, observer) {{\n",
       "        var display = window.getComputedStyle(gd).display;\n",
       "        if (!display || display === 'none') {{\n",
       "            console.log([gd, 'removed!']);\n",
       "            Plotly.purge(gd);\n",
       "            observer.disconnect();\n",
       "        }}\n",
       "}});\n",
       "\n",
       "// Listen for the removal of the full notebook cells\n",
       "var notebookContainer = gd.closest('#notebook-container');\n",
       "if (notebookContainer) {{\n",
       "    x.observe(notebookContainer, {childList: true});\n",
       "}}\n",
       "\n",
       "// Listen for the clearing of the current output cell\n",
       "var outputEl = gd.closest('.output');\n",
       "if (outputEl) {{\n",
       "    x.observe(outputEl, {childList: true});\n",
       "}}\n",
       "\n",
       "                        })                };                });            </script>        </div>"
      ]
     },
     "metadata": {},
     "output_type": "display_data"
    }
   ],
   "source": [
    "country_stats.sort_values(by = \"Average SPIN Score\", inplace = True)\n",
    "fig = px.choropleth(country_stats, locations=\"Residence_ISO3\",\n",
    "                    color=\"SPIN Score\",\n",
    "                    hover_name = \"Residence\",\n",
    "                    hover_data= {\"Average SPIN Score\": True, \n",
    "                                 \"Residence_ISO3\": False, \n",
    "                                 \"SPIN Score\":False}, \n",
    "                    color_discrete_sequence = [\"#62cb5c\",\"#d4a48f\",\"#fe7171\",\"#a10000\", \"#690000\"])\n",
    "\n",
    "fig.update_layout(\n",
    "    title_text='Average Social Phobia Score per Country',\n",
    "    geo=dict(\n",
    "        showframe=False,\n",
    "        showcoastlines=False,\n",
    "        projection_type='equirectangular'))\n",
    "\n",
    "fig.update_layout(\n",
    "    hoverlabel=dict(\n",
    "        bgcolor=\"white\",\n",
    "        font_size=14,\n",
    "        font_family=\"Ariel\"))\n",
    "\n",
    "fig.show()"
   ]
  },
  {
   "cell_type": "code",
   "execution_count": null,
   "id": "56c04f6b",
   "metadata": {},
   "outputs": [],
   "source": []
  }
 ],
 "metadata": {
  "kernelspec": {
   "display_name": "Python 3",
   "language": "python",
   "name": "python3"
  },
  "language_info": {
   "codemirror_mode": {
    "name": "ipython",
    "version": 3
   },
   "file_extension": ".py",
   "mimetype": "text/x-python",
   "name": "python",
   "nbconvert_exporter": "python",
   "pygments_lexer": "ipython3",
   "version": "3.6.10"
  }
 },
 "nbformat": 4,
 "nbformat_minor": 5
}
